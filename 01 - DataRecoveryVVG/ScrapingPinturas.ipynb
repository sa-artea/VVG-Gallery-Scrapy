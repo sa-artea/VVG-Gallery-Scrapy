{
 "cells": [
  {
   "cell_type": "code",
   "execution_count": 1,
   "metadata": {},
   "outputs": [],
   "source": [
    "# importar librerias necesarias\n",
    "# %matplotlib inline\n",
    "import numpy as np\n",
    "import pandas as pd\n",
    "import re\n",
    "import os\n",
    "import urllib\n",
    "from bs4 import BeautifulSoup\n",
    "\n",
    "# import os\n",
    "# import urllib.request, urllib.error, urllib.parse\n",
    "# from os import remove\n",
    "# import os.path\n",
    "# from os import remove\n",
    "# from numpy import array\n",
    "# from bs4 import BeautifulSoup\n",
    "# import requests\n",
    "# import requests, pandas, numpy, matplotlib.pyplot\n",
    "# from bs4 import BeautifulSoup\n",
    "# import re\n",
    "# import urllib\n",
    "# import wget"
   ]
  },
  {
   "cell_type": "markdown",
   "metadata": {},
   "source": [
    "### Pagina Fuente (Root Page)\n",
    "\n",
    "desde la pagina fuente recupero todos los enlaces a las obras de Vangohg y despues con la lista de enlaces recupero la informacion necesaria\n",
    "\n",
    "Enlaces de interes:\n",
    "- Extract links from webpage (BeautifulSoup): https://pythonspot.com/extract-links-from-webpage-beautifulsoup/\n",
    "- How to: Find all tags with some given name and attributes: https://kite.com/python/examples/1734/beautifulsoup-find-all-tags-with-some-given-name-and-attributes\n",
    "- Beautiful Soup can't find the part of the HTML I want: https://stackoverflow.com/questions/51982930/beautiful-soup-cant-find-the-part-of-the-html-i-want\n",
    "\n",
    "EXTRA"
   ]
  },
  {
   "cell_type": "code",
   "execution_count": 2,
   "metadata": {},
   "outputs": [
    {
     "name": "stdout",
     "output_type": "stream",
     "text": [
      "https://vangoghmuseum.nl/en/search/collection?q=&artist=Vincent%20van%20Gogh&pagesize=1443\n",
      "['https://vangoghmuseum.nl/en/collection/s0019V1962', 'https://vangoghmuseum.nl/en/collection/s0027V1962', 'https://vangoghmuseum.nl/en/collection/s0029V1962', 'https://vangoghmuseum.nl/en/collection/s0031V1962', 'https://vangoghmuseum.nl/en/collection/s0032V1962', 'https://vangoghmuseum.nl/en/collection/s0047V1962', 'https://vangoghmuseum.nl/en/collection/s0022V1962', 'https://vangoghmuseum.nl/en/collection/s0049V1962', 'https://vangoghmuseum.nl/en/collection/s0176V1962', 'https://vangoghmuseum.nl/en/collection/s0050V1962', 'https://vangoghmuseum.nl/en/collection/s0005V1962', 'https://vangoghmuseum.nl/en/collection/s0106V1962', 'https://vangoghmuseum.nl/en/collection/s0149V1962', 'https://vangoghmuseum.nl/en/collection/s0195V1962', 'https://vangoghmuseum.nl/en/collection/d0420V1962', 'https://vangoghmuseum.nl/en/collection/d0344V1962', 'https://vangoghmuseum.nl/en/collection/d0222V1962', 'https://vangoghmuseum.nl/en/collection/d0378V1962', 'https://vangoghmuseum.nl/en/collection/d0446V1962', 'https://vangoghmuseum.nl/en/collection/d0364V1968', 'https://vangoghmuseum.nl/en/collection/d0171V1962', 'https://vangoghmuseum.nl/en/collection/d0337V1962', 'https://vangoghmuseum.nl/en/collection/d0340V1962', 'https://vangoghmuseum.nl/en/collection/d0386M1977', 'https://vangoghmuseum.nl/en/collection/d0423V1962', 'https://vangoghmuseum.nl/en/collection/d1172S2012', 'https://vangoghmuseum.nl/en/collection/s0066V1962', 'https://vangoghmuseum.nl/en/collection/s0197V1962', 'https://vangoghmuseum.nl/en/collection/s0018V1962', 'https://vangoghmuseum.nl/en/collection/s0134V1962', 'https://vangoghmuseum.nl/en/collection/s0127V1962', 'https://vangoghmuseum.nl/en/collection/s0179V1962', 'https://vangoghmuseum.nl/en/collection/s0181V1962', 'https://vangoghmuseum.nl/en/collection/s0063V1962', 'https://vangoghmuseum.nl/en/collection/s0183V1962', 'https://vangoghmuseum.nl/en/collection/s0193V1962', 'https://vangoghmuseum.nl/en/collection/s0186V1962', 'https://vangoghmuseum.nl/en/collection/s0020V1962', 'https://vangoghmuseum.nl/en/collection/s0057V1962', 'https://vangoghmuseum.nl/en/collection/s0016V1962', 'https://vangoghmuseum.nl/en/collection/s0015V1962', 'https://vangoghmuseum.nl/en/collection/s0014V1962', 'https://vangoghmuseum.nl/en/collection/s0065V1962', 'https://vangoghmuseum.nl/en/collection/s0021V1962', 'https://vangoghmuseum.nl/en/collection/s0165V1962', 'https://vangoghmuseum.nl/en/collection/s0017V1962', 'https://vangoghmuseum.nl/en/collection/s0115V1962', 'https://vangoghmuseum.nl/en/collection/s0114V1962', 'https://vangoghmuseum.nl/en/collection/s0116V1962', 'https://vangoghmuseum.nl/en/collection/s0082V1962', 'https://vangoghmuseum.nl/en/collection/s0121V1962', 'https://vangoghmuseum.nl/en/collection/s0023V1962', 'https://vangoghmuseum.nl/en/collection/s0004V1962r', 'https://vangoghmuseum.nl/en/collection/s0004V1962v', 'https://vangoghmuseum.nl/en/collection/s0119V1962', 'https://vangoghmuseum.nl/en/collection/s0145V1962', 'https://vangoghmuseum.nl/en/collection/s0184V1962', 'https://vangoghmuseum.nl/en/collection/s0110V1962', 'https://vangoghmuseum.nl/en/collection/s0024V1962', 'https://vangoghmuseum.nl/en/collection/s0025V1962', 'https://vangoghmuseum.nl/en/collection/s0039V1962', 'https://vangoghmuseum.nl/en/collection/s0034V1962', 'https://vangoghmuseum.nl/en/collection/s0037V1962', 'https://vangoghmuseum.nl/en/collection/s0146V1962', 'https://vangoghmuseum.nl/en/collection/s0030V1962', 'https://vangoghmuseum.nl/en/collection/s0028V1962', 'https://vangoghmuseum.nl/en/collection/s0117V1962', 'https://vangoghmuseum.nl/en/collection/s0067V1962', 'https://vangoghmuseum.nl/en/collection/s0167V1962', 'https://vangoghmuseum.nl/en/collection/s0164V1962', 'https://vangoghmuseum.nl/en/collection/s0048V1962', 'https://vangoghmuseum.nl/en/collection/s0038V1962', 'https://vangoghmuseum.nl/en/collection/s0036V1962', 'https://vangoghmuseum.nl/en/collection/s0163V1962', 'https://vangoghmuseum.nl/en/collection/s0113V1962', 'https://vangoghmuseum.nl/en/collection/s0166V1962', 'https://vangoghmuseum.nl/en/collection/s0257V1962', 'https://vangoghmuseum.nl/en/collection/s0026V1962', 'https://vangoghmuseum.nl/en/collection/s0035V1962', 'https://vangoghmuseum.nl/en/collection/s0040V1962', 'https://vangoghmuseum.nl/en/collection/s0033V1962', 'https://vangoghmuseum.nl/en/collection/s0190V1962', 'https://vangoghmuseum.nl/en/collection/s0194V1962', 'https://vangoghmuseum.nl/en/collection/s0124V1962', 'https://vangoghmuseum.nl/en/collection/s0120V1962', 'https://vangoghmuseum.nl/en/collection/s0189V1962', 'https://vangoghmuseum.nl/en/collection/s0147V1962', 'https://vangoghmuseum.nl/en/collection/s0168V1962', 'https://vangoghmuseum.nl/en/collection/s0175V1962', 'https://vangoghmuseum.nl/en/collection/s0042V1962', 'https://vangoghmuseum.nl/en/collection/s0118V1962', 'https://vangoghmuseum.nl/en/collection/s0174V1962', 'https://vangoghmuseum.nl/en/collection/s0046V1962', 'https://vangoghmuseum.nl/en/collection/s0196V1962', 'https://vangoghmuseum.nl/en/collection/s0170V1962', 'https://vangoghmuseum.nl/en/collection/s0112V1962', 'https://vangoghmuseum.nl/en/collection/s0169V1962', 'https://vangoghmuseum.nl/en/collection/s0198V1962', 'https://vangoghmuseum.nl/en/collection/s0171V1962', 'https://vangoghmuseum.nl/en/collection/s0173V1962', 'https://vangoghmuseum.nl/en/collection/s0043V1962', 'https://vangoghmuseum.nl/en/collection/s0172V1962', 'https://vangoghmuseum.nl/en/collection/s0081V1962', 'https://vangoghmuseum.nl/en/collection/s0045V1962', 'https://vangoghmuseum.nl/en/collection/s0044V1962', 'https://vangoghmuseum.nl/en/collection/s0148V1962', 'https://vangoghmuseum.nl/en/collection/s0417M1990', 'https://vangoghmuseum.nl/en/collection/s0099V1962', 'https://vangoghmuseum.nl/en/collection/s0041V1962', 'https://vangoghmuseum.nl/en/collection/s0111V1962', 'https://vangoghmuseum.nl/en/collection/s0051V1962', 'https://vangoghmuseum.nl/en/collection/s0188V1962', 'https://vangoghmuseum.nl/en/collection/s0187V1962', 'https://vangoghmuseum.nl/en/collection/s0109V1962', 'https://vangoghmuseum.nl/en/collection/s0104V1962', 'https://vangoghmuseum.nl/en/collection/s0088V1962', 'https://vangoghmuseum.nl/en/collection/s0053V1962', 'https://vangoghmuseum.nl/en/collection/s0129V1962', 'https://vangoghmuseum.nl/en/collection/s0130V1962', 'https://vangoghmuseum.nl/en/collection/s0003V1962', 'https://vangoghmuseum.nl/en/collection/s0100V1962', 'https://vangoghmuseum.nl/en/collection/s0073V1962', 'https://vangoghmuseum.nl/en/collection/s0096V1962', 'https://vangoghmuseum.nl/en/collection/s0052V1962', 'https://vangoghmuseum.nl/en/collection/s0138V1962', 'https://vangoghmuseum.nl/en/collection/s0060V1962r', 'https://vangoghmuseum.nl/en/collection/s0060V1962v', 'https://vangoghmuseum.nl/en/collection/s0084V1962', 'https://vangoghmuseum.nl/en/collection/s0132V1962', 'https://vangoghmuseum.nl/en/collection/s0007V1962', 'https://vangoghmuseum.nl/en/collection/s0009V1962', 'https://vangoghmuseum.nl/en/collection/s0135V1962r', 'https://vangoghmuseum.nl/en/collection/s0062V1962', 'https://vangoghmuseum.nl/en/collection/s0087V1962', 'https://vangoghmuseum.nl/en/collection/s0002V1962', 'https://vangoghmuseum.nl/en/collection/s0151V1962', 'https://vangoghmuseum.nl/en/collection/s0153V1962', 'https://vangoghmuseum.nl/en/collection/s0150V1962', 'https://vangoghmuseum.nl/en/collection/s0070V1962', 'https://vangoghmuseum.nl/en/collection/s0154V1962', 'https://vangoghmuseum.nl/en/collection/s0071V1962r', 'https://vangoghmuseum.nl/en/collection/s0071V1962v', 'https://vangoghmuseum.nl/en/collection/s0001V1962', 'https://vangoghmuseum.nl/en/collection/s0152V1962', 'https://vangoghmuseum.nl/en/collection/s0008V1962', 'https://vangoghmuseum.nl/en/collection/s0141M1977', 'https://vangoghmuseum.nl/en/collection/s0139V1962', 'https://vangoghmuseum.nl/en/collection/s0452S1995', 'https://vangoghmuseum.nl/en/collection/s0072V1962', 'https://vangoghmuseum.nl/en/collection/s0343V1966', 'https://vangoghmuseum.nl/en/collection/s0006V1962', 'https://vangoghmuseum.nl/en/collection/s0058V1962', 'https://vangoghmuseum.nl/en/collection/s0069V1962', 'https://vangoghmuseum.nl/en/collection/s0010V1962', 'https://vangoghmuseum.nl/en/collection/s0054V1962', 'https://vangoghmuseum.nl/en/collection/s0136V1973', 'https://vangoghmuseum.nl/en/collection/s0068V1962r', 'https://vangoghmuseum.nl/en/collection/s0068V1962v', 'https://vangoghmuseum.nl/en/collection/s0158V1962', 'https://vangoghmuseum.nl/en/collection/s0160V1962', 'https://vangoghmuseum.nl/en/collection/s0140V1962', 'https://vangoghmuseum.nl/en/collection/s0061V1962', 'https://vangoghmuseum.nl/en/collection/s0059V1962', 'https://vangoghmuseum.nl/en/collection/s0143V1962', 'https://vangoghmuseum.nl/en/collection/s0159V1962', 'https://vangoghmuseum.nl/en/collection/s0162V1962', 'https://vangoghmuseum.nl/en/collection/s0085V1962', 'https://vangoghmuseum.nl/en/collection/s0083V1962', 'https://vangoghmuseum.nl/en/collection/s0090V1962', 'https://vangoghmuseum.nl/en/collection/s0093V1962', 'https://vangoghmuseum.nl/en/collection/s0091V1962', 'https://vangoghmuseum.nl/en/collection/s0074V1962', 'https://vangoghmuseum.nl/en/collection/s0056V1962', 'https://vangoghmuseum.nl/en/collection/s0089V1962', 'https://vangoghmuseum.nl/en/collection/s0202V1962', 'https://vangoghmuseum.nl/en/collection/s0101V1962', 'https://vangoghmuseum.nl/en/collection/s0103V1962', 'https://vangoghmuseum.nl/en/collection/s0102V1962', 'https://vangoghmuseum.nl/en/collection/s0199V1962', 'https://vangoghmuseum.nl/en/collection/s0200V1962', 'https://vangoghmuseum.nl/en/collection/s0075V1962', 'https://vangoghmuseum.nl/en/collection/s0201V1962', 'https://vangoghmuseum.nl/en/collection/s0178V1962', 'https://vangoghmuseum.nl/en/collection/s0064V1962', 'https://vangoghmuseum.nl/en/collection/s0012V1962', 'https://vangoghmuseum.nl/en/collection/s0092V1962', 'https://vangoghmuseum.nl/en/collection/s0177V1962', 'https://vangoghmuseum.nl/en/collection/s0182V1962', 'https://vangoghmuseum.nl/en/collection/s0180V1962', 'https://vangoghmuseum.nl/en/collection/s0144V1962', 'https://vangoghmuseum.nl/en/collection/s0131V1962', 'https://vangoghmuseum.nl/en/collection/s0011V1962', 'https://vangoghmuseum.nl/en/collection/s0122V1962', 'https://vangoghmuseum.nl/en/collection/s0142V1962', 'https://vangoghmuseum.nl/en/collection/s0013V1962', 'https://vangoghmuseum.nl/en/collection/s0161V1962', 'https://vangoghmuseum.nl/en/collection/s0133M1970', 'https://vangoghmuseum.nl/en/collection/s0155V1962', 'https://vangoghmuseum.nl/en/collection/s0097V1962r', 'https://vangoghmuseum.nl/en/collection/s0097V1962v', 'https://vangoghmuseum.nl/en/collection/s0126V1962', 'https://vangoghmuseum.nl/en/collection/s0098V1962', 'https://vangoghmuseum.nl/en/collection/s0185V1962', 'https://vangoghmuseum.nl/en/collection/s0094V1962', 'https://vangoghmuseum.nl/en/collection/s0077V1962', 'https://vangoghmuseum.nl/en/collection/s0157V1962', 'https://vangoghmuseum.nl/en/collection/s0156V1962', 'https://vangoghmuseum.nl/en/collection/s0123V1962', 'https://vangoghmuseum.nl/en/collection/s0128V1962', 'https://vangoghmuseum.nl/en/collection/s0055V1962', 'https://vangoghmuseum.nl/en/collection/s0086V1962', 'https://vangoghmuseum.nl/en/collection/s0078V1962', 'https://vangoghmuseum.nl/en/collection/s0080V1962', 'https://vangoghmuseum.nl/en/collection/s0107V1962', 'https://vangoghmuseum.nl/en/collection/s0105V1962', 'https://vangoghmuseum.nl/en/collection/s0108V1962', 'https://vangoghmuseum.nl/en/collection/s0137V1962', 'https://vangoghmuseum.nl/en/collection/s0416M1990', 'https://vangoghmuseum.nl/en/collection/s0135V1962v', 'https://vangoghmuseum.nl/en/collection/s0095V1962', 'https://vangoghmuseum.nl/en/collection/s0125V1962', 'https://vangoghmuseum.nl/en/collection/s0079V1962', 'https://vangoghmuseum.nl/en/collection/s0548S2019', 'https://vangoghmuseum.nl/en/collection/d0015V1962v', 'https://vangoghmuseum.nl/en/collection/d0398V1962', 'https://vangoghmuseum.nl/en/collection/d0037V1962', 'https://vangoghmuseum.nl/en/collection/d0012V1962r', 'https://vangoghmuseum.nl/en/collection/d0012V1962v', 'https://vangoghmuseum.nl/en/collection/d0430V1962', 'https://vangoghmuseum.nl/en/collection/d0359V1962r', 'https://vangoghmuseum.nl/en/collection/d0016V1962', 'https://vangoghmuseum.nl/en/collection/d0402V1962r', 'https://vangoghmuseum.nl/en/collection/d0402V1962v', 'https://vangoghmuseum.nl/en/collection/d0152V1962r', 'https://vangoghmuseum.nl/en/collection/d0152V1962v', 'https://vangoghmuseum.nl/en/collection/d0153V1970', 'https://vangoghmuseum.nl/en/collection/d0038V1962', 'https://vangoghmuseum.nl/en/collection/d0150V1971r', 'https://vangoghmuseum.nl/en/collection/d0432V1962r', 'https://vangoghmuseum.nl/en/collection/d0432V1962v', 'https://vangoghmuseum.nl/en/collection/d0360V1962', 'https://vangoghmuseum.nl/en/collection/d0124V1962r', 'https://vangoghmuseum.nl/en/collection/d0124V1962v', 'https://vangoghmuseum.nl/en/collection/d0127V1969', 'https://vangoghmuseum.nl/en/collection/d0130V1971', 'https://vangoghmuseum.nl/en/collection/d0154V1962', 'https://vangoghmuseum.nl/en/collection/d0155V1962', 'https://vangoghmuseum.nl/en/collection/d0354V1962', 'https://vangoghmuseum.nl/en/collection/d0442V1962', 'https://vangoghmuseum.nl/en/collection/d0350V1962', 'https://vangoghmuseum.nl/en/collection/d0356V1962', 'https://vangoghmuseum.nl/en/collection/d0131V1969', 'https://vangoghmuseum.nl/en/collection/d0228V1962', 'https://vangoghmuseum.nl/en/collection/d0151V1962', 'https://vangoghmuseum.nl/en/collection/d0355V1962', 'https://vangoghmuseum.nl/en/collection/d0133V1962', 'https://vangoghmuseum.nl/en/collection/d0148V1962', 'https://vangoghmuseum.nl/en/collection/d0351V1962', 'https://vangoghmuseum.nl/en/collection/d0357V1962', 'https://vangoghmuseum.nl/en/collection/d0353V1962', 'https://vangoghmuseum.nl/en/collection/d0352V1962', 'https://vangoghmuseum.nl/en/collection/d0147V1962', 'https://vangoghmuseum.nl/en/collection/d0431V1962', 'https://vangoghmuseum.nl/en/collection/d0441V1962', 'https://vangoghmuseum.nl/en/collection/d0436V1962', 'https://vangoghmuseum.nl/en/collection/d0164V1962', 'https://vangoghmuseum.nl/en/collection/d0349V1962', 'https://vangoghmuseum.nl/en/collection/d0343V1962', 'https://vangoghmuseum.nl/en/collection/d0163V1962', 'https://vangoghmuseum.nl/en/collection/d0162V1962', 'https://vangoghmuseum.nl/en/collection/d0426V1962', 'https://vangoghmuseum.nl/en/collection/d0161V1962', 'https://vangoghmuseum.nl/en/collection/d0348V1962', 'https://vangoghmuseum.nl/en/collection/d0752M1979', 'https://vangoghmuseum.nl/en/collection/d0175V1962', 'https://vangoghmuseum.nl/en/collection/d0422V1962', 'https://vangoghmuseum.nl/en/collection/d0208V1962', 'https://vangoghmuseum.nl/en/collection/d0421V1962', 'https://vangoghmuseum.nl/en/collection/d0346V1962', 'https://vangoghmuseum.nl/en/collection/d0167V1962', 'https://vangoghmuseum.nl/en/collection/d0347V1962', 'https://vangoghmuseum.nl/en/collection/d0416V1962', 'https://vangoghmuseum.nl/en/collection/d0166V1962r', 'https://vangoghmuseum.nl/en/collection/d0166V1962v', 'https://vangoghmuseum.nl/en/collection/d0168V1962', 'https://vangoghmuseum.nl/en/collection/d0223V1962', 'https://vangoghmuseum.nl/en/collection/d0345V1962', 'https://vangoghmuseum.nl/en/collection/d0190V1962r', 'https://vangoghmuseum.nl/en/collection/d0190V1962v', 'https://vangoghmuseum.nl/en/collection/d0146V1962', 'https://vangoghmuseum.nl/en/collection/d0443V1962', 'https://vangoghmuseum.nl/en/collection/d0202V1962', 'https://vangoghmuseum.nl/en/collection/d0444V1962', 'https://vangoghmuseum.nl/en/collection/d0276V1969', 'https://vangoghmuseum.nl/en/collection/d1040V1994', 'https://vangoghmuseum.nl/en/collection/d0383M1971', 'https://vangoghmuseum.nl/en/collection/d0063V1962', 'https://vangoghmuseum.nl/en/collection/d0381V1962', 'https://vangoghmuseum.nl/en/collection/d0064V1962', 'https://vangoghmuseum.nl/en/collection/d0325V1971r', 'https://vangoghmuseum.nl/en/collection/d0325V1971v', 'https://vangoghmuseum.nl/en/collection/d0778M1981', 'https://vangoghmuseum.nl/en/collection/d0174V1967', 'https://vangoghmuseum.nl/en/collection/d0776M1980', 'https://vangoghmuseum.nl/en/collection/d0203V1962', 'https://vangoghmuseum.nl/en/collection/d0380V1962', 'https://vangoghmuseum.nl/en/collection/d0437V1962', 'https://vangoghmuseum.nl/en/collection/d0379V1962', 'https://vangoghmuseum.nl/en/collection/d0376V1962', 'https://vangoghmuseum.nl/en/collection/d0065V1962', 'https://vangoghmuseum.nl/en/collection/d0183V1962', 'https://vangoghmuseum.nl/en/collection/d0435V1962', 'https://vangoghmuseum.nl/en/collection/d0066V1962', 'https://vangoghmuseum.nl/en/collection/d0373V1962', 'https://vangoghmuseum.nl/en/collection/d0375V1962', 'https://vangoghmuseum.nl/en/collection/d0067V1962', 'https://vangoghmuseum.nl/en/collection/d0323V1971', 'https://vangoghmuseum.nl/en/collection/d0377V1962', 'https://vangoghmuseum.nl/en/collection/d0068V1962', 'https://vangoghmuseum.nl/en/collection/d0069V1962', 'https://vangoghmuseum.nl/en/collection/d0070V1962', 'https://vangoghmuseum.nl/en/collection/d0783V1972', 'https://vangoghmuseum.nl/en/collection/d0072V1962', 'https://vangoghmuseum.nl/en/collection/d0808V1986', 'https://vangoghmuseum.nl/en/collection/d0182V1962', 'https://vangoghmuseum.nl/en/collection/d0073V1962', 'https://vangoghmuseum.nl/en/collection/d0071V1962', 'https://vangoghmuseum.nl/en/collection/d0074V1962', 'https://vangoghmuseum.nl/en/collection/d0075V1962', 'https://vangoghmuseum.nl/en/collection/d0076V1962', 'https://vangoghmuseum.nl/en/collection/d0428V1962', 'https://vangoghmuseum.nl/en/collection/d0248V1969r', 'https://vangoghmuseum.nl/en/collection/d0248V1969v', 'https://vangoghmuseum.nl/en/collection/d0425V1962', 'https://vangoghmuseum.nl/en/collection/d0335V1962', 'https://vangoghmuseum.nl/en/collection/d0213V1962', 'https://vangoghmuseum.nl/en/collection/d0210V1962r', 'https://vangoghmuseum.nl/en/collection/d0210V1962v', 'https://vangoghmuseum.nl/en/collection/d0427V1962v', 'https://vangoghmuseum.nl/en/collection/d0214V1962r', 'https://vangoghmuseum.nl/en/collection/d0214V1962v', 'https://vangoghmuseum.nl/en/collection/d0333V1962', 'https://vangoghmuseum.nl/en/collection/d0215V1969', 'https://vangoghmuseum.nl/en/collection/d0216V1971', 'https://vangoghmuseum.nl/en/collection/d0331V1962r', 'https://vangoghmuseum.nl/en/collection/d0331V1962v', 'https://vangoghmuseum.nl/en/collection/d0217V1971r', 'https://vangoghmuseum.nl/en/collection/d0217V1971v', 'https://vangoghmuseum.nl/en/collection/d0418V1971r', 'https://vangoghmuseum.nl/en/collection/d0418V1971v', 'https://vangoghmuseum.nl/en/collection/d0218V1971r', 'https://vangoghmuseum.nl/en/collection/d0218V1971v', 'https://vangoghmuseum.nl/en/collection/d0219V1962', 'https://vangoghmuseum.nl/en/collection/d0220V1962r', 'https://vangoghmuseum.nl/en/collection/d0221V1962v', 'https://vangoghmuseum.nl/en/collection/d0332V1962r', 'https://vangoghmuseum.nl/en/collection/d0227V1962', 'https://vangoghmuseum.nl/en/collection/d0061V1962', 'https://vangoghmuseum.nl/en/collection/d0382V1964', 'https://vangoghmuseum.nl/en/collection/d0372V1968', 'https://vangoghmuseum.nl/en/collection/d0077V1964', 'https://vangoghmuseum.nl/en/collection/d0032V1962', 'https://vangoghmuseum.nl/en/collection/d0060V1962', 'https://vangoghmuseum.nl/en/collection/d0023V1962', 'https://vangoghmuseum.nl/en/collection/d0022V1962', 'https://vangoghmuseum.nl/en/collection/d0021V1962', 'https://vangoghmuseum.nl/en/collection/d0169V1962r', 'https://vangoghmuseum.nl/en/collection/d0169V1962v', 'https://vangoghmuseum.nl/en/collection/d0400V1962r', 'https://vangoghmuseum.nl/en/collection/d0156V1962r', 'https://vangoghmuseum.nl/en/collection/d0156V1962v', 'https://vangoghmuseum.nl/en/collection/d0134V1962', 'https://vangoghmuseum.nl/en/collection/d0135V1962r', 'https://vangoghmuseum.nl/en/collection/d0135V1962v', 'https://vangoghmuseum.nl/en/collection/d0157V1962', 'https://vangoghmuseum.nl/en/collection/d0158V1962', 'https://vangoghmuseum.nl/en/collection/d0180V1962r', 'https://vangoghmuseum.nl/en/collection/d0180V1962v', 'https://vangoghmuseum.nl/en/collection/d0159V1962r', 'https://vangoghmuseum.nl/en/collection/d0159V1962v', 'https://vangoghmuseum.nl/en/collection/d0160V1962r', 'https://vangoghmuseum.nl/en/collection/d0136V1962r', 'https://vangoghmuseum.nl/en/collection/d0136V1962v', 'https://vangoghmuseum.nl/en/collection/d0137V1962r', 'https://vangoghmuseum.nl/en/collection/d0137V1962v', 'https://vangoghmuseum.nl/en/collection/d0138V1962r', 'https://vangoghmuseum.nl/en/collection/d0138V1962v', 'https://vangoghmuseum.nl/en/collection/d0139V1962', 'https://vangoghmuseum.nl/en/collection/d0140V1962r', 'https://vangoghmuseum.nl/en/collection/d0165V1962', 'https://vangoghmuseum.nl/en/collection/d0142V1962r', 'https://vangoghmuseum.nl/en/collection/d0142V1962v', 'https://vangoghmuseum.nl/en/collection/d0143V1962', 'https://vangoghmuseum.nl/en/collection/d0245V1962r', 'https://vangoghmuseum.nl/en/collection/d0245V1962v', 'https://vangoghmuseum.nl/en/collection/d0246V1962', 'https://vangoghmuseum.nl/en/collection/d0211V1971v', 'https://vangoghmuseum.nl/en/collection/d0247V1962', 'https://vangoghmuseum.nl/en/collection/d0288V1962', 'https://vangoghmuseum.nl/en/collection/d0287V1962', 'https://vangoghmuseum.nl/en/collection/d0291V1962', 'https://vangoghmuseum.nl/en/collection/d0290V1962', 'https://vangoghmuseum.nl/en/collection/d0289V1962', 'https://vangoghmuseum.nl/en/collection/d0307V1972', 'https://vangoghmuseum.nl/en/collection/d0292V1972', 'https://vangoghmuseum.nl/en/collection/d0293V1970', 'https://vangoghmuseum.nl/en/collection/d0267V1971', 'https://vangoghmuseum.nl/en/collection/d0268V1971', 'https://vangoghmuseum.nl/en/collection/d0273V1971', 'https://vangoghmuseum.nl/en/collection/d0272V1971', 'https://vangoghmuseum.nl/en/collection/d0270V1962', 'https://vangoghmuseum.nl/en/collection/d0362V1962', 'https://vangoghmuseum.nl/en/collection/d0395V1962', 'https://vangoghmuseum.nl/en/collection/d0101V1962', 'https://vangoghmuseum.nl/en/collection/d0102V1962', 'https://vangoghmuseum.nl/en/collection/d0103V1962r', 'https://vangoghmuseum.nl/en/collection/d0103V1962v', 'https://vangoghmuseum.nl/en/collection/d0104V1962', 'https://vangoghmuseum.nl/en/collection/d0429V1962', 'https://vangoghmuseum.nl/en/collection/d0397V1962', 'https://vangoghmuseum.nl/en/collection/d0002V1962', 'https://vangoghmuseum.nl/en/collection/d0396V1962', 'https://vangoghmuseum.nl/en/collection/d0024V1962', 'https://vangoghmuseum.nl/en/collection/d0274V1962', 'https://vangoghmuseum.nl/en/collection/d0003V1962', 'https://vangoghmuseum.nl/en/collection/d0275V1969', 'https://vangoghmuseum.nl/en/collection/d0278V1971', 'https://vangoghmuseum.nl/en/collection/d0004V1962', 'https://vangoghmuseum.nl/en/collection/d0005V1962', 'https://vangoghmuseum.nl/en/collection/d0006V1962', 'https://vangoghmuseum.nl/en/collection/d0007V1962', 'https://vangoghmuseum.nl/en/collection/d0369V1962', 'https://vangoghmuseum.nl/en/collection/d0001V1962', 'https://vangoghmuseum.nl/en/collection/d0207V1962', 'https://vangoghmuseum.nl/en/collection/d0008V1962', 'https://vangoghmuseum.nl/en/collection/d0281V1971', 'https://vangoghmuseum.nl/en/collection/d0388V1962r', 'https://vangoghmuseum.nl/en/collection/d0388V1962v', 'https://vangoghmuseum.nl/en/collection/d0282V1971', 'https://vangoghmuseum.nl/en/collection/d0393V1962r', 'https://vangoghmuseum.nl/en/collection/d0393V1962v', 'https://vangoghmuseum.nl/en/collection/d0361V1962', 'https://vangoghmuseum.nl/en/collection/d0009V1962r', 'https://vangoghmuseum.nl/en/collection/d0009V1962v', 'https://vangoghmuseum.nl/en/collection/d0283V1962r', 'https://vangoghmuseum.nl/en/collection/d0283V1962v', 'https://vangoghmuseum.nl/en/collection/d0284V1962r', 'https://vangoghmuseum.nl/en/collection/d0284V1962v', 'https://vangoghmuseum.nl/en/collection/d0285V1962', 'https://vangoghmuseum.nl/en/collection/d0010V1962', 'https://vangoghmuseum.nl/en/collection/d0011V1962', 'https://vangoghmuseum.nl/en/collection/d0366V1962', 'https://vangoghmuseum.nl/en/collection/d0205V1962r', 'https://vangoghmuseum.nl/en/collection/d0205V1962v', 'https://vangoghmuseum.nl/en/collection/d0020V1962r', 'https://vangoghmuseum.nl/en/collection/d0020V1962v', 'https://vangoghmuseum.nl/en/collection/d0019V1962r', 'https://vangoghmuseum.nl/en/collection/d0019V1962v', 'https://vangoghmuseum.nl/en/collection/d0018V1962r', 'https://vangoghmuseum.nl/en/collection/d0018V1962v', 'https://vangoghmuseum.nl/en/collection/d0017V1962r', 'https://vangoghmuseum.nl/en/collection/d0017V1962v', 'https://vangoghmuseum.nl/en/collection/d0277V1971', 'https://vangoghmuseum.nl/en/collection/d0105V1962', 'https://vangoghmuseum.nl/en/collection/d0106V1962', 'https://vangoghmuseum.nl/en/collection/d0107V1962', 'https://vangoghmuseum.nl/en/collection/d0108V1962', 'https://vangoghmuseum.nl/en/collection/d0109V1962r', 'https://vangoghmuseum.nl/en/collection/d0109V1962v', 'https://vangoghmuseum.nl/en/collection/d0110V1962', 'https://vangoghmuseum.nl/en/collection/d0178V1962', 'https://vangoghmuseum.nl/en/collection/d0111V1962', 'https://vangoghmuseum.nl/en/collection/d0112V1962', 'https://vangoghmuseum.nl/en/collection/d0113V1962', 'https://vangoghmuseum.nl/en/collection/d0114V1962', 'https://vangoghmuseum.nl/en/collection/d0115V1962r', 'https://vangoghmuseum.nl/en/collection/d0115V1962v', 'https://vangoghmuseum.nl/en/collection/d0116V1962r', 'https://vangoghmuseum.nl/en/collection/d0116V1962v', 'https://vangoghmuseum.nl/en/collection/d0179V1962', 'https://vangoghmuseum.nl/en/collection/d0117V1962', 'https://vangoghmuseum.nl/en/collection/d0118V1962', 'https://vangoghmuseum.nl/en/collection/d0119V1962', 'https://vangoghmuseum.nl/en/collection/d0120V1962', 'https://vangoghmuseum.nl/en/collection/d0121V1962', 'https://vangoghmuseum.nl/en/collection/d0122V1962', 'https://vangoghmuseum.nl/en/collection/d0419V1962', 'https://vangoghmuseum.nl/en/collection/d0172V1962', 'https://vangoghmuseum.nl/en/collection/d0363V1962', 'https://vangoghmuseum.nl/en/collection/d0173V1962r', 'https://vangoghmuseum.nl/en/collection/d0173V1962v', 'https://vangoghmuseum.nl/en/collection/d0123V1962r', 'https://vangoghmuseum.nl/en/collection/d0123V1962v', 'https://vangoghmuseum.nl/en/collection/d0181V1962', 'https://vangoghmuseum.nl/en/collection/d0286V1962', 'https://vangoghmuseum.nl/en/collection/d0048V1962r', 'https://vangoghmuseum.nl/en/collection/d0048V1962v', 'https://vangoghmuseum.nl/en/collection/d0049V1962', 'https://vangoghmuseum.nl/en/collection/d0050V1962', 'https://vangoghmuseum.nl/en/collection/d0051V1962', 'https://vangoghmuseum.nl/en/collection/d0052V1962', 'https://vangoghmuseum.nl/en/collection/d0053V1962', 'https://vangoghmuseum.nl/en/collection/d0054V1962', 'https://vangoghmuseum.nl/en/collection/d0047V1969', 'https://vangoghmuseum.nl/en/collection/d0191V1969', 'https://vangoghmuseum.nl/en/collection/d0192V1962r', 'https://vangoghmuseum.nl/en/collection/d0192V1962v', 'https://vangoghmuseum.nl/en/collection/d0193V1962', 'https://vangoghmuseum.nl/en/collection/d0201V1971r', 'https://vangoghmuseum.nl/en/collection/d0201V1971v', 'https://vangoghmuseum.nl/en/collection/d0249V1969r', 'https://vangoghmuseum.nl/en/collection/d0249V1969v', 'https://vangoghmuseum.nl/en/collection/d0439V1962', 'https://vangoghmuseum.nl/en/collection/d0185V1962', 'https://vangoghmuseum.nl/en/collection/d0176V1962', 'https://vangoghmuseum.nl/en/collection/d0440V1962', 'https://vangoghmuseum.nl/en/collection/d0334V1962', 'https://vangoghmuseum.nl/en/collection/d0438V1962', 'https://vangoghmuseum.nl/en/collection/d0226V1962', 'https://vangoghmuseum.nl/en/collection/d0445V1962', 'https://vangoghmuseum.nl/en/collection/d0209V1969r', 'https://vangoghmuseum.nl/en/collection/d0209V1969v', 'https://vangoghmuseum.nl/en/collection/d0177V1962', 'https://vangoghmuseum.nl/en/collection/d0225V1962', 'https://vangoghmuseum.nl/en/collection/d0336V1962', 'https://vangoghmuseum.nl/en/collection/d0250V1962r', 'https://vangoghmuseum.nl/en/collection/d0250V1962v', 'https://vangoghmuseum.nl/en/collection/d0338V1962r', 'https://vangoghmuseum.nl/en/collection/d0338V1962v', 'https://vangoghmuseum.nl/en/collection/d0224V1962', 'https://vangoghmuseum.nl/en/collection/d0252V1969', 'https://vangoghmuseum.nl/en/collection/d0194V1969', 'https://vangoghmuseum.nl/en/collection/d0253V1971', 'https://vangoghmuseum.nl/en/collection/d0254V1962', 'https://vangoghmuseum.nl/en/collection/d0255V1962', 'https://vangoghmuseum.nl/en/collection/d0256V1962', 'https://vangoghmuseum.nl/en/collection/d0257V1971', 'https://vangoghmuseum.nl/en/collection/d0258V1962', 'https://vangoghmuseum.nl/en/collection/d0259V1962', 'https://vangoghmuseum.nl/en/collection/d0263V1962', 'https://vangoghmuseum.nl/en/collection/d0262V1962r', 'https://vangoghmuseum.nl/en/collection/d0262V1962v', 'https://vangoghmuseum.nl/en/collection/d0261V1969', 'https://vangoghmuseum.nl/en/collection/d0260V1971', 'https://vangoghmuseum.nl/en/collection/d0264V1962r', 'https://vangoghmuseum.nl/en/collection/d0264V1962v', 'https://vangoghmuseum.nl/en/collection/d0265V1962', 'https://vangoghmuseum.nl/en/collection/d0266V1962', 'https://vangoghmuseum.nl/en/collection/d0342V1962', 'https://vangoghmuseum.nl/en/collection/d0341V1962', 'https://vangoghmuseum.nl/en/collection/d0232V1962', 'https://vangoghmuseum.nl/en/collection/d0230V1962', 'https://vangoghmuseum.nl/en/collection/d0233V1962', 'https://vangoghmuseum.nl/en/collection/d0234V1962', 'https://vangoghmuseum.nl/en/collection/d0235V1962r', 'https://vangoghmuseum.nl/en/collection/d0235V1962v', 'https://vangoghmuseum.nl/en/collection/d0236V1962r', 'https://vangoghmuseum.nl/en/collection/d0236V1962v', 'https://vangoghmuseum.nl/en/collection/d0195V1962r', 'https://vangoghmuseum.nl/en/collection/d0195V1962v', 'https://vangoghmuseum.nl/en/collection/d0433V1962', 'https://vangoghmuseum.nl/en/collection/d0231V1974r', 'https://vangoghmuseum.nl/en/collection/d0231V1974v', 'https://vangoghmuseum.nl/en/collection/d0196V1962r', 'https://vangoghmuseum.nl/en/collection/d0196V1962v', 'https://vangoghmuseum.nl/en/collection/d0237V1962r', 'https://vangoghmuseum.nl/en/collection/d0237V1962v', 'https://vangoghmuseum.nl/en/collection/d0186V1962r', 'https://vangoghmuseum.nl/en/collection/d0186V1962v', 'https://vangoghmuseum.nl/en/collection/d0197V1962r', 'https://vangoghmuseum.nl/en/collection/d0197V1962v', 'https://vangoghmuseum.nl/en/collection/d0229V1962r', 'https://vangoghmuseum.nl/en/collection/d0229V1962v', 'https://vangoghmuseum.nl/en/collection/d0238V1962r', 'https://vangoghmuseum.nl/en/collection/d0239V1971r', 'https://vangoghmuseum.nl/en/collection/d0239V1971v', 'https://vangoghmuseum.nl/en/collection/d0240V1962r', 'https://vangoghmuseum.nl/en/collection/d0240V1962v', 'https://vangoghmuseum.nl/en/collection/d0188V1962r', 'https://vangoghmuseum.nl/en/collection/d0188V1962v', 'https://vangoghmuseum.nl/en/collection/d0241V1962r', 'https://vangoghmuseum.nl/en/collection/d0241V1962v', 'https://vangoghmuseum.nl/en/collection/d0242V1962r', 'https://vangoghmuseum.nl/en/collection/d0242V1962v', 'https://vangoghmuseum.nl/en/collection/d0198V1962r', 'https://vangoghmuseum.nl/en/collection/d0198V1962v', 'https://vangoghmuseum.nl/en/collection/d0434V1962r', 'https://vangoghmuseum.nl/en/collection/d0434V1962v', 'https://vangoghmuseum.nl/en/collection/d0187V1962r', 'https://vangoghmuseum.nl/en/collection/d0187V1962v', 'https://vangoghmuseum.nl/en/collection/d0199V1971r', 'https://vangoghmuseum.nl/en/collection/d0199V1971v', 'https://vangoghmuseum.nl/en/collection/d0339V1969r', 'https://vangoghmuseum.nl/en/collection/d0339V1969v', 'https://vangoghmuseum.nl/en/collection/d0243V1969r', 'https://vangoghmuseum.nl/en/collection/d0243V1969v', 'https://vangoghmuseum.nl/en/collection/d0244V1969r', 'https://vangoghmuseum.nl/en/collection/d0244V1969v', 'https://vangoghmuseum.nl/en/collection/d0189V1962r', 'https://vangoghmuseum.nl/en/collection/d0189V1962v', 'https://vangoghmuseum.nl/en/collection/d0212V1962r', 'https://vangoghmuseum.nl/en/collection/d0212V1962v', 'https://vangoghmuseum.nl/en/collection/d0415V1962', 'https://vangoghmuseum.nl/en/collection/d0810M1986', 'https://vangoghmuseum.nl/en/collection/d0080V1962', 'https://vangoghmuseum.nl/en/collection/d0367V1962', 'https://vangoghmuseum.nl/en/collection/d0371V1962', 'https://vangoghmuseum.nl/en/collection/d0081V1962', 'https://vangoghmuseum.nl/en/collection/d0082V1962', 'https://vangoghmuseum.nl/en/collection/d0280V1971', 'https://vangoghmuseum.nl/en/collection/d0083V1962', 'https://vangoghmuseum.nl/en/collection/d0079V1962', 'https://vangoghmuseum.nl/en/collection/d0084V1962', 'https://vangoghmuseum.nl/en/collection/d0085V1962', 'https://vangoghmuseum.nl/en/collection/d0086V1962', 'https://vangoghmuseum.nl/en/collection/d0087V1962', 'https://vangoghmuseum.nl/en/collection/d0365V1962', 'https://vangoghmuseum.nl/en/collection/d0417V1962', 'https://vangoghmuseum.nl/en/collection/d0088V1962', 'https://vangoghmuseum.nl/en/collection/d0775M1982', 'https://vangoghmuseum.nl/en/collection/d0387V1977', 'https://vangoghmuseum.nl/en/collection/d0368V1962', 'https://vangoghmuseum.nl/en/collection/d0424V1962', 'https://vangoghmuseum.nl/en/collection/d0089V1962', 'https://vangoghmuseum.nl/en/collection/d0269V1962', 'https://vangoghmuseum.nl/en/collection/d0271V1969r', 'https://vangoghmuseum.nl/en/collection/d0090V1962r', 'https://vangoghmuseum.nl/en/collection/d0090V1962v', 'https://vangoghmuseum.nl/en/collection/d0078V1962r', 'https://vangoghmuseum.nl/en/collection/d0078V1962v', 'https://vangoghmuseum.nl/en/collection/d0091V1962', 'https://vangoghmuseum.nl/en/collection/d0392V1962', 'https://vangoghmuseum.nl/en/collection/d0094V1962r', 'https://vangoghmuseum.nl/en/collection/d0094V1962v', 'https://vangoghmuseum.nl/en/collection/d0391V1962', 'https://vangoghmuseum.nl/en/collection/d0095V1962r', 'https://vangoghmuseum.nl/en/collection/d0095V1962v', 'https://vangoghmuseum.nl/en/collection/d0096V1962r', 'https://vangoghmuseum.nl/en/collection/d0096V1962v', 'https://vangoghmuseum.nl/en/collection/d0056V1962r', 'https://vangoghmuseum.nl/en/collection/d0056V1962v', 'https://vangoghmuseum.nl/en/collection/d0389V1962r', 'https://vangoghmuseum.nl/en/collection/d0389V1962v', 'https://vangoghmuseum.nl/en/collection/d0097V1962', 'https://vangoghmuseum.nl/en/collection/d0098V1962r', 'https://vangoghmuseum.nl/en/collection/d0093V1962', 'https://vangoghmuseum.nl/en/collection/d0099V1962', 'https://vangoghmuseum.nl/en/collection/d0100V1962r', 'https://vangoghmuseum.nl/en/collection/d0100V1962v', 'https://vangoghmuseum.nl/en/collection/d0390V1962r', 'https://vangoghmuseum.nl/en/collection/d0390V1962v', 'https://vangoghmuseum.nl/en/collection/d0092V1969', 'https://vangoghmuseum.nl/en/collection/d0394V1969r', 'https://vangoghmuseum.nl/en/collection/d0025V1962r', 'https://vangoghmuseum.nl/en/collection/d0025V1962v', 'https://vangoghmuseum.nl/en/collection/d0026V1962', 'https://vangoghmuseum.nl/en/collection/d0027V1962', 'https://vangoghmuseum.nl/en/collection/d0057V1962', 'https://vangoghmuseum.nl/en/collection/d0206V1962', 'https://vangoghmuseum.nl/en/collection/d0042V1971', 'https://vangoghmuseum.nl/en/collection/d0358V1962', 'https://vangoghmuseum.nl/en/collection/d0058V1962', 'https://vangoghmuseum.nl/en/collection/d0040V1971', 'https://vangoghmuseum.nl/en/collection/d0041V1971', 'https://vangoghmuseum.nl/en/collection/d0200V1962r', 'https://vangoghmuseum.nl/en/collection/d0200V1962v', 'https://vangoghmuseum.nl/en/collection/d0029V1962', 'https://vangoghmuseum.nl/en/collection/d0031V1962r', 'https://vangoghmuseum.nl/en/collection/d0031V1962v', 'https://vangoghmuseum.nl/en/collection/d0401V1962', 'https://vangoghmuseum.nl/en/collection/d0034V1962r', 'https://vangoghmuseum.nl/en/collection/d0034V1962v', 'https://vangoghmuseum.nl/en/collection/d0035V1962', 'https://vangoghmuseum.nl/en/collection/d0036V1962r', 'https://vangoghmuseum.nl/en/collection/d0036V1962v', 'https://vangoghmuseum.nl/en/collection/d0399V1962', 'https://vangoghmuseum.nl/en/collection/d0045V1962', 'https://vangoghmuseum.nl/en/collection/d0059V1962', 'https://vangoghmuseum.nl/en/collection/d0013V1962', 'https://vangoghmuseum.nl/en/collection/d0014V1962r', 'https://vangoghmuseum.nl/en/collection/d0014V1962v', 'https://vangoghmuseum.nl/en/collection/d0015V1962r', 'https://vangoghmuseum.nl/en/collection/d0330V1962', 'https://vangoghmuseum.nl/en/collection/d0411-015V1962', 'https://vangoghmuseum.nl/en/collection/d0411-018V1962', 'https://vangoghmuseum.nl/en/collection/d0411-019V1962', 'https://vangoghmuseum.nl/en/collection/d0411-021V1962', 'https://vangoghmuseum.nl/en/collection/d0411-023V1962', 'https://vangoghmuseum.nl/en/collection/d0411-028V1962', 'https://vangoghmuseum.nl/en/collection/d0411-030V1962', 'https://vangoghmuseum.nl/en/collection/d0411-032V1962', 'https://vangoghmuseum.nl/en/collection/d0411-038V1962', 'https://vangoghmuseum.nl/en/collection/d0411-042V1962', 'https://vangoghmuseum.nl/en/collection/d0411-051V1962', 'https://vangoghmuseum.nl/en/collection/d0411-057V1962', 'https://vangoghmuseum.nl/en/collection/d0411-110V1962', 'https://vangoghmuseum.nl/en/collection/d0412-048V1962', 'https://vangoghmuseum.nl/en/collection/d0413-011V1962', 'https://vangoghmuseum.nl/en/collection/d0413-025V1962', 'https://vangoghmuseum.nl/en/collection/d0413-026V1962', 'https://vangoghmuseum.nl/en/collection/d0413-021V1962', 'https://vangoghmuseum.nl/en/collection/d0413-030V1962', 'https://vangoghmuseum.nl/en/collection/d0204V1962', 'https://vangoghmuseum.nl/en/collection/d0326V1970', 'https://vangoghmuseum.nl/en/collection/d0385V1970', 'https://vangoghmuseum.nl/en/collection/d0313V1970r', 'https://vangoghmuseum.nl/en/collection/d0303V1972r', 'https://vangoghmuseum.nl/en/collection/d0296V1972', 'https://vangoghmuseum.nl/en/collection/d0062V1962', 'https://vangoghmuseum.nl/en/collection/d0150V1971v', 'https://vangoghmuseum.nl/en/collection/d0030V1962r', 'https://vangoghmuseum.nl/en/collection/d0359V1962v', 'https://vangoghmuseum.nl/en/collection/d0126V1969', 'https://vangoghmuseum.nl/en/collection/d0251V1969', 'https://vangoghmuseum.nl/en/collection/d0238V1962v', 'https://vangoghmuseum.nl/en/collection/d0427V1962r', 'https://vangoghmuseum.nl/en/collection/d0332V1962v', 'https://vangoghmuseum.nl/en/collection/d0400V1962v', 'https://vangoghmuseum.nl/en/collection/d0160V1962v', 'https://vangoghmuseum.nl/en/collection/d0370V1962', 'https://vangoghmuseum.nl/en/collection/d0279V1967', 'https://vangoghmuseum.nl/en/collection/d0098V1962v', 'https://vangoghmuseum.nl/en/collection/d0394V1969v', 'https://vangoghmuseum.nl/en/collection/d0302V1972r', 'https://vangoghmuseum.nl/en/collection/d0310V1970', 'https://vangoghmuseum.nl/en/collection/d0374V1975', 'https://vangoghmuseum.nl/en/collection/d0777V1980', 'https://vangoghmuseum.nl/en/collection/d0308V1972', 'https://vangoghmuseum.nl/en/collection/d0773V1962', 'https://vangoghmuseum.nl/en/collection/d0772V1962', 'https://vangoghmuseum.nl/en/collection/d0312V1972', 'https://vangoghmuseum.nl/en/collection/d0758V1962', 'https://vangoghmuseum.nl/en/collection/d0408V1968', 'https://vangoghmuseum.nl/en/collection/d1125S2005', 'https://vangoghmuseum.nl/en/collection/d1132S2007', 'https://vangoghmuseum.nl/en/collection/d1123V2004', 'https://vangoghmuseum.nl/en/collection/d0414-134V1962', 'https://vangoghmuseum.nl/en/collection/d0414-135V1962', 'https://vangoghmuseum.nl/en/collection/d0414-136V1962', 'https://vangoghmuseum.nl/en/collection/d0414-137V1962', 'https://vangoghmuseum.nl/en/collection/d0414-138V1962', 'https://vangoghmuseum.nl/en/collection/d0414-139V1962', 'https://vangoghmuseum.nl/en/collection/d0414-140V1962', 'https://vangoghmuseum.nl/en/collection/d0414-141V1962', 'https://vangoghmuseum.nl/en/collection/d0412-050V1962', 'https://vangoghmuseum.nl/en/collection/d0412-052V1962', 'https://vangoghmuseum.nl/en/collection/d0412-054V1962', 'https://vangoghmuseum.nl/en/collection/d0412-056V1962', 'https://vangoghmuseum.nl/en/collection/d0412-058V1962', 'https://vangoghmuseum.nl/en/collection/d0412-059V1962', 'https://vangoghmuseum.nl/en/collection/d0412-060V1962', 'https://vangoghmuseum.nl/en/collection/d0413-012V1962', 'https://vangoghmuseum.nl/en/collection/d0414-005V1962', 'https://vangoghmuseum.nl/en/collection/d0414-006V1962', 'https://vangoghmuseum.nl/en/collection/d0414-007V1962', 'https://vangoghmuseum.nl/en/collection/d0413-057V1962', 'https://vangoghmuseum.nl/en/collection/d0411-003V1962', 'https://vangoghmuseum.nl/en/collection/d0411-005V1962', 'https://vangoghmuseum.nl/en/collection/d0411-007V1962', 'https://vangoghmuseum.nl/en/collection/d0414-089V1962', 'https://vangoghmuseum.nl/en/collection/d0411-011V1962', 'https://vangoghmuseum.nl/en/collection/d0411-009V1962', 'https://vangoghmuseum.nl/en/collection/d0313V1970v', 'https://vangoghmuseum.nl/en/collection/d0303V1972v', 'https://vangoghmuseum.nl/en/collection/d0411-027V1962', 'https://vangoghmuseum.nl/en/collection/d0414-060V1962', 'https://vangoghmuseum.nl/en/collection/d0414-030V1962', 'https://vangoghmuseum.nl/en/collection/d0293V1970r', 'https://vangoghmuseum.nl/en/collection/d0293V1970v', 'https://vangoghmuseum.nl/en/collection/n0546V1962v', 'https://vangoghmuseum.nl/en/collection/d0324V1970', 'https://vangoghmuseum.nl/en/collection/d0317V1970', 'https://vangoghmuseum.nl/en/collection/d0311V1970', 'https://vangoghmuseum.nl/en/collection/d0413-031V1962', 'https://vangoghmuseum.nl/en/collection/d0413-032V1962', 'https://vangoghmuseum.nl/en/collection/d0413-033V1962', 'https://vangoghmuseum.nl/en/collection/d0413-037V1962', 'https://vangoghmuseum.nl/en/collection/d0413-046V1962', 'https://vangoghmuseum.nl/en/collection/d0413-049V1962', 'https://vangoghmuseum.nl/en/collection/d0413-050V1962', 'https://vangoghmuseum.nl/en/collection/d0413-051V1962', 'https://vangoghmuseum.nl/en/collection/d0413-053V1962', 'https://vangoghmuseum.nl/en/collection/d0414-008V1962', 'https://vangoghmuseum.nl/en/collection/d0414-010V1962', 'https://vangoghmuseum.nl/en/collection/d0414-012V1962', 'https://vangoghmuseum.nl/en/collection/d0414-014V1962', 'https://vangoghmuseum.nl/en/collection/d0414-016V1962', 'https://vangoghmuseum.nl/en/collection/d0414-018V1962', 'https://vangoghmuseum.nl/en/collection/d0414-019V1962', 'https://vangoghmuseum.nl/en/collection/d0414-020V1962', 'https://vangoghmuseum.nl/en/collection/d0414-021V1962', 'https://vangoghmuseum.nl/en/collection/d0413-023V1962', 'https://vangoghmuseum.nl/en/collection/d0411-162V1962', 'https://vangoghmuseum.nl/en/collection/d0414-023V1962', 'https://vangoghmuseum.nl/en/collection/d0414-027V1962', 'https://vangoghmuseum.nl/en/collection/d0414-029V1962', 'https://vangoghmuseum.nl/en/collection/d0414-057V1962', 'https://vangoghmuseum.nl/en/collection/d0414-062V1962', 'https://vangoghmuseum.nl/en/collection/d0414-064V1962', 'https://vangoghmuseum.nl/en/collection/d0414-066V1962', 'https://vangoghmuseum.nl/en/collection/d0414-080V1962', 'https://vangoghmuseum.nl/en/collection/d0414-081V1962', 'https://vangoghmuseum.nl/en/collection/d0414-082V1962', 'https://vangoghmuseum.nl/en/collection/d0414-083V1962', 'https://vangoghmuseum.nl/en/collection/d0414-084V1962', 'https://vangoghmuseum.nl/en/collection/d0414-085V1962', 'https://vangoghmuseum.nl/en/collection/d0414-086V1962', 'https://vangoghmuseum.nl/en/collection/d0411-004V1962', 'https://vangoghmuseum.nl/en/collection/d0411-008V1962', 'https://vangoghmuseum.nl/en/collection/d0411-010V1962', 'https://vangoghmuseum.nl/en/collection/d0411-014V1962', 'https://vangoghmuseum.nl/en/collection/d0411-016V1962', 'https://vangoghmuseum.nl/en/collection/d0411-039V1962', 'https://vangoghmuseum.nl/en/collection/d0411-020V1962', 'https://vangoghmuseum.nl/en/collection/d0411-022V1962', 'https://vangoghmuseum.nl/en/collection/d0411-024V1962', 'https://vangoghmuseum.nl/en/collection/d0411-029V1962', 'https://vangoghmuseum.nl/en/collection/d0411-031V1962', 'https://vangoghmuseum.nl/en/collection/d0411-043V1962', 'https://vangoghmuseum.nl/en/collection/d0411-050V1962', 'https://vangoghmuseum.nl/en/collection/d0411-056V1962', 'https://vangoghmuseum.nl/en/collection/d0411-059V1962', 'https://vangoghmuseum.nl/en/collection/d0411-074V1962', 'https://vangoghmuseum.nl/en/collection/d0411-078V1962', 'https://vangoghmuseum.nl/en/collection/d0411-080V1962', 'https://vangoghmuseum.nl/en/collection/d0411-081V1962', 'https://vangoghmuseum.nl/en/collection/d0411-083V1962', 'https://vangoghmuseum.nl/en/collection/d0411-085V1962', 'https://vangoghmuseum.nl/en/collection/d0411-094V1962', 'https://vangoghmuseum.nl/en/collection/d0411-095V1962', 'https://vangoghmuseum.nl/en/collection/d0411-100V1962', 'https://vangoghmuseum.nl/en/collection/d0411-101V1962', 'https://vangoghmuseum.nl/en/collection/d0411-102V1962', 'https://vangoghmuseum.nl/en/collection/d0411-106V1962', 'https://vangoghmuseum.nl/en/collection/d0411-107V1962', 'https://vangoghmuseum.nl/en/collection/d0411-108V1962', 'https://vangoghmuseum.nl/en/collection/d0411-124V1962', 'https://vangoghmuseum.nl/en/collection/d0411-128V1962', 'https://vangoghmuseum.nl/en/collection/d0411-129V1962', 'https://vangoghmuseum.nl/en/collection/d0411-136V1962', 'https://vangoghmuseum.nl/en/collection/d0411-138V1962', 'https://vangoghmuseum.nl/en/collection/d0411-139V1962', 'https://vangoghmuseum.nl/en/collection/d0411-145V1962', 'https://vangoghmuseum.nl/en/collection/d0411-146V1962', 'https://vangoghmuseum.nl/en/collection/d0411-147V1962', 'https://vangoghmuseum.nl/en/collection/d0411-148V1962', 'https://vangoghmuseum.nl/en/collection/d0411-149V1962', 'https://vangoghmuseum.nl/en/collection/d0411-150V1962', 'https://vangoghmuseum.nl/en/collection/d0411-151V1962', 'https://vangoghmuseum.nl/en/collection/d0411-155V1962', 'https://vangoghmuseum.nl/en/collection/d0411-161V1962', 'https://vangoghmuseum.nl/en/collection/d0411-163V1962', 'https://vangoghmuseum.nl/en/collection/d0412-003V1962', 'https://vangoghmuseum.nl/en/collection/d0412-005V1962', 'https://vangoghmuseum.nl/en/collection/d0412-006V1962', 'https://vangoghmuseum.nl/en/collection/d0412-011V1962', 'https://vangoghmuseum.nl/en/collection/d0412-012V1962', 'https://vangoghmuseum.nl/en/collection/d0412-019V1962', 'https://vangoghmuseum.nl/en/collection/d0412-021V1962', 'https://vangoghmuseum.nl/en/collection/d0412-022V1962', 'https://vangoghmuseum.nl/en/collection/d0412-027V1962', 'https://vangoghmuseum.nl/en/collection/d0412-034V1962', 'https://vangoghmuseum.nl/en/collection/d0412-038V1962', 'https://vangoghmuseum.nl/en/collection/d0412-041V1962', 'https://vangoghmuseum.nl/en/collection/d0412-046V1962', 'https://vangoghmuseum.nl/en/collection/d0412-047V1962', 'https://vangoghmuseum.nl/en/collection/d0412-049V1962', 'https://vangoghmuseum.nl/en/collection/d0412-051V1962', 'https://vangoghmuseum.nl/en/collection/d0412-053V1962', 'https://vangoghmuseum.nl/en/collection/d0412-055V1962', 'https://vangoghmuseum.nl/en/collection/d0412-057V1962', 'https://vangoghmuseum.nl/en/collection/d0413-059V1962', 'https://vangoghmuseum.nl/en/collection/d0413-061V1962', 'https://vangoghmuseum.nl/en/collection/d0413-068V1962', 'https://vangoghmuseum.nl/en/collection/d0413-041V1962', 'https://vangoghmuseum.nl/en/collection/d0413-081V1962', 'https://vangoghmuseum.nl/en/collection/d0413-071V1962', 'https://vangoghmuseum.nl/en/collection/d0413-072V1962', 'https://vangoghmuseum.nl/en/collection/d0413-077V1962', 'https://vangoghmuseum.nl/en/collection/d0413-078V1962', 'https://vangoghmuseum.nl/en/collection/d0413-080V1962', 'https://vangoghmuseum.nl/en/collection/d0414-009V1962', 'https://vangoghmuseum.nl/en/collection/d0414-011V1962', 'https://vangoghmuseum.nl/en/collection/d0414-013V1962', 'https://vangoghmuseum.nl/en/collection/d0414-015V1962', 'https://vangoghmuseum.nl/en/collection/d0414-017V1962', 'https://vangoghmuseum.nl/en/collection/d0413-074V1962', 'https://vangoghmuseum.nl/en/collection/d0411-164V1962', 'https://vangoghmuseum.nl/en/collection/d0414-028V1962', 'https://vangoghmuseum.nl/en/collection/d0414-022V1962', 'https://vangoghmuseum.nl/en/collection/d0414-056V1962', 'https://vangoghmuseum.nl/en/collection/d0414-058V1962', 'https://vangoghmuseum.nl/en/collection/d0414-059V1962', 'https://vangoghmuseum.nl/en/collection/d0414-063V1962', 'https://vangoghmuseum.nl/en/collection/d0414-065V1962', 'https://vangoghmuseum.nl/en/collection/d0414-088V1962', 'https://vangoghmuseum.nl/en/collection/d0414-090V1962', 'https://vangoghmuseum.nl/en/collection/d0414-091V1962', 'https://vangoghmuseum.nl/en/collection/d0414-096V1962', 'https://vangoghmuseum.nl/en/collection/d0414-097V1962', 'https://vangoghmuseum.nl/en/collection/d0414-098V1962', 'https://vangoghmuseum.nl/en/collection/d0414-099V1962', 'https://vangoghmuseum.nl/en/collection/d0414-100V1962', 'https://vangoghmuseum.nl/en/collection/d0414-101V1962', 'https://vangoghmuseum.nl/en/collection/d0414-102V1962', 'https://vangoghmuseum.nl/en/collection/d0414-103V1962', 'https://vangoghmuseum.nl/en/collection/d0414-110V1962', 'https://vangoghmuseum.nl/en/collection/d0414-112V1962', 'https://vangoghmuseum.nl/en/collection/d0414-113V1962', 'https://vangoghmuseum.nl/en/collection/d0414-114V1962', 'https://vangoghmuseum.nl/en/collection/d0414-115V1962', 'https://vangoghmuseum.nl/en/collection/d0414-118V1962', 'https://vangoghmuseum.nl/en/collection/d0414-119V1962', 'https://vangoghmuseum.nl/en/collection/d0414-120V1962', 'https://vangoghmuseum.nl/en/collection/d0414-122V1962', 'https://vangoghmuseum.nl/en/collection/d0414-123V1962', 'https://vangoghmuseum.nl/en/collection/d0414-124V1962', 'https://vangoghmuseum.nl/en/collection/d0414-125V1962', 'https://vangoghmuseum.nl/en/collection/d0414-126V1962', 'https://vangoghmuseum.nl/en/collection/d0414-127V1962', 'https://vangoghmuseum.nl/en/collection/d0414-128V1962', 'https://vangoghmuseum.nl/en/collection/d0414-129V1962', 'https://vangoghmuseum.nl/en/collection/d0414-130V1962', 'https://vangoghmuseum.nl/en/collection/d0414-131V1962', 'https://vangoghmuseum.nl/en/collection/d0414-132V1962', 'https://vangoghmuseum.nl/en/collection/d0414-133V1962', 'https://vangoghmuseum.nl/en/collection/b0243V1962', 'https://vangoghmuseum.nl/en/collection/ba0004', 'https://vangoghmuseum.nl/en/collection/ba0008', 'https://vangoghmuseum.nl/en/collection/ba0009', 'https://vangoghmuseum.nl/en/collection/ba0018', 'https://vangoghmuseum.nl/en/collection/ba0021', 'https://vangoghmuseum.nl/en/collection/d0412V1962', 'https://vangoghmuseum.nl/en/collection/d0414V1962', 'https://vangoghmuseum.nl/en/collection/d0413V1962', 'https://vangoghmuseum.nl/en/collection/d0411V1962', 'https://vangoghmuseum.nl/en/collection/b0149V1962', 'https://vangoghmuseum.nl/en/collection/b0547aV1962', 'https://vangoghmuseum.nl/en/collection/b0565aV1962', 'https://vangoghmuseum.nl/en/collection/b0243cV1962', 'https://vangoghmuseum.nl/en/collection/b0242bV1962', 'https://vangoghmuseum.nl/en/collection/b0242cV1962', 'https://vangoghmuseum.nl/en/collection/b0652bV1962', 'https://vangoghmuseum.nl/en/collection/b0257V1962v', 'https://vangoghmuseum.nl/en/collection/b0259V1962r', 'https://vangoghmuseum.nl/en/collection/b0259V1962v', 'https://vangoghmuseum.nl/en/collection/b0242V1962', 'https://vangoghmuseum.nl/en/collection/b0359V1962', 'https://vangoghmuseum.nl/en/collection/b0520V1962', 'https://vangoghmuseum.nl/en/collection/b0547V1962', 'https://vangoghmuseum.nl/en/collection/b0565V1962', 'https://vangoghmuseum.nl/en/collection/b8389V2006', 'https://vangoghmuseum.nl/en/collection/b0437V1962r', 'https://vangoghmuseum.nl/en/collection/b0437V1962v', 'https://vangoghmuseum.nl/en/collection/b0299aV1962r', 'https://vangoghmuseum.nl/en/collection/b0299aV1962v', 'https://vangoghmuseum.nl/en/collection/b0359bV1962r', 'https://vangoghmuseum.nl/en/collection/b0359bV1962v', 'https://vangoghmuseum.nl/en/collection/b0386V1962r', 'https://vangoghmuseum.nl/en/collection/b0386V1962v', 'https://vangoghmuseum.nl/en/collection/b0435V1962r', 'https://vangoghmuseum.nl/en/collection/b0435V1962v', 'https://vangoghmuseum.nl/en/collection/b0517V1962r', 'https://vangoghmuseum.nl/en/collection/b0517V1962v', 'https://vangoghmuseum.nl/en/collection/b0520aV1962r', 'https://vangoghmuseum.nl/en/collection/b0520aV1962v', 'https://vangoghmuseum.nl/en/collection/b0547aV1962r', 'https://vangoghmuseum.nl/en/collection/b0547aV1962v', 'https://vangoghmuseum.nl/en/collection/b0565aV1962r', 'https://vangoghmuseum.nl/en/collection/b0565aV1962v', 'https://vangoghmuseum.nl/en/collection/b0652bV1962r', 'https://vangoghmuseum.nl/en/collection/b0652bV1962v', 'https://vangoghmuseum.nl/en/collection/b0709V1962r', 'https://vangoghmuseum.nl/en/collection/b0709V1962v', 'https://vangoghmuseum.nl/en/collection/b8389cV2006r', 'https://vangoghmuseum.nl/en/collection/b8389cV2006v', 'https://vangoghmuseum.nl/en/collection/b0149V1962r', 'https://vangoghmuseum.nl/en/collection/b0149V1962v', 'https://vangoghmuseum.nl/en/collection/b0242bV1962r', 'https://vangoghmuseum.nl/en/collection/b0242bV1962v', 'https://vangoghmuseum.nl/en/collection/b0242cV1962r', 'https://vangoghmuseum.nl/en/collection/b0242cV1962v', 'https://vangoghmuseum.nl/en/collection/b0243cV1962r', 'https://vangoghmuseum.nl/en/collection/b0243cV1962v', 'https://vangoghmuseum.nl/en/collection/b0257V1962r', 'https://vangoghmuseum.nl/en/collection/b0257V1962', 'https://vangoghmuseum.nl/en/collection/b0259V1962', 'https://vangoghmuseum.nl/en/collection/b0299aV1962', 'https://vangoghmuseum.nl/en/collection/b0386V1962', 'https://vangoghmuseum.nl/en/collection/b0435V1962', 'https://vangoghmuseum.nl/en/collection/b0437V1962', 'https://vangoghmuseum.nl/en/collection/b0517V1962', 'https://vangoghmuseum.nl/en/collection/b0520aV1962', 'https://vangoghmuseum.nl/en/collection/b0652V1962', 'https://vangoghmuseum.nl/en/collection/b0709V1962', 'https://vangoghmuseum.nl/en/collection/b0359bV1962', 'https://vangoghmuseum.nl/en/collection/b8389cV2006', 'https://vangoghmuseum.nl/en/collection/p0005V1962', 'https://vangoghmuseum.nl/en/collection/p0010V1971', 'https://vangoghmuseum.nl/en/collection/p0012V1963', 'https://vangoghmuseum.nl/en/collection/p0014V1962', 'https://vangoghmuseum.nl/en/collection/p0001V1962', 'https://vangoghmuseum.nl/en/collection/p0003V1962', 'https://vangoghmuseum.nl/en/collection/p0015V1962', 'https://vangoghmuseum.nl/en/collection/p0004V1962', 'https://vangoghmuseum.nl/en/collection/p0008V1962', 'https://vangoghmuseum.nl/en/collection/p0471V1962', 'https://vangoghmuseum.nl/en/collection/p0013V1962', 'https://vangoghmuseum.nl/en/collection/p0466V1962', 'https://vangoghmuseum.nl/en/collection/p0467V1962', 'https://vangoghmuseum.nl/en/collection/p0468V1962', 'https://vangoghmuseum.nl/en/collection/p0469V1962', 'https://vangoghmuseum.nl/en/collection/p0470V1962', 'https://vangoghmuseum.nl/en/collection/p0472V1962', 'https://vangoghmuseum.nl/en/collection/p0473V1962', 'https://vangoghmuseum.nl/en/collection/p0002V1962', 'https://vangoghmuseum.nl/en/collection/p0009V1962', 'https://vangoghmuseum.nl/en/collection/p0016V1962', 'https://vangoghmuseum.nl/en/collection/p0007V1962', 'https://vangoghmuseum.nl/en/collection/p0011V1963', 'https://vangoghmuseum.nl/en/collection/b0088aV1962', 'https://vangoghmuseum.nl/en/collection/b0587bV1962', 'https://vangoghmuseum.nl/en/collection/b8364aV2006', 'https://vangoghmuseum.nl/en/collection/b8389aV2006', 'https://vangoghmuseum.nl/en/collection/b0001V1962', 'https://vangoghmuseum.nl/en/collection/b0012V1962', 'https://vangoghmuseum.nl/en/collection/b0013V1962', 'https://vangoghmuseum.nl/en/collection/b0016V1962', 'https://vangoghmuseum.nl/en/collection/b0020V1962', 'https://vangoghmuseum.nl/en/collection/b0088bV1962', 'https://vangoghmuseum.nl/en/collection/b0134V1962', 'https://vangoghmuseum.nl/en/collection/b0141V1962', 'https://vangoghmuseum.nl/en/collection/b0146V1962', 'https://vangoghmuseum.nl/en/collection/b0153aV1962', 'https://vangoghmuseum.nl/en/collection/b0561V1962', 'https://vangoghmuseum.nl/en/collection/b0178V1962', 'https://vangoghmuseum.nl/en/collection/b0179aV1962', 'https://vangoghmuseum.nl/en/collection/b0456bV1962', 'https://vangoghmuseum.nl/en/collection/b0456cV1962', 'https://vangoghmuseum.nl/en/collection/b0412bV1962', 'https://vangoghmuseum.nl/en/collection/b0412cV1962', 'https://vangoghmuseum.nl/en/collection/b0243bV1962', 'https://vangoghmuseum.nl/en/collection/b0184bV1962', 'https://vangoghmuseum.nl/en/collection/b0184cV1962', 'https://vangoghmuseum.nl/en/collection/b0242dV1962', 'https://vangoghmuseum.nl/en/collection/b0214bV1962', 'https://vangoghmuseum.nl/en/collection/b0214cV1962', 'https://vangoghmuseum.nl/en/collection/b0214dV1962', 'https://vangoghmuseum.nl/en/collection/b0701aV1962', 'https://vangoghmuseum.nl/en/collection/b0704aV1962', 'https://vangoghmuseum.nl/en/collection/b0635aV1962', 'https://vangoghmuseum.nl/en/collection/b0652aV1962', 'https://vangoghmuseum.nl/en/collection/b0653aV1962', 'https://vangoghmuseum.nl/en/collection/b0655aV1962', 'https://vangoghmuseum.nl/en/collection/b0635bV1962', 'https://vangoghmuseum.nl/en/collection/b0652cV1962', 'https://vangoghmuseum.nl/en/collection/b0652dV1962', 'https://vangoghmuseum.nl/en/collection/b0653bV1962', 'https://vangoghmuseum.nl/en/collection/b0653cV1962', 'https://vangoghmuseum.nl/en/collection/b0655bV1962', 'https://vangoghmuseum.nl/en/collection/b0701bV1962', 'https://vangoghmuseum.nl/en/collection/b0704bV1962', 'https://vangoghmuseum.nl/en/collection/b0146V1962r', 'https://vangoghmuseum.nl/en/collection/b0146V1962v', 'https://vangoghmuseum.nl/en/collection/b0258V1962r', 'https://vangoghmuseum.nl/en/collection/b0258V1962v', 'https://vangoghmuseum.nl/en/collection/b0652cV1962v', 'https://vangoghmuseum.nl/en/collection/b0012V1962r', 'https://vangoghmuseum.nl/en/collection/b0012V1962v', 'https://vangoghmuseum.nl/en/collection/b0013V1962r', 'https://vangoghmuseum.nl/en/collection/b0013V1962v', 'https://vangoghmuseum.nl/en/collection/b0016V1962r', 'https://vangoghmuseum.nl/en/collection/b0016V1962v', 'https://vangoghmuseum.nl/en/collection/b0020V1962r', 'https://vangoghmuseum.nl/en/collection/b0020V1962v', 'https://vangoghmuseum.nl/en/collection/b0200V1962r', 'https://vangoghmuseum.nl/en/collection/b0200V1962v', 'https://vangoghmuseum.nl/en/collection/b0412dV1962r', 'https://vangoghmuseum.nl/en/collection/b0412dV1962v', 'https://vangoghmuseum.nl/en/collection/b0087V1962r', 'https://vangoghmuseum.nl/en/collection/b0087V1962v', 'https://vangoghmuseum.nl/en/collection/b0088bV1962r', 'https://vangoghmuseum.nl/en/collection/b0088bV1962v', 'https://vangoghmuseum.nl/en/collection/b0098bV1962r', 'https://vangoghmuseum.nl/en/collection/b0098bV1962v', 'https://vangoghmuseum.nl/en/collection/b0088aV1962r', 'https://vangoghmuseum.nl/en/collection/b0088aV1962v', 'https://vangoghmuseum.nl/en/collection/b0097bV1962r', 'https://vangoghmuseum.nl/en/collection/b0097bV1962v', 'https://vangoghmuseum.nl/en/collection/b0098aV1962r', 'https://vangoghmuseum.nl/en/collection/b0098aV1962v', 'https://vangoghmuseum.nl/en/collection/b0653aV1962r', 'https://vangoghmuseum.nl/en/collection/b0653aV1962v', 'https://vangoghmuseum.nl/en/collection/b0653bV1962r', 'https://vangoghmuseum.nl/en/collection/b0653bV1962v', 'https://vangoghmuseum.nl/en/collection/b0653cV1962r', 'https://vangoghmuseum.nl/en/collection/b0653cV1962v', 'https://vangoghmuseum.nl/en/collection/b0187V1962r', 'https://vangoghmuseum.nl/en/collection/b0187V1962v', 'https://vangoghmuseum.nl/en/collection/b0599V1962v', 'https://vangoghmuseum.nl/en/collection/b0599V1962r', 'https://vangoghmuseum.nl/en/collection/b0299bV1962r', 'https://vangoghmuseum.nl/en/collection/b0299bV1962v', 'https://vangoghmuseum.nl/en/collection/b0359aV1962r', 'https://vangoghmuseum.nl/en/collection/b0359aV1962v', 'https://vangoghmuseum.nl/en/collection/b0520bV1962r', 'https://vangoghmuseum.nl/en/collection/b0520bV1962v', 'https://vangoghmuseum.nl/en/collection/b0547bV1962r', 'https://vangoghmuseum.nl/en/collection/b0547bV1962v', 'https://vangoghmuseum.nl/en/collection/b0565bV1962v', 'https://vangoghmuseum.nl/en/collection/b0565bV1962r', 'https://vangoghmuseum.nl/en/collection/b0652aV1962r', 'https://vangoghmuseum.nl/en/collection/b0652aV1962v', 'https://vangoghmuseum.nl/en/collection/b0652cV1962r', 'https://vangoghmuseum.nl/en/collection/b0652dV1962r', 'https://vangoghmuseum.nl/en/collection/b0652dV1962v', 'https://vangoghmuseum.nl/en/collection/b8389aV2006r', 'https://vangoghmuseum.nl/en/collection/b8389aV2006v', 'https://vangoghmuseum.nl/en/collection/b8389bV2006r', 'https://vangoghmuseum.nl/en/collection/b8389bV2006v', 'https://vangoghmuseum.nl/en/collection/b0242aV1962r', 'https://vangoghmuseum.nl/en/collection/b0242aV1962v', 'https://vangoghmuseum.nl/en/collection/b0242dV1962r', 'https://vangoghmuseum.nl/en/collection/b0242dV1962v', 'https://vangoghmuseum.nl/en/collection/b0243aV1962r', 'https://vangoghmuseum.nl/en/collection/b0243aV1962v', 'https://vangoghmuseum.nl/en/collection/b0243bV1962r', 'https://vangoghmuseum.nl/en/collection/b0243bV1962v', 'https://vangoghmuseum.nl/en/collection/b0184aV1962', 'https://vangoghmuseum.nl/en/collection/b0187V1962', 'https://vangoghmuseum.nl/en/collection/b0200V1962', 'https://vangoghmuseum.nl/en/collection/b0213aV1962', 'https://vangoghmuseum.nl/en/collection/b0214aV1962', 'https://vangoghmuseum.nl/en/collection/b0216V1962', 'https://vangoghmuseum.nl/en/collection/b0232V1962', 'https://vangoghmuseum.nl/en/collection/b0242aV1962', 'https://vangoghmuseum.nl/en/collection/b0243aV1962', 'https://vangoghmuseum.nl/en/collection/b0258V1962', 'https://vangoghmuseum.nl/en/collection/b0264V1962', 'https://vangoghmuseum.nl/en/collection/b0275aV1962', 'https://vangoghmuseum.nl/en/collection/b0279V1962', 'https://vangoghmuseum.nl/en/collection/b0287aV1962', 'https://vangoghmuseum.nl/en/collection/b0288aV1962', 'https://vangoghmuseum.nl/en/collection/b0307aV1962', 'https://vangoghmuseum.nl/en/collection/b0317V1962', 'https://vangoghmuseum.nl/en/collection/b0318aV1962', 'https://vangoghmuseum.nl/en/collection/b0324aV1962', 'https://vangoghmuseum.nl/en/collection/b0324bV1962', 'https://vangoghmuseum.nl/en/collection/b0324cV1962', 'https://vangoghmuseum.nl/en/collection/b0359aV1962', 'https://vangoghmuseum.nl/en/collection/b0372aV1962', 'https://vangoghmuseum.nl/en/collection/b0406V1962', 'https://vangoghmuseum.nl/en/collection/b0412aV1962', 'https://vangoghmuseum.nl/en/collection/b0413aV1962', 'https://vangoghmuseum.nl/en/collection/b0439aV1962', 'https://vangoghmuseum.nl/en/collection/b0442aV1962', 'https://vangoghmuseum.nl/en/collection/b0456aV1962', 'https://vangoghmuseum.nl/en/collection/b0469aV1962', 'https://vangoghmuseum.nl/en/collection/b0480V1962', 'https://vangoghmuseum.nl/en/collection/b0488aV1962', 'https://vangoghmuseum.nl/en/collection/b0573aV1962', 'https://vangoghmuseum.nl/en/collection/b0575V1962', 'https://vangoghmuseum.nl/en/collection/b0576aV1962', 'https://vangoghmuseum.nl/en/collection/b0587aV1962', 'https://vangoghmuseum.nl/en/collection/b0599V1962', 'https://vangoghmuseum.nl/en/collection/b0614V1962', 'https://vangoghmuseum.nl/en/collection/b0621aV1962', 'https://vangoghmuseum.nl/en/collection/b0626aV1962', 'https://vangoghmuseum.nl/en/collection/b0628V1962', 'https://vangoghmuseum.nl/en/collection/b0639V1962', 'https://vangoghmuseum.nl/en/collection/b0653V1962', 'https://vangoghmuseum.nl/en/collection/b0676V1962', 'https://vangoghmuseum.nl/en/collection/b0679V1962', 'https://vangoghmuseum.nl/en/collection/b0697V1962', 'https://vangoghmuseum.nl/en/collection/b0698V1962', 'https://vangoghmuseum.nl/en/collection/b0700V1962', 'https://vangoghmuseum.nl/en/collection/b0701V1962', 'https://vangoghmuseum.nl/en/collection/b0704V1962', 'https://vangoghmuseum.nl/en/collection/b0097bV1962', 'https://vangoghmuseum.nl/en/collection/b0098aV1962', 'https://vangoghmuseum.nl/en/collection/b0087V1962', 'https://vangoghmuseum.nl/en/collection/b0097aV1962', 'https://vangoghmuseum.nl/en/collection/b0375V1962', 'https://vangoghmuseum.nl/en/collection/b0392V1962', 'https://vangoghmuseum.nl/en/collection/b0413bV1962', 'https://vangoghmuseum.nl/en/collection/b0412dV1962', 'https://vangoghmuseum.nl/en/collection/b0098bV1962', 'https://vangoghmuseum.nl/en/collection/b0153bV1962', 'https://vangoghmuseum.nl/en/collection/b0179bV1962', 'https://vangoghmuseum.nl/en/collection/b0213bV1962', 'https://vangoghmuseum.nl/en/collection/b8364bV2006', 'https://vangoghmuseum.nl/en/collection/b0655V1962', 'https://vangoghmuseum.nl/en/collection/b0635V1962', 'https://vangoghmuseum.nl/en/collection/b0626bV1962', 'https://vangoghmuseum.nl/en/collection/b0576bV1962', 'https://vangoghmuseum.nl/en/collection/b0573bV1962', 'https://vangoghmuseum.nl/en/collection/b0565bV1962', 'https://vangoghmuseum.nl/en/collection/b0547bV1962', 'https://vangoghmuseum.nl/en/collection/b0520bV1962', 'https://vangoghmuseum.nl/en/collection/b0488bV1962', 'https://vangoghmuseum.nl/en/collection/b0469bV1962', 'https://vangoghmuseum.nl/en/collection/b0442bV1962', 'https://vangoghmuseum.nl/en/collection/b0439bV1962', 'https://vangoghmuseum.nl/en/collection/b0372bV1962', 'https://vangoghmuseum.nl/en/collection/b0318bV1962', 'https://vangoghmuseum.nl/en/collection/b0307bV1962', 'https://vangoghmuseum.nl/en/collection/b0299bV1962', 'https://vangoghmuseum.nl/en/collection/b0288bV1962', 'https://vangoghmuseum.nl/en/collection/b0287bV1962', 'https://vangoghmuseum.nl/en/collection/b0275bV1962', 'https://vangoghmuseum.nl/en/collection/b8389bV2006', 'https://vangoghmuseum.nl/en/collection/b0621bV1962', 'https://vangoghmuseum.nl/en/collection/b0621cV1962', 'https://vangoghmuseum.nl/en/collection/b0232V1962r', 'https://vangoghmuseum.nl/en/collection/b0232V1962v', 'https://vangoghmuseum.nl/en/collection/b0097aV1962r', 'https://vangoghmuseum.nl/en/collection/b0097aV1962v', 'https://vangoghmuseum.nl/en/collection/b0134V1962r', 'https://vangoghmuseum.nl/en/collection/b0134V1962v', 'https://vangoghmuseum.nl/en/collection/b0141V1962r', 'https://vangoghmuseum.nl/en/collection/b0141V1962v', 'https://vangoghmuseum.nl/en/collection/b0153V1962', 'https://vangoghmuseum.nl/en/collection/b0153aV1962r', 'https://vangoghmuseum.nl/en/collection/b0153aV1962v', 'https://vangoghmuseum.nl/en/collection/b0153bV1962r', 'https://vangoghmuseum.nl/en/collection/b0153bV1962v', 'https://vangoghmuseum.nl/en/collection/b0178V1962r', 'https://vangoghmuseum.nl/en/collection/b0178V1962v', 'https://vangoghmuseum.nl/en/collection/b0179V1962', 'https://vangoghmuseum.nl/en/collection/b0179aV1962r', 'https://vangoghmuseum.nl/en/collection/b0179aV1962v', 'https://vangoghmuseum.nl/en/collection/b0179bV1962r', 'https://vangoghmuseum.nl/en/collection/b0179bV1962v', 'https://vangoghmuseum.nl/en/collection/b0213aV1962r', 'https://vangoghmuseum.nl/en/collection/b0213aV1962v', 'https://vangoghmuseum.nl/en/collection/b0213V1962', 'https://vangoghmuseum.nl/en/collection/b0214V1962', 'https://vangoghmuseum.nl/en/collection/b0214aV1962r', 'https://vangoghmuseum.nl/en/collection/b0214aV1962v', 'https://vangoghmuseum.nl/en/collection/b0214bV1962r', 'https://vangoghmuseum.nl/en/collection/b0214bV1962v', 'https://vangoghmuseum.nl/en/collection/b0214cV1962r', 'https://vangoghmuseum.nl/en/collection/b0214cV1962v', 'https://vangoghmuseum.nl/en/collection/b0214dV1962r', 'https://vangoghmuseum.nl/en/collection/b0214dV1962v', 'https://vangoghmuseum.nl/en/collection/b0216V1962r', 'https://vangoghmuseum.nl/en/collection/b0216V1962v', 'https://vangoghmuseum.nl/en/collection/b0240V1962r', 'https://vangoghmuseum.nl/en/collection/b0240V1962v', 'https://vangoghmuseum.nl/en/collection/b0264V1962r', 'https://vangoghmuseum.nl/en/collection/b0264V1962v', 'https://vangoghmuseum.nl/en/collection/b0275aV1962r', 'https://vangoghmuseum.nl/en/collection/b0275aV1962v', 'https://vangoghmuseum.nl/en/collection/b0275bV1962r', 'https://vangoghmuseum.nl/en/collection/b0275bV1962v', 'https://vangoghmuseum.nl/en/collection/b0275V1962', 'https://vangoghmuseum.nl/en/collection/b0279V1962r', 'https://vangoghmuseum.nl/en/collection/b0279V1962v', 'https://vangoghmuseum.nl/en/collection/b0287aV1962r', 'https://vangoghmuseum.nl/en/collection/b0287aV1962v', 'https://vangoghmuseum.nl/en/collection/b0287bV1962r', 'https://vangoghmuseum.nl/en/collection/b0287bV1962v', 'https://vangoghmuseum.nl/en/collection/b0287V1962', 'https://vangoghmuseum.nl/en/collection/b0288aV1962r', 'https://vangoghmuseum.nl/en/collection/b0288aV1962v', 'https://vangoghmuseum.nl/en/collection/b0288bV1962r', 'https://vangoghmuseum.nl/en/collection/b0288bV1962v', 'https://vangoghmuseum.nl/en/collection/b0288V1962', 'https://vangoghmuseum.nl/en/collection/b0307aV1962r', 'https://vangoghmuseum.nl/en/collection/b0307aV1962v', 'https://vangoghmuseum.nl/en/collection/b0307bV1962r', 'https://vangoghmuseum.nl/en/collection/b0307bV1962v', 'https://vangoghmuseum.nl/en/collection/b0307V1962', 'https://vangoghmuseum.nl/en/collection/b0317V1962r', 'https://vangoghmuseum.nl/en/collection/b0317V1962v', 'https://vangoghmuseum.nl/en/collection/b0318aV1962r', 'https://vangoghmuseum.nl/en/collection/b0318aV1962v', 'https://vangoghmuseum.nl/en/collection/b0318bV1962r', 'https://vangoghmuseum.nl/en/collection/b0318bV1962v', 'https://vangoghmuseum.nl/en/collection/b0318V1962', 'https://vangoghmuseum.nl/en/collection/b0324aV1962r', 'https://vangoghmuseum.nl/en/collection/b0324aV1962v', 'https://vangoghmuseum.nl/en/collection/b0324bV1962r', 'https://vangoghmuseum.nl/en/collection/b0324bV1962v', 'https://vangoghmuseum.nl/en/collection/b0324cV1962r', 'https://vangoghmuseum.nl/en/collection/b0324cV1962v', 'https://vangoghmuseum.nl/en/collection/b0324V1962', 'https://vangoghmuseum.nl/en/collection/b0372aV1962r', 'https://vangoghmuseum.nl/en/collection/b0655bV1962v', 'https://vangoghmuseum.nl/en/collection/b0676V1962r', 'https://vangoghmuseum.nl/en/collection/b0676V1962v', 'https://vangoghmuseum.nl/en/collection/b0679V1962r', 'https://vangoghmuseum.nl/en/collection/b0679V1962v', 'https://vangoghmuseum.nl/en/collection/b0697V1962r', 'https://vangoghmuseum.nl/en/collection/b0697V1962v', 'https://vangoghmuseum.nl/en/collection/b0698V1962r', 'https://vangoghmuseum.nl/en/collection/b0698V1962v', 'https://vangoghmuseum.nl/en/collection/b0700V1962r', 'https://vangoghmuseum.nl/en/collection/b0700V1962v', 'https://vangoghmuseum.nl/en/collection/b0701aV1962r', 'https://vangoghmuseum.nl/en/collection/b0701aV1962v', 'https://vangoghmuseum.nl/en/collection/b0701bV1962r', 'https://vangoghmuseum.nl/en/collection/b0701bV1962v', 'https://vangoghmuseum.nl/en/collection/b0704aV1962r', 'https://vangoghmuseum.nl/en/collection/b0704aV1962v', 'https://vangoghmuseum.nl/en/collection/b0704bV1962r', 'https://vangoghmuseum.nl/en/collection/b0704bV1962v', 'https://vangoghmuseum.nl/en/collection/b0240V1962', 'https://vangoghmuseum.nl/en/collection/b8364V2006', 'https://vangoghmuseum.nl/en/collection/b8364aV2006r', 'https://vangoghmuseum.nl/en/collection/b8364aV2006v', 'https://vangoghmuseum.nl/en/collection/b8364bV2006r', 'https://vangoghmuseum.nl/en/collection/b8364bV2006v', 'https://vangoghmuseum.nl/en/collection/b9119S2019', 'https://vangoghmuseum.nl/en/collection/b0372aV1962v', 'https://vangoghmuseum.nl/en/collection/b0372bV1962r', 'https://vangoghmuseum.nl/en/collection/b0375V1962r', 'https://vangoghmuseum.nl/en/collection/b0375V1962v', 'https://vangoghmuseum.nl/en/collection/ba0040', 'https://vangoghmuseum.nl/en/collection/b0392V1962r', 'https://vangoghmuseum.nl/en/collection/b0392V1962v', 'https://vangoghmuseum.nl/en/collection/b0406V1962r', 'https://vangoghmuseum.nl/en/collection/b0406V1962v', 'https://vangoghmuseum.nl/en/collection/b0412aV1962r', 'https://vangoghmuseum.nl/en/collection/b0412aV1962v', 'https://vangoghmuseum.nl/en/collection/b0412bV1962r', 'https://vangoghmuseum.nl/en/collection/b0412bV1962v', 'https://vangoghmuseum.nl/en/collection/b0412cV1962r', 'https://vangoghmuseum.nl/en/collection/b0413bV1962r', 'https://vangoghmuseum.nl/en/collection/b0413bV1962v', 'https://vangoghmuseum.nl/en/collection/ba0046', 'https://vangoghmuseum.nl/en/collection/b0413aV1962r', 'https://vangoghmuseum.nl/en/collection/b0413aV1962v', 'https://vangoghmuseum.nl/en/collection/b0412cV1962v', 'https://vangoghmuseum.nl/en/collection/b0439aV1962r', 'https://vangoghmuseum.nl/en/collection/b0439aV1962v', 'https://vangoghmuseum.nl/en/collection/b0439bV1962r', 'https://vangoghmuseum.nl/en/collection/b0439bV1962v', 'https://vangoghmuseum.nl/en/collection/b0439V1962', 'https://vangoghmuseum.nl/en/collection/b0442aV1962r', 'https://vangoghmuseum.nl/en/collection/b0442aV1962v', 'https://vangoghmuseum.nl/en/collection/b0442bV1962r', 'https://vangoghmuseum.nl/en/collection/b0442bV1962v', 'https://vangoghmuseum.nl/en/collection/b0442V1962', 'https://vangoghmuseum.nl/en/collection/b0184aV1962r', 'https://vangoghmuseum.nl/en/collection/b0184aV1962v', 'https://vangoghmuseum.nl/en/collection/b0184bV1962r', 'https://vangoghmuseum.nl/en/collection/b0184cV1962r', 'https://vangoghmuseum.nl/en/collection/b0184cV1962v', 'https://vangoghmuseum.nl/en/collection/b0372bV1962v', 'https://vangoghmuseum.nl/en/collection/b0456aV1962r', 'https://vangoghmuseum.nl/en/collection/b0456aV1962v', 'https://vangoghmuseum.nl/en/collection/b0456bV1962r', 'https://vangoghmuseum.nl/en/collection/b0456bV1962v', 'https://vangoghmuseum.nl/en/collection/b0456cV1962r', 'https://vangoghmuseum.nl/en/collection/b0456V1962', 'https://vangoghmuseum.nl/en/collection/b0184bV1962v', 'https://vangoghmuseum.nl/en/collection/b0184V1962', 'https://vangoghmuseum.nl/en/collection/b0456cV1962v', 'https://vangoghmuseum.nl/en/collection/b0469aV1962r', 'https://vangoghmuseum.nl/en/collection/b0469aV1962v', 'https://vangoghmuseum.nl/en/collection/b0469bV1962r', 'https://vangoghmuseum.nl/en/collection/b0469bV1962v', 'https://vangoghmuseum.nl/en/collection/b0469V1962', 'https://vangoghmuseum.nl/en/collection/b0480V1962r', 'https://vangoghmuseum.nl/en/collection/b0480V1962v', 'https://vangoghmuseum.nl/en/collection/b0488aV1962r', 'https://vangoghmuseum.nl/en/collection/b0488aV1962v', 'https://vangoghmuseum.nl/en/collection/b0488bV1962r', 'https://vangoghmuseum.nl/en/collection/b0488bV1962v', 'https://vangoghmuseum.nl/en/collection/b0488V1962', 'https://vangoghmuseum.nl/en/collection/b0561V1962r', 'https://vangoghmuseum.nl/en/collection/b0561V1962v', 'https://vangoghmuseum.nl/en/collection/b0573V1962', 'https://vangoghmuseum.nl/en/collection/b0573aV1962r', 'https://vangoghmuseum.nl/en/collection/b0573aV1962v', 'https://vangoghmuseum.nl/en/collection/b0573bV1962r', 'https://vangoghmuseum.nl/en/collection/b0573bV1962v', 'https://vangoghmuseum.nl/en/collection/b0575V1962r', 'https://vangoghmuseum.nl/en/collection/b0575V1962v', 'https://vangoghmuseum.nl/en/collection/b0576V1962', 'https://vangoghmuseum.nl/en/collection/b0576aV1962r', 'https://vangoghmuseum.nl/en/collection/b0576aV1962v', 'https://vangoghmuseum.nl/en/collection/b0576bV1962r', 'https://vangoghmuseum.nl/en/collection/b0576bV1962v', 'https://vangoghmuseum.nl/en/collection/b0587aV1962r', 'https://vangoghmuseum.nl/en/collection/b0587aV1962v', 'https://vangoghmuseum.nl/en/collection/b0587bV1962r', 'https://vangoghmuseum.nl/en/collection/b0587bV1962v', 'https://vangoghmuseum.nl/en/collection/b0614V1962r', 'https://vangoghmuseum.nl/en/collection/b0614V1962v', 'https://vangoghmuseum.nl/en/collection/b0621V1962', 'https://vangoghmuseum.nl/en/collection/b0621aV1962r', 'https://vangoghmuseum.nl/en/collection/b0621aV1962v', 'https://vangoghmuseum.nl/en/collection/b0621bV1962r', 'https://vangoghmuseum.nl/en/collection/b0621bV1962v', 'https://vangoghmuseum.nl/en/collection/b0621cV1962r', 'https://vangoghmuseum.nl/en/collection/b0621cV1962v', 'https://vangoghmuseum.nl/en/collection/b0626V1962', 'https://vangoghmuseum.nl/en/collection/b0626aV1962r', 'https://vangoghmuseum.nl/en/collection/b0626aV1962v', 'https://vangoghmuseum.nl/en/collection/b0626bV1962r', 'https://vangoghmuseum.nl/en/collection/b0626bV1962v', 'https://vangoghmuseum.nl/en/collection/b0628V1962r', 'https://vangoghmuseum.nl/en/collection/b0628V1962v', 'https://vangoghmuseum.nl/en/collection/b0635aV1962r', 'https://vangoghmuseum.nl/en/collection/b0635aV1962v', 'https://vangoghmuseum.nl/en/collection/b0639V1962r', 'https://vangoghmuseum.nl/en/collection/b0639V1962v', 'https://vangoghmuseum.nl/en/collection/b0655aV1962r', 'https://vangoghmuseum.nl/en/collection/b0655aV1962v', 'https://vangoghmuseum.nl/en/collection/b0655bV1962r', 'https://vangoghmuseum.nl/en/collection/d0411-048V1962', 'https://vangoghmuseum.nl/en/collection/d0413-002V1962', 'https://vangoghmuseum.nl/en/collection/d0413-015V1962', 'https://vangoghmuseum.nl/en/collection/d0413-084V1962', 'https://vangoghmuseum.nl/en/collection/d0413-010V1962', 'https://vangoghmuseum.nl/en/collection/d0413-016V1962', 'https://vangoghmuseum.nl/en/collection/d0211V1971r', 'https://vangoghmuseum.nl/en/collection/d0411-166V1962', 'https://vangoghmuseum.nl/en/collection/d0411-165V1962', 'https://vangoghmuseum.nl/en/collection/d0413-045V1962', 'https://vangoghmuseum.nl/en/collection/d0413-052V1962', 'https://vangoghmuseum.nl/en/collection/d0411-012V1962', 'https://vangoghmuseum.nl/en/collection/d0411-062V1962', 'https://vangoghmuseum.nl/en/collection/d0411-063V1962', 'https://vangoghmuseum.nl/en/collection/d0412-002V1962', 'https://vangoghmuseum.nl/en/collection/d0412-004V1962', 'https://vangoghmuseum.nl/en/collection/d0412-015V1962', 'https://vangoghmuseum.nl/en/collection/d0412-016V1962', 'https://vangoghmuseum.nl/en/collection/d0412-020V1962', 'https://vangoghmuseum.nl/en/collection/d0412-024V1962', 'https://vangoghmuseum.nl/en/collection/d0412-028V1962', 'https://vangoghmuseum.nl/en/collection/d0412-033V1962', 'https://vangoghmuseum.nl/en/collection/d0412-042V1962', 'https://vangoghmuseum.nl/en/collection/d0412-045V1962', 'https://vangoghmuseum.nl/en/collection/d0413-009V1962', 'https://vangoghmuseum.nl/en/collection/d0413-063V1962', 'https://vangoghmuseum.nl/en/collection/d0413-076V1962', 'https://vangoghmuseum.nl/en/collection/d0413-083V1962', 'https://vangoghmuseum.nl/en/collection/F0363', 'https://vangoghmuseum.nl/en/collection/F0364', 'https://vangoghmuseum.nl/en/collection/F0527']\n",
      "1443\n"
     ]
    }
   ],
   "source": [
    "# iterar sobre la pagina principal de coleccion y recoger los links de interes\n",
    "# numero de paginas/obras/enlaces a iterar\n",
    "elements = 1443\n",
    "defaultElements = 50\n",
    "\n",
    "# maximo numero de pinturas conocidas\n",
    "maxElements = 1443\n",
    "\n",
    "# busqueda base en la coleccion de Vangogh\n",
    "root = \"https://vangoghmuseum.nl/en/search/collection?q=&artist=Vincent%20van%20Gogh&pagesize=\"\n",
    "home = \"https://vangoghmuseum.nl\"\n",
    "\n",
    "# por defecto pruebo 50 elementos de la coleccion\n",
    "webPage = root + str(defaultElements)\n",
    "\n",
    "# si el numero de enlaces abuscar es menor al maximo de la coleccion conocida\n",
    "if elements <= maxElements:\n",
    "    webPage = root + str(elements)\n",
    "\n",
    "# si hay algo raro\n",
    "else:\n",
    "    webPage = root + str(defaultElements)\n",
    "\n",
    "# reviso que cargue bien la pagina base\n",
    "print(webPage)\n",
    "\n",
    "# pido el HTML\n",
    "rootPage = urllib.request.urlopen(webPage)\n",
    "\n",
    "# uso beautifulSoup\n",
    "soup = BeautifulSoup(rootPage, \"html.parser\")\n",
    "\n",
    "# lista de enlaces a elementos de la coleccion\n",
    "links = list()\n",
    "\n",
    "# esta es la seccion del HTML donde estan los resultados de la coleccion NO LA NECESITO POR AHORA\n",
    "collectionSoup = soup.body.findAll(\"ul\", attrs = {\"class\":\"cols cols-3up list-plain\"})\n",
    "\n",
    "# saco los links a las paginas que quiero dentro de la busqueda de coleccion\n",
    "# estan los elementos de tipo link-teaser y la expresion regular del href\n",
    "for link in soup.body.findAll('a', attrs = {\"class\":\"link-teaser triggers-slideshow-effect\", \"href\":re.compile(\"^/en/collection/\")}):\n",
    "    \n",
    "    # reconstruyo el enlace completo\n",
    "    tempLink = home + link.get('href')\n",
    "    links.append(tempLink)\n",
    "\n",
    "print(links)\n",
    "print(len(links))\n"
   ]
  },
  {
   "cell_type": "code",
   "execution_count": 49,
   "metadata": {
    "scrolled": true
   },
   "outputs": [
    {
     "name": "stdout",
     "output_type": "stream",
     "text": [
      "Beginning file download with wget module\n",
      "100% [............................................................................] 184620 / 184620Beginning file download with wget module\n",
      "100% [............................................................................] 116796 / 116796Beginning file download with wget module\n",
      "100% [............................................................................] 111241 / 111241Status Code 500\n",
      "Beginning file download with wget module\n",
      "100% [............................................................................] 114237 / 114237Beginning file download with wget module\n",
      "100% [..............................................................................] 51245 / 51245Beginning file download with wget module\n",
      "100% [..............................................................................] 67288 / 67288Beginning file download with wget module\n",
      "100% [............................................................................] 133352 / 133352Beginning file download with wget module\n",
      "100% [..............................................................................] 83158 / 83158Beginning file download with wget module\n",
      "100% [..............................................................................] 80622 / 80622Beginning file download with wget module\n",
      "100% [............................................................................] 213215 / 213215Beginning file download with wget module\n",
      "100% [............................................................................] 202815 / 202815Beginning file download with wget module\n",
      "100% [............................................................................] 162602 / 162602Beginning file download with wget module\n",
      "100% [............................................................................] 120058 / 120058"
     ]
    },
    {
     "ename": "NotADirectoryError",
     "evalue": "[WinError 267] El nombre del directorio no es válido: 'Montmartre: Windmills and Allotments'",
     "output_type": "error",
     "traceback": [
      "\u001b[1;31m---------------------------------------------------------------------------\u001b[0m",
      "\u001b[1;31mNotADirectoryError\u001b[0m                        Traceback (most recent call last)",
      "\u001b[1;32m<ipython-input-49-13f63eae2140>\u001b[0m in \u001b[0;36m<module>\u001b[1;34m\u001b[0m\n\u001b[0;32m     55\u001b[0m \u001b[1;33m\u001b[0m\u001b[0m\n\u001b[0;32m     56\u001b[0m         \u001b[1;31m#print(texts_cleaned)\u001b[0m\u001b[1;33m\u001b[0m\u001b[1;33m\u001b[0m\u001b[1;33m\u001b[0m\u001b[0m\n\u001b[1;32m---> 57\u001b[1;33m         \u001b[0mos\u001b[0m\u001b[1;33m.\u001b[0m\u001b[0mmkdir\u001b[0m\u001b[1;33m(\u001b[0m\u001b[0mtexts_cleaned\u001b[0m\u001b[1;33m[\u001b[0m\u001b[1;36m0\u001b[0m\u001b[1;33m]\u001b[0m\u001b[1;33m)\u001b[0m\u001b[1;33m\u001b[0m\u001b[1;33m\u001b[0m\u001b[0m\n\u001b[0m\u001b[0;32m     58\u001b[0m         \u001b[1;31m#print (texts_cleaned)\u001b[0m\u001b[1;33m\u001b[0m\u001b[1;33m\u001b[0m\u001b[1;33m\u001b[0m\u001b[0m\n\u001b[0;32m     59\u001b[0m         \u001b[1;31m# Recorremos todas las entradas para extraer el título, autor y fecha\u001b[0m\u001b[1;33m\u001b[0m\u001b[1;33m\u001b[0m\u001b[1;33m\u001b[0m\u001b[0m\n",
      "\u001b[1;31mNotADirectoryError\u001b[0m: [WinError 267] El nombre del directorio no es válido: 'Montmartre: Windmills and Allotments'"
     ]
    }
   ],
   "source": [
    "\n",
    "totalpinturas=1443\n",
    "temporal=199\n",
    "pagina='https://vangoghmuseum.nl/en/collection/s'\n",
    "a=np.arange(temporal)\n",
    "lista=[]\n",
    "for i in a:\n",
    "    lista.append(pagina+str((i+1)).zfill(4)+'V1962')\n",
    "    URL = lista[i]\n",
    "\n",
    "\n",
    "    def iterate_over_children(soup, texts):\n",
    "        for child in soup:\n",
    "            if child.string == None:\n",
    "                iterate_over_children(child, texts)\n",
    "            else:\n",
    "                if child.string != '\\n':\n",
    "                    texts.append(child.string)\n",
    "\n",
    "    # Realizamos la petición a la web\n",
    "    req = requests.get(URL)\n",
    "\n",
    "    # Comprobamos que la petición nos devuelve un Status Code = 200\n",
    "    status_code = req.status_code\n",
    "    if status_code == 200:\n",
    "\n",
    "        # Pasamos el contenido HTML de la web a un objeto BeautifulSoup()\n",
    "        html = BeautifulSoup(req.text, \"html.parser\")\n",
    "\n",
    "        # Obtenemos todos los divs donde están las entradas\n",
    "        #entradas = html.find_all('div', {'class': 'page-unit'})\n",
    "        article = html.find('section')\n",
    "        texts = []\n",
    "        iterate_over_children(article, texts)\n",
    "        texts_cleaned = [] \n",
    "        for text in texts:\n",
    "            cleaned_text = text.replace(\"\\n\", \"\").strip()\n",
    "            texts_cleaned.append(cleaned_text)\n",
    "\n",
    "    #Daniela Oject Data\n",
    "        # Obtenemos todos los divs donde están las entradas\n",
    "        entradas = html.find_all('div', {'class': 'download-buttons-container'})\n",
    "\n",
    "\n",
    "        # Recorremos todas las entradas para extraer el título, autor y fecha\n",
    "        for i, entrada in enumerate(entradas):\n",
    "            # Con el método \"getText()\" no nos devuelve el HTML\n",
    "            hola= entrada.find('a').get('href') \n",
    "            texts_cleaned.append(hola)\n",
    "            \n",
    "        #links del parrafo (puede ir a las cartas)\n",
    "        link_p=[tag['href'] for tag in html.select('p a[href]')]\n",
    "        #links de search in the collection\n",
    "        link_c=[tag['href'] for tag in html.select('aside a[href]')]\n",
    "            \n",
    "        \n",
    "        #print(texts_cleaned)\n",
    "        os.mkdir(texts_cleaned[0])\n",
    "        #print (texts_cleaned)\n",
    "        # Recorremos todas las entradas para extraer el título, autor y fecha\n",
    "        save_path =texts_cleaned[0]\n",
    "\n",
    "        f=open(texts_cleaned[0]+'.txt', 'w')\n",
    "\n",
    "        completeName = os.path.join(save_path,texts_cleaned[0]+'.txt')    \n",
    "        \n",
    "        f.close()\n",
    "        remove(texts_cleaned[0]+'.txt')\n",
    "\n",
    "        file1 = open(completeName, \"w\")\n",
    "        \n",
    "        tamanio = len(texts_cleaned)\n",
    "        for i in range(0,len(texts_cleaned)):\n",
    "            file1.write(texts_cleaned[i]+'\\n')\n",
    "            \n",
    "        for i in range(0,len(link_p)):\n",
    "            file1.write(link_p[i]+'\\n')\n",
    "        for i in range(0,len(link_c)):\n",
    "            file1.write(link_c[i]+'\\n')\n",
    "        file1.close()\n",
    "      \n",
    "        print('Beginning file download with wget module')\n",
    "\n",
    "        url = 'https://vangoghmuseum.nl'+texts_cleaned[tamanio-1]\n",
    "        wget.download(url, texts_cleaned[0]+'\\ ' +texts_cleaned[0]+'.jpg')\n",
    "\n",
    "        # guardar-paginaweb.py\n",
    "\n",
    "        respuesta = urllib.request.urlopen(URL)\n",
    "        contenidoWeb = respuesta.read()\n",
    "\n",
    "        pag = open(texts_cleaned[0]+'.html', 'wb')\n",
    "        completeName2 = os.path.join(save_path,texts_cleaned[0]+'.html')    \n",
    "        pag.close()\n",
    "        file2 = open(completeName2, \"wb\")\n",
    "        file2.write(contenidoWeb)\n",
    "        file2.close()\n",
    "        \n",
    "        remove(texts_cleaned[0]+'.html')\n",
    "    else:\n",
    "        print (\"Status Code %d\" % status_code)\n"
   ]
  },
  {
   "cell_type": "code",
   "execution_count": 45,
   "metadata": {},
   "outputs": [],
   "source": [
    "pag.close()"
   ]
  },
  {
   "cell_type": "code",
   "execution_count": 36,
   "metadata": {},
   "outputs": [
    {
     "name": "stdout",
     "output_type": "stream",
     "text": [
      "\n",
      "To offer you even more information about the museum and Vincent van Gogh, and serve you better, we use cookies.\n",
      "By clicking ‘Accept’, you are giving us permission to use these cookies. Cookies help us to ensure that the website works properly. We also analyse how the website is used, so that we can make any necessary improvements. Advertisements can also be displayed tailored to your interests. And finally, we use cookies to display forms, Google Maps and other embedded content.\n",
      "\n",
      "Find out more about our cookies.\n",
      "\n"
     ]
    }
   ],
   "source": [
    "page = html.find('p').getText()\n",
    "print(page)"
   ]
  },
  {
   "cell_type": "code",
   "execution_count": 35,
   "metadata": {
    "scrolled": false
   },
   "outputs": [
    {
     "name": "stdout",
     "output_type": "stream",
     "text": [
      "Beginning file download with wget module\n"
     ]
    },
    {
     "ename": "FileNotFoundError",
     "evalue": "[Errno 2] No such file or directory: '.\\\\Congregation Leaving the Reformed Church in Nuenen\\\\daniela.jpgw7w3ytx9.tmp'",
     "output_type": "error",
     "traceback": [
      "\u001b[1;31m---------------------------------------------------------------------------\u001b[0m",
      "\u001b[1;31mFileNotFoundError\u001b[0m                         Traceback (most recent call last)",
      "\u001b[1;32m<ipython-input-35-5b46983efcaf>\u001b[0m in \u001b[0;36m<module>\u001b[1;34m\u001b[0m\n\u001b[0;32m      2\u001b[0m \u001b[1;33m\u001b[0m\u001b[0m\n\u001b[0;32m      3\u001b[0m \u001b[0murl\u001b[0m \u001b[1;33m=\u001b[0m \u001b[1;34m'https://vangoghmuseum.nl/download/45214344-2680-447a-92d3-e34667866f59.jpg'\u001b[0m\u001b[1;33m\u001b[0m\u001b[1;33m\u001b[0m\u001b[0m\n\u001b[1;32m----> 4\u001b[1;33m \u001b[0mwget\u001b[0m\u001b[1;33m.\u001b[0m\u001b[0mdownload\u001b[0m\u001b[1;33m(\u001b[0m\u001b[0murl\u001b[0m\u001b[1;33m,\u001b[0m \u001b[1;34m'Congregation Leaving the Reformed Church in Nuenen\\daniela.jpg'\u001b[0m\u001b[1;33m)\u001b[0m\u001b[1;33m\u001b[0m\u001b[1;33m\u001b[0m\u001b[0m\n\u001b[0m",
      "\u001b[1;32m~\\Anaconda3\\lib\\site-packages\\wget.py\u001b[0m in \u001b[0;36mdownload\u001b[1;34m(url, out, bar)\u001b[0m\n\u001b[0;32m    504\u001b[0m     \u001b[1;31m# get filename for temp file in current directory\u001b[0m\u001b[1;33m\u001b[0m\u001b[1;33m\u001b[0m\u001b[1;33m\u001b[0m\u001b[0m\n\u001b[0;32m    505\u001b[0m     \u001b[0mprefix\u001b[0m \u001b[1;33m=\u001b[0m \u001b[0mdetect_filename\u001b[0m\u001b[1;33m(\u001b[0m\u001b[0murl\u001b[0m\u001b[1;33m,\u001b[0m \u001b[0mout\u001b[0m\u001b[1;33m)\u001b[0m\u001b[1;33m\u001b[0m\u001b[1;33m\u001b[0m\u001b[0m\n\u001b[1;32m--> 506\u001b[1;33m     \u001b[1;33m(\u001b[0m\u001b[0mfd\u001b[0m\u001b[1;33m,\u001b[0m \u001b[0mtmpfile\u001b[0m\u001b[1;33m)\u001b[0m \u001b[1;33m=\u001b[0m \u001b[0mtempfile\u001b[0m\u001b[1;33m.\u001b[0m\u001b[0mmkstemp\u001b[0m\u001b[1;33m(\u001b[0m\u001b[1;34m\".tmp\"\u001b[0m\u001b[1;33m,\u001b[0m \u001b[0mprefix\u001b[0m\u001b[1;33m=\u001b[0m\u001b[0mprefix\u001b[0m\u001b[1;33m,\u001b[0m \u001b[0mdir\u001b[0m\u001b[1;33m=\u001b[0m\u001b[1;34m\".\"\u001b[0m\u001b[1;33m)\u001b[0m\u001b[1;33m\u001b[0m\u001b[1;33m\u001b[0m\u001b[0m\n\u001b[0m\u001b[0;32m    507\u001b[0m     \u001b[0mos\u001b[0m\u001b[1;33m.\u001b[0m\u001b[0mclose\u001b[0m\u001b[1;33m(\u001b[0m\u001b[0mfd\u001b[0m\u001b[1;33m)\u001b[0m\u001b[1;33m\u001b[0m\u001b[1;33m\u001b[0m\u001b[0m\n\u001b[0;32m    508\u001b[0m     \u001b[0mos\u001b[0m\u001b[1;33m.\u001b[0m\u001b[0munlink\u001b[0m\u001b[1;33m(\u001b[0m\u001b[0mtmpfile\u001b[0m\u001b[1;33m)\u001b[0m\u001b[1;33m\u001b[0m\u001b[1;33m\u001b[0m\u001b[0m\n",
      "\u001b[1;32m~\\Anaconda3\\lib\\tempfile.py\u001b[0m in \u001b[0;36mmkstemp\u001b[1;34m(suffix, prefix, dir, text)\u001b[0m\n\u001b[0;32m    338\u001b[0m         \u001b[0mflags\u001b[0m \u001b[1;33m=\u001b[0m \u001b[0m_bin_openflags\u001b[0m\u001b[1;33m\u001b[0m\u001b[1;33m\u001b[0m\u001b[0m\n\u001b[0;32m    339\u001b[0m \u001b[1;33m\u001b[0m\u001b[0m\n\u001b[1;32m--> 340\u001b[1;33m     \u001b[1;32mreturn\u001b[0m \u001b[0m_mkstemp_inner\u001b[0m\u001b[1;33m(\u001b[0m\u001b[0mdir\u001b[0m\u001b[1;33m,\u001b[0m \u001b[0mprefix\u001b[0m\u001b[1;33m,\u001b[0m \u001b[0msuffix\u001b[0m\u001b[1;33m,\u001b[0m \u001b[0mflags\u001b[0m\u001b[1;33m,\u001b[0m \u001b[0moutput_type\u001b[0m\u001b[1;33m)\u001b[0m\u001b[1;33m\u001b[0m\u001b[1;33m\u001b[0m\u001b[0m\n\u001b[0m\u001b[0;32m    341\u001b[0m \u001b[1;33m\u001b[0m\u001b[0m\n\u001b[0;32m    342\u001b[0m \u001b[1;33m\u001b[0m\u001b[0m\n",
      "\u001b[1;32m~\\Anaconda3\\lib\\tempfile.py\u001b[0m in \u001b[0;36m_mkstemp_inner\u001b[1;34m(dir, pre, suf, flags, output_type)\u001b[0m\n\u001b[0;32m    256\u001b[0m         \u001b[0mfile\u001b[0m \u001b[1;33m=\u001b[0m \u001b[0m_os\u001b[0m\u001b[1;33m.\u001b[0m\u001b[0mpath\u001b[0m\u001b[1;33m.\u001b[0m\u001b[0mjoin\u001b[0m\u001b[1;33m(\u001b[0m\u001b[0mdir\u001b[0m\u001b[1;33m,\u001b[0m \u001b[0mpre\u001b[0m \u001b[1;33m+\u001b[0m \u001b[0mname\u001b[0m \u001b[1;33m+\u001b[0m \u001b[0msuf\u001b[0m\u001b[1;33m)\u001b[0m\u001b[1;33m\u001b[0m\u001b[1;33m\u001b[0m\u001b[0m\n\u001b[0;32m    257\u001b[0m         \u001b[1;32mtry\u001b[0m\u001b[1;33m:\u001b[0m\u001b[1;33m\u001b[0m\u001b[1;33m\u001b[0m\u001b[0m\n\u001b[1;32m--> 258\u001b[1;33m             \u001b[0mfd\u001b[0m \u001b[1;33m=\u001b[0m \u001b[0m_os\u001b[0m\u001b[1;33m.\u001b[0m\u001b[0mopen\u001b[0m\u001b[1;33m(\u001b[0m\u001b[0mfile\u001b[0m\u001b[1;33m,\u001b[0m \u001b[0mflags\u001b[0m\u001b[1;33m,\u001b[0m \u001b[1;36m0o600\u001b[0m\u001b[1;33m)\u001b[0m\u001b[1;33m\u001b[0m\u001b[1;33m\u001b[0m\u001b[0m\n\u001b[0m\u001b[0;32m    259\u001b[0m         \u001b[1;32mexcept\u001b[0m \u001b[0mFileExistsError\u001b[0m\u001b[1;33m:\u001b[0m\u001b[1;33m\u001b[0m\u001b[1;33m\u001b[0m\u001b[0m\n\u001b[0;32m    260\u001b[0m             \u001b[1;32mcontinue\u001b[0m    \u001b[1;31m# try again\u001b[0m\u001b[1;33m\u001b[0m\u001b[1;33m\u001b[0m\u001b[0m\n",
      "\u001b[1;31mFileNotFoundError\u001b[0m: [Errno 2] No such file or directory: '.\\\\Congregation Leaving the Reformed Church in Nuenen\\\\daniela.jpgw7w3ytx9.tmp'"
     ]
    }
   ],
   "source": [
    "\n",
    "print('Beginning file download with wget module')\n",
    "\n",
    "url = 'https://vangoghmuseum.nl/download/45214344-2680-447a-92d3-e34667866f59.jpg'\n",
    "wget.download(url, 'Congregation Leaving the Reformed Church in Nuenen\\daniela.jpg')\n"
   ]
  },
  {
   "cell_type": "code",
   "execution_count": 22,
   "metadata": {},
   "outputs": [],
   "source": [
    "file1.close()"
   ]
  },
  {
   "cell_type": "code",
   "execution_count": 91,
   "metadata": {},
   "outputs": [
    {
     "name": "stdout",
     "output_type": "stream",
     "text": [
      "Plaster Cast of a Woman's Torso\n"
     ]
    }
   ],
   "source": [
    "\n",
    "\n",
    "URL = \"https://vangoghmuseum.nl/en/collection/s0199V1962\"\n",
    "\n",
    "def iterate_over_children(soup, texts):\n",
    "    for child in soup:\n",
    "        if child.string == None:\n",
    "            iterate_over_children(child, texts)\n",
    "        else:\n",
    "            if child.string != '\\n':\n",
    "                texts.append(child.string)\n",
    "\n",
    "# Realizamos la petición a la web\n",
    "req = requests.get(URL)\n",
    "\n",
    "# Comprobamos que la petición nos devuelve un Status Code = 200\n",
    "status_code = req.status_code\n",
    "if status_code == 200:\n",
    "\n",
    "    # Pasamos el contenido HTML de la web a un objeto BeautifulSoup()\n",
    "    html = BeautifulSoup(req.text, \"html.parser\")\n",
    "\n",
    "    # Obtenemos todos los divs donde están las entradas\n",
    "    #entradas = html.find_all('div', {'class': 'page-unit'})\n",
    "    article = html.find('section')\n",
    "    texts = []\n",
    "    iterate_over_children(article, texts)\n",
    "    texts_cleaned = [] \n",
    "    for text in texts:\n",
    "        cleaned_text = text.replace(\"\\n\", \"\").strip()\n",
    "        texts_cleaned.append(cleaned_text)\n",
    "  #  print(texts_cleaned)\n",
    "       \n",
    "#Daniela Oject Data\n",
    "    # Obtenemos todos los divs donde están las entradas\n",
    "    entradas = html.find_all('div', {'class': 'download-buttons-container'})\n",
    "    \n",
    "\n",
    "    # Recorremos todas las entradas para extraer el título, autor y fecha\n",
    "    for i, entrada in enumerate(entradas):\n",
    "        # Con el método \"getText()\" no nos devuelve el HTML\n",
    "        hola= entrada.find('a').get('href') \n",
    "        texts_cleaned.append(hola)\n",
    "    print (texts_cleaned)\n",
    "    # Recorremos todas las entradas para extraer el título, autor y fecha\n",
    "\n",
    "#url_imagen = \"https://golang.org/doc/gopher/appenginegophercolor.jpg\" # El link de la imagen\n",
    "#nombre_local_imagen = \"go.jpg\" # El nombre con el que queremos guardarla\n",
    "#imagen = requests.get(url_imagen).content\n",
    "#with open(nombre_local_imagen, 'wb') as handler:\n",
    "#\thandler.write(imagen)\n",
    "\n",
    "else:\n",
    "    print (\"Status Code %d\" % status_code)\n",
    "    \n",
    "\n"
   ]
  },
  {
   "cell_type": "code",
   "execution_count": 23,
   "metadata": {},
   "outputs": [],
   "source": [
    "os.mkdir('Comedores de Patatas')"
   ]
  },
  {
   "cell_type": "code",
   "execution_count": 26,
   "metadata": {},
   "outputs": [],
   "source": [
    "\n",
    "save_path ='Comedores de Patatas'\n",
    "\n",
    "f = open('daniela6.txt', 'w')\n",
    "\n",
    "completeName = os.path.join(save_path,'daniela6.txt')         \n",
    "\n",
    "file1 = open(completeName, \"w\")\n",
    "\n",
    "file1.write(\"daniela carcamo\")\n",
    "file1.close()\n",
    "\n",
    "# remove(completeName)\n"
   ]
  },
  {
   "cell_type": "code",
   "execution_count": 60,
   "metadata": {},
   "outputs": [
    {
     "name": "stdout",
     "output_type": "stream",
     "text": [
      "b'\\r\\n<!DOCTYPE html>\\r\\n<html lang=\"en\" class=\"no-js\">\\r\\n\\r\\n<head>\\r\\n  <!-- 0d0b5046-1f3c-47ed-9928-b8403a6c0ed5 -->\\r\\n\\r\\n  <meta charset=\"utf-8\">\\r\\n  <meta name=\"google\" value=\"notranslate\">\\r\\n  <meta http-equiv=\"Content-Language\" content=\"en_US\" />\\r\\n  <meta http-equiv=\"X-UA-Compatible\" content=\"IE=edge,chrome'\n"
     ]
    }
   ],
   "source": [
    "# abre-paginaweb.py\n",
    "url = 'https://www.vangoghmuseum.nl/en/collection/s0005V1962?v=1'\n",
    "\n",
    "respuesta = urllib.request.urlopen(url)\n",
    "contenidoWeb = respuesta.read()\n",
    "\n",
    "print(contenidoWeb[0:300])"
   ]
  },
  {
   "cell_type": "code",
   "execution_count": 59,
   "metadata": {},
   "outputs": [
    {
     "data": {
      "text/plain": [
       "<function BufferedWriter.close>"
      ]
     },
     "execution_count": 59,
     "metadata": {},
     "output_type": "execute_result"
    }
   ],
   "source": [
    "# guardar-paginaweb.py\n",
    "\n",
    "url = 'https://www.vangoghmuseum.nl/en/collection/s0005V1962?v=1'\n",
    "\n",
    "respuesta = urllib.request.urlopen(url)\n",
    "contenidoWeb = respuesta.read()\n",
    "\n",
    "f = open('patatas.html', 'wb')\n",
    "f.write(contenidoWeb)\n",
    "f.close"
   ]
  },
  {
   "cell_type": "code",
   "execution_count": 62,
   "metadata": {},
   "outputs": [
    {
     "name": "stdout",
     "output_type": "stream",
     "text": [
      "<http.client.HTTPResponse object at 0x00000205800BA9E8>\n"
     ]
    }
   ],
   "source": [
    "print (respuesta)"
   ]
  },
  {
   "cell_type": "code",
   "execution_count": null,
   "metadata": {},
   "outputs": [],
   "source": []
  }
 ],
 "metadata": {
  "kernelspec": {
   "display_name": "Python 3",
   "language": "python",
   "name": "python3"
  },
  "language_info": {
   "codemirror_mode": {
    "name": "ipython",
    "version": 3
   },
   "file_extension": ".py",
   "mimetype": "text/x-python",
   "name": "python",
   "nbconvert_exporter": "python",
   "pygments_lexer": "ipython3",
   "version": "3.7.3"
  }
 },
 "nbformat": 4,
 "nbformat_minor": 2
}
