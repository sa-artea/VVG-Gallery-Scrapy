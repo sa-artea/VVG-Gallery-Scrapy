{
 "cells": [
  {
   "cell_type": "markdown",
   "metadata": {
    "collapsed": true,
    "pycharm": {
     "name": "#%% md\n"
    }
   },
   "source": [
    "# DESERCION DE EMPLEADOS\n",
    "\n",
    "### PROBLEMA\n",
    "En el mercado inmobiliario, un aspecto que resulta de gran interés es cómo identificar\n",
    "rápidamente las oportunidades de inversión. Los precios de las viviendas pueden aumentar o caer\n",
    "rápidamente, pero los sitios online disponibles, que ofrecen casas en venta o alquiler, no se\n",
    "actualizan con la misma celeridad. Por otra parte, las personas que utilizan estas facilidades en\n",
    "línea lo hacen con el objetivo de obtener una buena recomendación sobre el monto para la\n",
    "transacción, pero estos sitios, al no tener un mecanismo de actualización de precios, no pueden\n",
    "suministrar apoyo en tiempo real para satisfacer tales requerimientos. Una de estas empresas\n",
    "desea desarrollar una aplicación que permita estimar el precio de mercado de casas de manera\n",
    "automática en función de la realidad del mercado. Un aspecto importante para ellos es poder\n",
    "identificar las características más relevantes que permitan alcanzar un alto rendimiento predictivo.\n",
    "\n",
    "### OBJETIVO\n",
    "Utilizar un algoritmo de basado en combinación de clasificadores (Ensembles) para la estimación de este modelo de predicción. Identificar las variables más importantes para el problema. Nota: utilice el conjunto de datos preparado en del Taller 1.\n",
    "###  CONJUNTO DE DATOS\n",
    "House Sales in King County, USA\n",
    "https://www.kaggle.com/harlfoxem/housesalesprediction\n",
    "\n",
    "### Metadata\n",
    "#### id \n",
    "a notation for a house\n",
    "#### dateDate \n",
    "house was sold\n",
    "#### pricePrice\n",
    "is prediction target\n",
    "#### bedrooms\n",
    "Number of Bedrooms/House\n",
    "#### bathrooms\n",
    "Number of bathrooms/House\n",
    "#### sqft_living\n",
    "square footage of the home\n",
    "#### sqft_lot\n",
    "square footage of the lot\n",
    "#### floors\n",
    "Total floors (levels) in house\n",
    "#### waterfront\n",
    "House which has a view to a waterfront\n",
    "#### view\n",
    "Has been viewed\n",
    "#### condition\n",
    "How good the condition is ( Overall )\n",
    "#### grade\n",
    "overall grade given to the housing unit, based on King County grading system\n",
    "#### sqft_above\n",
    "square footage of house apart from basement\n",
    "#### sqft_basement\n",
    "square footage of the basement\n",
    "#### yr_built\n",
    "Built Year\n",
    "#### yr_renovated\n",
    "Year when house was renovated\n",
    "#### zipcode\n",
    "zip\n",
    "#### lat\n",
    "Latitude coordinate \n",
    "#### long\n",
    "Longitude coordinate\n",
    "#### sqft_living15\n",
    "Living room area in 2015(implies-- some renovations) This might or might not have affected the lotsize area\n",
    "#### sqft_lot15\n",
    "lotSize area in 2015(implies-- some renovations)"
   ]
  },
  {
   "cell_type": "code",
   "execution_count": 4,
   "metadata": {
    "pycharm": {
     "is_executing": false,
     "name": "#%% \n"
    }
   },
   "outputs": [],
   "source": [
    "#Imports and dependencies \n",
    "\n",
    "import matplotlib.pyplot as plt\n",
    "import numpy as np\n",
    "from matplotlib.ticker import FuncFormatter\n",
    "import pandas as pd\n",
    "import pandas_profiling\n"
   ]
  },
  {
   "cell_type": "code",
   "execution_count": 6,
   "metadata": {
    "pycharm": {
     "is_executing": false,
     "name": "#%%\n"
    }
   },
   "outputs": [
    {
     "name": "stdout",
     "output_type": "stream",
     "text": [
      "Report Done\n"
     ]
    }
   ],
   "source": [
    "#Load Data \n",
    "data = pd.read_csv(\"data/kc_house_data.csv\") \n",
    "data.describe()\n",
    "report = pandas_profiling.ProfileReport(data)\n",
    "report.to_file(\"report.html\")\n",
    "print(\"Report Done\")\n"
   ]
  }
 ],
 "metadata": {
  "kernelspec": {
   "display_name": "Python 3",
   "language": "python",
   "name": "python3"
  },
  "language_info": {
   "codemirror_mode": {
    "name": "ipython",
    "version": 3
   },
   "file_extension": ".py",
   "mimetype": "text/x-python",
   "name": "python",
   "nbconvert_exporter": "python",
   "pygments_lexer": "ipython3",
   "version": "3.7.0"
  },
  "pycharm": {
   "stem_cell": {
    "cell_type": "raw",
    "metadata": {
     "collapsed": false
    },
    "source": []
   }
  }
 },
 "nbformat": 4,
 "nbformat_minor": 1
}
