{
 "cells": [
  {
   "cell_type": "markdown",
   "metadata": {},
   "source": [
    "# REDES NEURONALES PROFUNDAS\n",
    "Utilice el conjunto de datos Fashion-MNIST para construir un clasificador de imágenes de productos. Para la construcción del modelo utilice los tres esquemas que se describen a continuación y compare los resultados:\n",
    "\n",
    "1. Entrenamiento de un perceptrón multicapa.\n",
    "2. Entrenamiento de un undercompleted autoencoder para realizar una reducción de la dimensionalidad. Sobre el nuevo conjunto de características construya el modelo de clasificación con un perceptrón multicapa.\n",
    "3. Entrenamiento de un denoising autoendoder para preentrenar una red profunda. Reuse lasprimeras capas de este autoencoder para construir un perceptron multicapa (con solo el 10% de los datos).\n",
    "\n",
    "Para los puntos 2) y 3) compruebe, y muestre con ejemplos, que las imágenes están bien reconstruidas.\n",
    "\n",
    "## OBJETIVO\n",
    "Aplicar el proceso de aprendizaje a partir de datos para resolver problemas de clasificación utilizando redes neuronales profundas, sobre la herramienta Keras.\n",
    "\n",
    "## DATOS\n",
    "Incluidos en Keras.\n",
    "Tambien, existe otra fuente equivalente que se consigue en el siguiente URL https://www.kaggle.com/zalando-research/fashionmnist donde hay un resumen de estos datos en el archivo CVS y XLSX.\n",
    "\n",
    "la clasificacion para el aprendizaje supervisado es:\n",
    "\n",
    "    Label \tClass\n",
    "    0 \t \tT-shirt/top\n",
    "    1 \t \tTrouser\n",
    "    2 \t \tPullover\n",
    "    3 \t \tDress\n",
    "    4 \t \tCoat\n",
    "    5 \t \tSandal\n",
    "    6 \t \tShirt\n",
    "    7 \t \tSneaker\n",
    "    8 \t \tBag\n",
    "    9 \t \tAnkle boot\n",
    "\n",
    "**Importante: justifique cada decisión tomada y presente un análisis de los resultados obtenidos.**\n",
    "### Consideraciones\n",
    "- Utilice sólo los conjuntos de datos que se indican.\n",
    "- El frameworks a utilizar es Keras con Jupyter Notebbooks.\n",
    "- El taller debe ser realizado en grupos de tres personas.\n",
    "- Entregables: archivos ipynb (comentados, con la justificación de las decisiones consideradas y análisis de resultados).\n",
    "\n",
    "### Enlaces de Interes\n",
    "- Ejemplos de Talos https://nbviewer.jupyter.org/github/autonomio/talos/tree/master/examples/\n",
    "- Articulo sobre el uso de Talos https://towardsdatascience.com/hyperparameter-optimization-with-keras-b82e6364ca53\n",
    "- Portal oficial de Talos https://autonomio.github.io/docs_talos/#introduction\n",
    "- Github Talos https://github.com/autonomio/talos/tree/master/talos/scan\n",
    "- Documentacion de github Talos https://github.com/autonomio/talos/tree/master/docs\n",
    "- Documentacion Keras https://keras.io/models/sequential/"
   ]
  },
  {
   "cell_type": "code",
   "execution_count": 1,
   "metadata": {},
   "outputs": [
    {
     "name": "stderr",
     "output_type": "stream",
     "text": [
      "Using TensorFlow backend.\n"
     ]
    }
   ],
   "source": [
    "# importando dependencias de trabajo\n",
    "# se importa OS, pandas y numpy para leer y preparar datos\n",
    "import os\n",
    "from collections import OrderedDict\n",
    "from collections import Counter\n",
    "import pandas as pd\n",
    "from pandas import ExcelWriter\n",
    "from pandas import ExcelFile\n",
    "import pandas_profiling as profile\n",
    "import numpy as np\n",
    "import tensorflow as tf\n",
    "import matplotlib as mpl\n",
    "import matplotlib.pyplot as plt\n",
    "from tensorflow import keras\n",
    "\n",
    "# los modelos de aprendizaje con las diferentes librerias\n",
    "import talos\n",
    "from keras.layers import Input\n",
    "from keras.layers import Flatten\n",
    "from keras.models import Model\n",
    "from keras.models import Sequential\n",
    "from keras.layers import Dense\n",
    "from keras.layers import Dropout\n",
    "\n",
    "# otras librerias para manejo de experimentos, pruebas, optimizacion y otros\n",
    "from sklearn.model_selection import train_test_split\n",
    "from sklearn.model_selection import GridSearchCV\n",
    "from sklearn.model_selection import RandomizedSearchCV\n",
    "from sklearn.model_selection import cross_val_score\n",
    "from sklearn.model_selection import StratifiedKFold\n",
    "from sklearn.metrics import confusion_matrix\n",
    "from sklearn.metrics import classification_report\n",
    "from sklearn.metrics import accuracy_score\n",
    "from sklearn.metrics import precision_score\n",
    "from sklearn.metrics import make_scorer\n",
    "from sklearn.preprocessing import LabelEncoder\n",
    "from sklearn.preprocessing import StandardScaler\n",
    "from sklearn.pipeline import Pipeline\n",
    "from imblearn.over_sampling import SMOTE\n",
    "from keras.utils import to_categorical\n",
    "from keras.wrappers.scikit_learn import KerasClassifier"
   ]
  },
  {
   "cell_type": "markdown",
   "metadata": {},
   "source": [
    "### Cargar archivos\n",
    "Para cargar los datos necesarios se siguen los siguientes pasos:\n",
    "\n",
    " - Se cargan los datos desde el conjunto de datos incluido en Keras\n",
    "\n",
    " - Se crean diccionarios de referencia para el pruebas y entrenamiento.\n",
    " - Se leen los arhivos de pruebas y entrenamiento para crear un set de datos.\n",
    " - Se transforma cada uno de los archivos en matrices de datos y se adicionan a los conjuntos de pruebas y entrenamiento."
   ]
  },
  {
   "cell_type": "code",
   "execution_count": 2,
   "metadata": {},
   "outputs": [],
   "source": [
    "# lista de nombres de las clasificaciones\n",
    "classNamesList = [\"T-shirt/top\", \"Trouser\", \"Pullover\", \"Dress\", \"Coat\", \"Sandal\", \"Shirt\", \"Sneaker\", \"Bag\", \"Ankle boot\"]"
   ]
  },
  {
   "cell_type": "code",
   "execution_count": 3,
   "metadata": {},
   "outputs": [],
   "source": [
    "# se carga el archivo de datos de trabajo por medio de Keras\n",
    "fashionSource = keras.datasets.fashion_mnist\n",
    "(X_train, y_train), (X_test, y_test) = fashionSource.load_data()"
   ]
  },
  {
   "cell_type": "code",
   "execution_count": 4,
   "metadata": {},
   "outputs": [],
   "source": [
    "# nombres de columnas para el dataframe de pandas\n",
    "columns = [\"ID\", \"Data\", \"ReshapeData\", \"Label\", \"Class\", \"DataSize\", \"ReshapeSize\", \"ResKeras\", \"ScoreKeras\"]\n",
    "X_Data = np.concatenate((X_train, X_test), axis = 0)\n",
    "y_Data = np.concatenate((y_train, y_test), axis = 0)"
   ]
  },
  {
   "cell_type": "code",
   "execution_count": 5,
   "metadata": {},
   "outputs": [],
   "source": [
    "# puedo hacer otra forma de aprendizaje reorganizando los grupos de prueba y entrenamiento para ver si existe algun cambio de comportamiento.\n",
    "# dataset para entrenamiento\n",
    "trainData = pd.DataFrame()\n",
    "\n",
    "# preparar datos dataset entrenamiento\n",
    "for col in columns:\n",
    "    \n",
    "    # creo el ID del set\n",
    "    if col is \"ID\":\n",
    "        \n",
    "        IDList = list(range(len(X_Data)))\n",
    "        trainData[col] = IDList\n",
    "\n",
    "    # datos de la imagen (nxm) para utilizarlos en el algoritmo de aprendizaje\n",
    "    elif col is \"Data\":\n",
    "        \n",
    "        dataList = np.array(X_Data).astype(float)\n",
    "        trainData[col] = list(dataList)\n",
    "\n",
    "    # datos de la imagen (nxm) de con cambio de forma(reshape) para poder ser utilizados en el algoritmo de aprendizaje\n",
    "    elif col is \"ReshapeData\":\n",
    "        \n",
    "        reshapeData = list()\n",
    "        \n",
    "        for data in list(X_Data):\n",
    "            \n",
    "            tempImg = data.astype(float)\n",
    "            reshapeData.append(list(tempImg))\n",
    "        \n",
    "        reshapeData = np.array(reshapeData)\n",
    "        reshapeData = reshapeData.reshape(len(reshapeData), -1)\n",
    "        trainData[col] = list(reshapeData)\n",
    "        \n",
    "    # categoria de la imagen en entero\n",
    "    elif col is \"Label\":\n",
    "        \n",
    "        nameList = list(y_Data)\n",
    "        trainData[col] = nameList\n",
    "    \n",
    "    # nombre de la categoria/clase de la imagen\n",
    "    elif col is \"Class\":\n",
    "        \n",
    "        classList = list()\n",
    "        \n",
    "        for data in np.nditer(y_Data):\n",
    "            \n",
    "            tempClass = classNamesList[data]\n",
    "            classList.append(tempClass)\n",
    "        \n",
    "        classList = np.array(classList)\n",
    "        trainData[col] = list(classList)\n",
    "\n",
    "    # tamanho de pixeles de la matriz que representa la imagen (nxm)\n",
    "    elif col is \"DataSize\":\n",
    "\n",
    "        sizeList = list()\n",
    "                \n",
    "        for data in list(X_Data):\n",
    "            \n",
    "            tempSize = data.shape\n",
    "            sizeList.append(tempSize)\n",
    "        \n",
    "        sizeList = np.array(sizeList)\n",
    "        trainData[col] = list(sizeList)\n",
    "\n",
    "    elif col is \"ReshapeSize\":\n",
    "        \n",
    "        reshapeList = list()\n",
    "        dataList = trainData[\"ReshapeData\"]\n",
    "        dataList = np.array(dataList)\n",
    "        dataList = list(dataList)\n",
    "\n",
    "        for data in dataList:\n",
    "            \n",
    "            tempReshape = np.array(data.shape)\n",
    "            reshapeList.append(tempReshape)\n",
    "\n",
    "        dataList = np.array(reshapeList)\n",
    "        trainData[col] = list(reshapeList)#.tolist()"
   ]
  },
  {
   "cell_type": "code",
   "execution_count": 6,
   "metadata": {},
   "outputs": [
    {
     "data": {
      "text/html": [
       "<div>\n",
       "<style scoped>\n",
       "    .dataframe tbody tr th:only-of-type {\n",
       "        vertical-align: middle;\n",
       "    }\n",
       "\n",
       "    .dataframe tbody tr th {\n",
       "        vertical-align: top;\n",
       "    }\n",
       "\n",
       "    .dataframe thead th {\n",
       "        text-align: right;\n",
       "    }\n",
       "</style>\n",
       "<table border=\"1\" class=\"dataframe\">\n",
       "  <thead>\n",
       "    <tr style=\"text-align: right;\">\n",
       "      <th></th>\n",
       "      <th>ID</th>\n",
       "      <th>Data</th>\n",
       "      <th>ReshapeData</th>\n",
       "      <th>Label</th>\n",
       "      <th>Class</th>\n",
       "      <th>DataSize</th>\n",
       "      <th>ReshapeSize</th>\n",
       "    </tr>\n",
       "  </thead>\n",
       "  <tbody>\n",
       "    <tr>\n",
       "      <td>0</td>\n",
       "      <td>0</td>\n",
       "      <td>[[0.0, 0.0, 0.0, 0.0, 0.0, 0.0, 0.0, 0.0, 0.0,...</td>\n",
       "      <td>[0.0, 0.0, 0.0, 0.0, 0.0, 0.0, 0.0, 0.0, 0.0, ...</td>\n",
       "      <td>9</td>\n",
       "      <td>Ankle boot</td>\n",
       "      <td>[28, 28]</td>\n",
       "      <td>[784]</td>\n",
       "    </tr>\n",
       "    <tr>\n",
       "      <td>1</td>\n",
       "      <td>1</td>\n",
       "      <td>[[0.0, 0.0, 0.0, 0.0, 0.0, 1.0, 0.0, 0.0, 0.0,...</td>\n",
       "      <td>[0.0, 0.0, 0.0, 0.0, 0.0, 1.0, 0.0, 0.0, 0.0, ...</td>\n",
       "      <td>0</td>\n",
       "      <td>T-shirt/top</td>\n",
       "      <td>[28, 28]</td>\n",
       "      <td>[784]</td>\n",
       "    </tr>\n",
       "    <tr>\n",
       "      <td>2</td>\n",
       "      <td>2</td>\n",
       "      <td>[[0.0, 0.0, 0.0, 0.0, 0.0, 0.0, 0.0, 0.0, 0.0,...</td>\n",
       "      <td>[0.0, 0.0, 0.0, 0.0, 0.0, 0.0, 0.0, 0.0, 0.0, ...</td>\n",
       "      <td>0</td>\n",
       "      <td>T-shirt/top</td>\n",
       "      <td>[28, 28]</td>\n",
       "      <td>[784]</td>\n",
       "    </tr>\n",
       "    <tr>\n",
       "      <td>3</td>\n",
       "      <td>3</td>\n",
       "      <td>[[0.0, 0.0, 0.0, 0.0, 0.0, 0.0, 0.0, 0.0, 33.0...</td>\n",
       "      <td>[0.0, 0.0, 0.0, 0.0, 0.0, 0.0, 0.0, 0.0, 33.0,...</td>\n",
       "      <td>3</td>\n",
       "      <td>Dress</td>\n",
       "      <td>[28, 28]</td>\n",
       "      <td>[784]</td>\n",
       "    </tr>\n",
       "    <tr>\n",
       "      <td>4</td>\n",
       "      <td>4</td>\n",
       "      <td>[[0.0, 0.0, 0.0, 0.0, 0.0, 0.0, 0.0, 0.0, 0.0,...</td>\n",
       "      <td>[0.0, 0.0, 0.0, 0.0, 0.0, 0.0, 0.0, 0.0, 0.0, ...</td>\n",
       "      <td>0</td>\n",
       "      <td>T-shirt/top</td>\n",
       "      <td>[28, 28]</td>\n",
       "      <td>[784]</td>\n",
       "    </tr>\n",
       "  </tbody>\n",
       "</table>\n",
       "</div>"
      ],
      "text/plain": [
       "   ID                                               Data  \\\n",
       "0   0  [[0.0, 0.0, 0.0, 0.0, 0.0, 0.0, 0.0, 0.0, 0.0,...   \n",
       "1   1  [[0.0, 0.0, 0.0, 0.0, 0.0, 1.0, 0.0, 0.0, 0.0,...   \n",
       "2   2  [[0.0, 0.0, 0.0, 0.0, 0.0, 0.0, 0.0, 0.0, 0.0,...   \n",
       "3   3  [[0.0, 0.0, 0.0, 0.0, 0.0, 0.0, 0.0, 0.0, 33.0...   \n",
       "4   4  [[0.0, 0.0, 0.0, 0.0, 0.0, 0.0, 0.0, 0.0, 0.0,...   \n",
       "\n",
       "                                         ReshapeData  Label        Class  \\\n",
       "0  [0.0, 0.0, 0.0, 0.0, 0.0, 0.0, 0.0, 0.0, 0.0, ...      9   Ankle boot   \n",
       "1  [0.0, 0.0, 0.0, 0.0, 0.0, 1.0, 0.0, 0.0, 0.0, ...      0  T-shirt/top   \n",
       "2  [0.0, 0.0, 0.0, 0.0, 0.0, 0.0, 0.0, 0.0, 0.0, ...      0  T-shirt/top   \n",
       "3  [0.0, 0.0, 0.0, 0.0, 0.0, 0.0, 0.0, 0.0, 33.0,...      3        Dress   \n",
       "4  [0.0, 0.0, 0.0, 0.0, 0.0, 0.0, 0.0, 0.0, 0.0, ...      0  T-shirt/top   \n",
       "\n",
       "   DataSize ReshapeSize  \n",
       "0  [28, 28]       [784]  \n",
       "1  [28, 28]       [784]  \n",
       "2  [28, 28]       [784]  \n",
       "3  [28, 28]       [784]  \n",
       "4  [28, 28]       [784]  "
      ]
     },
     "execution_count": 6,
     "metadata": {},
     "output_type": "execute_result"
    }
   ],
   "source": [
    "# probando def de dataframe entrenamiento\n",
    "trainData.head()"
   ]
  },
  {
   "cell_type": "code",
   "execution_count": 7,
   "metadata": {},
   "outputs": [
    {
     "data": {
      "text/plain": [
       "ID              int64\n",
       "Data           object\n",
       "ReshapeData    object\n",
       "Label           int64\n",
       "Class          object\n",
       "DataSize       object\n",
       "ReshapeSize    object\n",
       "dtype: object"
      ]
     },
     "execution_count": 7,
     "metadata": {},
     "output_type": "execute_result"
    }
   ],
   "source": [
    "# probando tipos de dataframe entrenamiento\n",
    "trainData.dtypes"
   ]
  },
  {
   "cell_type": "markdown",
   "metadata": {},
   "source": [
    "## PERCEPTRON MULTICAPA"
   ]
  },
  {
   "cell_type": "code",
   "execution_count": 8,
   "metadata": {},
   "outputs": [],
   "source": [
    "# se remueve la clase a predecir \n",
    "dropColumns = [\"ID\", \"Label\", \"Class\", \"DataSize\", \"ReshapeSize\"]\n",
    "#[\"Name\", \"Path\", \"Digit\", \"DataSize\", \"ReshapeSize\"]\n",
    "X = trainData.drop(columns = dropColumns, axis = 1)[\"Data\"].tolist()\n",
    "y = trainData[\"Label\"].tolist()"
   ]
  },
  {
   "cell_type": "code",
   "execution_count": 9,
   "metadata": {},
   "outputs": [],
   "source": [
    "# agrego las capas necesarias para el modelo Keras Perceptron Multicapa (MLP)\n",
    "# parametros para las capas\n",
    "neurons = 300\n",
    "categories = len(classNamesList)\n",
    "act = \"relu\"\n",
    "out = \"softmax\"\n",
    "ldrop = 0.2\n",
    "\n",
    "# estos se cambian aparte porque se demoran mucho\n",
    "# inshape = list(trainData[\"DataSize\"].value_counts().index.tolist()[0],)\n",
    "# lshape = list(trainData[\"ReshapeSize\"].value_counts().index.tolist()[0],)\n",
    "inshape = list(trainData[\"DataSize\"][0],)\n",
    "lshape = list(trainData[\"ReshapeSize\"][0],)\n",
    "\n",
    "# parametros para compilar\n",
    "l = \"categorical_crossentropy\"\n",
    "opti = \"adam\"\n",
    "met = [\"accuracy\"]\n",
    "\n",
    "# parametros para mirar el progreso del entrenamiento\n",
    "ver = 1\n",
    "epo = 10"
   ]
  },
  {
   "cell_type": "markdown",
   "metadata": {},
   "source": [
    "### Definición de las capas MLP\n",
    "Para el MLP se definen las siguientes capas:\n",
    "\n",
    "-\tUna capa de entrada “Flatten” que recibe la imagen 2D y lo transforma a un arreglo 1D para facilidad de procesamiento.\n",
    "-\tUna capa de 300 neuronas “Dense” como capa de entrada para los datos con representación 1D.\n",
    "-\tUna capa “Dropout” con 20% de desactivación de los datos de entrada para evitar un sobre ajuste del modelo, se recalca que entre cada capa de trabajo se utiliza “Dropout” con el mismo propósito.\n",
    "-\tUna capa de 200 neuronas “Dense” como capa como primera capa de aprendizaje.\n",
    "-\tUna capa de 100 neuronas “Dense” como capa como segunda capa de aprendizaje.\n",
    "-\tTodas las capas de aprendizaje tienen función de activación “relu” para evitar la explosión/desvanecimiento de los gradientes.\n",
    "-\tUna capa con 10 neuronas “Dense” como capa de salida para clasificación con función de activación “softmax” para reconocer categorías por separado.\n"
   ]
  },
  {
   "cell_type": "code",
   "execution_count": 10,
   "metadata": {},
   "outputs": [],
   "source": [
    "# arreglo de capas Keras para el MLP\n",
    "layerList = (\n",
    "    Flatten(input_shape = inshape),\n",
    "    Dense(neurons, input_shape = inshape, activation = act),\n",
    "    Dropout(ldrop, seed = 42),\n",
    "    Dense(neurons-100, input_shape = lshape, activation = act),\n",
    "    Dropout(ldrop, seed = 42),\n",
    "    Dense(neurons-200, input_shape = lshape, activation = act),\n",
    "    Dropout(ldrop, seed = 42),\n",
    "    Dense(categories, input_shape = lshape, activation = out)\n",
    ")"
   ]
  },
  {
   "cell_type": "markdown",
   "metadata": {},
   "source": [
    "### Entrenamiento Preliminar\n",
    "Al momento de entrenar el modelo preliminar se analizan los comportamientos de dos formas de distribución de datos de entrenamiento. El que tiene por defecto la fuente de datos y uno aleatorio creado para el taller.\n",
    "\n",
    "Cabe recordar que para poder entrenar el modelo multiclase se deben hacer ajustes de tipo (casts) en las entradas de los datos, en donde se transforma la matriz de datos de entrada en un array NumPy (ej.: “np.array(X_testB)”) y se transforma a categorías Dummy la salida (ej.: “to_categorical(np.array(y_testB), categories)”)."
   ]
  },
  {
   "cell_type": "markdown",
   "metadata": {},
   "source": [
    "### Con Split Random SKLearn"
   ]
  },
  {
   "cell_type": "code",
   "execution_count": 11,
   "metadata": {},
   "outputs": [],
   "source": [
    "# division de poblacion de entrenamiento y pruebas con los datos en un orden alternativos\n",
    "X_trainB, X_testB, y_trainB, y_testB = train_test_split(X, y, test_size = 0.2, random_state = 42)"
   ]
  },
  {
   "cell_type": "code",
   "execution_count": 12,
   "metadata": {},
   "outputs": [],
   "source": [
    "# definiendo el modelo MLP de Keras\n",
    "splitClassifier = Sequential(layerList)"
   ]
  },
  {
   "cell_type": "code",
   "execution_count": 13,
   "metadata": {},
   "outputs": [],
   "source": [
    "# compilando las condiciones de optimizacion y ajuste del MLP Keras\n",
    "splitClassifier.compile(loss = l, optimizer = opti, metrics = met)"
   ]
  },
  {
   "cell_type": "code",
   "execution_count": 14,
   "metadata": {},
   "outputs": [
    {
     "name": "stdout",
     "output_type": "stream",
     "text": [
      "Train on 56000 samples, validate on 14000 samples\n",
      "Epoch 1/10\n",
      "56000/56000 [==============================] - 44s 790us/step - loss: 2.1874 - accuracy: 0.6368 - val_loss: 0.6157 - val_accuracy: 0.7669\n",
      "Epoch 2/10\n",
      "56000/56000 [==============================] - 39s 691us/step - loss: 0.7270 - accuracy: 0.7355 - val_loss: 0.5806 - val_accuracy: 0.7574\n",
      "Epoch 3/10\n",
      "56000/56000 [==============================] - 23s 406us/step - loss: 0.6610 - accuracy: 0.7629 - val_loss: 0.5058 - val_accuracy: 0.8179\n",
      "Epoch 4/10\n",
      "56000/56000 [==============================] - 12s 221us/step - loss: 0.6163 - accuracy: 0.7827 - val_loss: 0.5183 - val_accuracy: 0.8226\n",
      "Epoch 5/10\n",
      "56000/56000 [==============================] - 13s 230us/step - loss: 0.6005 - accuracy: 0.7937 - val_loss: 0.4804 - val_accuracy: 0.8317\n",
      "Epoch 6/10\n",
      "56000/56000 [==============================] - 12s 221us/step - loss: 0.5761 - accuracy: 0.8011 - val_loss: 0.5104 - val_accuracy: 0.8194\n",
      "Epoch 7/10\n",
      "56000/56000 [==============================] - 13s 235us/step - loss: 0.5447 - accuracy: 0.8117 - val_loss: 0.4422 - val_accuracy: 0.8442\n",
      "Epoch 8/10\n",
      "56000/56000 [==============================] - 13s 229us/step - loss: 0.5376 - accuracy: 0.8161 - val_loss: 0.4348 - val_accuracy: 0.8530\n",
      "Epoch 9/10\n",
      "56000/56000 [==============================] - 14s 254us/step - loss: 0.5281 - accuracy: 0.8176 - val_loss: 0.4638 - val_accuracy: 0.8416\n",
      "Epoch 10/10\n",
      "56000/56000 [==============================] - 12s 220us/step - loss: 0.5259 - accuracy: 0.8189 - val_loss: 0.4384 - val_accuracy: 0.8492\n"
     ]
    }
   ],
   "source": [
    "# ajustando el modelo MLP Keras\n",
    "historySplit = splitClassifier.fit(\n",
    "    x = np.array(X_trainB), \n",
    "    y = to_categorical(np.array(y_trainB), categories), \n",
    "    epochs = epo, verbose = ver, \n",
    "    workers = 8, use_multiprocessing = True,\n",
    "    validation_data = (np.array(X_testB), to_categorical(np.array(y_testB), categories))\n",
    ")"
   ]
  },
  {
   "cell_type": "code",
   "execution_count": 15,
   "metadata": {},
   "outputs": [
    {
     "name": "stdout",
     "output_type": "stream",
     "text": [
      "14000/14000 [==============================] - 1s 57us/step\n"
     ]
    }
   ],
   "source": [
    "# evaluando el modelo entrenado con sus propias herramientas\n",
    "evalSplit = splitClassifier.evaluate(x = np.array(X_testB), y = to_categorical(np.array(y_testB), categories))"
   ]
  },
  {
   "cell_type": "code",
   "execution_count": 16,
   "metadata": {},
   "outputs": [
    {
     "name": "stdout",
     "output_type": "stream",
     "text": [
      "Perdida:  0.43837190175056456\n",
      "Precision:  0.8492143154144287\n"
     ]
    }
   ],
   "source": [
    "print(\"Perdida: \", evalSplit[0])\n",
    "print(\"Precision: \", evalSplit[1])"
   ]
  },
  {
   "cell_type": "code",
   "execution_count": 17,
   "metadata": {},
   "outputs": [
    {
     "name": "stdout",
     "output_type": "stream",
     "text": [
      "Model: \"sequential_1\"\n",
      "_________________________________________________________________\n",
      "Layer (type)                 Output Shape              Param #   \n",
      "=================================================================\n",
      "flatten_1 (Flatten)          (None, 784)               0         \n",
      "_________________________________________________________________\n",
      "dense_1 (Dense)              (None, 300)               235500    \n",
      "_________________________________________________________________\n",
      "dropout_1 (Dropout)          (None, 300)               0         \n",
      "_________________________________________________________________\n",
      "dense_2 (Dense)              (None, 200)               60200     \n",
      "_________________________________________________________________\n",
      "dropout_2 (Dropout)          (None, 200)               0         \n",
      "_________________________________________________________________\n",
      "dense_3 (Dense)              (None, 100)               20100     \n",
      "_________________________________________________________________\n",
      "dropout_3 (Dropout)          (None, 100)               0         \n",
      "_________________________________________________________________\n",
      "dense_4 (Dense)              (None, 10)                1010      \n",
      "=================================================================\n",
      "Total params: 316,810\n",
      "Trainable params: 316,810\n",
      "Non-trainable params: 0\n",
      "_________________________________________________________________\n"
     ]
    }
   ],
   "source": [
    "# resumen de datos del MLP Keras\n",
    "splitClassifier.summary()"
   ]
  },
  {
   "cell_type": "code",
   "execution_count": 18,
   "metadata": {},
   "outputs": [],
   "source": [
    "# se prueba MLP de sklearn\n",
    "splitPrediction = splitClassifier.predict(np.array(X_testB))\n",
    "\n",
    "# ajuste de las predicciones para ver el reporte de matrix de confusion\n",
    "splitPrediction = np.array(splitPrediction).argmax(axis=1)"
   ]
  },
  {
   "cell_type": "code",
   "execution_count": 19,
   "metadata": {},
   "outputs": [
    {
     "name": "stdout",
     "output_type": "stream",
     "text": [
      "----- Reporte de Pruebas MLP con div aleatoria -----\n",
      "--- Conteo ---\n",
      "Counter({4: 1708, 0: 1592, 3: 1516, 9: 1469, 2: 1449, 5: 1431, 8: 1375, 7: 1364, 1: 1356, 6: 740})\n",
      "--- Matriz de Confusion ---\n",
      "[[1212    0   25   66    6    1   65    1   18    0]\n",
      " [   2 1345    3   41    4    0    4    0    3    0]\n",
      " [  16    2 1064   12  259    0   39    0   15    0]\n",
      " [  32    3   40 1291   43    0   36    0    4    0]\n",
      " [   1    2  109   69 1141    0   27    0    8    0]\n",
      " [   1    0    0    2    0 1367    1   47    2   29]\n",
      " [ 324    3  202   29  253    0  560    1   35    0]\n",
      " [   0    0    0    0    0   20    0 1262    1   76]\n",
      " [   4    1    6    6    2   17    8    7 1287    4]\n",
      " [   0    0    0    0    0   26    0   46    2 1360]]\n",
      "--- Reporte de Pruebas: ---\n",
      "              precision    recall  f1-score   support\n",
      "\n",
      "           0       0.76      0.87      0.81      1394\n",
      "           1       0.99      0.96      0.98      1402\n",
      "           2       0.73      0.76      0.75      1407\n",
      "           3       0.85      0.89      0.87      1449\n",
      "           4       0.67      0.84      0.74      1357\n",
      "           5       0.96      0.94      0.95      1449\n",
      "           6       0.76      0.40      0.52      1407\n",
      "           7       0.93      0.93      0.93      1359\n",
      "           8       0.94      0.96      0.95      1342\n",
      "           9       0.93      0.95      0.94      1434\n",
      "\n",
      "    accuracy                           0.85     14000\n",
      "   macro avg       0.85      0.85      0.84     14000\n",
      "weighted avg       0.85      0.85      0.84     14000\n",
      "\n",
      "--- Puntaje ---\n",
      "\n",
      " - Perdida:  0.43837190175056456\n",
      " - Precision:  0.8492143154144287\n"
     ]
    }
   ],
   "source": [
    "# Informe de los resultados para las pruebas del MLP\n",
    "print(\"----- Reporte de Pruebas MLP con div aleatoria -----\")\n",
    "print(\"--- Conteo ---\\n\" + str(Counter(splitPrediction)))\n",
    "print(\"--- Matriz de Confusion ---\\n\" + str(confusion_matrix(y_testB, splitPrediction)))\n",
    "print(\"--- Reporte de Pruebas: ---\")\n",
    "print(classification_report(y_testB, splitPrediction))\n",
    "print(\"--- Puntaje ---\\n\")\n",
    "print(\" - Perdida: \", evalSplit[0])\n",
    "print(\" - Precision: \", evalSplit[1])"
   ]
  },
  {
   "cell_type": "code",
   "execution_count": 20,
   "metadata": {},
   "outputs": [
    {
     "data": {
      "image/png": "[encoded data removed]",
      "text/plain": [
       "<Figure size 576x360 with 1 Axes>"
      ]
     },
     "metadata": {
      "needs_background": "light"
     },
     "output_type": "display_data"
    }
   ],
   "source": [
    "# curva de aprendizaje para clasificador con sklearn split\n",
    "pd.DataFrame(historySplit.history).plot(figsize=(8, 5))\n",
    "plt.grid(True)\n",
    "plt.gca().set_ylim(0, 1) # set the vertical range to [0-1]\n",
    "plt.show()"
   ]
  },
  {
   "cell_type": "markdown",
   "metadata": {},
   "source": [
    "### Con grupo por defecto"
   ]
  },
  {
   "cell_type": "code",
   "execution_count": 21,
   "metadata": {},
   "outputs": [],
   "source": [
    "# definiendo el modelo MLP de Keras\n",
    "basicClassifier = Sequential(layerList)"
   ]
  },
  {
   "cell_type": "code",
   "execution_count": 22,
   "metadata": {},
   "outputs": [],
   "source": [
    "# compilando las condiciones de optimizacion y ajuste del MLP Keras\n",
    "basicClassifier.compile(loss = l, optimizer = opti, metrics = met)"
   ]
  },
  {
   "cell_type": "code",
   "execution_count": 23,
   "metadata": {
    "scrolled": false
   },
   "outputs": [
    {
     "name": "stdout",
     "output_type": "stream",
     "text": [
      "Train on 60000 samples, validate on 10000 samples\n",
      "Epoch 1/10\n",
      "60000/60000 [==============================] - 14s 232us/step - loss: 0.5446 - accuracy: 0.8191 - val_loss: 0.4296 - val_accuracy: 0.8466\n",
      "Epoch 2/10\n",
      "60000/60000 [==============================] - 13s 221us/step - loss: 0.5156 - accuracy: 0.8235 - val_loss: 0.4384 - val_accuracy: 0.8481\n",
      "Epoch 3/10\n",
      "60000/60000 [==============================] - 13s 213us/step - loss: 0.5071 - accuracy: 0.8238 - val_loss: 0.4250 - val_accuracy: 0.8520\n",
      "Epoch 4/10\n",
      "60000/60000 [==============================] - 13s 225us/step - loss: 0.5028 - accuracy: 0.8298 - val_loss: 0.4188 - val_accuracy: 0.8563\n",
      "Epoch 5/10\n",
      "60000/60000 [==============================] - 14s 234us/step - loss: 0.5027 - accuracy: 0.8281 - val_loss: 0.4596 - val_accuracy: 0.8516\n",
      "Epoch 6/10\n",
      "60000/60000 [==============================] - 14s 236us/step - loss: 0.4937 - accuracy: 0.8291 - val_loss: 0.4361 - val_accuracy: 0.8428\n",
      "Epoch 7/10\n",
      "60000/60000 [==============================] - 30s 506us/step - loss: 0.4961 - accuracy: 0.8285 - val_loss: 0.4478 - val_accuracy: 0.8416\n",
      "Epoch 8/10\n",
      "60000/60000 [==============================] - 45s 743us/step - loss: 0.4903 - accuracy: 0.8305 - val_loss: 0.4831 - val_accuracy: 0.844305 - accuracy\n",
      "Epoch 9/10\n",
      "60000/60000 [==============================] - 38s 633us/step - loss: 0.4928 - accuracy: 0.8280 - val_loss: 0.4243 - val_accuracy: 0.8493\n",
      "Epoch 10/10\n",
      "60000/60000 [==============================] - 41s 691us/step - loss: 0.5047 - accuracy: 0.8229 - val_loss: 0.4625 - val_accuracy: 0.8426\n"
     ]
    }
   ],
   "source": [
    "# ajustando el modelo MLP Keras\n",
    "historyBasic = basicClassifier.fit(\n",
    "    x = np.array(X_train), \n",
    "    y = to_categorical(np.array(y_train), categories), \n",
    "    epochs = epo, verbose = ver, \n",
    "    workers = 8, use_multiprocessing = True,\n",
    "    validation_data = (np.array(X_test), to_categorical(np.array(y_test), categories))\n",
    ")"
   ]
  },
  {
   "cell_type": "code",
   "execution_count": 24,
   "metadata": {},
   "outputs": [
    {
     "name": "stdout",
     "output_type": "stream",
     "text": [
      "10000/10000 [==============================] - 2s 200us/step\n"
     ]
    }
   ],
   "source": [
    "# evaluando el modelo entrenado con sus propias herramientas\n",
    "evalBasic = basicClassifier.evaluate(x = np.array(X_test), y = to_categorical(np.array(y_test), categories))"
   ]
  },
  {
   "cell_type": "code",
   "execution_count": 25,
   "metadata": {},
   "outputs": [
    {
     "name": "stdout",
     "output_type": "stream",
     "text": [
      "Perdida:  0.46254461250305173\n",
      "Precision:  0.8425999879837036\n"
     ]
    }
   ],
   "source": [
    "print(\"Perdida: \", evalBasic[0])\n",
    "print(\"Precision: \", evalBasic[1])"
   ]
  },
  {
   "cell_type": "code",
   "execution_count": 26,
   "metadata": {},
   "outputs": [
    {
     "name": "stdout",
     "output_type": "stream",
     "text": [
      "Model: \"sequential_2\"\n",
      "_________________________________________________________________\n",
      "Layer (type)                 Output Shape              Param #   \n",
      "=================================================================\n",
      "flatten_1 (Flatten)          (None, 784)               0         \n",
      "_________________________________________________________________\n",
      "dense_1 (Dense)              (None, 300)               235500    \n",
      "_________________________________________________________________\n",
      "dropout_1 (Dropout)          (None, 300)               0         \n",
      "_________________________________________________________________\n",
      "dense_2 (Dense)              (None, 200)               60200     \n",
      "_________________________________________________________________\n",
      "dropout_2 (Dropout)          (None, 200)               0         \n",
      "_________________________________________________________________\n",
      "dense_3 (Dense)              (None, 100)               20100     \n",
      "_________________________________________________________________\n",
      "dropout_3 (Dropout)          (None, 100)               0         \n",
      "_________________________________________________________________\n",
      "dense_4 (Dense)              (None, 10)                1010      \n",
      "=================================================================\n",
      "Total params: 316,810\n",
      "Trainable params: 316,810\n",
      "Non-trainable params: 0\n",
      "_________________________________________________________________\n"
     ]
    }
   ],
   "source": [
    "# resumen de datos del MLP Keras\n",
    "basicClassifier.summary()"
   ]
  },
  {
   "cell_type": "code",
   "execution_count": 27,
   "metadata": {},
   "outputs": [],
   "source": [
    "# se prueba MLP de sklearn\n",
    "basicPrediction = basicClassifier.predict(np.array(X_test))\n",
    "\n",
    "# ajuste de las predicciones para ver el reporte de matrix de confusion\n",
    "basicPrediction = np.array(basicPrediction).argmax(axis=1)"
   ]
  },
  {
   "cell_type": "code",
   "execution_count": 28,
   "metadata": {},
   "outputs": [
    {
     "name": "stdout",
     "output_type": "stream",
     "text": [
      "----- Reporte de Pruebas MLP con div por defecto -----\n",
      "--- Conteo ---\n",
      "Counter({2: 1111, 6: 1095, 3: 1084, 9: 1047, 7: 1021, 8: 958, 1: 952, 5: 934, 0: 924, 4: 874})\n",
      "--- Matriz de Confusion ---\n",
      "[[753   0   8  41   2   0 192   0   4   0]\n",
      " [  3 946   5  41   1   0   3   0   1   0]\n",
      " [  9   1 779  13 111   0  86   0   1   0]\n",
      " [  9   3   5 889  21   0  72   0   1   0]\n",
      " [  0   2 147  66 678   0 105   1   1   0]\n",
      " [  0   0   1   0   0 921   0  35   3  40]\n",
      " [149   0 151  29  60   0 603   0   8   0]\n",
      " [  0   0   0   0   0   7   0 952   0  41]\n",
      " [  1   0  15   5   1   1  33   5 939   0]\n",
      " [  0   0   0   0   0   5   1  28   0 966]]\n",
      "--- Reporte de Pruebas: ---\n",
      "              precision    recall  f1-score   support\n",
      "\n",
      "           0       0.81      0.75      0.78      1000\n",
      "           1       0.99      0.95      0.97      1000\n",
      "           2       0.70      0.78      0.74      1000\n",
      "           3       0.82      0.89      0.85      1000\n",
      "           4       0.78      0.68      0.72      1000\n",
      "           5       0.99      0.92      0.95      1000\n",
      "           6       0.55      0.60      0.58      1000\n",
      "           7       0.93      0.95      0.94      1000\n",
      "           8       0.98      0.94      0.96      1000\n",
      "           9       0.92      0.97      0.94      1000\n",
      "\n",
      "    accuracy                           0.84     10000\n",
      "   macro avg       0.85      0.84      0.84     10000\n",
      "weighted avg       0.85      0.84      0.84     10000\n",
      "\n",
      "--- Puntaje ---\n",
      "\n",
      " - Perdida:  0.43837190175056456\n",
      " - Precision:  0.8492143154144287\n"
     ]
    }
   ],
   "source": [
    "# Informe de los resultados para las pruebas del MLP\n",
    "print(\"----- Reporte de Pruebas MLP con div por defecto -----\")\n",
    "print(\"--- Conteo ---\\n\" + str(Counter(basicPrediction)))\n",
    "print(\"--- Matriz de Confusion ---\\n\" + str(confusion_matrix(y_test, basicPrediction)))\n",
    "print(\"--- Reporte de Pruebas: ---\")\n",
    "print(classification_report(y_test, basicPrediction))\n",
    "print(\"--- Puntaje ---\\n\")\n",
    "print(\" - Perdida: \", evalSplit[0])\n",
    "print(\" - Precision: \", evalSplit[1])"
   ]
  },
  {
   "cell_type": "code",
   "execution_count": 29,
   "metadata": {},
   "outputs": [
    {
     "data": {
      "image/png": "[encoded data removed]",
      "text/plain": [
       "<Figure size 576x360 with 1 Axes>"
      ]
     },
     "metadata": {
      "needs_background": "light"
     },
     "output_type": "display_data"
    }
   ],
   "source": [
    "# curva de aprendizaje para clasificador con sklearn split\n",
    "pd.DataFrame(historyBasic.history).plot(figsize=(8, 5))\n",
    "plt.grid(True)\n",
    "plt.gca().set_ylim(0, 1) # set the vertical range to [0-1]\n",
    "plt.show()"
   ]
  },
  {
   "cell_type": "markdown",
   "metadata": {},
   "source": [
    "### Optimización de Hiper-parámetros\n",
    "\n",
    "para optimizar el desempeño del Perceptrón se utiliza la librería Talos porque es relativamente fácil de crear un modelo optimizable e iterable en el espacio de hiper-parámetros definiendo una función con parámetros específicos. Para lograr esto se realizan los siguientes pasos:\n",
    "\n",
    " - Se define una función como modelo para el modelo de optimización Talos.\n",
    " - Se define un espacio de búsqueda de hiper-parámetros del MLP.\n",
    " - Se ejecuta una búsqueda aleatoria (opción por defecto de Talos) en una fracción reducida del espacio de hiper-parámetros del MLP.\n",
    " - Después, se analizan los resultados para obtener la mejor versión del modelo entrenado y se resume los resultados del modelo seleccionado durante el proceso de optimización."
   ]
  },
  {
   "cell_type": "code",
   "execution_count": 30,
   "metadata": {},
   "outputs": [],
   "source": [
    "# redefiniendo el modelo preliminar en funcion para optimizar\n",
    "def fashionPerceptron(X_train, y_train, X_test, y_test, params):\n",
    "  \n",
    "    inshape = X_train[0].shape\n",
    "    lshape = np.reshape(X_train[0], -1).shape\n",
    "    ver = 0\n",
    "    \n",
    "    # definiendo el modelo MLP de Keras\n",
    "    model = Sequential()\n",
    "    \n",
    "    # capa para representacion alternativa de (n,m) a (m*m)\n",
    "    model.add(Flatten(input_shape = X_train[0].shape))\n",
    "\n",
    "    # capa de entrada para el modelo\n",
    "    model.add(Dense(params[\"first_neuron\"], input_shape = inshape, activation = params[\"activation\"]))\n",
    "    \n",
    "    # paso intermedio para hacer dropout yevitar overfit\n",
    "    model.add(Dropout(params[\"dropout\"]))\n",
    "    \n",
    "    # capas ocultas del modelo\n",
    "    for i in range(params['hidden_layers']):\n",
    "        model.add(Dense(params['hidden_neuron'], input_shape = lshape, activation = params[\"activation\"])),\n",
    "        model.add(Dropout(params['dropout']))\n",
    "    \n",
    "    # capa de salida del modelo\n",
    "    model.add(Dense(params[\"last_neuron\"], input_shape = lshape, activation = params[\"last_activation\"]))\n",
    "    \n",
    "    # compilando las condiciones de optimizacion y ajuste del MLP Keras\n",
    "    model.compile(optimizer = params[\"optimizer\"], loss = params[\"losses\"], metrics = [\"acc\"])\n",
    "\n",
    "    # entrenando el modelo MLP Keras\n",
    "    history = model.fit(\n",
    "        x = np.array(X_train), \n",
    "        y = to_categorical(np.array(y_train), params[\"last_neuron\"]), \n",
    "        epochs = params[\"epochs\"], verbose = ver, \n",
    "        workers = 8, use_multiprocessing = True,\n",
    "        batch_size = params[\"batch_size\"],\n",
    "        callbacks = [talos.utils.ExperimentLogCallback(\"fashionPerceptronExp\", params)],\n",
    "        validation_data = (np.array(X_test), to_categorical(np.array(y_test), params[\"last_neuron\"]))\n",
    "    )\n",
    "    \n",
    "    return history, model"
   ]
  },
  {
   "cell_type": "code",
   "execution_count": 31,
   "metadata": {},
   "outputs": [],
   "source": [
    "# espacio de optimizacion de hyperparametros para el MLP\n",
    "parameters = {\"activation\": [\"relu\", \"elu\"],\n",
    "     \"last_activation\": [\"softmax\"],\n",
    "     \"optimizer\": [\"Nadam\", \"Adam\"],\n",
    "     \"losses\": [\"categorical_crossentropy\"],\n",
    "     \"shapes\": [\"brick\"],\n",
    "     \"first_neuron\": [100, 200, 300],\n",
    "     \"hidden_neuron\": [100, 200, 300],\n",
    "     \"last_neuron\": [len(classNamesList)],\n",
    "     \"hidden_layers\": [0, 1, 2, 3],\n",
    "     \"dropout\": [.1, .2, .3],\n",
    "     \"batch_size\": [32, 64, 128],\n",
    "     \"epochs\": [10]}"
   ]
  },
  {
   "cell_type": "code",
   "execution_count": 32,
   "metadata": {
    "scrolled": true
   },
   "outputs": [
    {
     "name": "stderr",
     "output_type": "stream",
     "text": [
      "\r",
      "  0%|                                                                                        | 0/38 [00:00<?, ?it/s]"
     ]
    },
    {
     "name": "stdout",
     "output_type": "stream",
     "text": [
      "{'activation': 'elu', 'batch_size': 128, 'dropout': 0.3, 'epochs': 10, 'first_neuron': 200, 'hidden_layers': 0, 'hidden_neuron': 200, 'last_activation': 'softmax', 'last_neuron': 10, 'losses': 'categorical_crossentropy', 'optimizer': 'Adam', 'shapes': 'brick'}\n"
     ]
    },
    {
     "name": "stderr",
     "output_type": "stream",
     "text": [
      "\r",
      "  3%|██                                                                              | 1/38 [01:28<54:16, 88.02s/it]"
     ]
    },
    {
     "name": "stdout",
     "output_type": "stream",
     "text": [
      "{'activation': 'relu', 'batch_size': 32, 'dropout': 0.2, 'epochs': 10, 'first_neuron': 300, 'hidden_layers': 3, 'hidden_neuron': 100, 'last_activation': 'softmax', 'last_neuron': 10, 'losses': 'categorical_crossentropy', 'optimizer': 'Nadam', 'shapes': 'brick'}\n"
     ]
    },
    {
     "name": "stderr",
     "output_type": "stream",
     "text": [
      "\r",
      "  5%|████                                                                         | 2/38 [07:57<1:47:04, 178.45s/it]"
     ]
    },
    {
     "name": "stdout",
     "output_type": "stream",
     "text": [
      "{'activation': 'elu', 'batch_size': 64, 'dropout': 0.3, 'epochs': 10, 'first_neuron': 200, 'hidden_layers': 1, 'hidden_neuron': 100, 'last_activation': 'softmax', 'last_neuron': 10, 'losses': 'categorical_crossentropy', 'optimizer': 'Adam', 'shapes': 'brick'}\n"
     ]
    },
    {
     "name": "stderr",
     "output_type": "stream",
     "text": [
      "\r",
      "  8%|██████                                                                       | 3/38 [10:35<1:40:32, 172.35s/it]"
     ]
    },
    {
     "name": "stdout",
     "output_type": "stream",
     "text": [
      "{'activation': 'elu', 'batch_size': 64, 'dropout': 0.2, 'epochs': 10, 'first_neuron': 100, 'hidden_layers': 0, 'hidden_neuron': 100, 'last_activation': 'softmax', 'last_neuron': 10, 'losses': 'categorical_crossentropy', 'optimizer': 'Nadam', 'shapes': 'brick'}\n"
     ]
    },
    {
     "name": "stderr",
     "output_type": "stream",
     "text": [
      "\r",
      " 11%|████████                                                                     | 4/38 [12:32<1:28:17, 155.81s/it]"
     ]
    },
    {
     "name": "stdout",
     "output_type": "stream",
     "text": [
      "{'activation': 'relu', 'batch_size': 128, 'dropout': 0.3, 'epochs': 10, 'first_neuron': 300, 'hidden_layers': 1, 'hidden_neuron': 300, 'last_activation': 'softmax', 'last_neuron': 10, 'losses': 'categorical_crossentropy', 'optimizer': 'Nadam', 'shapes': 'brick'}\n"
     ]
    },
    {
     "name": "stderr",
     "output_type": "stream",
     "text": [
      "\r",
      " 13%|██████████▏                                                                  | 5/38 [14:11<1:16:12, 138.57s/it]"
     ]
    },
    {
     "name": "stdout",
     "output_type": "stream",
     "text": [
      "{'activation': 'elu', 'batch_size': 32, 'dropout': 0.2, 'epochs': 10, 'first_neuron': 200, 'hidden_layers': 0, 'hidden_neuron': 100, 'last_activation': 'softmax', 'last_neuron': 10, 'losses': 'categorical_crossentropy', 'optimizer': 'Adam', 'shapes': 'brick'}\n"
     ]
    },
    {
     "name": "stderr",
     "output_type": "stream",
     "text": [
      "\r",
      " 16%|████████████▏                                                                | 6/38 [18:17<1:31:10, 170.95s/it]"
     ]
    },
    {
     "name": "stdout",
     "output_type": "stream",
     "text": [
      "{'activation': 'relu', 'batch_size': 128, 'dropout': 0.3, 'epochs': 10, 'first_neuron': 100, 'hidden_layers': 2, 'hidden_neuron': 100, 'last_activation': 'softmax', 'last_neuron': 10, 'losses': 'categorical_crossentropy', 'optimizer': 'Adam', 'shapes': 'brick'}\n"
     ]
    },
    {
     "name": "stderr",
     "output_type": "stream",
     "text": [
      "\r",
      " 18%|██████████████▏                                                              | 7/38 [20:02<1:18:08, 151.24s/it]"
     ]
    },
    {
     "name": "stdout",
     "output_type": "stream",
     "text": [
      "{'activation': 'relu', 'batch_size': 64, 'dropout': 0.1, 'epochs': 10, 'first_neuron': 300, 'hidden_layers': 0, 'hidden_neuron': 300, 'last_activation': 'softmax', 'last_neuron': 10, 'losses': 'categorical_crossentropy', 'optimizer': 'Adam', 'shapes': 'brick'}\n"
     ]
    },
    {
     "name": "stderr",
     "output_type": "stream",
     "text": [
      "\r",
      " 21%|████████████████▏                                                            | 8/38 [22:49<1:17:51, 155.71s/it]"
     ]
    },
    {
     "name": "stdout",
     "output_type": "stream",
     "text": [
      "{'activation': 'elu', 'batch_size': 32, 'dropout': 0.1, 'epochs': 10, 'first_neuron': 200, 'hidden_layers': 3, 'hidden_neuron': 300, 'last_activation': 'softmax', 'last_neuron': 10, 'losses': 'categorical_crossentropy', 'optimizer': 'Adam', 'shapes': 'brick'}\n"
     ]
    },
    {
     "name": "stderr",
     "output_type": "stream",
     "text": [
      "\r",
      " 24%|██████████████████▏                                                          | 9/38 [28:36<1:43:05, 213.30s/it]"
     ]
    },
    {
     "name": "stdout",
     "output_type": "stream",
     "text": [
      "{'activation': 'elu', 'batch_size': 32, 'dropout': 0.3, 'epochs': 10, 'first_neuron': 300, 'hidden_layers': 3, 'hidden_neuron': 100, 'last_activation': 'softmax', 'last_neuron': 10, 'losses': 'categorical_crossentropy', 'optimizer': 'Adam', 'shapes': 'brick'}\n"
     ]
    },
    {
     "name": "stderr",
     "output_type": "stream",
     "text": [
      "\r",
      " 26%|████████████████████                                                        | 10/38 [30:02<1:21:42, 175.11s/it]"
     ]
    },
    {
     "name": "stdout",
     "output_type": "stream",
     "text": [
      "{'activation': 'elu', 'batch_size': 32, 'dropout': 0.1, 'epochs': 10, 'first_neuron': 300, 'hidden_layers': 1, 'hidden_neuron': 300, 'last_activation': 'softmax', 'last_neuron': 10, 'losses': 'categorical_crossentropy', 'optimizer': 'Nadam', 'shapes': 'brick'}\n"
     ]
    },
    {
     "name": "stderr",
     "output_type": "stream",
     "text": [
      "\r",
      " 29%|██████████████████████                                                      | 11/38 [31:37<1:07:57, 151.02s/it]"
     ]
    },
    {
     "name": "stdout",
     "output_type": "stream",
     "text": [
      "{'activation': 'relu', 'batch_size': 128, 'dropout': 0.2, 'epochs': 10, 'first_neuron': 100, 'hidden_layers': 0, 'hidden_neuron': 300, 'last_activation': 'softmax', 'last_neuron': 10, 'losses': 'categorical_crossentropy', 'optimizer': 'Nadam', 'shapes': 'brick'}\n"
     ]
    },
    {
     "name": "stderr",
     "output_type": "stream",
     "text": [
      "\r",
      " 32%|████████████████████████▋                                                     | 12/38 [31:54<47:59, 110.75s/it]"
     ]
    },
    {
     "name": "stdout",
     "output_type": "stream",
     "text": [
      "{'activation': 'relu', 'batch_size': 64, 'dropout': 0.3, 'epochs': 10, 'first_neuron': 200, 'hidden_layers': 2, 'hidden_neuron': 200, 'last_activation': 'softmax', 'last_neuron': 10, 'losses': 'categorical_crossentropy', 'optimizer': 'Adam', 'shapes': 'brick'}\n"
     ]
    },
    {
     "name": "stderr",
     "output_type": "stream",
     "text": [
      "\r",
      " 34%|███████████████████████████                                                    | 13/38 [32:44<38:35, 92.63s/it]"
     ]
    },
    {
     "name": "stdout",
     "output_type": "stream",
     "text": [
      "{'activation': 'relu', 'batch_size': 128, 'dropout': 0.2, 'epochs': 10, 'first_neuron': 100, 'hidden_layers': 1, 'hidden_neuron': 200, 'last_activation': 'softmax', 'last_neuron': 10, 'losses': 'categorical_crossentropy', 'optimizer': 'Adam', 'shapes': 'brick'}\n"
     ]
    },
    {
     "name": "stderr",
     "output_type": "stream",
     "text": [
      "\r",
      " 37%|█████████████████████████████                                                  | 14/38 [33:04<28:15, 70.65s/it]"
     ]
    },
    {
     "name": "stdout",
     "output_type": "stream",
     "text": [
      "{'activation': 'relu', 'batch_size': 64, 'dropout': 0.2, 'epochs': 10, 'first_neuron': 300, 'hidden_layers': 1, 'hidden_neuron': 300, 'last_activation': 'softmax', 'last_neuron': 10, 'losses': 'categorical_crossentropy', 'optimizer': 'Nadam', 'shapes': 'brick'}\n"
     ]
    },
    {
     "name": "stderr",
     "output_type": "stream",
     "text": [
      "\r",
      " 39%|███████████████████████████████▏                                               | 15/38 [33:56<25:02, 65.33s/it]"
     ]
    },
    {
     "name": "stdout",
     "output_type": "stream",
     "text": [
      "{'activation': 'relu', 'batch_size': 64, 'dropout': 0.3, 'epochs': 10, 'first_neuron': 100, 'hidden_layers': 1, 'hidden_neuron': 200, 'last_activation': 'softmax', 'last_neuron': 10, 'losses': 'categorical_crossentropy', 'optimizer': 'Nadam', 'shapes': 'brick'}\n"
     ]
    },
    {
     "name": "stderr",
     "output_type": "stream",
     "text": [
      "\r",
      " 42%|█████████████████████████████████▎                                             | 16/38 [34:28<20:13, 55.16s/it]"
     ]
    },
    {
     "name": "stdout",
     "output_type": "stream",
     "text": [
      "{'activation': 'relu', 'batch_size': 32, 'dropout': 0.2, 'epochs': 10, 'first_neuron': 300, 'hidden_layers': 3, 'hidden_neuron': 200, 'last_activation': 'softmax', 'last_neuron': 10, 'losses': 'categorical_crossentropy', 'optimizer': 'Nadam', 'shapes': 'brick'}\n"
     ]
    },
    {
     "name": "stderr",
     "output_type": "stream",
     "text": [
      "\r",
      " 45%|███████████████████████████████████▎                                           | 17/38 [36:22<25:28, 72.80s/it]"
     ]
    },
    {
     "name": "stdout",
     "output_type": "stream",
     "text": [
      "{'activation': 'relu', 'batch_size': 64, 'dropout': 0.3, 'epochs': 10, 'first_neuron': 100, 'hidden_layers': 2, 'hidden_neuron': 300, 'last_activation': 'softmax', 'last_neuron': 10, 'losses': 'categorical_crossentropy', 'optimizer': 'Nadam', 'shapes': 'brick'}\n"
     ]
    },
    {
     "name": "stderr",
     "output_type": "stream",
     "text": [
      "\r",
      " 47%|█████████████████████████████████████▍                                         | 18/38 [37:09<21:43, 65.18s/it]"
     ]
    },
    {
     "name": "stdout",
     "output_type": "stream",
     "text": [
      "{'activation': 'elu', 'batch_size': 128, 'dropout': 0.3, 'epochs': 10, 'first_neuron': 300, 'hidden_layers': 0, 'hidden_neuron': 300, 'last_activation': 'softmax', 'last_neuron': 10, 'losses': 'categorical_crossentropy', 'optimizer': 'Nadam', 'shapes': 'brick'}\n"
     ]
    },
    {
     "name": "stderr",
     "output_type": "stream",
     "text": [
      "\r",
      " 50%|███████████████████████████████████████▌                                       | 19/38 [37:38<17:10, 54.26s/it]"
     ]
    },
    {
     "name": "stdout",
     "output_type": "stream",
     "text": [
      "{'activation': 'elu', 'batch_size': 64, 'dropout': 0.1, 'epochs': 10, 'first_neuron': 200, 'hidden_layers': 2, 'hidden_neuron': 100, 'last_activation': 'softmax', 'last_neuron': 10, 'losses': 'categorical_crossentropy', 'optimizer': 'Adam', 'shapes': 'brick'}\n"
     ]
    },
    {
     "name": "stderr",
     "output_type": "stream",
     "text": [
      "\r",
      " 53%|█████████████████████████████████████████▌                                     | 20/38 [38:21<15:18, 51.01s/it]"
     ]
    },
    {
     "name": "stdout",
     "output_type": "stream",
     "text": [
      "{'activation': 'relu', 'batch_size': 128, 'dropout': 0.1, 'epochs': 10, 'first_neuron': 300, 'hidden_layers': 3, 'hidden_neuron': 300, 'last_activation': 'softmax', 'last_neuron': 10, 'losses': 'categorical_crossentropy', 'optimizer': 'Nadam', 'shapes': 'brick'}\n"
     ]
    },
    {
     "name": "stderr",
     "output_type": "stream",
     "text": [
      "\r",
      " 55%|███████████████████████████████████████████▋                                   | 21/38 [39:12<14:26, 50.95s/it]"
     ]
    },
    {
     "name": "stdout",
     "output_type": "stream",
     "text": [
      "{'activation': 'relu', 'batch_size': 128, 'dropout': 0.1, 'epochs': 10, 'first_neuron': 200, 'hidden_layers': 1, 'hidden_neuron': 100, 'last_activation': 'softmax', 'last_neuron': 10, 'losses': 'categorical_crossentropy', 'optimizer': 'Nadam', 'shapes': 'brick'}\n"
     ]
    },
    {
     "name": "stderr",
     "output_type": "stream",
     "text": [
      "\r",
      " 58%|█████████████████████████████████████████████▋                                 | 22/38 [39:36<11:25, 42.85s/it]"
     ]
    },
    {
     "name": "stdout",
     "output_type": "stream",
     "text": [
      "{'activation': 'relu', 'batch_size': 64, 'dropout': 0.2, 'epochs': 10, 'first_neuron': 200, 'hidden_layers': 1, 'hidden_neuron': 200, 'last_activation': 'softmax', 'last_neuron': 10, 'losses': 'categorical_crossentropy', 'optimizer': 'Adam', 'shapes': 'brick'}\n"
     ]
    },
    {
     "name": "stderr",
     "output_type": "stream",
     "text": [
      "\r",
      " 61%|███████████████████████████████████████████████▊                               | 23/38 [40:18<10:40, 42.68s/it]"
     ]
    },
    {
     "name": "stdout",
     "output_type": "stream",
     "text": [
      "{'activation': 'elu', 'batch_size': 128, 'dropout': 0.3, 'epochs': 10, 'first_neuron': 100, 'hidden_layers': 3, 'hidden_neuron': 100, 'last_activation': 'softmax', 'last_neuron': 10, 'losses': 'categorical_crossentropy', 'optimizer': 'Adam', 'shapes': 'brick'}\n"
     ]
    },
    {
     "name": "stderr",
     "output_type": "stream",
     "text": [
      "\r",
      " 63%|█████████████████████████████████████████████████▉                             | 24/38 [40:46<08:52, 38.01s/it]"
     ]
    },
    {
     "name": "stdout",
     "output_type": "stream",
     "text": [
      "{'activation': 'elu', 'batch_size': 32, 'dropout': 0.2, 'epochs': 10, 'first_neuron': 200, 'hidden_layers': 1, 'hidden_neuron': 200, 'last_activation': 'softmax', 'last_neuron': 10, 'losses': 'categorical_crossentropy', 'optimizer': 'Adam', 'shapes': 'brick'}\n"
     ]
    },
    {
     "name": "stderr",
     "output_type": "stream",
     "text": [
      "\r",
      " 66%|███████████████████████████████████████████████████▉                           | 25/38 [41:54<10:12, 47.12s/it]"
     ]
    },
    {
     "name": "stdout",
     "output_type": "stream",
     "text": [
      "{'activation': 'relu', 'batch_size': 64, 'dropout': 0.3, 'epochs': 10, 'first_neuron': 200, 'hidden_layers': 2, 'hidden_neuron': 100, 'last_activation': 'softmax', 'last_neuron': 10, 'losses': 'categorical_crossentropy', 'optimizer': 'Nadam', 'shapes': 'brick'}\n"
     ]
    },
    {
     "name": "stderr",
     "output_type": "stream",
     "text": [
      "\r",
      " 68%|██████████████████████████████████████████████████████                         | 26/38 [42:39<09:18, 46.57s/it]"
     ]
    },
    {
     "name": "stdout",
     "output_type": "stream",
     "text": [
      "{'activation': 'relu', 'batch_size': 64, 'dropout': 0.3, 'epochs': 10, 'first_neuron': 300, 'hidden_layers': 1, 'hidden_neuron': 100, 'last_activation': 'softmax', 'last_neuron': 10, 'losses': 'categorical_crossentropy', 'optimizer': 'Nadam', 'shapes': 'brick'}\n"
     ]
    },
    {
     "name": "stderr",
     "output_type": "stream",
     "text": [
      "\r",
      " 71%|████████████████████████████████████████████████████████▏                      | 27/38 [43:26<08:33, 46.71s/it]"
     ]
    },
    {
     "name": "stdout",
     "output_type": "stream",
     "text": [
      "{'activation': 'elu', 'batch_size': 32, 'dropout': 0.3, 'epochs': 10, 'first_neuron': 300, 'hidden_layers': 1, 'hidden_neuron': 200, 'last_activation': 'softmax', 'last_neuron': 10, 'losses': 'categorical_crossentropy', 'optimizer': 'Nadam', 'shapes': 'brick'}\n"
     ]
    },
    {
     "name": "stderr",
     "output_type": "stream",
     "text": [
      "\r",
      " 74%|██████████████████████████████████████████████████████████▏                    | 28/38 [44:56<09:55, 59.58s/it]"
     ]
    },
    {
     "name": "stdout",
     "output_type": "stream",
     "text": [
      "{'activation': 'elu', 'batch_size': 32, 'dropout': 0.3, 'epochs': 10, 'first_neuron': 200, 'hidden_layers': 2, 'hidden_neuron': 200, 'last_activation': 'softmax', 'last_neuron': 10, 'losses': 'categorical_crossentropy', 'optimizer': 'Adam', 'shapes': 'brick'}\n"
     ]
    },
    {
     "name": "stderr",
     "output_type": "stream",
     "text": [
      "\r",
      " 76%|████████████████████████████████████████████████████████████▎                  | 29/38 [46:15<09:49, 65.51s/it]"
     ]
    },
    {
     "name": "stdout",
     "output_type": "stream",
     "text": [
      "{'activation': 'elu', 'batch_size': 64, 'dropout': 0.1, 'epochs': 10, 'first_neuron': 200, 'hidden_layers': 1, 'hidden_neuron': 100, 'last_activation': 'softmax', 'last_neuron': 10, 'losses': 'categorical_crossentropy', 'optimizer': 'Nadam', 'shapes': 'brick'}\n"
     ]
    },
    {
     "name": "stderr",
     "output_type": "stream",
     "text": [
      "\r",
      " 79%|██████████████████████████████████████████████████████████████▎                | 30/38 [46:56<07:44, 58.09s/it]"
     ]
    },
    {
     "name": "stdout",
     "output_type": "stream",
     "text": [
      "{'activation': 'elu', 'batch_size': 128, 'dropout': 0.2, 'epochs': 10, 'first_neuron': 100, 'hidden_layers': 3, 'hidden_neuron': 200, 'last_activation': 'softmax', 'last_neuron': 10, 'losses': 'categorical_crossentropy', 'optimizer': 'Adam', 'shapes': 'brick'}\n"
     ]
    },
    {
     "name": "stderr",
     "output_type": "stream",
     "text": [
      "\r",
      " 82%|████████████████████████████████████████████████████████████████▍              | 31/38 [47:28<05:51, 50.18s/it]"
     ]
    },
    {
     "name": "stdout",
     "output_type": "stream",
     "text": [
      "{'activation': 'elu', 'batch_size': 64, 'dropout': 0.3, 'epochs': 10, 'first_neuron': 100, 'hidden_layers': 1, 'hidden_neuron': 200, 'last_activation': 'softmax', 'last_neuron': 10, 'losses': 'categorical_crossentropy', 'optimizer': 'Nadam', 'shapes': 'brick'}\n"
     ]
    },
    {
     "name": "stderr",
     "output_type": "stream",
     "text": [
      "\r",
      " 84%|██████████████████████████████████████████████████████████████████▌            | 32/38 [48:00<04:29, 44.91s/it]"
     ]
    },
    {
     "name": "stdout",
     "output_type": "stream",
     "text": [
      "{'activation': 'relu', 'batch_size': 64, 'dropout': 0.3, 'epochs': 10, 'first_neuron': 300, 'hidden_layers': 3, 'hidden_neuron': 300, 'last_activation': 'softmax', 'last_neuron': 10, 'losses': 'categorical_crossentropy', 'optimizer': 'Nadam', 'shapes': 'brick'}\n"
     ]
    },
    {
     "name": "stderr",
     "output_type": "stream",
     "text": [
      "\r",
      " 87%|████████████████████████████████████████████████████████████████████▌          | 33/38 [49:19<04:35, 55.13s/it]"
     ]
    },
    {
     "name": "stdout",
     "output_type": "stream",
     "text": [
      "{'activation': 'elu', 'batch_size': 32, 'dropout': 0.1, 'epochs': 10, 'first_neuron': 300, 'hidden_layers': 2, 'hidden_neuron': 100, 'last_activation': 'softmax', 'last_neuron': 10, 'losses': 'categorical_crossentropy', 'optimizer': 'Nadam', 'shapes': 'brick'}\n"
     ]
    },
    {
     "name": "stderr",
     "output_type": "stream",
     "text": [
      "\r",
      " 89%|██████████████████████████████████████████████████████████████████████▋        | 34/38 [50:49<04:21, 65.49s/it]"
     ]
    },
    {
     "name": "stdout",
     "output_type": "stream",
     "text": [
      "{'activation': 'relu', 'batch_size': 128, 'dropout': 0.2, 'epochs': 10, 'first_neuron': 300, 'hidden_layers': 3, 'hidden_neuron': 100, 'last_activation': 'softmax', 'last_neuron': 10, 'losses': 'categorical_crossentropy', 'optimizer': 'Adam', 'shapes': 'brick'}\n"
     ]
    },
    {
     "name": "stderr",
     "output_type": "stream",
     "text": [
      "\r",
      " 92%|████████████████████████████████████████████████████████████████████████▊      | 35/38 [51:25<02:50, 56.80s/it]"
     ]
    },
    {
     "name": "stdout",
     "output_type": "stream",
     "text": [
      "{'activation': 'relu', 'batch_size': 32, 'dropout': 0.1, 'epochs': 10, 'first_neuron': 100, 'hidden_layers': 3, 'hidden_neuron': 200, 'last_activation': 'softmax', 'last_neuron': 10, 'losses': 'categorical_crossentropy', 'optimizer': 'Adam', 'shapes': 'brick'}\n"
     ]
    },
    {
     "name": "stderr",
     "output_type": "stream",
     "text": [
      "\r",
      " 95%|██████████████████████████████████████████████████████████████████████████▊    | 36/38 [52:37<02:02, 61.14s/it]"
     ]
    },
    {
     "name": "stdout",
     "output_type": "stream",
     "text": [
      "{'activation': 'elu', 'batch_size': 128, 'dropout': 0.3, 'epochs': 10, 'first_neuron': 300, 'hidden_layers': 2, 'hidden_neuron': 300, 'last_activation': 'softmax', 'last_neuron': 10, 'losses': 'categorical_crossentropy', 'optimizer': 'Adam', 'shapes': 'brick'}\n"
     ]
    },
    {
     "name": "stderr",
     "output_type": "stream",
     "text": [
      "\r",
      " 97%|████████████████████████████████████████████████████████████████████████████▉  | 37/38 [53:19<00:55, 55.42s/it]"
     ]
    },
    {
     "name": "stdout",
     "output_type": "stream",
     "text": [
      "{'activation': 'elu', 'batch_size': 128, 'dropout': 0.1, 'epochs': 10, 'first_neuron': 100, 'hidden_layers': 3, 'hidden_neuron': 100, 'last_activation': 'softmax', 'last_neuron': 10, 'losses': 'categorical_crossentropy', 'optimizer': 'Nadam', 'shapes': 'brick'}\n"
     ]
    },
    {
     "name": "stderr",
     "output_type": "stream",
     "text": [
      "100%|███████████████████████████████████████████████████████████████████████████████| 38/38 [53:47<00:00, 84.93s/it]\n"
     ]
    }
   ],
   "source": [
    "# se hace la busqueda con la funcion Scan()\n",
    "# se utiliza el conjunto de datos reorganizado con sklearn\n",
    "# la semilla random es 42 porque es la respuesta universal y es la misma en todo el codigo\n",
    "# por defecto Talos hace una busqueda random, en general es mejor aunque puede caer en minimos/maximos locales\n",
    "# la poblacion de busqueda aleatoria es de un 1.0% ~ 3.0% para que el procedimiento sea rapido\n",
    "# para acelerar el proceso se prueba con reduction_method con correlacion y ajustandolo contra la precision de validacion\n",
    "scanPerceptron = talos.Scan(x = X_trainB, y = y_trainB,\n",
    "                            x_val = X_testB, y_val = y_testB,\n",
    "                            model = fashionPerceptron,\n",
    "                            experiment_name = \"fashionPerceptronExp\",\n",
    "                            params = parameters, \n",
    "                            reduction_method = \"correlation\",\n",
    "                            reduction_metric = \"val_acc\",\n",
    "                            fraction_limit = 0.03,\n",
    "                            seed = 42,\n",
    "                            print_params = True)"
   ]
  },
  {
   "cell_type": "markdown",
   "metadata": {},
   "source": [
    "### Accediendo a los resultados del proceso de Optimización"
   ]
  },
  {
   "cell_type": "code",
   "execution_count": 33,
   "metadata": {},
   "outputs": [
    {
     "data": {
      "text/html": [
       "<div>\n",
       "<style scoped>\n",
       "    .dataframe tbody tr th:only-of-type {\n",
       "        vertical-align: middle;\n",
       "    }\n",
       "\n",
       "    .dataframe tbody tr th {\n",
       "        vertical-align: top;\n",
       "    }\n",
       "\n",
       "    .dataframe thead th {\n",
       "        text-align: right;\n",
       "    }\n",
       "</style>\n",
       "<table border=\"1\" class=\"dataframe\">\n",
       "  <thead>\n",
       "    <tr style=\"text-align: right;\">\n",
       "      <th></th>\n",
       "      <th>round_epochs</th>\n",
       "      <th>val_loss</th>\n",
       "      <th>val_acc</th>\n",
       "      <th>loss</th>\n",
       "      <th>acc</th>\n",
       "      <th>activation</th>\n",
       "      <th>batch_size</th>\n",
       "      <th>dropout</th>\n",
       "      <th>epochs</th>\n",
       "      <th>first_neuron</th>\n",
       "      <th>hidden_layers</th>\n",
       "      <th>hidden_neuron</th>\n",
       "      <th>last_activation</th>\n",
       "      <th>last_neuron</th>\n",
       "      <th>losses</th>\n",
       "      <th>optimizer</th>\n",
       "      <th>shapes</th>\n",
       "    </tr>\n",
       "  </thead>\n",
       "  <tbody>\n",
       "    <tr>\n",
       "      <td>0</td>\n",
       "      <td>10</td>\n",
       "      <td>0.506374</td>\n",
       "      <td>0.841571</td>\n",
       "      <td>0.612387</td>\n",
       "      <td>0.777464</td>\n",
       "      <td>elu</td>\n",
       "      <td>128</td>\n",
       "      <td>0.3</td>\n",
       "      <td>10</td>\n",
       "      <td>200</td>\n",
       "      <td>0</td>\n",
       "      <td>200</td>\n",
       "      <td>softmax</td>\n",
       "      <td>10</td>\n",
       "      <td>categorical_crossentropy</td>\n",
       "      <td>Adam</td>\n",
       "      <td>brick</td>\n",
       "    </tr>\n",
       "    <tr>\n",
       "      <td>1</td>\n",
       "      <td>10</td>\n",
       "      <td>0.661314</td>\n",
       "      <td>0.724929</td>\n",
       "      <td>0.753906</td>\n",
       "      <td>0.704268</td>\n",
       "      <td>relu</td>\n",
       "      <td>32</td>\n",
       "      <td>0.2</td>\n",
       "      <td>10</td>\n",
       "      <td>300</td>\n",
       "      <td>3</td>\n",
       "      <td>100</td>\n",
       "      <td>softmax</td>\n",
       "      <td>10</td>\n",
       "      <td>categorical_crossentropy</td>\n",
       "      <td>Nadam</td>\n",
       "      <td>brick</td>\n",
       "    </tr>\n",
       "    <tr>\n",
       "      <td>2</td>\n",
       "      <td>10</td>\n",
       "      <td>0.594900</td>\n",
       "      <td>0.754071</td>\n",
       "      <td>0.722038</td>\n",
       "      <td>0.706714</td>\n",
       "      <td>elu</td>\n",
       "      <td>64</td>\n",
       "      <td>0.3</td>\n",
       "      <td>10</td>\n",
       "      <td>200</td>\n",
       "      <td>1</td>\n",
       "      <td>100</td>\n",
       "      <td>softmax</td>\n",
       "      <td>10</td>\n",
       "      <td>categorical_crossentropy</td>\n",
       "      <td>Adam</td>\n",
       "      <td>brick</td>\n",
       "    </tr>\n",
       "    <tr>\n",
       "      <td>3</td>\n",
       "      <td>10</td>\n",
       "      <td>0.658638</td>\n",
       "      <td>0.773571</td>\n",
       "      <td>0.777002</td>\n",
       "      <td>0.708411</td>\n",
       "      <td>elu</td>\n",
       "      <td>64</td>\n",
       "      <td>0.2</td>\n",
       "      <td>10</td>\n",
       "      <td>100</td>\n",
       "      <td>0</td>\n",
       "      <td>100</td>\n",
       "      <td>softmax</td>\n",
       "      <td>10</td>\n",
       "      <td>categorical_crossentropy</td>\n",
       "      <td>Nadam</td>\n",
       "      <td>brick</td>\n",
       "    </tr>\n",
       "    <tr>\n",
       "      <td>4</td>\n",
       "      <td>10</td>\n",
       "      <td>0.625690</td>\n",
       "      <td>0.740214</td>\n",
       "      <td>0.830353</td>\n",
       "      <td>0.681232</td>\n",
       "      <td>relu</td>\n",
       "      <td>128</td>\n",
       "      <td>0.3</td>\n",
       "      <td>10</td>\n",
       "      <td>300</td>\n",
       "      <td>1</td>\n",
       "      <td>300</td>\n",
       "      <td>softmax</td>\n",
       "      <td>10</td>\n",
       "      <td>categorical_crossentropy</td>\n",
       "      <td>Nadam</td>\n",
       "      <td>brick</td>\n",
       "    </tr>\n",
       "  </tbody>\n",
       "</table>\n",
       "</div>"
      ],
      "text/plain": [
       "   round_epochs  val_loss   val_acc      loss       acc activation  \\\n",
       "0            10  0.506374  0.841571  0.612387  0.777464        elu   \n",
       "1            10  0.661314  0.724929  0.753906  0.704268       relu   \n",
       "2            10  0.594900  0.754071  0.722038  0.706714        elu   \n",
       "3            10  0.658638  0.773571  0.777002  0.708411        elu   \n",
       "4            10  0.625690  0.740214  0.830353  0.681232       relu   \n",
       "\n",
       "   batch_size  dropout  epochs  first_neuron  hidden_layers  hidden_neuron  \\\n",
       "0         128      0.3      10           200              0            200   \n",
       "1          32      0.2      10           300              3            100   \n",
       "2          64      0.3      10           200              1            100   \n",
       "3          64      0.2      10           100              0            100   \n",
       "4         128      0.3      10           300              1            300   \n",
       "\n",
       "  last_activation  last_neuron                    losses optimizer shapes  \n",
       "0         softmax           10  categorical_crossentropy      Adam  brick  \n",
       "1         softmax           10  categorical_crossentropy     Nadam  brick  \n",
       "2         softmax           10  categorical_crossentropy      Adam  brick  \n",
       "3         softmax           10  categorical_crossentropy     Nadam  brick  \n",
       "4         softmax           10  categorical_crossentropy     Nadam  brick  "
      ]
     },
     "execution_count": 33,
     "metadata": {},
     "output_type": "execute_result"
    }
   ],
   "source": [
    "# mirando los resultados de la optimizacion con dataFrame\n",
    "scanPerceptron.data.head()"
   ]
  },
  {
   "cell_type": "code",
   "execution_count": 34,
   "metadata": {},
   "outputs": [
    {
     "data": {
      "text/html": [
       "<div>\n",
       "<style scoped>\n",
       "    .dataframe tbody tr th:only-of-type {\n",
       "        vertical-align: middle;\n",
       "    }\n",
       "\n",
       "    .dataframe tbody tr th {\n",
       "        vertical-align: top;\n",
       "    }\n",
       "\n",
       "    .dataframe thead th {\n",
       "        text-align: right;\n",
       "    }\n",
       "</style>\n",
       "<table border=\"1\" class=\"dataframe\">\n",
       "  <thead>\n",
       "    <tr style=\"text-align: right;\">\n",
       "      <th></th>\n",
       "      <th>loss</th>\n",
       "      <th>acc</th>\n",
       "    </tr>\n",
       "  </thead>\n",
       "  <tbody>\n",
       "    <tr>\n",
       "      <td>0</td>\n",
       "      <td>0.197569</td>\n",
       "      <td>0.000379</td>\n",
       "    </tr>\n",
       "    <tr>\n",
       "      <td>1</td>\n",
       "      <td>0.016715</td>\n",
       "      <td>0.001064</td>\n",
       "    </tr>\n",
       "    <tr>\n",
       "      <td>2</td>\n",
       "      <td>0.132008</td>\n",
       "      <td>0.002163</td>\n",
       "    </tr>\n",
       "    <tr>\n",
       "      <td>3</td>\n",
       "      <td>0.080779</td>\n",
       "      <td>0.000344</td>\n",
       "    </tr>\n",
       "    <tr>\n",
       "      <td>4</td>\n",
       "      <td>0.106629</td>\n",
       "      <td>0.000505</td>\n",
       "    </tr>\n",
       "  </tbody>\n",
       "</table>\n",
       "</div>"
      ],
      "text/plain": [
       "       loss       acc\n",
       "0  0.197569  0.000379\n",
       "1  0.016715  0.001064\n",
       "2  0.132008  0.002163\n",
       "3  0.080779  0.000344\n",
       "4  0.106629  0.000505"
      ]
     },
     "execution_count": 34,
     "metadata": {},
     "output_type": "execute_result"
    }
   ],
   "source": [
    "# mirando la entropia de cada ronda de experimentos\n",
    "scanPerceptron.learning_entropy.head()"
   ]
  },
  {
   "cell_type": "code",
   "execution_count": 35,
   "metadata": {},
   "outputs": [
    {
     "data": {
      "text/plain": [
       "round_epochs         int64\n",
       "val_loss           float64\n",
       "val_acc            float64\n",
       "loss               float64\n",
       "acc                float64\n",
       "activation          object\n",
       "batch_size           int64\n",
       "dropout            float64\n",
       "epochs               int64\n",
       "first_neuron         int64\n",
       "hidden_layers        int64\n",
       "hidden_neuron        int64\n",
       "last_activation     object\n",
       "last_neuron          int64\n",
       "losses              object\n",
       "optimizer           object\n",
       "shapes              object\n",
       "dtype: object"
      ]
     },
     "execution_count": 35,
     "metadata": {},
     "output_type": "execute_result"
    }
   ],
   "source": [
    "# tipos de datos dentro del set de resultados\n",
    "scanPerceptron.data.dtypes"
   ]
  },
  {
   "cell_type": "code",
   "execution_count": 36,
   "metadata": {},
   "outputs": [
    {
     "data": {
      "text/plain": [
       "experiment_name        fashionPerceptronExp\n",
       "random_method              uniform_mersenne\n",
       "reduction_method                correlation\n",
       "reduction_interval                       50\n",
       "reduction_window                         20\n",
       "reduction_threshold                     0.2\n",
       "reduction_metric                    val_acc\n",
       "complete_time                11/29/19/15:35\n",
       "x_shape                                list\n",
       "y_shape                                list\n",
       "dtype: object"
      ]
     },
     "execution_count": 36,
     "metadata": {},
     "output_type": "execute_result"
    }
   ],
   "source": [
    "# # ver los modelos que se probaron en el proceso de optimizavion\n",
    "# scanPerceptron.saved_models\n",
    "    \n",
    "# # ver los pesos de los modelos probados en el proceso de optimizacion\n",
    "# scanPerceptron.saved_weights\n",
    "\n",
    "# resumen del proceso de optimizacion realizado\n",
    "scanPerceptron.details"
   ]
  },
  {
   "cell_type": "markdown",
   "metadata": {},
   "source": [
    "### Analizando los resultados del proceso de Optimización\n",
    "Se hacen diferentes graficas para tener perspectivas diferentes en el análisis de los resultados de la búsqueda con Talos."
   ]
  },
  {
   "cell_type": "code",
   "execution_count": 37,
   "metadata": {},
   "outputs": [],
   "source": [
    "# para el analisis se utiliza el reporte creado por Talos como entrada de Analyze\n",
    "analyzePerceptron = talos.Analyze(scanPerceptron)"
   ]
  },
  {
   "cell_type": "code",
   "execution_count": 38,
   "metadata": {},
   "outputs": [
    {
     "data": {
      "text/html": [
       "<div>\n",
       "<style scoped>\n",
       "    .dataframe tbody tr th:only-of-type {\n",
       "        vertical-align: middle;\n",
       "    }\n",
       "\n",
       "    .dataframe tbody tr th {\n",
       "        vertical-align: top;\n",
       "    }\n",
       "\n",
       "    .dataframe thead th {\n",
       "        text-align: right;\n",
       "    }\n",
       "</style>\n",
       "<table border=\"1\" class=\"dataframe\">\n",
       "  <thead>\n",
       "    <tr style=\"text-align: right;\">\n",
       "      <th></th>\n",
       "      <th>round_epochs</th>\n",
       "      <th>val_loss</th>\n",
       "      <th>val_acc</th>\n",
       "      <th>loss</th>\n",
       "      <th>acc</th>\n",
       "      <th>activation</th>\n",
       "      <th>batch_size</th>\n",
       "      <th>dropout</th>\n",
       "      <th>epochs</th>\n",
       "      <th>first_neuron</th>\n",
       "      <th>hidden_layers</th>\n",
       "      <th>hidden_neuron</th>\n",
       "      <th>last_activation</th>\n",
       "      <th>last_neuron</th>\n",
       "      <th>losses</th>\n",
       "      <th>optimizer</th>\n",
       "      <th>shapes</th>\n",
       "    </tr>\n",
       "  </thead>\n",
       "  <tbody>\n",
       "    <tr>\n",
       "      <td>0</td>\n",
       "      <td>10</td>\n",
       "      <td>0.506374</td>\n",
       "      <td>0.841571</td>\n",
       "      <td>0.612387</td>\n",
       "      <td>0.777464</td>\n",
       "      <td>elu</td>\n",
       "      <td>128</td>\n",
       "      <td>0.3</td>\n",
       "      <td>10</td>\n",
       "      <td>200</td>\n",
       "      <td>0</td>\n",
       "      <td>200</td>\n",
       "      <td>softmax</td>\n",
       "      <td>10</td>\n",
       "      <td>categorical_crossentropy</td>\n",
       "      <td>Adam</td>\n",
       "      <td>brick</td>\n",
       "    </tr>\n",
       "    <tr>\n",
       "      <td>1</td>\n",
       "      <td>10</td>\n",
       "      <td>0.661314</td>\n",
       "      <td>0.724929</td>\n",
       "      <td>0.753906</td>\n",
       "      <td>0.704268</td>\n",
       "      <td>relu</td>\n",
       "      <td>32</td>\n",
       "      <td>0.2</td>\n",
       "      <td>10</td>\n",
       "      <td>300</td>\n",
       "      <td>3</td>\n",
       "      <td>100</td>\n",
       "      <td>softmax</td>\n",
       "      <td>10</td>\n",
       "      <td>categorical_crossentropy</td>\n",
       "      <td>Nadam</td>\n",
       "      <td>brick</td>\n",
       "    </tr>\n",
       "    <tr>\n",
       "      <td>2</td>\n",
       "      <td>10</td>\n",
       "      <td>0.594900</td>\n",
       "      <td>0.754071</td>\n",
       "      <td>0.722038</td>\n",
       "      <td>0.706714</td>\n",
       "      <td>elu</td>\n",
       "      <td>64</td>\n",
       "      <td>0.3</td>\n",
       "      <td>10</td>\n",
       "      <td>200</td>\n",
       "      <td>1</td>\n",
       "      <td>100</td>\n",
       "      <td>softmax</td>\n",
       "      <td>10</td>\n",
       "      <td>categorical_crossentropy</td>\n",
       "      <td>Adam</td>\n",
       "      <td>brick</td>\n",
       "    </tr>\n",
       "    <tr>\n",
       "      <td>3</td>\n",
       "      <td>10</td>\n",
       "      <td>0.658638</td>\n",
       "      <td>0.773571</td>\n",
       "      <td>0.777002</td>\n",
       "      <td>0.708411</td>\n",
       "      <td>elu</td>\n",
       "      <td>64</td>\n",
       "      <td>0.2</td>\n",
       "      <td>10</td>\n",
       "      <td>100</td>\n",
       "      <td>0</td>\n",
       "      <td>100</td>\n",
       "      <td>softmax</td>\n",
       "      <td>10</td>\n",
       "      <td>categorical_crossentropy</td>\n",
       "      <td>Nadam</td>\n",
       "      <td>brick</td>\n",
       "    </tr>\n",
       "    <tr>\n",
       "      <td>4</td>\n",
       "      <td>10</td>\n",
       "      <td>0.625690</td>\n",
       "      <td>0.740214</td>\n",
       "      <td>0.830353</td>\n",
       "      <td>0.681232</td>\n",
       "      <td>relu</td>\n",
       "      <td>128</td>\n",
       "      <td>0.3</td>\n",
       "      <td>10</td>\n",
       "      <td>300</td>\n",
       "      <td>1</td>\n",
       "      <td>300</td>\n",
       "      <td>softmax</td>\n",
       "      <td>10</td>\n",
       "      <td>categorical_crossentropy</td>\n",
       "      <td>Nadam</td>\n",
       "      <td>brick</td>\n",
       "    </tr>\n",
       "    <tr>\n",
       "      <td>5</td>\n",
       "      <td>10</td>\n",
       "      <td>0.595928</td>\n",
       "      <td>0.795500</td>\n",
       "      <td>0.720555</td>\n",
       "      <td>0.757429</td>\n",
       "      <td>elu</td>\n",
       "      <td>32</td>\n",
       "      <td>0.2</td>\n",
       "      <td>10</td>\n",
       "      <td>200</td>\n",
       "      <td>0</td>\n",
       "      <td>100</td>\n",
       "      <td>softmax</td>\n",
       "      <td>10</td>\n",
       "      <td>categorical_crossentropy</td>\n",
       "      <td>Adam</td>\n",
       "      <td>brick</td>\n",
       "    </tr>\n",
       "    <tr>\n",
       "      <td>6</td>\n",
       "      <td>10</td>\n",
       "      <td>0.900852</td>\n",
       "      <td>0.649214</td>\n",
       "      <td>1.054143</td>\n",
       "      <td>0.567161</td>\n",
       "      <td>relu</td>\n",
       "      <td>128</td>\n",
       "      <td>0.3</td>\n",
       "      <td>10</td>\n",
       "      <td>100</td>\n",
       "      <td>2</td>\n",
       "      <td>100</td>\n",
       "      <td>softmax</td>\n",
       "      <td>10</td>\n",
       "      <td>categorical_crossentropy</td>\n",
       "      <td>Adam</td>\n",
       "      <td>brick</td>\n",
       "    </tr>\n",
       "    <tr>\n",
       "      <td>7</td>\n",
       "      <td>10</td>\n",
       "      <td>0.498431</td>\n",
       "      <td>0.837143</td>\n",
       "      <td>0.508863</td>\n",
       "      <td>0.820500</td>\n",
       "      <td>relu</td>\n",
       "      <td>64</td>\n",
       "      <td>0.1</td>\n",
       "      <td>10</td>\n",
       "      <td>300</td>\n",
       "      <td>0</td>\n",
       "      <td>300</td>\n",
       "      <td>softmax</td>\n",
       "      <td>10</td>\n",
       "      <td>categorical_crossentropy</td>\n",
       "      <td>Adam</td>\n",
       "      <td>brick</td>\n",
       "    </tr>\n",
       "    <tr>\n",
       "      <td>8</td>\n",
       "      <td>10</td>\n",
       "      <td>0.445998</td>\n",
       "      <td>0.844214</td>\n",
       "      <td>0.459256</td>\n",
       "      <td>0.844054</td>\n",
       "      <td>elu</td>\n",
       "      <td>32</td>\n",
       "      <td>0.1</td>\n",
       "      <td>10</td>\n",
       "      <td>200</td>\n",
       "      <td>3</td>\n",
       "      <td>300</td>\n",
       "      <td>softmax</td>\n",
       "      <td>10</td>\n",
       "      <td>categorical_crossentropy</td>\n",
       "      <td>Adam</td>\n",
       "      <td>brick</td>\n",
       "    </tr>\n",
       "    <tr>\n",
       "      <td>9</td>\n",
       "      <td>10</td>\n",
       "      <td>0.580566</td>\n",
       "      <td>0.742000</td>\n",
       "      <td>0.655127</td>\n",
       "      <td>0.733214</td>\n",
       "      <td>elu</td>\n",
       "      <td>32</td>\n",
       "      <td>0.3</td>\n",
       "      <td>10</td>\n",
       "      <td>300</td>\n",
       "      <td>3</td>\n",
       "      <td>100</td>\n",
       "      <td>softmax</td>\n",
       "      <td>10</td>\n",
       "      <td>categorical_crossentropy</td>\n",
       "      <td>Adam</td>\n",
       "      <td>brick</td>\n",
       "    </tr>\n",
       "    <tr>\n",
       "      <td>10</td>\n",
       "      <td>10</td>\n",
       "      <td>0.648505</td>\n",
       "      <td>0.732929</td>\n",
       "      <td>0.760735</td>\n",
       "      <td>0.697750</td>\n",
       "      <td>elu</td>\n",
       "      <td>32</td>\n",
       "      <td>0.1</td>\n",
       "      <td>10</td>\n",
       "      <td>300</td>\n",
       "      <td>1</td>\n",
       "      <td>300</td>\n",
       "      <td>softmax</td>\n",
       "      <td>10</td>\n",
       "      <td>categorical_crossentropy</td>\n",
       "      <td>Nadam</td>\n",
       "      <td>brick</td>\n",
       "    </tr>\n",
       "    <tr>\n",
       "      <td>11</td>\n",
       "      <td>10</td>\n",
       "      <td>0.542611</td>\n",
       "      <td>0.821143</td>\n",
       "      <td>0.672985</td>\n",
       "      <td>0.754411</td>\n",
       "      <td>relu</td>\n",
       "      <td>128</td>\n",
       "      <td>0.2</td>\n",
       "      <td>10</td>\n",
       "      <td>100</td>\n",
       "      <td>0</td>\n",
       "      <td>300</td>\n",
       "      <td>softmax</td>\n",
       "      <td>10</td>\n",
       "      <td>categorical_crossentropy</td>\n",
       "      <td>Nadam</td>\n",
       "      <td>brick</td>\n",
       "    </tr>\n",
       "    <tr>\n",
       "      <td>12</td>\n",
       "      <td>10</td>\n",
       "      <td>0.601946</td>\n",
       "      <td>0.742643</td>\n",
       "      <td>0.739134</td>\n",
       "      <td>0.701554</td>\n",
       "      <td>relu</td>\n",
       "      <td>64</td>\n",
       "      <td>0.3</td>\n",
       "      <td>10</td>\n",
       "      <td>200</td>\n",
       "      <td>2</td>\n",
       "      <td>200</td>\n",
       "      <td>softmax</td>\n",
       "      <td>10</td>\n",
       "      <td>categorical_crossentropy</td>\n",
       "      <td>Adam</td>\n",
       "      <td>brick</td>\n",
       "    </tr>\n",
       "    <tr>\n",
       "      <td>13</td>\n",
       "      <td>10</td>\n",
       "      <td>0.581002</td>\n",
       "      <td>0.760643</td>\n",
       "      <td>0.689326</td>\n",
       "      <td>0.715893</td>\n",
       "      <td>relu</td>\n",
       "      <td>128</td>\n",
       "      <td>0.2</td>\n",
       "      <td>10</td>\n",
       "      <td>100</td>\n",
       "      <td>1</td>\n",
       "      <td>200</td>\n",
       "      <td>softmax</td>\n",
       "      <td>10</td>\n",
       "      <td>categorical_crossentropy</td>\n",
       "      <td>Adam</td>\n",
       "      <td>brick</td>\n",
       "    </tr>\n",
       "    <tr>\n",
       "      <td>14</td>\n",
       "      <td>10</td>\n",
       "      <td>0.777462</td>\n",
       "      <td>0.690357</td>\n",
       "      <td>0.745877</td>\n",
       "      <td>0.696500</td>\n",
       "      <td>relu</td>\n",
       "      <td>64</td>\n",
       "      <td>0.2</td>\n",
       "      <td>10</td>\n",
       "      <td>300</td>\n",
       "      <td>1</td>\n",
       "      <td>300</td>\n",
       "      <td>softmax</td>\n",
       "      <td>10</td>\n",
       "      <td>categorical_crossentropy</td>\n",
       "      <td>Nadam</td>\n",
       "      <td>brick</td>\n",
       "    </tr>\n",
       "    <tr>\n",
       "      <td>15</td>\n",
       "      <td>10</td>\n",
       "      <td>1.047990</td>\n",
       "      <td>0.648500</td>\n",
       "      <td>1.325981</td>\n",
       "      <td>0.482089</td>\n",
       "      <td>relu</td>\n",
       "      <td>64</td>\n",
       "      <td>0.3</td>\n",
       "      <td>10</td>\n",
       "      <td>100</td>\n",
       "      <td>1</td>\n",
       "      <td>200</td>\n",
       "      <td>softmax</td>\n",
       "      <td>10</td>\n",
       "      <td>categorical_crossentropy</td>\n",
       "      <td>Nadam</td>\n",
       "      <td>brick</td>\n",
       "    </tr>\n",
       "    <tr>\n",
       "      <td>16</td>\n",
       "      <td>10</td>\n",
       "      <td>0.607721</td>\n",
       "      <td>0.772143</td>\n",
       "      <td>0.770825</td>\n",
       "      <td>0.715839</td>\n",
       "      <td>relu</td>\n",
       "      <td>32</td>\n",
       "      <td>0.2</td>\n",
       "      <td>10</td>\n",
       "      <td>300</td>\n",
       "      <td>3</td>\n",
       "      <td>200</td>\n",
       "      <td>softmax</td>\n",
       "      <td>10</td>\n",
       "      <td>categorical_crossentropy</td>\n",
       "      <td>Nadam</td>\n",
       "      <td>brick</td>\n",
       "    </tr>\n",
       "    <tr>\n",
       "      <td>17</td>\n",
       "      <td>10</td>\n",
       "      <td>0.743342</td>\n",
       "      <td>0.727357</td>\n",
       "      <td>0.903230</td>\n",
       "      <td>0.654000</td>\n",
       "      <td>relu</td>\n",
       "      <td>64</td>\n",
       "      <td>0.3</td>\n",
       "      <td>10</td>\n",
       "      <td>100</td>\n",
       "      <td>2</td>\n",
       "      <td>300</td>\n",
       "      <td>softmax</td>\n",
       "      <td>10</td>\n",
       "      <td>categorical_crossentropy</td>\n",
       "      <td>Nadam</td>\n",
       "      <td>brick</td>\n",
       "    </tr>\n",
       "    <tr>\n",
       "      <td>18</td>\n",
       "      <td>10</td>\n",
       "      <td>0.557193</td>\n",
       "      <td>0.826714</td>\n",
       "      <td>0.658192</td>\n",
       "      <td>0.763964</td>\n",
       "      <td>elu</td>\n",
       "      <td>128</td>\n",
       "      <td>0.3</td>\n",
       "      <td>10</td>\n",
       "      <td>300</td>\n",
       "      <td>0</td>\n",
       "      <td>300</td>\n",
       "      <td>softmax</td>\n",
       "      <td>10</td>\n",
       "      <td>categorical_crossentropy</td>\n",
       "      <td>Nadam</td>\n",
       "      <td>brick</td>\n",
       "    </tr>\n",
       "    <tr>\n",
       "      <td>19</td>\n",
       "      <td>10</td>\n",
       "      <td>0.408653</td>\n",
       "      <td>0.849714</td>\n",
       "      <td>0.424269</td>\n",
       "      <td>0.848821</td>\n",
       "      <td>elu</td>\n",
       "      <td>64</td>\n",
       "      <td>0.1</td>\n",
       "      <td>10</td>\n",
       "      <td>200</td>\n",
       "      <td>2</td>\n",
       "      <td>100</td>\n",
       "      <td>softmax</td>\n",
       "      <td>10</td>\n",
       "      <td>categorical_crossentropy</td>\n",
       "      <td>Adam</td>\n",
       "      <td>brick</td>\n",
       "    </tr>\n",
       "    <tr>\n",
       "      <td>20</td>\n",
       "      <td>10</td>\n",
       "      <td>0.364064</td>\n",
       "      <td>0.870500</td>\n",
       "      <td>0.385950</td>\n",
       "      <td>0.861839</td>\n",
       "      <td>relu</td>\n",
       "      <td>128</td>\n",
       "      <td>0.1</td>\n",
       "      <td>10</td>\n",
       "      <td>300</td>\n",
       "      <td>3</td>\n",
       "      <td>300</td>\n",
       "      <td>softmax</td>\n",
       "      <td>10</td>\n",
       "      <td>categorical_crossentropy</td>\n",
       "      <td>Nadam</td>\n",
       "      <td>brick</td>\n",
       "    </tr>\n",
       "    <tr>\n",
       "      <td>21</td>\n",
       "      <td>10</td>\n",
       "      <td>0.406421</td>\n",
       "      <td>0.853071</td>\n",
       "      <td>0.428269</td>\n",
       "      <td>0.843839</td>\n",
       "      <td>relu</td>\n",
       "      <td>128</td>\n",
       "      <td>0.1</td>\n",
       "      <td>10</td>\n",
       "      <td>200</td>\n",
       "      <td>1</td>\n",
       "      <td>100</td>\n",
       "      <td>softmax</td>\n",
       "      <td>10</td>\n",
       "      <td>categorical_crossentropy</td>\n",
       "      <td>Nadam</td>\n",
       "      <td>brick</td>\n",
       "    </tr>\n",
       "    <tr>\n",
       "      <td>22</td>\n",
       "      <td>10</td>\n",
       "      <td>0.602137</td>\n",
       "      <td>0.757000</td>\n",
       "      <td>0.661195</td>\n",
       "      <td>0.728554</td>\n",
       "      <td>relu</td>\n",
       "      <td>64</td>\n",
       "      <td>0.2</td>\n",
       "      <td>10</td>\n",
       "      <td>200</td>\n",
       "      <td>1</td>\n",
       "      <td>200</td>\n",
       "      <td>softmax</td>\n",
       "      <td>10</td>\n",
       "      <td>categorical_crossentropy</td>\n",
       "      <td>Adam</td>\n",
       "      <td>brick</td>\n",
       "    </tr>\n",
       "    <tr>\n",
       "      <td>23</td>\n",
       "      <td>10</td>\n",
       "      <td>0.882662</td>\n",
       "      <td>0.626571</td>\n",
       "      <td>1.033767</td>\n",
       "      <td>0.569554</td>\n",
       "      <td>elu</td>\n",
       "      <td>128</td>\n",
       "      <td>0.3</td>\n",
       "      <td>10</td>\n",
       "      <td>100</td>\n",
       "      <td>3</td>\n",
       "      <td>100</td>\n",
       "      <td>softmax</td>\n",
       "      <td>10</td>\n",
       "      <td>categorical_crossentropy</td>\n",
       "      <td>Adam</td>\n",
       "      <td>brick</td>\n",
       "    </tr>\n",
       "    <tr>\n",
       "      <td>24</td>\n",
       "      <td>10</td>\n",
       "      <td>0.639529</td>\n",
       "      <td>0.737643</td>\n",
       "      <td>0.712422</td>\n",
       "      <td>0.723429</td>\n",
       "      <td>elu</td>\n",
       "      <td>32</td>\n",
       "      <td>0.2</td>\n",
       "      <td>10</td>\n",
       "      <td>200</td>\n",
       "      <td>1</td>\n",
       "      <td>200</td>\n",
       "      <td>softmax</td>\n",
       "      <td>10</td>\n",
       "      <td>categorical_crossentropy</td>\n",
       "      <td>Adam</td>\n",
       "      <td>brick</td>\n",
       "    </tr>\n",
       "    <tr>\n",
       "      <td>25</td>\n",
       "      <td>10</td>\n",
       "      <td>0.676887</td>\n",
       "      <td>0.743786</td>\n",
       "      <td>0.871753</td>\n",
       "      <td>0.660911</td>\n",
       "      <td>relu</td>\n",
       "      <td>64</td>\n",
       "      <td>0.3</td>\n",
       "      <td>10</td>\n",
       "      <td>200</td>\n",
       "      <td>2</td>\n",
       "      <td>100</td>\n",
       "      <td>softmax</td>\n",
       "      <td>10</td>\n",
       "      <td>categorical_crossentropy</td>\n",
       "      <td>Nadam</td>\n",
       "      <td>brick</td>\n",
       "    </tr>\n",
       "    <tr>\n",
       "      <td>26</td>\n",
       "      <td>10</td>\n",
       "      <td>0.672772</td>\n",
       "      <td>0.739214</td>\n",
       "      <td>0.880346</td>\n",
       "      <td>0.666732</td>\n",
       "      <td>relu</td>\n",
       "      <td>64</td>\n",
       "      <td>0.3</td>\n",
       "      <td>10</td>\n",
       "      <td>300</td>\n",
       "      <td>1</td>\n",
       "      <td>100</td>\n",
       "      <td>softmax</td>\n",
       "      <td>10</td>\n",
       "      <td>categorical_crossentropy</td>\n",
       "      <td>Nadam</td>\n",
       "      <td>brick</td>\n",
       "    </tr>\n",
       "    <tr>\n",
       "      <td>27</td>\n",
       "      <td>10</td>\n",
       "      <td>0.777283</td>\n",
       "      <td>0.650714</td>\n",
       "      <td>1.180751</td>\n",
       "      <td>0.581625</td>\n",
       "      <td>elu</td>\n",
       "      <td>32</td>\n",
       "      <td>0.3</td>\n",
       "      <td>10</td>\n",
       "      <td>300</td>\n",
       "      <td>1</td>\n",
       "      <td>200</td>\n",
       "      <td>softmax</td>\n",
       "      <td>10</td>\n",
       "      <td>categorical_crossentropy</td>\n",
       "      <td>Nadam</td>\n",
       "      <td>brick</td>\n",
       "    </tr>\n",
       "    <tr>\n",
       "      <td>28</td>\n",
       "      <td>10</td>\n",
       "      <td>0.630540</td>\n",
       "      <td>0.742929</td>\n",
       "      <td>0.711987</td>\n",
       "      <td>0.711839</td>\n",
       "      <td>elu</td>\n",
       "      <td>32</td>\n",
       "      <td>0.3</td>\n",
       "      <td>10</td>\n",
       "      <td>200</td>\n",
       "      <td>2</td>\n",
       "      <td>200</td>\n",
       "      <td>softmax</td>\n",
       "      <td>10</td>\n",
       "      <td>categorical_crossentropy</td>\n",
       "      <td>Adam</td>\n",
       "      <td>brick</td>\n",
       "    </tr>\n",
       "    <tr>\n",
       "      <td>29</td>\n",
       "      <td>10</td>\n",
       "      <td>0.429164</td>\n",
       "      <td>0.851571</td>\n",
       "      <td>0.483304</td>\n",
       "      <td>0.825411</td>\n",
       "      <td>elu</td>\n",
       "      <td>64</td>\n",
       "      <td>0.1</td>\n",
       "      <td>10</td>\n",
       "      <td>200</td>\n",
       "      <td>1</td>\n",
       "      <td>100</td>\n",
       "      <td>softmax</td>\n",
       "      <td>10</td>\n",
       "      <td>categorical_crossentropy</td>\n",
       "      <td>Nadam</td>\n",
       "      <td>brick</td>\n",
       "    </tr>\n",
       "    <tr>\n",
       "      <td>30</td>\n",
       "      <td>10</td>\n",
       "      <td>0.559056</td>\n",
       "      <td>0.783071</td>\n",
       "      <td>0.598105</td>\n",
       "      <td>0.758375</td>\n",
       "      <td>elu</td>\n",
       "      <td>128</td>\n",
       "      <td>0.2</td>\n",
       "      <td>10</td>\n",
       "      <td>100</td>\n",
       "      <td>3</td>\n",
       "      <td>200</td>\n",
       "      <td>softmax</td>\n",
       "      <td>10</td>\n",
       "      <td>categorical_crossentropy</td>\n",
       "      <td>Adam</td>\n",
       "      <td>brick</td>\n",
       "    </tr>\n",
       "    <tr>\n",
       "      <td>31</td>\n",
       "      <td>10</td>\n",
       "      <td>0.869254</td>\n",
       "      <td>0.636643</td>\n",
       "      <td>1.127568</td>\n",
       "      <td>0.547161</td>\n",
       "      <td>elu</td>\n",
       "      <td>64</td>\n",
       "      <td>0.3</td>\n",
       "      <td>10</td>\n",
       "      <td>100</td>\n",
       "      <td>1</td>\n",
       "      <td>200</td>\n",
       "      <td>softmax</td>\n",
       "      <td>10</td>\n",
       "      <td>categorical_crossentropy</td>\n",
       "      <td>Nadam</td>\n",
       "      <td>brick</td>\n",
       "    </tr>\n",
       "    <tr>\n",
       "      <td>32</td>\n",
       "      <td>10</td>\n",
       "      <td>0.651317</td>\n",
       "      <td>0.731500</td>\n",
       "      <td>0.812412</td>\n",
       "      <td>0.690607</td>\n",
       "      <td>relu</td>\n",
       "      <td>64</td>\n",
       "      <td>0.3</td>\n",
       "      <td>10</td>\n",
       "      <td>300</td>\n",
       "      <td>3</td>\n",
       "      <td>300</td>\n",
       "      <td>softmax</td>\n",
       "      <td>10</td>\n",
       "      <td>categorical_crossentropy</td>\n",
       "      <td>Nadam</td>\n",
       "      <td>brick</td>\n",
       "    </tr>\n",
       "    <tr>\n",
       "      <td>33</td>\n",
       "      <td>10</td>\n",
       "      <td>0.611670</td>\n",
       "      <td>0.750500</td>\n",
       "      <td>0.711348</td>\n",
       "      <td>0.721893</td>\n",
       "      <td>elu</td>\n",
       "      <td>32</td>\n",
       "      <td>0.1</td>\n",
       "      <td>10</td>\n",
       "      <td>300</td>\n",
       "      <td>2</td>\n",
       "      <td>100</td>\n",
       "      <td>softmax</td>\n",
       "      <td>10</td>\n",
       "      <td>categorical_crossentropy</td>\n",
       "      <td>Nadam</td>\n",
       "      <td>brick</td>\n",
       "    </tr>\n",
       "    <tr>\n",
       "      <td>34</td>\n",
       "      <td>10</td>\n",
       "      <td>0.471412</td>\n",
       "      <td>0.822000</td>\n",
       "      <td>0.530524</td>\n",
       "      <td>0.802482</td>\n",
       "      <td>relu</td>\n",
       "      <td>128</td>\n",
       "      <td>0.2</td>\n",
       "      <td>10</td>\n",
       "      <td>300</td>\n",
       "      <td>3</td>\n",
       "      <td>100</td>\n",
       "      <td>softmax</td>\n",
       "      <td>10</td>\n",
       "      <td>categorical_crossentropy</td>\n",
       "      <td>Adam</td>\n",
       "      <td>brick</td>\n",
       "    </tr>\n",
       "    <tr>\n",
       "      <td>35</td>\n",
       "      <td>10</td>\n",
       "      <td>0.458349</td>\n",
       "      <td>0.829500</td>\n",
       "      <td>0.522470</td>\n",
       "      <td>0.807696</td>\n",
       "      <td>relu</td>\n",
       "      <td>32</td>\n",
       "      <td>0.1</td>\n",
       "      <td>10</td>\n",
       "      <td>100</td>\n",
       "      <td>3</td>\n",
       "      <td>200</td>\n",
       "      <td>softmax</td>\n",
       "      <td>10</td>\n",
       "      <td>categorical_crossentropy</td>\n",
       "      <td>Adam</td>\n",
       "      <td>brick</td>\n",
       "    </tr>\n",
       "    <tr>\n",
       "      <td>36</td>\n",
       "      <td>10</td>\n",
       "      <td>0.487392</td>\n",
       "      <td>0.808786</td>\n",
       "      <td>0.592852</td>\n",
       "      <td>0.759036</td>\n",
       "      <td>elu</td>\n",
       "      <td>128</td>\n",
       "      <td>0.3</td>\n",
       "      <td>10</td>\n",
       "      <td>300</td>\n",
       "      <td>2</td>\n",
       "      <td>300</td>\n",
       "      <td>softmax</td>\n",
       "      <td>10</td>\n",
       "      <td>categorical_crossentropy</td>\n",
       "      <td>Adam</td>\n",
       "      <td>brick</td>\n",
       "    </tr>\n",
       "    <tr>\n",
       "      <td>37</td>\n",
       "      <td>10</td>\n",
       "      <td>0.395392</td>\n",
       "      <td>0.860714</td>\n",
       "      <td>0.447811</td>\n",
       "      <td>0.837946</td>\n",
       "      <td>elu</td>\n",
       "      <td>128</td>\n",
       "      <td>0.1</td>\n",
       "      <td>10</td>\n",
       "      <td>100</td>\n",
       "      <td>3</td>\n",
       "      <td>100</td>\n",
       "      <td>softmax</td>\n",
       "      <td>10</td>\n",
       "      <td>categorical_crossentropy</td>\n",
       "      <td>Nadam</td>\n",
       "      <td>brick</td>\n",
       "    </tr>\n",
       "  </tbody>\n",
       "</table>\n",
       "</div>"
      ],
      "text/plain": [
       "    round_epochs  val_loss   val_acc      loss       acc activation  \\\n",
       "0             10  0.506374  0.841571  0.612387  0.777464        elu   \n",
       "1             10  0.661314  0.724929  0.753906  0.704268       relu   \n",
       "2             10  0.594900  0.754071  0.722038  0.706714        elu   \n",
       "3             10  0.658638  0.773571  0.777002  0.708411        elu   \n",
       "4             10  0.625690  0.740214  0.830353  0.681232       relu   \n",
       "5             10  0.595928  0.795500  0.720555  0.757429        elu   \n",
       "6             10  0.900852  0.649214  1.054143  0.567161       relu   \n",
       "7             10  0.498431  0.837143  0.508863  0.820500       relu   \n",
       "8             10  0.445998  0.844214  0.459256  0.844054        elu   \n",
       "9             10  0.580566  0.742000  0.655127  0.733214        elu   \n",
       "10            10  0.648505  0.732929  0.760735  0.697750        elu   \n",
       "11            10  0.542611  0.821143  0.672985  0.754411       relu   \n",
       "12            10  0.601946  0.742643  0.739134  0.701554       relu   \n",
       "13            10  0.581002  0.760643  0.689326  0.715893       relu   \n",
       "14            10  0.777462  0.690357  0.745877  0.696500       relu   \n",
       "15            10  1.047990  0.648500  1.325981  0.482089       relu   \n",
       "16            10  0.607721  0.772143  0.770825  0.715839       relu   \n",
       "17            10  0.743342  0.727357  0.903230  0.654000       relu   \n",
       "18            10  0.557193  0.826714  0.658192  0.763964        elu   \n",
       "19            10  0.408653  0.849714  0.424269  0.848821        elu   \n",
       "20            10  0.364064  0.870500  0.385950  0.861839       relu   \n",
       "21            10  0.406421  0.853071  0.428269  0.843839       relu   \n",
       "22            10  0.602137  0.757000  0.661195  0.728554       relu   \n",
       "23            10  0.882662  0.626571  1.033767  0.569554        elu   \n",
       "24            10  0.639529  0.737643  0.712422  0.723429        elu   \n",
       "25            10  0.676887  0.743786  0.871753  0.660911       relu   \n",
       "26            10  0.672772  0.739214  0.880346  0.666732       relu   \n",
       "27            10  0.777283  0.650714  1.180751  0.581625        elu   \n",
       "28            10  0.630540  0.742929  0.711987  0.711839        elu   \n",
       "29            10  0.429164  0.851571  0.483304  0.825411        elu   \n",
       "30            10  0.559056  0.783071  0.598105  0.758375        elu   \n",
       "31            10  0.869254  0.636643  1.127568  0.547161        elu   \n",
       "32            10  0.651317  0.731500  0.812412  0.690607       relu   \n",
       "33            10  0.611670  0.750500  0.711348  0.721893        elu   \n",
       "34            10  0.471412  0.822000  0.530524  0.802482       relu   \n",
       "35            10  0.458349  0.829500  0.522470  0.807696       relu   \n",
       "36            10  0.487392  0.808786  0.592852  0.759036        elu   \n",
       "37            10  0.395392  0.860714  0.447811  0.837946        elu   \n",
       "\n",
       "    batch_size  dropout  epochs  first_neuron  hidden_layers  hidden_neuron  \\\n",
       "0          128      0.3      10           200              0            200   \n",
       "1           32      0.2      10           300              3            100   \n",
       "2           64      0.3      10           200              1            100   \n",
       "3           64      0.2      10           100              0            100   \n",
       "4          128      0.3      10           300              1            300   \n",
       "5           32      0.2      10           200              0            100   \n",
       "6          128      0.3      10           100              2            100   \n",
       "7           64      0.1      10           300              0            300   \n",
       "8           32      0.1      10           200              3            300   \n",
       "9           32      0.3      10           300              3            100   \n",
       "10          32      0.1      10           300              1            300   \n",
       "11         128      0.2      10           100              0            300   \n",
       "12          64      0.3      10           200              2            200   \n",
       "13         128      0.2      10           100              1            200   \n",
       "14          64      0.2      10           300              1            300   \n",
       "15          64      0.3      10           100              1            200   \n",
       "16          32      0.2      10           300              3            200   \n",
       "17          64      0.3      10           100              2            300   \n",
       "18         128      0.3      10           300              0            300   \n",
       "19          64      0.1      10           200              2            100   \n",
       "20         128      0.1      10           300              3            300   \n",
       "21         128      0.1      10           200              1            100   \n",
       "22          64      0.2      10           200              1            200   \n",
       "23         128      0.3      10           100              3            100   \n",
       "24          32      0.2      10           200              1            200   \n",
       "25          64      0.3      10           200              2            100   \n",
       "26          64      0.3      10           300              1            100   \n",
       "27          32      0.3      10           300              1            200   \n",
       "28          32      0.3      10           200              2            200   \n",
       "29          64      0.1      10           200              1            100   \n",
       "30         128      0.2      10           100              3            200   \n",
       "31          64      0.3      10           100              1            200   \n",
       "32          64      0.3      10           300              3            300   \n",
       "33          32      0.1      10           300              2            100   \n",
       "34         128      0.2      10           300              3            100   \n",
       "35          32      0.1      10           100              3            200   \n",
       "36         128      0.3      10           300              2            300   \n",
       "37         128      0.1      10           100              3            100   \n",
       "\n",
       "   last_activation  last_neuron                    losses optimizer shapes  \n",
       "0          softmax           10  categorical_crossentropy      Adam  brick  \n",
       "1          softmax           10  categorical_crossentropy     Nadam  brick  \n",
       "2          softmax           10  categorical_crossentropy      Adam  brick  \n",
       "3          softmax           10  categorical_crossentropy     Nadam  brick  \n",
       "4          softmax           10  categorical_crossentropy     Nadam  brick  \n",
       "5          softmax           10  categorical_crossentropy      Adam  brick  \n",
       "6          softmax           10  categorical_crossentropy      Adam  brick  \n",
       "7          softmax           10  categorical_crossentropy      Adam  brick  \n",
       "8          softmax           10  categorical_crossentropy      Adam  brick  \n",
       "9          softmax           10  categorical_crossentropy      Adam  brick  \n",
       "10         softmax           10  categorical_crossentropy     Nadam  brick  \n",
       "11         softmax           10  categorical_crossentropy     Nadam  brick  \n",
       "12         softmax           10  categorical_crossentropy      Adam  brick  \n",
       "13         softmax           10  categorical_crossentropy      Adam  brick  \n",
       "14         softmax           10  categorical_crossentropy     Nadam  brick  \n",
       "15         softmax           10  categorical_crossentropy     Nadam  brick  \n",
       "16         softmax           10  categorical_crossentropy     Nadam  brick  \n",
       "17         softmax           10  categorical_crossentropy     Nadam  brick  \n",
       "18         softmax           10  categorical_crossentropy     Nadam  brick  \n",
       "19         softmax           10  categorical_crossentropy      Adam  brick  \n",
       "20         softmax           10  categorical_crossentropy     Nadam  brick  \n",
       "21         softmax           10  categorical_crossentropy     Nadam  brick  \n",
       "22         softmax           10  categorical_crossentropy      Adam  brick  \n",
       "23         softmax           10  categorical_crossentropy      Adam  brick  \n",
       "24         softmax           10  categorical_crossentropy      Adam  brick  \n",
       "25         softmax           10  categorical_crossentropy     Nadam  brick  \n",
       "26         softmax           10  categorical_crossentropy     Nadam  brick  \n",
       "27         softmax           10  categorical_crossentropy     Nadam  brick  \n",
       "28         softmax           10  categorical_crossentropy      Adam  brick  \n",
       "29         softmax           10  categorical_crossentropy     Nadam  brick  \n",
       "30         softmax           10  categorical_crossentropy      Adam  brick  \n",
       "31         softmax           10  categorical_crossentropy     Nadam  brick  \n",
       "32         softmax           10  categorical_crossentropy     Nadam  brick  \n",
       "33         softmax           10  categorical_crossentropy     Nadam  brick  \n",
       "34         softmax           10  categorical_crossentropy      Adam  brick  \n",
       "35         softmax           10  categorical_crossentropy      Adam  brick  \n",
       "36         softmax           10  categorical_crossentropy      Adam  brick  \n",
       "37         softmax           10  categorical_crossentropy     Nadam  brick  "
      ]
     },
     "execution_count": 38,
     "metadata": {},
     "output_type": "execute_result"
    }
   ],
   "source": [
    "# acceso al DataFrame del analisis del reporte\n",
    "analyzePerceptron.data"
   ]
  },
  {
   "cell_type": "code",
   "execution_count": 39,
   "metadata": {},
   "outputs": [
    {
     "data": {
      "text/plain": [
       "38"
      ]
     },
     "execution_count": 39,
     "metadata": {},
     "output_type": "execute_result"
    }
   ],
   "source": [
    "# numero de experimentos realizados\n",
    "analyzePerceptron.rounds()"
   ]
  },
  {
   "cell_type": "code",
   "execution_count": 40,
   "metadata": {},
   "outputs": [
    {
     "data": {
      "text/plain": [
       "0.8705000281333923"
      ]
     },
     "execution_count": 40,
     "metadata": {},
     "output_type": "execute_result"
    }
   ],
   "source": [
    "# se recupera el numero del modelo con mejor puntaje, en este caso es la precision de pruetas/validacion \"val_acc\"\n",
    "analyzePerceptron.high(\"val_acc\")"
   ]
  },
  {
   "cell_type": "code",
   "execution_count": 41,
   "metadata": {},
   "outputs": [
    {
     "data": {
      "text/plain": [
       "20"
      ]
     },
     "execution_count": 41,
     "metadata": {},
     "output_type": "execute_result"
    }
   ],
   "source": [
    "# get the round with the best result\n",
    "analyzePerceptron.rounds2high(\"val_acc\")"
   ]
  },
  {
   "cell_type": "code",
   "execution_count": 42,
   "metadata": {},
   "outputs": [
    {
     "data": {
      "text/plain": [
       "array([['brick', 300, 'softmax', 3, 128, 10, 10, 10, 'Nadam', 'relu',\n",
       "        300, 'categorical_crossentropy', 0.1, 0],\n",
       "       ['brick', 100, 'softmax', 3, 128, 10, 10, 10, 'Nadam', 'elu', 100,\n",
       "        'categorical_crossentropy', 0.1, 1],\n",
       "       ['brick', 200, 'softmax', 1, 128, 10, 10, 10, 'Nadam', 'relu',\n",
       "        100, 'categorical_crossentropy', 0.1, 2],\n",
       "       ['brick', 200, 'softmax', 1, 64, 10, 10, 10, 'Nadam', 'elu', 100,\n",
       "        'categorical_crossentropy', 0.1, 3],\n",
       "       ['brick', 200, 'softmax', 2, 64, 10, 10, 10, 'Adam', 'elu', 100,\n",
       "        'categorical_crossentropy', 0.1, 4],\n",
       "       ['brick', 200, 'softmax', 3, 32, 10, 10, 10, 'Adam', 'elu', 300,\n",
       "        'categorical_crossentropy', 0.1, 5],\n",
       "       ['brick', 200, 'softmax', 0, 128, 10, 10, 10, 'Adam', 'elu', 200,\n",
       "        'categorical_crossentropy', 0.3, 6],\n",
       "       ['brick', 300, 'softmax', 0, 64, 10, 10, 10, 'Adam', 'relu', 300,\n",
       "        'categorical_crossentropy', 0.1, 7],\n",
       "       ['brick', 100, 'softmax', 3, 32, 10, 10, 10, 'Adam', 'relu', 200,\n",
       "        'categorical_crossentropy', 0.1, 8],\n",
       "       ['brick', 300, 'softmax', 0, 128, 10, 10, 10, 'Nadam', 'elu', 300,\n",
       "        'categorical_crossentropy', 0.3, 9]], dtype=object)"
      ]
     },
     "execution_count": 42,
     "metadata": {},
     "output_type": "execute_result"
    }
   ],
   "source": [
    "# imprime los mejores parametros encontrados en el proceso de optimizacion\n",
    "analyzePerceptron.best_params(\"val_acc\", [\"acc\", \"loss\", \"val_loss\"])"
   ]
  },
  {
   "cell_type": "code",
   "execution_count": 43,
   "metadata": {},
   "outputs": [
    {
     "data": {
      "text/plain": [
       "round_epochs          NaN\n",
       "val_acc         -0.944578\n",
       "batch_size      -0.178436\n",
       "dropout          0.614128\n",
       "epochs                NaN\n",
       "first_neuron    -0.232673\n",
       "hidden_layers   -0.128565\n",
       "hidden_neuron   -0.035637\n",
       "last_neuron           NaN\n",
       "Name: val_loss, dtype: float64"
      ]
     },
     "execution_count": 43,
     "metadata": {},
     "output_type": "execute_result"
    }
   ],
   "source": [
    "# correlacion entre el puntaje y el resto de los hyperparametros\n",
    "analyzePerceptron.correlate(\"val_loss\", [\"acc\", \"loss\", \"val_loss\"])"
   ]
  },
  {
   "cell_type": "code",
   "execution_count": 44,
   "metadata": {},
   "outputs": [
    {
     "data": {
      "image/png": "[encoded data removed]",
      "text/plain": [
       "<Figure size 720x475.2 with 1 Axes>"
      ]
     },
     "metadata": {},
     "output_type": "display_data"
    }
   ],
   "source": [
    "# a regression entre precision de puntaje/precision y perdida del conjunto de preubas\n",
    "analyzePerceptron.plot_regs(\"val_acc\", \"val_loss\")"
   ]
  },
  {
   "cell_type": "code",
   "execution_count": 45,
   "metadata": {},
   "outputs": [
    {
     "data": {
      "image/png": "[encoded data removed]",
      "text/plain": [
       "<Figure size 864x475.2 with 1 Axes>"
      ]
     },
     "metadata": {},
     "output_type": "display_data"
    }
   ],
   "source": [
    "# linea de resultados de la precision de los experimentos\n",
    "analyzePerceptron.plot_line(\"val_acc\")"
   ]
  },
  {
   "cell_type": "code",
   "execution_count": 46,
   "metadata": {},
   "outputs": [
    {
     "data": {
      "image/png": "[encoded data removed]",
      "text/plain": [
       "<Figure size 720x475.2 with 1 Axes>"
      ]
     },
     "metadata": {},
     "output_type": "display_data"
    }
   ],
   "source": [
    "# distribucion de probabilidad de la precision de pruebas\n",
    "analyzePerceptron.plot_kde(\"val_acc\")"
   ]
  },
  {
   "cell_type": "code",
   "execution_count": 47,
   "metadata": {},
   "outputs": [
    {
     "data": {
      "image/png": "[encoded data removed]",
      "text/plain": [
       "<Figure size 720x475.2 with 1 Axes>"
      ]
     },
     "metadata": {},
     "output_type": "display_data"
    }
   ],
   "source": [
    "# histograma de la precision de pruebas de los experimentso\n",
    "analyzePerceptron.plot_hist(\"val_acc\", bins = 50)"
   ]
  },
  {
   "cell_type": "code",
   "execution_count": 48,
   "metadata": {},
   "outputs": [
    {
     "data": {
      "image/png": "[encoded data removed]",
      "text/plain": [
       "<Figure size 756x756 with 2 Axes>"
      ]
     },
     "metadata": {},
     "output_type": "display_data"
    }
   ],
   "source": [
    "# mapa de correlacion para la correlacion de de la precision de preubas y otras variables\n",
    "analyzePerceptron.plot_corr(\"val_loss\", [\"acc\", \"loss\", \"val_loss\"])"
   ]
  },
  {
   "cell_type": "code",
   "execution_count": 49,
   "metadata": {},
   "outputs": [
    {
     "data": {
      "image/png": "[encoded data removed]",
      "text/plain": [
       "<Figure size 1219.88x288 with 3 Axes>"
      ]
     },
     "metadata": {},
     "output_type": "display_data"
    }
   ],
   "source": [
    "# grafica analizando el comportamiento de las capas ocultas, precision de pruebas, # de neuroans en la entrada y # de neuronas en la capa escondida\n",
    "analyzePerceptron.plot_bars(\"hidden_layers\", \"val_acc\", \"first_neuron\", \"hidden_neuron\")"
   ]
  },
  {
   "cell_type": "code",
   "execution_count": 50,
   "metadata": {},
   "outputs": [
    {
     "data": {
      "image/png": "[encoded data removed]",
      "text/plain": [
       "<Figure size 1219.88x288 with 3 Axes>"
      ]
     },
     "metadata": {},
     "output_type": "display_data"
    }
   ],
   "source": [
    "# grafica analizando el comportamiento de las capas ocultas, precision de pruebas, # de neuroans en la entrada y # de neuronas en la capa escondida\n",
    "analyzePerceptron.plot_bars(\"hidden_layers\", \"val_loss\", \"first_neuron\", \"hidden_neuron\")"
   ]
  },
  {
   "cell_type": "markdown",
   "metadata": {},
   "source": [
    "### Evaluando finalmente el Modelo\n",
    "por defecto Talos si no se indica el ID del modelo para evaluar, escoge el mejor."
   ]
  },
  {
   "cell_type": "code",
   "execution_count": 51,
   "metadata": {},
   "outputs": [],
   "source": [
    "# creando el objeto para evaluar con Talos\n",
    "evaluatePerceptron = talos.Evaluate(scanPerceptron)"
   ]
  },
  {
   "cell_type": "code",
   "execution_count": 52,
   "metadata": {},
   "outputs": [],
   "source": [
    "# evaluacion final de los datos con el mejor modelo\n",
    "bestAcc = evaluatePerceptron.evaluate(np.array(X_testB), to_categorical(np.array(y_testB)), folds = 5, metric = \"val_acc\", task = \"multi_label\")"
   ]
  },
  {
   "cell_type": "code",
   "execution_count": 53,
   "metadata": {},
   "outputs": [
    {
     "name": "stdout",
     "output_type": "stream",
     "text": [
      "Model: \"sequential_1\"\n",
      "_________________________________________________________________\n",
      "Layer (type)                 Output Shape              Param #   \n",
      "=================================================================\n",
      "flatten_1 (Flatten)          (None, 784)               0         \n",
      "_________________________________________________________________\n",
      "dense_1 (Dense)              (None, 300)               235500    \n",
      "_________________________________________________________________\n",
      "dropout_1 (Dropout)          (None, 300)               0         \n",
      "_________________________________________________________________\n",
      "dense_2 (Dense)              (None, 300)               90300     \n",
      "_________________________________________________________________\n",
      "dropout_2 (Dropout)          (None, 300)               0         \n",
      "_________________________________________________________________\n",
      "dense_3 (Dense)              (None, 300)               90300     \n",
      "_________________________________________________________________\n",
      "dropout_3 (Dropout)          (None, 300)               0         \n",
      "_________________________________________________________________\n",
      "dense_4 (Dense)              (None, 300)               90300     \n",
      "_________________________________________________________________\n",
      "dropout_4 (Dropout)          (None, 300)               0         \n",
      "_________________________________________________________________\n",
      "dense_5 (Dense)              (None, 10)                3010      \n",
      "=================================================================\n",
      "Total params: 509,410\n",
      "Trainable params: 509,410\n",
      "Non-trainable params: 0\n",
      "_________________________________________________________________\n"
     ]
    }
   ],
   "source": [
    "# resumen basico del mejor MLP\n",
    "evaluatePerceptron.scan_object.best_model(metric='val_acc').summary()"
   ]
  },
  {
   "cell_type": "code",
   "execution_count": 54,
   "metadata": {},
   "outputs": [
    {
     "data": {
      "text/plain": [
       "{'name': 'sequential_1',\n",
       " 'layers': [{'class_name': 'Flatten',\n",
       "   'config': {'name': 'flatten_1',\n",
       "    'trainable': True,\n",
       "    'batch_input_shape': (None, 28, 28),\n",
       "    'dtype': 'float32',\n",
       "    'data_format': 'channels_last'}},\n",
       "  {'class_name': 'Dense',\n",
       "   'config': {'name': 'dense_1',\n",
       "    'trainable': True,\n",
       "    'batch_input_shape': (None, 28, 28),\n",
       "    'dtype': 'float32',\n",
       "    'units': 300,\n",
       "    'activation': 'relu',\n",
       "    'use_bias': True,\n",
       "    'kernel_initializer': {'class_name': 'VarianceScaling',\n",
       "     'config': {'scale': 1.0,\n",
       "      'mode': 'fan_avg',\n",
       "      'distribution': 'uniform',\n",
       "      'seed': None}},\n",
       "    'bias_initializer': {'class_name': 'Zeros', 'config': {}},\n",
       "    'kernel_regularizer': None,\n",
       "    'bias_regularizer': None,\n",
       "    'activity_regularizer': None,\n",
       "    'kernel_constraint': None,\n",
       "    'bias_constraint': None}},\n",
       "  {'class_name': 'Dropout',\n",
       "   'config': {'name': 'dropout_1',\n",
       "    'trainable': True,\n",
       "    'dtype': 'float32',\n",
       "    'rate': 0.1,\n",
       "    'noise_shape': None,\n",
       "    'seed': None}},\n",
       "  {'class_name': 'Dense',\n",
       "   'config': {'name': 'dense_2',\n",
       "    'trainable': True,\n",
       "    'batch_input_shape': (None, 784),\n",
       "    'dtype': 'float32',\n",
       "    'units': 300,\n",
       "    'activation': 'relu',\n",
       "    'use_bias': True,\n",
       "    'kernel_initializer': {'class_name': 'VarianceScaling',\n",
       "     'config': {'scale': 1.0,\n",
       "      'mode': 'fan_avg',\n",
       "      'distribution': 'uniform',\n",
       "      'seed': None}},\n",
       "    'bias_initializer': {'class_name': 'Zeros', 'config': {}},\n",
       "    'kernel_regularizer': None,\n",
       "    'bias_regularizer': None,\n",
       "    'activity_regularizer': None,\n",
       "    'kernel_constraint': None,\n",
       "    'bias_constraint': None}},\n",
       "  {'class_name': 'Dropout',\n",
       "   'config': {'name': 'dropout_2',\n",
       "    'trainable': True,\n",
       "    'dtype': 'float32',\n",
       "    'rate': 0.1,\n",
       "    'noise_shape': None,\n",
       "    'seed': None}},\n",
       "  {'class_name': 'Dense',\n",
       "   'config': {'name': 'dense_3',\n",
       "    'trainable': True,\n",
       "    'batch_input_shape': (None, 784),\n",
       "    'dtype': 'float32',\n",
       "    'units': 300,\n",
       "    'activation': 'relu',\n",
       "    'use_bias': True,\n",
       "    'kernel_initializer': {'class_name': 'VarianceScaling',\n",
       "     'config': {'scale': 1.0,\n",
       "      'mode': 'fan_avg',\n",
       "      'distribution': 'uniform',\n",
       "      'seed': None}},\n",
       "    'bias_initializer': {'class_name': 'Zeros', 'config': {}},\n",
       "    'kernel_regularizer': None,\n",
       "    'bias_regularizer': None,\n",
       "    'activity_regularizer': None,\n",
       "    'kernel_constraint': None,\n",
       "    'bias_constraint': None}},\n",
       "  {'class_name': 'Dropout',\n",
       "   'config': {'name': 'dropout_3',\n",
       "    'trainable': True,\n",
       "    'dtype': 'float32',\n",
       "    'rate': 0.1,\n",
       "    'noise_shape': None,\n",
       "    'seed': None}},\n",
       "  {'class_name': 'Dense',\n",
       "   'config': {'name': 'dense_4',\n",
       "    'trainable': True,\n",
       "    'batch_input_shape': (None, 784),\n",
       "    'dtype': 'float32',\n",
       "    'units': 300,\n",
       "    'activation': 'relu',\n",
       "    'use_bias': True,\n",
       "    'kernel_initializer': {'class_name': 'VarianceScaling',\n",
       "     'config': {'scale': 1.0,\n",
       "      'mode': 'fan_avg',\n",
       "      'distribution': 'uniform',\n",
       "      'seed': None}},\n",
       "    'bias_initializer': {'class_name': 'Zeros', 'config': {}},\n",
       "    'kernel_regularizer': None,\n",
       "    'bias_regularizer': None,\n",
       "    'activity_regularizer': None,\n",
       "    'kernel_constraint': None,\n",
       "    'bias_constraint': None}},\n",
       "  {'class_name': 'Dropout',\n",
       "   'config': {'name': 'dropout_4',\n",
       "    'trainable': True,\n",
       "    'dtype': 'float32',\n",
       "    'rate': 0.1,\n",
       "    'noise_shape': None,\n",
       "    'seed': None}},\n",
       "  {'class_name': 'Dense',\n",
       "   'config': {'name': 'dense_5',\n",
       "    'trainable': True,\n",
       "    'batch_input_shape': (None, 784),\n",
       "    'dtype': 'float32',\n",
       "    'units': 10,\n",
       "    'activation': 'softmax',\n",
       "    'use_bias': True,\n",
       "    'kernel_initializer': {'class_name': 'VarianceScaling',\n",
       "     'config': {'scale': 1.0,\n",
       "      'mode': 'fan_avg',\n",
       "      'distribution': 'uniform',\n",
       "      'seed': None}},\n",
       "    'bias_initializer': {'class_name': 'Zeros', 'config': {}},\n",
       "    'kernel_regularizer': None,\n",
       "    'bias_regularizer': None,\n",
       "    'activity_regularizer': None,\n",
       "    'kernel_constraint': None,\n",
       "    'bias_constraint': None}}]}"
      ]
     },
     "execution_count": 54,
     "metadata": {},
     "output_type": "execute_result"
    }
   ],
   "source": [
    "# configuracion especifica del mejor MLP\n",
    "evaluatePerceptron.scan_object.best_model(metric='val_acc').get_config()"
   ]
  },
  {
   "cell_type": "markdown",
   "metadata": {},
   "source": [
    "### Predicciones y Análisis detallado del mejor Modelo"
   ]
  },
  {
   "cell_type": "code",
   "execution_count": 55,
   "metadata": {},
   "outputs": [],
   "source": [
    "# predecir resultados con el mejor modelo\n",
    "predictPerceptron = talos.Predict(scanPerceptron, task = \"multi_label\")"
   ]
  },
  {
   "cell_type": "code",
   "execution_count": 56,
   "metadata": {},
   "outputs": [],
   "source": [
    "# se prueba MLP de sklearn\n",
    "bestPrediction = predictPerceptron.predict(np.array(X_testB))\n",
    "\n",
    "# ajuste de las predicciones para ver el reporte de matrix de confusion\n",
    "bestPrediction = np.array(bestPrediction).argmax(axis=1)"
   ]
  },
  {
   "cell_type": "code",
   "execution_count": 57,
   "metadata": {},
   "outputs": [
    {
     "name": "stdout",
     "output_type": "stream",
     "text": [
      "----- Reporte FINAL de Pruebas MLP -----\n",
      "--- Conteo ---\n",
      "Counter({0: 1573, 9: 1545, 3: 1521, 4: 1480, 2: 1389, 5: 1387, 1: 1382, 8: 1332, 7: 1318, 6: 1073})\n",
      "--- Matriz de Confusion ---\n",
      "[[1209    1   23   71    4    2   75    0    9    0]\n",
      " [   6 1364    2   22    1    1    5    0    1    0]\n",
      " [  13    1 1119   20  185    2   64    0    3    0]\n",
      " [  34   10    8 1302   64    0   27    0    3    1]\n",
      " [   3    1   93   43 1110    0  104    0    3    0]\n",
      " [   1    0    0    2    0 1357    0   47    5   37]\n",
      " [ 307    3  135   56  112    1  783    0   10    0]\n",
      " [   0    0    0    0    0    8    0 1246    2  103]\n",
      " [   0    2    9    5    4    3   15    5 1296    3]\n",
      " [   0    0    0    0    0   13    0   20    0 1401]]\n",
      "--- Reporte de Pruebas: ---\n",
      "              precision    recall  f1-score   support\n",
      "\n",
      "           0       0.77      0.87      0.81      1394\n",
      "           1       0.99      0.97      0.98      1402\n",
      "           2       0.81      0.80      0.80      1407\n",
      "           3       0.86      0.90      0.88      1449\n",
      "           4       0.75      0.82      0.78      1357\n",
      "           5       0.98      0.94      0.96      1449\n",
      "           6       0.73      0.56      0.63      1407\n",
      "           7       0.95      0.92      0.93      1359\n",
      "           8       0.97      0.97      0.97      1342\n",
      "           9       0.91      0.98      0.94      1434\n",
      "\n",
      "    accuracy                           0.87     14000\n",
      "   macro avg       0.87      0.87      0.87     14000\n",
      "weighted avg       0.87      0.87      0.87     14000\n",
      "\n",
      "--- Puntaje ---\n",
      "\n",
      " - Precision:  [0.8730378100561366, 0.8729786451700488, 0.8651683090405664, 0.8682130666217759, 0.861586719517385]\n",
      " - Precision Promedio:  0.8681969100811825\n"
     ]
    }
   ],
   "source": [
    "# Informe de los resultados para las pruebas del MLP\n",
    "print(\"----- Reporte FINAL de Pruebas MLP -----\")\n",
    "print(\"--- Conteo ---\\n\" + str(Counter(bestPrediction)))\n",
    "print(\"--- Matriz de Confusion ---\\n\" + str(confusion_matrix(y_testB, bestPrediction)))\n",
    "print(\"--- Reporte de Pruebas: ---\")\n",
    "print(classification_report(y_testB, bestPrediction))\n",
    "print(\"--- Puntaje ---\\n\")\n",
    "print(\" - Precision: \", str(bestAcc))\n",
    "print(\" - Precision Promedio: \", str(np.mean(bestAcc)))"
   ]
  },
  {
   "cell_type": "markdown",
   "metadata": {},
   "source": [
    "# Conclusiones \n",
    "\n",
    "Antes de entrenar cuando se cargan los datos, aunque no es absolutamente necesario, se crea un DataFrame de Pandas para facilitar la lectura y el reusó. Se guarda la forma y otros valores de posible interés en el momento de entrenamiento. Al utilizar la división aleatoria para entrenar el modelo preliminar se ve un contraste marcado en la curva de aprendizaje, en donde se observa un comportamiento convergente tradicional entre la precisión/perdida en pruebas y entrenamiento. Por su parte, el comportamiento del conjunto de datos organizados por defecto muestra un comportamiento casi paralelo entre y estable de la precisión/perdida lo cual indica un modelo sub ajustado. Esto último valida la decisión de utilizar una división aleatoria del conjunto de datos y la creación de un DataFrame aunque su rendimiento/perdida nominal no sean significativamente diferentes.\n",
    "\n",
    "En el entrenamiento preliminar se observa que ambos modelos tienen un buen comportamiento global, pero en las clases se observa que las categorías 0, 2, 4 y 6 tienen menos precisión y en general se confunden entre ellas. Al ver los datos y los nombres de las clases se reconoce que estas clases son “T-shirt/top”/camiseta, “Pullover”/buso, “Coat”/chaqueta, “Shirt”/camisa respectivamente. Esto en si da a ver que las clases son realmente similares y parecidas entre si y que una mala distribución de datos afecta el rendimiento del modelo al momento de reconocer las clases. \n",
    "\n",
    "Después de este entrenamiento preliminar siempre se escogerá una distribución aleatoria para la optimización y los otros puntos del taller como distribución por defecto para los datos.\n",
    "\n",
    "En la optimización de hiper-parámetros se utiliza la librería por extensión Talos por su facilidad al transformar las especificaciones del modelo preliminar en modelos candidatos durante una búsqueda aleatoria de los mejores hiper-parámetros. La búsqueda se hace aleatoria, con la precisión como parámetro objetivo a maximizar y con una población de máximo 3% para no cargar de tantos datos el proceso. En general se configura la búsqueda para minimizar el uso de parámetros/hiper-parámetros no significativos (correlacionados linealmente) con la precisión del modelo.\n",
    "\n",
    "El modelo final optimizado es un MLP con:\n",
    "\n",
    "-\tUna capa de entrada “Flatten” que recibe la imagen 2D y lo transforma a un arreglo 1D para facilidad de procesamiento.\n",
    "-\tUna capa de 300 neuronas “Dense” como capa de entrada para los datos y activación tipo “elu”\n",
    "-\tEntre capas de trabajo “Dropout” con 10% de desactivación para evitar sobreajustes.\n",
    "-\tUna capa de 200 neuronas “Dense” como capa como primera capa de aprendizaje y activación tipo “elu”.\n",
    "-\tUna capa de 200 neuronas “Dense” como capa como segunda capa de aprendizaje y activación tipo “elu”.\n",
    "-\tUna capa con 10 neuronas “Dense” como capa de salida para clasificación con función de activación “softmax” para reconocer categorías por separado.\n",
    "\n",
    "La búsqueda muestra una correlación fuerte entre la precisión y la perdida de tendencia lineal, lo que coincide con la literatura. La precisión tiene un mínimo de 35% y un máximo de 86% (optimo encontrado). En promedio el rendimiento (precisión) de los modelos esta alrededor 78%. También se observa una correlación entre el tamaño de la muestra lo cual muestra que es una opción viable para agilizar el entrenamiento. Otra correlación está en los valores de número de capas ocultas y neuronas dentro de ellas, lo cual soporta la idea que se necesitan más capas de aprendizaje para distinguir las diferencias entre las clases confusas (0, 2, 4 y 6). Por último, el Dropout también se observa la correlación al evitar el sobreajuste."
   ]
  }
 ],
 "metadata": {
  "kernelspec": {
   "display_name": "Python 3",
   "language": "python",
   "name": "python3"
  },
  "language_info": {
   "codemirror_mode": {
    "name": "ipython",
    "version": 3
   },
   "file_extension": ".py",
   "mimetype": "text/x-python",
   "name": "python",
   "nbconvert_exporter": "python",
   "pygments_lexer": "ipython3",
   "version": "3.7.0"
  },
  "pycharm": {
   "stem_cell": {
    "cell_type": "raw",
    "metadata": {
     "collapsed": false
    },
    "source": []
   }
  }
 },
 "nbformat": 4,
 "nbformat_minor": 1
}
