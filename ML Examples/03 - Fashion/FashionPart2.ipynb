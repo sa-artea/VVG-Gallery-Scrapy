{
 "cells": [
  {
   "cell_type": "markdown",
   "metadata": {},
   "source": [
    "# REDES NEURONALES PROFUNDAS\n",
    "Utilice el conjunto de datos Fashion-MNIST para construir un clasificador de imágenes de productos. Para la construcción del modelo utilice los tres esquemas que se describen a continuación y compare los resultados:\n",
    "\n",
    "1. Entrenamiento de un perceptrón multicapa.\n",
    "2. Entrenamiento de un undercompleted autoencoder para realizar una reducción de la dimensionalidad. Sobre el nuevo conjunto de características construya el modelo de clasificación con un perceptrón multicapa.\n",
    "3. Entrenamiento de un denoising autoendoder para preentrenar una red profunda. Reuse lasprimeras capas de este autoencoder para construir un perceptron multicapa (con solo el 10% de los datos).\n",
    "\n",
    "Para los puntos 2) y 3) compruebe, y muestre con ejemplos, que las imágenes están bien reconstruidas.\n",
    "\n",
    "## OBJETIVO\n",
    "Aplicar el proceso de aprendizaje a partir de datos para resolver problemas de clasificación utilizando redes neuronales profundas, sobre la herramienta Keras.\n",
    "\n",
    "## DATOS\n",
    "Incluidos en Keras.\n",
    "Tambien, existe otra fuente equivalente que se consigue en el siguiente URL https://www.kaggle.com/zalando-research/fashionmnist donde hay un resumen de estos datos en el archivo CVS y XLSX.\n",
    "\n",
    "la clasificacion para el aprendizaje supervisado es:\n",
    "\n",
    "    Label \tClass\n",
    "    0 \t \tT-shirt/top\n",
    "    1 \t \tTrouser\n",
    "    2 \t \tPullover\n",
    "    3 \t \tDress\n",
    "    4 \t \tCoat\n",
    "    5 \t \tSandal\n",
    "    6 \t \tShirt\n",
    "    7 \t \tSneaker\n",
    "    8 \t \tBag\n",
    "    9 \t \tAnkle boot\n",
    "\n",
    "**Importante: justifique cada decisión tomada y presente un análisis de los resultados obtenidos.**\n",
    "### Consideraciones\n",
    "- Utilice sólo los conjuntos de datos que se indican.\n",
    "- El frameworks a utilizar es Keras con Jupyter Notebbooks.\n",
    "- El taller debe ser realizado en grupos de tres personas.\n",
    "- Entregables: archivos ipynb (comentados, con la justificación de las decisiones consideradas y análisis de resultados).\n",
    "\n",
    "### Enlaces de Interes\n",
    "- Ejemplos de Talos https://nbviewer.jupyter.org/github/autonomio/talos/tree/master/examples/\n",
    "- Articulo sobre el uso de Talos https://towardsdatascience.com/hyperparameter-optimization-with-keras-b82e6364ca53\n",
    "- Portal oficial de Talos https://autonomio.github.io/docs_talos/#introduction\n",
    "- Github Talos https://github.com/autonomio/talos/tree/master/talos/scan\n",
    "- Documentacion de github Talos https://github.com/autonomio/talos/tree/master/docs\n",
    "- Documentacion Keras https://keras.io/models/sequential/\n",
    "- Ejemplo 1 Autoencoder con Keras https://ramhiser.com/post/2018-05-14-autoencoders-with-keras/\n",
    "- Ejemplo 2 Autoencoder https://towardsdatascience.com/applied-deep-learning-part-3-autoencoders-1c083af4d798\n",
    "- Ejemplo 3 Autoencoder https://towardsdatascience.com/deep-inside-autoencoders-7e41f319999f\n",
    "- Ejemplo 4 Autoencoder https://www.datacamp.com/community/tutorials/autoencoder-keras-tutorial\n",
    "- Ejemplo 5 Autoencoder https://www.jeremyjordan.me/autoencoders/\n",
    "- Ejemplo 6 Autoencoder https://blog.keras.io/building-autoencoders-in-keras.html\n",
    "- Ejemplo 8 Autoencoder https://stackabuse.com/autoencoders-for-image-reconstruction-in-python-and-keras/\n",
    "- Ejemplo 9 Autoencoder https://medium.com/analytics-vidhya/building-a-convolutional-autoencoder-using-keras-using-conv2dtranspose-ca403c8d144e\n",
    "- Ejemplo 10 Autoencoder https://medium.com/datadriveninvestor/simple-autoencoders-using-keras-6e67677f5679"
   ]
  },
  {
   "cell_type": "code",
   "execution_count": 1,
   "metadata": {},
   "outputs": [
    {
     "name": "stderr",
     "output_type": "stream",
     "text": [
      "Using TensorFlow backend.\n"
     ]
    }
   ],
   "source": [
    "# importando dependencias de trabajo\n",
    "# se importa OS, pandas y numpy para leer y preparar datos\n",
    "import os\n",
    "from collections import OrderedDict\n",
    "from collections import Counter\n",
    "import pandas as pd\n",
    "from pandas import ExcelWriter\n",
    "from pandas import ExcelFile\n",
    "import pandas_profiling as profile\n",
    "import numpy as np\n",
    "import tensorflow as tf\n",
    "import matplotlib as mpl\n",
    "import matplotlib.pyplot as plt\n",
    "from tensorflow import keras\n",
    "\n",
    "# los modelos de aprendizaje con las diferentes librerias\n",
    "import talos\n",
    "from keras.models import load_model\n",
    "from keras.layers import Input\n",
    "from keras.layers import Flatten\n",
    "from keras.layers import Reshape\n",
    "from keras.layers import InputLayer\n",
    "from keras.models import Model\n",
    "from keras.models import Sequential\n",
    "from keras.layers import Dense\n",
    "from keras.layers import Dropout\n",
    "\n",
    "# otras librerias para manejo de experimentos, pruebas, optimizacion y otros\n",
    "from sklearn.model_selection import train_test_split\n",
    "from sklearn.model_selection import GridSearchCV\n",
    "from sklearn.model_selection import RandomizedSearchCV\n",
    "from sklearn.model_selection import cross_val_score\n",
    "from sklearn.model_selection import StratifiedKFold\n",
    "from sklearn.metrics import confusion_matrix\n",
    "from sklearn.metrics import classification_report\n",
    "from sklearn.metrics import accuracy_score\n",
    "from sklearn.metrics import precision_score\n",
    "from sklearn.metrics import make_scorer\n",
    "from sklearn.preprocessing import LabelEncoder\n",
    "from sklearn.preprocessing import StandardScaler\n",
    "from sklearn.pipeline import Pipeline\n",
    "from imblearn.over_sampling import SMOTE\n",
    "from keras.utils import to_categorical\n",
    "from keras.wrappers.scikit_learn import KerasClassifier"
   ]
  },
  {
   "cell_type": "markdown",
   "metadata": {},
   "source": [
    "### Cargar archivos\n",
    "Para cargar los datos necesarios se siguen los siguientes pasos:\n",
    "\n",
    " - Se cargan los datos desde el conjunto de datos incluido en Keras\n",
    "\n",
    " - Se crean diccionarios de referencia para el pruebas y entrenamiento.\n",
    " - Se leen los arhivos de pruebas y entrenamiento para crear un set de datos.\n",
    " - Se transforma cada uno de los archivos en matrices de datos y se adicionan a los conjuntos de pruebas y entrenamiento."
   ]
  },
  {
   "cell_type": "code",
   "execution_count": 2,
   "metadata": {},
   "outputs": [],
   "source": [
    "# lista de nombres de las clasificaciones\n",
    "classNamesList = [\"T-shirt/top\", \"Trouser\", \"Pullover\", \"Dress\", \"Coat\", \"Sandal\", \"Shirt\", \"Sneaker\", \"Bag\", \"Ankle boot\"]"
   ]
  },
  {
   "cell_type": "code",
   "execution_count": 3,
   "metadata": {},
   "outputs": [],
   "source": [
    "# se carga el archivo de datos de trabajo por medio de Keras\n",
    "fashionSource = keras.datasets.fashion_mnist\n",
    "(X_train, y_train), (X_test, y_test) = fashionSource.load_data()"
   ]
  },
  {
   "cell_type": "code",
   "execution_count": 4,
   "metadata": {},
   "outputs": [],
   "source": [
    "# nombres de columnas para el dataframe de pandas\n",
    "columns = [\"ID\", \"Data\", \"NormData\", \"ReshapeData\", \"Label\", \"Class\", \"DataSize\", \"ReshapeSize\"]\n",
    "X_Data = np.concatenate((X_train, X_test), axis = 0)\n",
    "y_Data = np.concatenate((y_train, y_test), axis = 0)"
   ]
  },
  {
   "cell_type": "code",
   "execution_count": 5,
   "metadata": {},
   "outputs": [],
   "source": [
    "# puedo hacer otra forma de aprendizaje reorganizando los grupos de prueba y entrenamiento para ver si existe algun cambio de comportamiento.\n",
    "# dataset para entrenamiento\n",
    "trainData = pd.DataFrame()\n",
    "\n",
    "# preparar datos dataset entrenamiento\n",
    "for col in columns:\n",
    "    \n",
    "    # creo el ID del set\n",
    "    if col is \"ID\":\n",
    "        \n",
    "        IDList = list(range(len(X_Data)))\n",
    "        trainData[col] = IDList\n",
    "\n",
    "    # datos de la imagen (nxm) para utilizarlos en el algoritmo de aprendizaje\n",
    "    elif col is \"Data\":\n",
    "        \n",
    "        dataList = np.array(X_Data).astype(float)\n",
    "        trainData[col] = list(dataList)\n",
    "\n",
    "    # datos de la imagen (nxm) para utilizarlos en el algoritmo de aprendizaje\n",
    "    elif col is \"NormData\":\n",
    "        \n",
    "        normList = np.array(X_Data).astype(float)\n",
    "        maxValue = normList.max()\n",
    "        normList = normList/maxValue\n",
    "        trainData[col] = list(normList)\n",
    "\n",
    "    # datos de la imagen (nxm) de con cambio de forma(reshape) para poder ser utilizados en el algoritmo de aprendizaje\n",
    "    elif col is \"ReshapeData\":\n",
    "        \n",
    "        reshapeData = list()\n",
    "        \n",
    "        for data in list(trainData[\"NormData\"]):\n",
    "            \n",
    "            tempImg = data.astype(float)\n",
    "            reshapeData.append(list(tempImg))\n",
    "        \n",
    "        reshapeData = np.array(reshapeData)\n",
    "        reshapeData = reshapeData.reshape(len(reshapeData), -1)\n",
    "        trainData[col] = list(reshapeData)\n",
    "        \n",
    "    # categoria de la imagen en entero\n",
    "    elif col is \"Label\":\n",
    "        \n",
    "        nameList = list(y_Data)\n",
    "        trainData[col] = nameList\n",
    "    \n",
    "    # nombre de la categoria/clase de la imagen\n",
    "    elif col is \"Class\":\n",
    "        \n",
    "        classList = list()\n",
    "        \n",
    "        for data in np.nditer(y_Data):\n",
    "            \n",
    "            tempClass = classNamesList[data]\n",
    "            classList.append(tempClass)\n",
    "        \n",
    "        classList = np.array(classList)\n",
    "        trainData[col] = list(classList)\n",
    "\n",
    "    # tamanho de pixeles de la matriz que representa la imagen (nxm)\n",
    "    elif col is \"DataSize\":\n",
    "\n",
    "        sizeList = list()\n",
    "                \n",
    "        for data in list(X_Data):\n",
    "            \n",
    "            tempSize = data.shape\n",
    "            sizeList.append(tempSize)\n",
    "        \n",
    "        sizeList = np.array(sizeList)\n",
    "        trainData[col] = list(sizeList)\n",
    "    \n",
    "    # tamanho dee pixales en 1D\n",
    "    elif col is \"ReshapeSize\":\n",
    "        \n",
    "        reshapeList = list()\n",
    "        dataList = trainData[\"ReshapeData\"]\n",
    "        dataList = np.array(dataList)\n",
    "        dataList = list(dataList)\n",
    "\n",
    "        for data in dataList:\n",
    "            \n",
    "            tempReshape = np.array(data.shape)\n",
    "            reshapeList.append(tempReshape)\n",
    "\n",
    "        dataList = np.array(reshapeList)\n",
    "        trainData[col] = list(reshapeList)#.tolist()"
   ]
  },
  {
   "cell_type": "code",
   "execution_count": 6,
   "metadata": {},
   "outputs": [
    {
     "data": {
      "text/html": [
       "<div>\n",
       "<style scoped>\n",
       "    .dataframe tbody tr th:only-of-type {\n",
       "        vertical-align: middle;\n",
       "    }\n",
       "\n",
       "    .dataframe tbody tr th {\n",
       "        vertical-align: top;\n",
       "    }\n",
       "\n",
       "    .dataframe thead th {\n",
       "        text-align: right;\n",
       "    }\n",
       "</style>\n",
       "<table border=\"1\" class=\"dataframe\">\n",
       "  <thead>\n",
       "    <tr style=\"text-align: right;\">\n",
       "      <th></th>\n",
       "      <th>ID</th>\n",
       "      <th>Data</th>\n",
       "      <th>NormData</th>\n",
       "      <th>ReshapeData</th>\n",
       "      <th>Label</th>\n",
       "      <th>Class</th>\n",
       "      <th>DataSize</th>\n",
       "      <th>ReshapeSize</th>\n",
       "    </tr>\n",
       "  </thead>\n",
       "  <tbody>\n",
       "    <tr>\n",
       "      <td>0</td>\n",
       "      <td>0</td>\n",
       "      <td>[[0.0, 0.0, 0.0, 0.0, 0.0, 0.0, 0.0, 0.0, 0.0,...</td>\n",
       "      <td>[[0.0, 0.0, 0.0, 0.0, 0.0, 0.0, 0.0, 0.0, 0.0,...</td>\n",
       "      <td>[0.0, 0.0, 0.0, 0.0, 0.0, 0.0, 0.0, 0.0, 0.0, ...</td>\n",
       "      <td>9</td>\n",
       "      <td>Ankle boot</td>\n",
       "      <td>[28, 28]</td>\n",
       "      <td>[784]</td>\n",
       "    </tr>\n",
       "    <tr>\n",
       "      <td>1</td>\n",
       "      <td>1</td>\n",
       "      <td>[[0.0, 0.0, 0.0, 0.0, 0.0, 1.0, 0.0, 0.0, 0.0,...</td>\n",
       "      <td>[[0.0, 0.0, 0.0, 0.0, 0.0, 0.00392156862745098...</td>\n",
       "      <td>[0.0, 0.0, 0.0, 0.0, 0.0, 0.00392156862745098,...</td>\n",
       "      <td>0</td>\n",
       "      <td>T-shirt/top</td>\n",
       "      <td>[28, 28]</td>\n",
       "      <td>[784]</td>\n",
       "    </tr>\n",
       "    <tr>\n",
       "      <td>2</td>\n",
       "      <td>2</td>\n",
       "      <td>[[0.0, 0.0, 0.0, 0.0, 0.0, 0.0, 0.0, 0.0, 0.0,...</td>\n",
       "      <td>[[0.0, 0.0, 0.0, 0.0, 0.0, 0.0, 0.0, 0.0, 0.0,...</td>\n",
       "      <td>[0.0, 0.0, 0.0, 0.0, 0.0, 0.0, 0.0, 0.0, 0.0, ...</td>\n",
       "      <td>0</td>\n",
       "      <td>T-shirt/top</td>\n",
       "      <td>[28, 28]</td>\n",
       "      <td>[784]</td>\n",
       "    </tr>\n",
       "    <tr>\n",
       "      <td>3</td>\n",
       "      <td>3</td>\n",
       "      <td>[[0.0, 0.0, 0.0, 0.0, 0.0, 0.0, 0.0, 0.0, 33.0...</td>\n",
       "      <td>[[0.0, 0.0, 0.0, 0.0, 0.0, 0.0, 0.0, 0.0, 0.12...</td>\n",
       "      <td>[0.0, 0.0, 0.0, 0.0, 0.0, 0.0, 0.0, 0.0, 0.129...</td>\n",
       "      <td>3</td>\n",
       "      <td>Dress</td>\n",
       "      <td>[28, 28]</td>\n",
       "      <td>[784]</td>\n",
       "    </tr>\n",
       "    <tr>\n",
       "      <td>4</td>\n",
       "      <td>4</td>\n",
       "      <td>[[0.0, 0.0, 0.0, 0.0, 0.0, 0.0, 0.0, 0.0, 0.0,...</td>\n",
       "      <td>[[0.0, 0.0, 0.0, 0.0, 0.0, 0.0, 0.0, 0.0, 0.0,...</td>\n",
       "      <td>[0.0, 0.0, 0.0, 0.0, 0.0, 0.0, 0.0, 0.0, 0.0, ...</td>\n",
       "      <td>0</td>\n",
       "      <td>T-shirt/top</td>\n",
       "      <td>[28, 28]</td>\n",
       "      <td>[784]</td>\n",
       "    </tr>\n",
       "  </tbody>\n",
       "</table>\n",
       "</div>"
      ],
      "text/plain": [
       "   ID                                               Data  \\\n",
       "0   0  [[0.0, 0.0, 0.0, 0.0, 0.0, 0.0, 0.0, 0.0, 0.0,...   \n",
       "1   1  [[0.0, 0.0, 0.0, 0.0, 0.0, 1.0, 0.0, 0.0, 0.0,...   \n",
       "2   2  [[0.0, 0.0, 0.0, 0.0, 0.0, 0.0, 0.0, 0.0, 0.0,...   \n",
       "3   3  [[0.0, 0.0, 0.0, 0.0, 0.0, 0.0, 0.0, 0.0, 33.0...   \n",
       "4   4  [[0.0, 0.0, 0.0, 0.0, 0.0, 0.0, 0.0, 0.0, 0.0,...   \n",
       "\n",
       "                                            NormData  \\\n",
       "0  [[0.0, 0.0, 0.0, 0.0, 0.0, 0.0, 0.0, 0.0, 0.0,...   \n",
       "1  [[0.0, 0.0, 0.0, 0.0, 0.0, 0.00392156862745098...   \n",
       "2  [[0.0, 0.0, 0.0, 0.0, 0.0, 0.0, 0.0, 0.0, 0.0,...   \n",
       "3  [[0.0, 0.0, 0.0, 0.0, 0.0, 0.0, 0.0, 0.0, 0.12...   \n",
       "4  [[0.0, 0.0, 0.0, 0.0, 0.0, 0.0, 0.0, 0.0, 0.0,...   \n",
       "\n",
       "                                         ReshapeData  Label        Class  \\\n",
       "0  [0.0, 0.0, 0.0, 0.0, 0.0, 0.0, 0.0, 0.0, 0.0, ...      9   Ankle boot   \n",
       "1  [0.0, 0.0, 0.0, 0.0, 0.0, 0.00392156862745098,...      0  T-shirt/top   \n",
       "2  [0.0, 0.0, 0.0, 0.0, 0.0, 0.0, 0.0, 0.0, 0.0, ...      0  T-shirt/top   \n",
       "3  [0.0, 0.0, 0.0, 0.0, 0.0, 0.0, 0.0, 0.0, 0.129...      3        Dress   \n",
       "4  [0.0, 0.0, 0.0, 0.0, 0.0, 0.0, 0.0, 0.0, 0.0, ...      0  T-shirt/top   \n",
       "\n",
       "   DataSize ReshapeSize  \n",
       "0  [28, 28]       [784]  \n",
       "1  [28, 28]       [784]  \n",
       "2  [28, 28]       [784]  \n",
       "3  [28, 28]       [784]  \n",
       "4  [28, 28]       [784]  "
      ]
     },
     "execution_count": 6,
     "metadata": {},
     "output_type": "execute_result"
    }
   ],
   "source": [
    "# probando def de dataframe entrenamiento\n",
    "trainData.head()"
   ]
  },
  {
   "cell_type": "code",
   "execution_count": 7,
   "metadata": {},
   "outputs": [
    {
     "data": {
      "text/plain": [
       "ID              int64\n",
       "Data           object\n",
       "NormData       object\n",
       "ReshapeData    object\n",
       "Label           int64\n",
       "Class          object\n",
       "DataSize       object\n",
       "ReshapeSize    object\n",
       "dtype: object"
      ]
     },
     "execution_count": 7,
     "metadata": {},
     "output_type": "execute_result"
    }
   ],
   "source": [
    "# probando tipos de dataframe entrenamiento\n",
    "trainData.dtypes"
   ]
  },
  {
   "cell_type": "markdown",
   "metadata": {},
   "source": [
    "## AUTOCODIFICADOR (AUTOENCODER)"
   ]
  },
  {
   "cell_type": "code",
   "execution_count": 8,
   "metadata": {},
   "outputs": [],
   "source": [
    "# se remueve la clase a predecir y demas columnas innecesarias\n",
    "dropColumns = [\"DataSize\", \"ReshapeSize\", \"Data\", \"NormData\"]\n",
    "encoderData = trainData.drop(columns = dropColumns, axis = 1)"
   ]
  },
  {
   "cell_type": "code",
   "execution_count": 9,
   "metadata": {},
   "outputs": [
    {
     "data": {
      "text/html": [
       "<div>\n",
       "<style scoped>\n",
       "    .dataframe tbody tr th:only-of-type {\n",
       "        vertical-align: middle;\n",
       "    }\n",
       "\n",
       "    .dataframe tbody tr th {\n",
       "        vertical-align: top;\n",
       "    }\n",
       "\n",
       "    .dataframe thead th {\n",
       "        text-align: right;\n",
       "    }\n",
       "</style>\n",
       "<table border=\"1\" class=\"dataframe\">\n",
       "  <thead>\n",
       "    <tr style=\"text-align: right;\">\n",
       "      <th></th>\n",
       "      <th>ID</th>\n",
       "      <th>ReshapeData</th>\n",
       "      <th>Label</th>\n",
       "      <th>Class</th>\n",
       "    </tr>\n",
       "  </thead>\n",
       "  <tbody>\n",
       "    <tr>\n",
       "      <td>0</td>\n",
       "      <td>0</td>\n",
       "      <td>[0.0, 0.0, 0.0, 0.0, 0.0, 0.0, 0.0, 0.0, 0.0, ...</td>\n",
       "      <td>9</td>\n",
       "      <td>Ankle boot</td>\n",
       "    </tr>\n",
       "    <tr>\n",
       "      <td>1</td>\n",
       "      <td>1</td>\n",
       "      <td>[0.0, 0.0, 0.0, 0.0, 0.0, 0.00392156862745098,...</td>\n",
       "      <td>0</td>\n",
       "      <td>T-shirt/top</td>\n",
       "    </tr>\n",
       "    <tr>\n",
       "      <td>2</td>\n",
       "      <td>2</td>\n",
       "      <td>[0.0, 0.0, 0.0, 0.0, 0.0, 0.0, 0.0, 0.0, 0.0, ...</td>\n",
       "      <td>0</td>\n",
       "      <td>T-shirt/top</td>\n",
       "    </tr>\n",
       "    <tr>\n",
       "      <td>3</td>\n",
       "      <td>3</td>\n",
       "      <td>[0.0, 0.0, 0.0, 0.0, 0.0, 0.0, 0.0, 0.0, 0.129...</td>\n",
       "      <td>3</td>\n",
       "      <td>Dress</td>\n",
       "    </tr>\n",
       "    <tr>\n",
       "      <td>4</td>\n",
       "      <td>4</td>\n",
       "      <td>[0.0, 0.0, 0.0, 0.0, 0.0, 0.0, 0.0, 0.0, 0.0, ...</td>\n",
       "      <td>0</td>\n",
       "      <td>T-shirt/top</td>\n",
       "    </tr>\n",
       "  </tbody>\n",
       "</table>\n",
       "</div>"
      ],
      "text/plain": [
       "   ID                                        ReshapeData  Label        Class\n",
       "0   0  [0.0, 0.0, 0.0, 0.0, 0.0, 0.0, 0.0, 0.0, 0.0, ...      9   Ankle boot\n",
       "1   1  [0.0, 0.0, 0.0, 0.0, 0.0, 0.00392156862745098,...      0  T-shirt/top\n",
       "2   2  [0.0, 0.0, 0.0, 0.0, 0.0, 0.0, 0.0, 0.0, 0.0, ...      0  T-shirt/top\n",
       "3   3  [0.0, 0.0, 0.0, 0.0, 0.0, 0.0, 0.0, 0.0, 0.129...      3        Dress\n",
       "4   4  [0.0, 0.0, 0.0, 0.0, 0.0, 0.0, 0.0, 0.0, 0.0, ...      0  T-shirt/top"
      ]
     },
     "execution_count": 9,
     "metadata": {},
     "output_type": "execute_result"
    }
   ],
   "source": [
    "# pruebo nueva representacion de los datos\n",
    "encoderData.head()"
   ]
  },
  {
   "cell_type": "code",
   "execution_count": 10,
   "metadata": {},
   "outputs": [],
   "source": [
    "# asigno variables para el entrenamiento del autoencoder\n",
    "X_encoder = encoderData[\"ReshapeData\"].tolist()\n",
    "y_encoder = encoderData[\"ReshapeData\"].tolist()"
   ]
  },
  {
   "cell_type": "code",
   "execution_count": 11,
   "metadata": {},
   "outputs": [],
   "source": [
    "# agrego las capas necesarias para el modelo Keras para el Autoencoder\n",
    "# parametros para las capas\n",
    "neurons = trainData[\"ReshapeSize\"][0][0]\n",
    "output = trainData[\"ReshapeSize\"][0][0]\n",
    "inn = \"relu\"\n",
    "act = \"relu\"\n",
    "out = \"relu\" # \"relu\"\n",
    "ldrop = 0.2\n",
    "\n",
    "# forma de entrada de los datos para las capas de entrada, salida y aprendizaje\n",
    "# inshape = list(trainData[\"DataSize\"][0],)\n",
    "inshape = list(trainData[\"ReshapeSize\"][0],)\n",
    "outshape = list(trainData[\"ReshapeSize\"][0],)\n",
    "lshape = list(trainData[\"ReshapeSize\"][0],)\n",
    "\n",
    "# parametros para compilar\n",
    "# se selecciona Mean Squared Error (MSE) con datos estandarizados (imagen en escala de grises 0 a 255)\n",
    "l = \"mse\"\n",
    "opti = \"adam\" # \"adam\" \"adadelta\" \"nadam\"\n",
    "met = [\"accuracy\"]\n",
    "\n",
    "# parametros para mirar el progreso del entrenamiento\n",
    "ver = 1\n",
    "epo = 10\n",
    "batch = 128"
   ]
  },
  {
   "cell_type": "markdown",
   "metadata": {},
   "source": [
    "### Definición de las capas del AUTOENCODER\n",
    "Para el AUTOENCODER se definen las siguientes capas:\n",
    "\n",
    "-\tUna capa de entrada “Dense” con 784 neuronas para la representación alternativa de los datos en 1D y función de activación “relu”.\n",
    "-\tUna primera capa de codificación  “Dense” con 256 neuronas a la representación 1D de los datos.\n",
    "-\tUna segunda capa de codificación  “Dense” con 128 neuronas a la representación 1D de los datos.\n",
    "-\tUna capa intermedia de hallazgos/aprendizaje “Dense” con 64 neuronas a la representación 1D de los datos.\n",
    "-\tUna primera capa de decodificación  “Dense” con 128 neuronas a la representación 1D de los datos.\n",
    "-\tUna primera capa de decodificación  “Dense” con 256 neuronas a la representación 1D de los datos.\n",
    "-\tUna capa de salida “Dense” con 784 neuronas para la representación alternativa de los datos en 1D y función de activación “relu”.\n",
    "-\tUnas capas “Dropout” entre cada capa de aprendizaje (codificación y decodificación) con 20% de desactivación de los datos de entrada para evitar un sobre ajuste del modelo.\n",
    "-\tTodas las capas de aprendizaje (codificación, decodificación e intermania) tiene una funcion de activación “relu” para evitar la saturación de la salida de las capas."
   ]
  },
  {
   "cell_type": "code",
   "execution_count": 12,
   "metadata": {},
   "outputs": [],
   "source": [
    "# lista de capas Keras para el AUTOENCODER\n",
    "layerList = (\n",
    "    # capa de entrada\n",
    "    Dense(neurons, input_shape = inshape, activation = inn, name = \"in_layer\"),\n",
    "    Dropout(ldrop, seed = 42),\n",
    "\n",
    "    # primera capa de codificacion neurons = 256\n",
    "    Dense(2**int(neurons**(0.5)-20), input_shape = lshape, activation = act),\n",
    "    Dropout(ldrop, seed = 42),\n",
    "\n",
    "    # segunda capa de codificacion neurons = 128\n",
    "    Dense(2**int(neurons**(0.5)-21), input_shape = lshape, activation = act),\n",
    "    Dropout(ldrop, seed = 42),\n",
    "    \n",
    "    # capa intermedia neurons = 64\n",
    "    Dense(2**int(neurons**(0.5)-22), input_shape = lshape, activation = act, name = \"mid_layer\"),\n",
    "    Dropout(ldrop, seed = 42),\n",
    "\n",
    "    # primera capa de codificacion neurons = 128\n",
    "    Dense(2**int(neurons**(0.5)-21), input_shape = lshape, activation = act),\n",
    "    Dropout(ldrop, seed = 42),\n",
    "    \n",
    "    # segunda capa de decodificacion neurons = 256\n",
    "    Dense(2**int(neurons**(0.5)-20), input_shape = lshape, activation = act),\n",
    "    Dropout(ldrop, seed = 42),\n",
    "\n",
    "    # capa de salida\n",
    "    Dense(output, input_shape = outshape, activation = out, name = \"out_layer\"),\n",
    ")"
   ]
  },
  {
   "cell_type": "code",
   "execution_count": 13,
   "metadata": {},
   "outputs": [],
   "source": [
    "# division de poblacion de entrenamiento y pruebas con los datos en un orden alternativos\n",
    "X_trainE, X_testE, y_trainE, y_testE = train_test_split(X_encoder, y_encoder, test_size = 0.2, random_state = 42)"
   ]
  },
  {
   "cell_type": "code",
   "execution_count": 14,
   "metadata": {},
   "outputs": [],
   "source": [
    "# definiendo el modelo MLP de Keras\n",
    "basicEncoder = Sequential(layerList)"
   ]
  },
  {
   "cell_type": "code",
   "execution_count": 15,
   "metadata": {},
   "outputs": [],
   "source": [
    "# compilando las condiciones de optimizacion y ajuste del MLP Keras\n",
    "basicEncoder.compile(loss = l, optimizer = opti, metrics = met)"
   ]
  },
  {
   "cell_type": "code",
   "execution_count": 16,
   "metadata": {},
   "outputs": [
    {
     "name": "stdout",
     "output_type": "stream",
     "text": [
      "Train on 56000 samples, validate on 14000 samples\n",
      "Epoch 1/10\n",
      "56000/56000 [==============================] - 18s 325us/step - loss: 0.0482 - accuracy: 0.0049 - val_loss: 0.0380 - val_accuracy: 0.0165\n",
      "Epoch 2/10\n",
      "56000/56000 [==============================] - 14s 256us/step - loss: 0.0333 - accuracy: 0.0130 - val_loss: 0.0283 - val_accuracy: 0.0184\n",
      "Epoch 3/10\n",
      "56000/56000 [==============================] - 15s 259us/step - loss: 0.0303 - accuracy: 0.0140 - val_loss: 0.0280 - val_accuracy: 0.0231\n",
      "Epoch 4/10\n",
      "56000/56000 [==============================] - 14s 254us/step - loss: 0.0287 - accuracy: 0.0145 - val_loss: 0.0262 - val_accuracy: 0.0186\n",
      "Epoch 5/10\n",
      "56000/56000 [==============================] - 15s 265us/step - loss: 0.0277 - accuracy: 0.0161 - val_loss: 0.0235 - val_accuracy: 0.0174\n",
      "Epoch 6/10\n",
      "56000/56000 [==============================] - 15s 273us/step - loss: 0.0269 - accuracy: 0.0165 - val_loss: 0.0233 - val_accuracy: 0.0176\n",
      "Epoch 7/10\n",
      "56000/56000 [==============================] - 15s 269us/step - loss: 0.0262 - accuracy: 0.0164 - val_loss: 0.0226 - val_accuracy: 0.0225\n",
      "Epoch 8/10\n",
      "56000/56000 [==============================] - 15s 262us/step - loss: 0.0257 - accuracy: 0.0153 - val_loss: 0.0218 - val_accuracy: 0.0189\n",
      "Epoch 9/10\n",
      "56000/56000 [==============================] - 15s 260us/step - loss: 0.0253 - accuracy: 0.0166 - val_loss: 0.0217 - val_accuracy: 0.0206\n",
      "Epoch 10/10\n",
      "56000/56000 [==============================] - 15s 275us/step - loss: 0.0250 - accuracy: 0.0164 - val_loss: 0.0211 - val_accuracy: 0.0187\n"
     ]
    }
   ],
   "source": [
    "# ajustando el modelo MLP Keras\n",
    "historyEncoder = basicEncoder.fit(\n",
    "    x = np.array(X_trainE), \n",
    "    y = np.array(y_trainE), \n",
    "    epochs = epo, verbose = ver,\n",
    "    workers = 32, use_multiprocessing = True,\n",
    "    batch_size = batch,\n",
    "    validation_data = (np.array(X_testE), np.array(X_testE))\n",
    ")"
   ]
  },
  {
   "cell_type": "code",
   "execution_count": 17,
   "metadata": {},
   "outputs": [
    {
     "name": "stdout",
     "output_type": "stream",
     "text": [
      "14000/14000 [==============================] - 2s 111us/step\n"
     ]
    }
   ],
   "source": [
    "# evaluando el modelo entrenado con sus propias herramientas\n",
    "evalEnconder = basicEncoder.evaluate(np.array(X_testE), np.array(X_testE))"
   ]
  },
  {
   "cell_type": "code",
   "execution_count": 18,
   "metadata": {},
   "outputs": [
    {
     "name": "stdout",
     "output_type": "stream",
     "text": [
      "Perdida:  0.021087408704417093\n"
     ]
    }
   ],
   "source": [
    "print(\"Perdida: \", evalEnconder[0])\n",
    "# print(\"Precision: \", evalEnconder[1])"
   ]
  },
  {
   "cell_type": "code",
   "execution_count": 19,
   "metadata": {},
   "outputs": [
    {
     "name": "stdout",
     "output_type": "stream",
     "text": [
      "Model: \"sequential_1\"\n",
      "_________________________________________________________________\n",
      "Layer (type)                 Output Shape              Param #   \n",
      "=================================================================\n",
      "in_layer (Dense)             (None, 784)               615440    \n",
      "_________________________________________________________________\n",
      "dropout_1 (Dropout)          (None, 784)               0         \n",
      "_________________________________________________________________\n",
      "dense_1 (Dense)              (None, 256)               200960    \n",
      "_________________________________________________________________\n",
      "dropout_2 (Dropout)          (None, 256)               0         \n",
      "_________________________________________________________________\n",
      "dense_2 (Dense)              (None, 128)               32896     \n",
      "_________________________________________________________________\n",
      "dropout_3 (Dropout)          (None, 128)               0         \n",
      "_________________________________________________________________\n",
      "mid_layer (Dense)            (None, 64)                8256      \n",
      "_________________________________________________________________\n",
      "dropout_4 (Dropout)          (None, 64)                0         \n",
      "_________________________________________________________________\n",
      "dense_3 (Dense)              (None, 128)               8320      \n",
      "_________________________________________________________________\n",
      "dropout_5 (Dropout)          (None, 128)               0         \n",
      "_________________________________________________________________\n",
      "dense_4 (Dense)              (None, 256)               33024     \n",
      "_________________________________________________________________\n",
      "dropout_6 (Dropout)          (None, 256)               0         \n",
      "_________________________________________________________________\n",
      "out_layer (Dense)            (None, 784)               201488    \n",
      "=================================================================\n",
      "Total params: 1,100,384\n",
      "Trainable params: 1,100,384\n",
      "Non-trainable params: 0\n",
      "_________________________________________________________________\n"
     ]
    }
   ],
   "source": [
    "# resumen de datos del MLP Keras\n",
    "basicEncoder.summary()"
   ]
  },
  {
   "cell_type": "markdown",
   "metadata": {},
   "source": [
    "### Creando el modelo Underencoder"
   ]
  },
  {
   "cell_type": "code",
   "execution_count": 20,
   "metadata": {},
   "outputs": [],
   "source": [
    "# guardo los datos del modelo entrenado \n",
    "basicEncoder.save('basicEncoderFashion.h5')\n",
    "\n",
    "# cargo otro otro modelo para editarlo\n",
    "underEncoder = load_model('basicEncoderFashion.h5')"
   ]
  },
  {
   "cell_type": "code",
   "execution_count": 21,
   "metadata": {},
   "outputs": [
    {
     "name": "stdout",
     "output_type": "stream",
     "text": [
      "Model: \"sequential_1\"\n",
      "_________________________________________________________________\n",
      "Layer (type)                 Output Shape              Param #   \n",
      "=================================================================\n",
      "in_layer (Dense)             (None, 784)               615440    \n",
      "_________________________________________________________________\n",
      "dropout_1 (Dropout)          (None, 784)               0         \n",
      "_________________________________________________________________\n",
      "dense_1 (Dense)              (None, 256)               200960    \n",
      "_________________________________________________________________\n",
      "dropout_2 (Dropout)          (None, 256)               0         \n",
      "_________________________________________________________________\n",
      "dense_2 (Dense)              (None, 128)               32896     \n",
      "_________________________________________________________________\n",
      "dropout_3 (Dropout)          (None, 128)               0         \n",
      "_________________________________________________________________\n",
      "mid_layer (Dense)            (None, 64)                8256      \n",
      "_________________________________________________________________\n",
      "dropout_4 (Dropout)          (None, 64)                0         \n",
      "_________________________________________________________________\n",
      "dense_3 (Dense)              (None, 128)               8320      \n",
      "_________________________________________________________________\n",
      "dropout_5 (Dropout)          (None, 128)               0         \n",
      "_________________________________________________________________\n",
      "dense_4 (Dense)              (None, 256)               33024     \n",
      "_________________________________________________________________\n",
      "dropout_6 (Dropout)          (None, 256)               0         \n",
      "_________________________________________________________________\n",
      "out_layer (Dense)            (None, 784)               201488    \n",
      "=================================================================\n",
      "Total params: 1,100,384\n",
      "Trainable params: 1,100,384\n",
      "Non-trainable params: 0\n",
      "_________________________________________________________________\n"
     ]
    }
   ],
   "source": [
    "underEncoder.summary()"
   ]
  },
  {
   "cell_type": "code",
   "execution_count": 22,
   "metadata": {},
   "outputs": [],
   "source": [
    "# borro las capas innecesarias entre la capa de salida (out_layer) y la intermedia (mid_layer)\n",
    "i = len(underEncoder.layers)\n",
    "denseShape = (8, 8)\n",
    "extraLayers = list()\n",
    "found = False\n",
    "\n",
    "while i >= 0 and found == False and underEncoder.layers[i-1].name != \"mid_layer\":\n",
    "    i -= 1\n",
    "    \n",
    "    extraLayers.append(underEncoder.layers[i].name)\n",
    "    \n",
    "    if underEncoder.layers[i].name == \"mid_layer\":\n",
    "        found = True\n",
    "        \n",
    "    underEncoder.pop()\n",
    "    \n",
    "# underEncoder.add(Reshape(denseShape, name = \"dense_layer\"))"
   ]
  },
  {
   "cell_type": "code",
   "execution_count": 23,
   "metadata": {},
   "outputs": [
    {
     "name": "stdout",
     "output_type": "stream",
     "text": [
      "Model: \"sequential_1\"\n",
      "_________________________________________________________________\n",
      "Layer (type)                 Output Shape              Param #   \n",
      "=================================================================\n",
      "in_layer (Dense)             (None, 784)               615440    \n",
      "_________________________________________________________________\n",
      "dropout_1 (Dropout)          (None, 784)               0         \n",
      "_________________________________________________________________\n",
      "dense_1 (Dense)              (None, 256)               200960    \n",
      "_________________________________________________________________\n",
      "dropout_2 (Dropout)          (None, 256)               0         \n",
      "_________________________________________________________________\n",
      "dense_2 (Dense)              (None, 128)               32896     \n",
      "_________________________________________________________________\n",
      "dropout_3 (Dropout)          (None, 128)               0         \n",
      "_________________________________________________________________\n",
      "mid_layer (Dense)            (None, 64)                8256      \n",
      "=================================================================\n",
      "Total params: 1,100,384\n",
      "Trainable params: 1,100,384\n",
      "Non-trainable params: 0\n",
      "_________________________________________________________________\n"
     ]
    }
   ],
   "source": [
    "underEncoder.summary()"
   ]
  },
  {
   "cell_type": "code",
   "execution_count": 24,
   "metadata": {},
   "outputs": [],
   "source": [
    "# se prueba el underencoder creado con keras y el modelo original\n",
    "underPrediction = underEncoder.predict(np.array(X_testE))"
   ]
  },
  {
   "cell_type": "code",
   "execution_count": 25,
   "metadata": {},
   "outputs": [],
   "source": [
    "# se prueba Autoencoder con keras\n",
    "encoderPrediction = basicEncoder.predict(np.array(X_testE))"
   ]
  },
  {
   "cell_type": "code",
   "execution_count": 26,
   "metadata": {},
   "outputs": [],
   "source": [
    "maxImages = 10\n",
    "randomTestImg = np.random.randint(len(X_testE), size = maxImages)"
   ]
  },
  {
   "cell_type": "markdown",
   "metadata": {},
   "source": [
    "### Muestra de trabajo para el Autoencoder y el Underencoder"
   ]
  },
  {
   "cell_type": "code",
   "execution_count": 27,
   "metadata": {},
   "outputs": [
    {
     "data": {
      "image/png": "[encoded data removed]",
      "text/plain": [
       "<Figure size 1296x288 with 30 Axes>"
      ]
     },
     "metadata": {
      "needs_background": "light"
     },
     "output_type": "display_data"
    }
   ],
   "source": [
    "plt.figure(figsize=(18, 4))\n",
    "originalShape = trainData[\"DataSize\"][0]\n",
    "\n",
    "for i, image_idx in enumerate(randomTestImg):\n",
    "    # plot original image\n",
    "    ax = plt.subplot(3, maxImages, i + 1)\n",
    "    plt.imshow(X_testE[image_idx].reshape(originalShape))\n",
    "    plt.gray()\n",
    "    ax.get_xaxis().set_visible(False)\n",
    "    ax.get_yaxis().set_visible(False)\n",
    "    \n",
    "    # plot encoded image\n",
    "    ax = plt.subplot(3, maxImages, maxImages + i + 1)\n",
    "    plt.imshow(underPrediction[image_idx].reshape(denseShape))\n",
    "    plt.gray()\n",
    "    ax.get_xaxis().set_visible(False)\n",
    "    ax.get_yaxis().set_visible(False)\n",
    "\n",
    "    # plot reconstructed image\n",
    "    ax = plt.subplot(3, maxImages, 2*maxImages + i + 1)\n",
    "    plt.imshow(encoderPrediction[image_idx].reshape(originalShape))\n",
    "    plt.gray()\n",
    "    ax.get_xaxis().set_visible(False)\n",
    "    ax.get_yaxis().set_visible(False)\n",
    "plt.show()"
   ]
  },
  {
   "cell_type": "code",
   "execution_count": 28,
   "metadata": {},
   "outputs": [
    {
     "data": {
      "image/png": "[encoded data removed]",
      "text/plain": [
       "<Figure size 576x360 with 1 Axes>"
      ]
     },
     "metadata": {
      "needs_background": "light"
     },
     "output_type": "display_data"
    }
   ],
   "source": [
    "# curva de aprendizaje para clasificador con sklearn split\n",
    "pd.DataFrame(historyEncoder.history).plot(figsize=(8, 5))\n",
    "plt.grid(True)\n",
    "plt.gca().set_ylim(0, 1) # set the vertical range to [0-1]\n",
    "plt.show()"
   ]
  },
  {
   "cell_type": "markdown",
   "metadata": {},
   "source": [
    "### Agregando Representaciones condensadas al DataFrame\n",
    "\n",
    "Se agregan nuevas representaciones para entrenar el MLP, específicamente se crea un modelo de codificación basado en el Autoencoder para entrenar la red con los datos característicos encontrados por la otra red. Los resultados de estas operaciones de guardan en el DataFrame de entrenamiento original."
   ]
  },
  {
   "cell_type": "code",
   "execution_count": 29,
   "metadata": {},
   "outputs": [],
   "source": [
    "# se representa el conjunto de datos con la representacion condensada\n",
    "dataSet = trainData[\"ReshapeData\"].tolist()\n",
    "dataPrediction = underEncoder.predict(np.array(dataSet))"
   ]
  },
  {
   "cell_type": "code",
   "execution_count": 30,
   "metadata": {},
   "outputs": [],
   "source": [
    "# se agrega la info de la informacion condensada en el dataframe de entrenamiento\n",
    "denseData = list()\n",
    "\n",
    "for data in list(dataPrediction):\n",
    "#     print(data)\n",
    "    tempDense = data.reshape(denseShape)\n",
    "    denseData.append(tempDense)\n",
    "\n",
    "trainData[\"DenseData\"] = denseData"
   ]
  },
  {
   "cell_type": "code",
   "execution_count": 31,
   "metadata": {},
   "outputs": [],
   "source": [
    "# se agrega la forma de la informacion condensada en el dataframe\n",
    "sizeList = list()\n",
    "\n",
    "for data in list(trainData[\"DenseData\"]):\n",
    "\n",
    "    tempSize = data.shape\n",
    "    sizeList.append(tempSize)\n",
    "\n",
    "sizeList = np.array(sizeList)\n",
    "trainData[\"DenseSize\"] = list(sizeList)"
   ]
  },
  {
   "cell_type": "code",
   "execution_count": 32,
   "metadata": {},
   "outputs": [],
   "source": [
    "# representacion alternativa 1D de la forma condensanda en el dataframe\n",
    "reshapeList = list()\n",
    "dataList = np.array(trainData[\"DenseData\"])\n",
    "\n",
    "for data in dataList:\n",
    "\n",
    "    tempReshape = np.array(data).flatten().shape\n",
    "    reshapeList.append(tempReshape)\n",
    "    \n",
    "trainData[\"AlterSize\"] = list(reshapeList)#.tolist()"
   ]
  },
  {
   "cell_type": "code",
   "execution_count": 33,
   "metadata": {},
   "outputs": [
    {
     "data": {
      "text/html": [
       "<div>\n",
       "<style scoped>\n",
       "    .dataframe tbody tr th:only-of-type {\n",
       "        vertical-align: middle;\n",
       "    }\n",
       "\n",
       "    .dataframe tbody tr th {\n",
       "        vertical-align: top;\n",
       "    }\n",
       "\n",
       "    .dataframe thead th {\n",
       "        text-align: right;\n",
       "    }\n",
       "</style>\n",
       "<table border=\"1\" class=\"dataframe\">\n",
       "  <thead>\n",
       "    <tr style=\"text-align: right;\">\n",
       "      <th></th>\n",
       "      <th>ID</th>\n",
       "      <th>Data</th>\n",
       "      <th>NormData</th>\n",
       "      <th>ReshapeData</th>\n",
       "      <th>Label</th>\n",
       "      <th>Class</th>\n",
       "      <th>DataSize</th>\n",
       "      <th>ReshapeSize</th>\n",
       "      <th>DenseData</th>\n",
       "      <th>DenseSize</th>\n",
       "      <th>AlterSize</th>\n",
       "    </tr>\n",
       "  </thead>\n",
       "  <tbody>\n",
       "    <tr>\n",
       "      <td>0</td>\n",
       "      <td>0</td>\n",
       "      <td>[[0.0, 0.0, 0.0, 0.0, 0.0, 0.0, 0.0, 0.0, 0.0,...</td>\n",
       "      <td>[[0.0, 0.0, 0.0, 0.0, 0.0, 0.0, 0.0, 0.0, 0.0,...</td>\n",
       "      <td>[0.0, 0.0, 0.0, 0.0, 0.0, 0.0, 0.0, 0.0, 0.0, ...</td>\n",
       "      <td>9</td>\n",
       "      <td>Ankle boot</td>\n",
       "      <td>[28, 28]</td>\n",
       "      <td>[784]</td>\n",
       "      <td>[[2.2457628, 0.0, 0.0, 0.0, 0.5930567, 1.67933...</td>\n",
       "      <td>[8, 8]</td>\n",
       "      <td>(64,)</td>\n",
       "    </tr>\n",
       "    <tr>\n",
       "      <td>1</td>\n",
       "      <td>1</td>\n",
       "      <td>[[0.0, 0.0, 0.0, 0.0, 0.0, 1.0, 0.0, 0.0, 0.0,...</td>\n",
       "      <td>[[0.0, 0.0, 0.0, 0.0, 0.0, 0.00392156862745098...</td>\n",
       "      <td>[0.0, 0.0, 0.0, 0.0, 0.0, 0.00392156862745098,...</td>\n",
       "      <td>0</td>\n",
       "      <td>T-shirt/top</td>\n",
       "      <td>[28, 28]</td>\n",
       "      <td>[784]</td>\n",
       "      <td>[[0.0, 0.5364351, 0.0, 0.0, 0.0, 0.0, 0.0, 0.0...</td>\n",
       "      <td>[8, 8]</td>\n",
       "      <td>(64,)</td>\n",
       "    </tr>\n",
       "    <tr>\n",
       "      <td>2</td>\n",
       "      <td>2</td>\n",
       "      <td>[[0.0, 0.0, 0.0, 0.0, 0.0, 0.0, 0.0, 0.0, 0.0,...</td>\n",
       "      <td>[[0.0, 0.0, 0.0, 0.0, 0.0, 0.0, 0.0, 0.0, 0.0,...</td>\n",
       "      <td>[0.0, 0.0, 0.0, 0.0, 0.0, 0.0, 0.0, 0.0, 0.0, ...</td>\n",
       "      <td>0</td>\n",
       "      <td>T-shirt/top</td>\n",
       "      <td>[28, 28]</td>\n",
       "      <td>[784]</td>\n",
       "      <td>[[0.0, 0.06653614, 0.033556886, 0.010705892, 0...</td>\n",
       "      <td>[8, 8]</td>\n",
       "      <td>(64,)</td>\n",
       "    </tr>\n",
       "    <tr>\n",
       "      <td>3</td>\n",
       "      <td>3</td>\n",
       "      <td>[[0.0, 0.0, 0.0, 0.0, 0.0, 0.0, 0.0, 0.0, 33.0...</td>\n",
       "      <td>[[0.0, 0.0, 0.0, 0.0, 0.0, 0.0, 0.0, 0.0, 0.12...</td>\n",
       "      <td>[0.0, 0.0, 0.0, 0.0, 0.0, 0.0, 0.0, 0.0, 0.129...</td>\n",
       "      <td>3</td>\n",
       "      <td>Dress</td>\n",
       "      <td>[28, 28]</td>\n",
       "      <td>[784]</td>\n",
       "      <td>[[0.0, 0.19956961, 0.0, 0.0, 0.0, 0.0, 0.0, 0....</td>\n",
       "      <td>[8, 8]</td>\n",
       "      <td>(64,)</td>\n",
       "    </tr>\n",
       "    <tr>\n",
       "      <td>4</td>\n",
       "      <td>4</td>\n",
       "      <td>[[0.0, 0.0, 0.0, 0.0, 0.0, 0.0, 0.0, 0.0, 0.0,...</td>\n",
       "      <td>[[0.0, 0.0, 0.0, 0.0, 0.0, 0.0, 0.0, 0.0, 0.0,...</td>\n",
       "      <td>[0.0, 0.0, 0.0, 0.0, 0.0, 0.0, 0.0, 0.0, 0.0, ...</td>\n",
       "      <td>0</td>\n",
       "      <td>T-shirt/top</td>\n",
       "      <td>[28, 28]</td>\n",
       "      <td>[784]</td>\n",
       "      <td>[[0.0, 1.5298752, 0.0, 0.0, 0.0, 0.0, 0.0, 0.0...</td>\n",
       "      <td>[8, 8]</td>\n",
       "      <td>(64,)</td>\n",
       "    </tr>\n",
       "  </tbody>\n",
       "</table>\n",
       "</div>"
      ],
      "text/plain": [
       "   ID                                               Data  \\\n",
       "0   0  [[0.0, 0.0, 0.0, 0.0, 0.0, 0.0, 0.0, 0.0, 0.0,...   \n",
       "1   1  [[0.0, 0.0, 0.0, 0.0, 0.0, 1.0, 0.0, 0.0, 0.0,...   \n",
       "2   2  [[0.0, 0.0, 0.0, 0.0, 0.0, 0.0, 0.0, 0.0, 0.0,...   \n",
       "3   3  [[0.0, 0.0, 0.0, 0.0, 0.0, 0.0, 0.0, 0.0, 33.0...   \n",
       "4   4  [[0.0, 0.0, 0.0, 0.0, 0.0, 0.0, 0.0, 0.0, 0.0,...   \n",
       "\n",
       "                                            NormData  \\\n",
       "0  [[0.0, 0.0, 0.0, 0.0, 0.0, 0.0, 0.0, 0.0, 0.0,...   \n",
       "1  [[0.0, 0.0, 0.0, 0.0, 0.0, 0.00392156862745098...   \n",
       "2  [[0.0, 0.0, 0.0, 0.0, 0.0, 0.0, 0.0, 0.0, 0.0,...   \n",
       "3  [[0.0, 0.0, 0.0, 0.0, 0.0, 0.0, 0.0, 0.0, 0.12...   \n",
       "4  [[0.0, 0.0, 0.0, 0.0, 0.0, 0.0, 0.0, 0.0, 0.0,...   \n",
       "\n",
       "                                         ReshapeData  Label        Class  \\\n",
       "0  [0.0, 0.0, 0.0, 0.0, 0.0, 0.0, 0.0, 0.0, 0.0, ...      9   Ankle boot   \n",
       "1  [0.0, 0.0, 0.0, 0.0, 0.0, 0.00392156862745098,...      0  T-shirt/top   \n",
       "2  [0.0, 0.0, 0.0, 0.0, 0.0, 0.0, 0.0, 0.0, 0.0, ...      0  T-shirt/top   \n",
       "3  [0.0, 0.0, 0.0, 0.0, 0.0, 0.0, 0.0, 0.0, 0.129...      3        Dress   \n",
       "4  [0.0, 0.0, 0.0, 0.0, 0.0, 0.0, 0.0, 0.0, 0.0, ...      0  T-shirt/top   \n",
       "\n",
       "   DataSize ReshapeSize                                          DenseData  \\\n",
       "0  [28, 28]       [784]  [[2.2457628, 0.0, 0.0, 0.0, 0.5930567, 1.67933...   \n",
       "1  [28, 28]       [784]  [[0.0, 0.5364351, 0.0, 0.0, 0.0, 0.0, 0.0, 0.0...   \n",
       "2  [28, 28]       [784]  [[0.0, 0.06653614, 0.033556886, 0.010705892, 0...   \n",
       "3  [28, 28]       [784]  [[0.0, 0.19956961, 0.0, 0.0, 0.0, 0.0, 0.0, 0....   \n",
       "4  [28, 28]       [784]  [[0.0, 1.5298752, 0.0, 0.0, 0.0, 0.0, 0.0, 0.0...   \n",
       "\n",
       "  DenseSize AlterSize  \n",
       "0    [8, 8]     (64,)  \n",
       "1    [8, 8]     (64,)  \n",
       "2    [8, 8]     (64,)  \n",
       "3    [8, 8]     (64,)  \n",
       "4    [8, 8]     (64,)  "
      ]
     },
     "execution_count": 33,
     "metadata": {},
     "output_type": "execute_result"
    }
   ],
   "source": [
    "trainData.head()\n",
    "# trainData[\"DenseData\"][0].shape"
   ]
  },
  {
   "cell_type": "markdown",
   "metadata": {},
   "source": [
    "## PERCEPTRON MULTICAPA MODIFICADO\n",
    "\n",
    "El MLP se modifica para tener menos neuronas y entrenarse con la representación condensada de la información (forma densa de 8x8), se espera que esta nueva representación de datos mejore el rendimiento del modelo."
   ]
  },
  {
   "cell_type": "code",
   "execution_count": 34,
   "metadata": {},
   "outputs": [],
   "source": [
    "# se remueve la clase a predecir \n",
    "dropColumns = [\"ID\", \"Label\", \"Class\", \"DataSize\", \"ReshapeSize\"]\n",
    "#[\"Name\", \"Path\", \"Digit\", \"DataSize\", \"ReshapeSize\"]\n",
    "X = trainData.drop(columns = dropColumns, axis = 1)[\"DenseData\"].tolist()\n",
    "y = trainData[\"Label\"].tolist()"
   ]
  },
  {
   "cell_type": "code",
   "execution_count": 35,
   "metadata": {},
   "outputs": [],
   "source": [
    "# agrego las capas necesarias para el modelo Keras Perceptron Multicapa (MLP)\n",
    "# parametros para las capas\n",
    "neurons = 80\n",
    "categories = len(classNamesList)\n",
    "act = \"relu\"\n",
    "out = \"softmax\"\n",
    "ldrop = 0.2\n",
    "\n",
    "# estos se cambian aparte porque se demoran mucho\n",
    "# inshape = list(trainData[\"DataSize\"].value_counts().index.tolist()[0],)\n",
    "# lshape = list(trainData[\"ReshapeSize\"].value_counts().index.tolist()[0],)\n",
    "inshape = list(trainData[\"DenseSize\"][0],)\n",
    "lshape = list(trainData[\"AlterSize\"][0],)\n",
    "\n",
    "# parametros para compilar\n",
    "l = \"categorical_crossentropy\"\n",
    "opti = \"adam\"\n",
    "met = [\"accuracy\"]\n",
    "\n",
    "# parametros para mirar el progreso del entrenamiento\n",
    "ver = 1\n",
    "epo = 10"
   ]
  },
  {
   "cell_type": "markdown",
   "metadata": {},
   "source": [
    "### Definición de las capas MLP\n",
    "Para el MLP se definen las siguientes capas:\n",
    "\n",
    "-\tUna capa de entrada “Flatten” que recibe la imagen 2D y lo transforma a un arreglo 1D para facilidad de procesamiento.\n",
    "-\tUna capa de 80 neuronas “Dense” como capa de entrada para los datos con representación 1D.\n",
    "-\tUna capa “Dropout” con 20% de desactivación de los datos de entrada para evitar un sobre ajuste del modelo, se recalca que entre cada capa de trabajo se utiliza “Dropout” con el mismo propósito.\n",
    "-\tUna capa de 60 neuronas “Dense” como capa como primera capa de aprendizaje.\n",
    "-\tUna capa de 40 neuronas “Dense” como capa como segunda capa de aprendizaje.\n",
    "-\tTodas las capas de aprendizaje tienen función de activación “relu” para evitar la explosión/desvanecimiento de los gradientes.\n",
    "-\tUna capa con 10 neuronas “Dense” como capa de salida para clasificación con función de activación “softmax” para reconocer categorías por separado.\n"
   ]
  },
  {
   "cell_type": "code",
   "execution_count": 36,
   "metadata": {},
   "outputs": [],
   "source": [
    "# arreglo de capas Keras para el MLP\n",
    "layerList = (\n",
    "    Flatten(input_shape = inshape),\n",
    "    Dense(neurons, input_shape = inshape, activation = act),\n",
    "    Dropout(ldrop, seed = 42),\n",
    "    Dense(neurons-20, input_shape = lshape, activation = act),\n",
    "    Dropout(ldrop, seed = 42),\n",
    "    Dense(neurons-40, input_shape = lshape, activation = act),\n",
    "    Dropout(ldrop, seed = 42),\n",
    "    Dense(categories, input_shape = lshape, activation = out)\n",
    ")"
   ]
  },
  {
   "cell_type": "markdown",
   "metadata": {},
   "source": [
    "### Entrenamiento Preliminar\n",
    "Cabe recordar que para poder entrenar el modelo multiclase se deben hacer ajustes de tipo (casts) en las entradas de los datos, en donde se transforma la matriz de datos de entrada en un array NumPy (ej.: “np.array(X_testB)”) y se transforma a categorías Dummy la salida (ej.: “to_categorical(np.array(y_testB), categories)”).\n",
    "\n",
    "Siempre se utiliza la división aleatoria de datos después de los experimentos preliminares de la primera parte del taller."
   ]
  },
  {
   "cell_type": "markdown",
   "metadata": {},
   "source": [
    "### Con Split Random SKLearn"
   ]
  },
  {
   "cell_type": "code",
   "execution_count": 37,
   "metadata": {},
   "outputs": [],
   "source": [
    "# division de poblacion de entrenamiento y pruebas con los datos en un orden alternativos\n",
    "X_trainB, X_testB, y_trainB, y_testB = train_test_split(X, y, test_size = 0.2, random_state = 42)"
   ]
  },
  {
   "cell_type": "code",
   "execution_count": 38,
   "metadata": {},
   "outputs": [],
   "source": [
    "# definiendo el modelo MLP de Keras\n",
    "splitClassifier = Sequential(layerList)"
   ]
  },
  {
   "cell_type": "code",
   "execution_count": 39,
   "metadata": {},
   "outputs": [],
   "source": [
    "# compilando las condiciones de optimizacion y ajuste del MLP Keras\n",
    "splitClassifier.compile(loss = l, optimizer = opti, metrics = met)"
   ]
  },
  {
   "cell_type": "code",
   "execution_count": 40,
   "metadata": {},
   "outputs": [
    {
     "name": "stdout",
     "output_type": "stream",
     "text": [
      "Train on 56000 samples, validate on 14000 samples\n",
      "Epoch 1/10\n",
      "56000/56000 [==============================] - 4s 78us/step - loss: 0.7723 - accuracy: 0.7301 - val_loss: 0.5462 - val_accuracy: 0.7975\n",
      "Epoch 2/10\n",
      "56000/56000 [==============================] - 3s 55us/step - loss: 0.5842 - accuracy: 0.7856 - val_loss: 0.5088 - val_accuracy: 0.8102\n",
      "Epoch 3/10\n",
      "56000/56000 [==============================] - 3s 58us/step - loss: 0.5521 - accuracy: 0.7963 - val_loss: 0.4986 - val_accuracy: 0.8097\n",
      "Epoch 4/10\n",
      "56000/56000 [==============================] - 3s 53us/step - loss: 0.5414 - accuracy: 0.8006 - val_loss: 0.4880 - val_accuracy: 0.8146\n",
      "Epoch 5/10\n",
      "56000/56000 [==============================] - 3s 56us/step - loss: 0.5272 - accuracy: 0.8065 - val_loss: 0.4842 - val_accuracy: 0.8173\n",
      "Epoch 6/10\n",
      "56000/56000 [==============================] - 3s 58us/step - loss: 0.5220 - accuracy: 0.8098 - val_loss: 0.4793 - val_accuracy: 0.8151\n",
      "Epoch 7/10\n",
      "56000/56000 [==============================] - 3s 55us/step - loss: 0.5154 - accuracy: 0.8105 - val_loss: 0.4739 - val_accuracy: 0.8206\n",
      "Epoch 8/10\n",
      "56000/56000 [==============================] - 3s 57us/step - loss: 0.5094 - accuracy: 0.8136 - val_loss: 0.4754 - val_accuracy: 0.8197\n",
      "Epoch 9/10\n",
      "56000/56000 [==============================] - 3s 56us/step - loss: 0.5053 - accuracy: 0.8131 - val_loss: 0.4715 - val_accuracy: 0.8229\n",
      "Epoch 10/10\n",
      "56000/56000 [==============================] - 4s 72us/step - loss: 0.5030 - accuracy: 0.8158 - val_loss: 0.4697 - val_accuracy: 0.8216\n"
     ]
    }
   ],
   "source": [
    "# ajustando el modelo MLP Keras\n",
    "historySplit = splitClassifier.fit(\n",
    "    x = np.array(X_trainB), \n",
    "    y = to_categorical(np.array(y_trainB), categories), \n",
    "    epochs = epo, verbose = ver, \n",
    "    validation_data = (np.array(X_testB), to_categorical(np.array(y_testB), categories))\n",
    ")"
   ]
  },
  {
   "cell_type": "code",
   "execution_count": 41,
   "metadata": {},
   "outputs": [
    {
     "name": "stdout",
     "output_type": "stream",
     "text": [
      "14000/14000 [==============================] - 0s 23us/step\n"
     ]
    }
   ],
   "source": [
    "# evaluando el modelo entrenado con sus propias herramientas\n",
    "evalSplit = splitClassifier.evaluate(x = np.array(X_testB), y = to_categorical(np.array(y_testB), categories))"
   ]
  },
  {
   "cell_type": "code",
   "execution_count": 42,
   "metadata": {},
   "outputs": [
    {
     "name": "stdout",
     "output_type": "stream",
     "text": [
      "Perdida:  0.4696889785868781\n",
      "Precision:  0.8216428756713867\n"
     ]
    }
   ],
   "source": [
    "print(\"Perdida: \", evalSplit[0])\n",
    "print(\"Precision: \", evalSplit[1])"
   ]
  },
  {
   "cell_type": "code",
   "execution_count": 43,
   "metadata": {},
   "outputs": [
    {
     "name": "stdout",
     "output_type": "stream",
     "text": [
      "Model: \"sequential_2\"\n",
      "_________________________________________________________________\n",
      "Layer (type)                 Output Shape              Param #   \n",
      "=================================================================\n",
      "flatten_1 (Flatten)          (None, 64)                0         \n",
      "_________________________________________________________________\n",
      "dense_5 (Dense)              (None, 80)                5200      \n",
      "_________________________________________________________________\n",
      "dropout_7 (Dropout)          (None, 80)                0         \n",
      "_________________________________________________________________\n",
      "dense_6 (Dense)              (None, 60)                4860      \n",
      "_________________________________________________________________\n",
      "dropout_8 (Dropout)          (None, 60)                0         \n",
      "_________________________________________________________________\n",
      "dense_7 (Dense)              (None, 40)                2440      \n",
      "_________________________________________________________________\n",
      "dropout_9 (Dropout)          (None, 40)                0         \n",
      "_________________________________________________________________\n",
      "dense_8 (Dense)              (None, 10)                410       \n",
      "=================================================================\n",
      "Total params: 12,910\n",
      "Trainable params: 12,910\n",
      "Non-trainable params: 0\n",
      "_________________________________________________________________\n"
     ]
    }
   ],
   "source": [
    "# resumen de datos del MLP Keras\n",
    "splitClassifier.summary()"
   ]
  },
  {
   "cell_type": "code",
   "execution_count": 44,
   "metadata": {},
   "outputs": [],
   "source": [
    "# se prueba MLP de sklearn\n",
    "splitPrediction = splitClassifier.predict(np.array(X_testB))\n",
    "\n",
    "# ajuste de las predicciones para ver el reporte de matrix de confusion\n",
    "splitPrediction = np.array(splitPrediction).argmax(axis=1)"
   ]
  },
  {
   "cell_type": "code",
   "execution_count": 45,
   "metadata": {},
   "outputs": [
    {
     "name": "stdout",
     "output_type": "stream",
     "text": [
      "----- Reporte de Pruebas MLP con div aleatoria -----\n",
      "--- Conteo ---\n",
      "Counter({2: 1576, 0: 1536, 9: 1536, 3: 1470, 4: 1469, 5: 1400, 1: 1365, 8: 1350, 7: 1322, 6: 976})\n",
      "--- Matriz de Confusion ---\n",
      "[[1163    9   26   70   13    0   98    1   14    0]\n",
      " [   8 1336   14   35    2    1    5    0    1    0]\n",
      " [  13    0 1081   23  161    2  121    0    6    0]\n",
      " [  52   12    8 1236   98    0   33    0   10    0]\n",
      " [   3    1  202   56 1010    0   77    0    8    0]\n",
      " [   1    0    1    0    0 1257    0   96   12   82]\n",
      " [ 291    6  234   42  181    0  632    0   21    0]\n",
      " [   0    0    0    0    0   80    0 1168    0  111]\n",
      " [   5    1   10    8    4   16   10   11 1277    0]\n",
      " [   0    0    0    0    0   44    0   46    1 1343]]\n",
      "--- Reporte de Pruebas: ---\n",
      "              precision    recall  f1-score   support\n",
      "\n",
      "           0       0.76      0.83      0.79      1394\n",
      "           1       0.98      0.95      0.97      1402\n",
      "           2       0.69      0.77      0.72      1407\n",
      "           3       0.84      0.85      0.85      1449\n",
      "           4       0.69      0.74      0.71      1357\n",
      "           5       0.90      0.87      0.88      1449\n",
      "           6       0.65      0.45      0.53      1407\n",
      "           7       0.88      0.86      0.87      1359\n",
      "           8       0.95      0.95      0.95      1342\n",
      "           9       0.87      0.94      0.90      1434\n",
      "\n",
      "    accuracy                           0.82     14000\n",
      "   macro avg       0.82      0.82      0.82     14000\n",
      "weighted avg       0.82      0.82      0.82     14000\n",
      "\n",
      "--- Puntaje ---\n",
      "\n",
      " - Perdida:  0.4696889785868781\n",
      " - Precision:  0.8216428756713867\n"
     ]
    }
   ],
   "source": [
    "# Informe de los resultados para las pruebas del MLP\n",
    "print(\"----- Reporte de Pruebas MLP con div aleatoria -----\")\n",
    "print(\"--- Conteo ---\\n\" + str(Counter(splitPrediction)))\n",
    "print(\"--- Matriz de Confusion ---\\n\" + str(confusion_matrix(y_testB, splitPrediction)))\n",
    "print(\"--- Reporte de Pruebas: ---\")\n",
    "print(classification_report(y_testB, splitPrediction))\n",
    "print(\"--- Puntaje ---\\n\")\n",
    "print(\" - Perdida: \", evalSplit[0])\n",
    "print(\" - Precision: \", evalSplit[1])"
   ]
  },
  {
   "cell_type": "code",
   "execution_count": 46,
   "metadata": {},
   "outputs": [
    {
     "data": {
      "image/png": "[encoded data removed]",
      "text/plain": [
       "<Figure size 576x360 with 1 Axes>"
      ]
     },
     "metadata": {
      "needs_background": "light"
     },
     "output_type": "display_data"
    }
   ],
   "source": [
    "# curva de aprendizaje para clasificador con sklearn split\n",
    "pd.DataFrame(historySplit.history).plot(figsize=(8, 5))\n",
    "plt.grid(True)\n",
    "plt.gca().set_ylim(0, 1) # set the vertical range to [0-1]\n",
    "plt.show()"
   ]
  },
  {
   "cell_type": "markdown",
   "metadata": {},
   "source": [
    "### Optimización de Hiper-parámetros\n",
    "\n",
    "para optimizar el desempeño del Perceptrón se utiliza la librería Talos porque es relativamente fácil de crear un modelo optimizable e iterable en el espacio de hiper-parámetros definiendo una función con parámetros específicos. Para lograr esto se realizan los siguientes pasos:\n",
    "\n",
    " - Se define una función como modelo para el modelo de optimización Talos.\n",
    " - Se define un espacio de búsqueda de hiper-parámetros del MLP.\n",
    " - Se ejecuta una búsqueda aleatoria (opción por defecto de Talos) en una fracción reducida del espacio de hiper-parámetros del MLP.\n",
    " - Después, se analizan los resultados para obtener la mejor versión del modelo entrenado y se resume los resultados del modelo seleccionado durante el proceso de optimización."
   ]
  },
  {
   "cell_type": "code",
   "execution_count": 47,
   "metadata": {},
   "outputs": [],
   "source": [
    "# redefiniendo el modelo preliminar en funcion para optimizar\n",
    "def fashionPerceptron(X_train, y_train, X_test, y_test, params):\n",
    "  \n",
    "    inshape = X_train[0].shape\n",
    "    lshape = np.reshape(X_train[0], -1).shape\n",
    "    ver = 0\n",
    "    \n",
    "    # definiendo el modelo MLP de Keras\n",
    "    model = Sequential()\n",
    "    \n",
    "    # capa para representacion alternativa de (n,m) a (m*m)\n",
    "    model.add(Flatten(input_shape = X_train[0].shape))\n",
    "\n",
    "    # capa de entrada para el modelo\n",
    "    model.add(Dense(params[\"first_neuron\"], input_shape = inshape, activation = params[\"activation\"]))\n",
    "    \n",
    "    # paso intermedio para hacer dropout yevitar overfit\n",
    "    model.add(Dropout(params[\"dropout\"]))\n",
    "    \n",
    "    # capas ocultas del modelo\n",
    "    for i in range(params['hidden_layers']):\n",
    "        model.add(Dense(params['hidden_neuron'], input_shape = lshape, activation = params[\"activation\"])),\n",
    "        model.add(Dropout(params['dropout']))\n",
    "    \n",
    "    # capa de salida del modelo\n",
    "    model.add(Dense(params[\"last_neuron\"], input_shape = lshape, activation = params[\"last_activation\"]))\n",
    "    \n",
    "    # compilando las condiciones de optimizacion y ajuste del MLP Keras\n",
    "    model.compile(optimizer = params[\"optimizer\"], loss = params[\"losses\"], metrics = [\"acc\"])\n",
    "\n",
    "    # entrenando el modelo MLP Keras\n",
    "    history = model.fit(\n",
    "        x = np.array(X_train), \n",
    "        y = to_categorical(np.array(y_train), params[\"last_neuron\"]), \n",
    "        epochs = params[\"epochs\"], verbose = ver, \n",
    "        workers = 8, use_multiprocessing = True,\n",
    "        batch_size = params[\"batch_size\"],\n",
    "        callbacks = [talos.utils.ExperimentLogCallback(\"fashionPerceptronExp\", params)],\n",
    "        validation_data = (np.array(X_test), to_categorical(np.array(y_test), params[\"last_neuron\"]))\n",
    "    )\n",
    "    \n",
    "    return history, model"
   ]
  },
  {
   "cell_type": "code",
   "execution_count": 48,
   "metadata": {},
   "outputs": [],
   "source": [
    "# espacio de optimizacion de hyperparametros para el MLP\n",
    "parameters = {\"activation\": [\"relu\", \"elu\"],\n",
    "     \"last_activation\": [\"softmax\"],\n",
    "     \"optimizer\": [\"Nadam\", \"Adam\"],\n",
    "     \"losses\": [\"categorical_crossentropy\"],\n",
    "     \"shapes\": [\"brick\"],\n",
    "     \"first_neuron\": [60, 40, 20],\n",
    "     \"hidden_neuron\": [60, 40, 20],\n",
    "     \"last_neuron\": [len(classNamesList)],\n",
    "     \"hidden_layers\": [0, 1, 2, 3],\n",
    "     \"dropout\": [.0, .1, .2,],\n",
    "     \"batch_size\": [32, 64, 128],\n",
    "     \"epochs\": [10]}"
   ]
  },
  {
   "cell_type": "code",
   "execution_count": 49,
   "metadata": {
    "scrolled": false
   },
   "outputs": [
    {
     "name": "stderr",
     "output_type": "stream",
     "text": [
      "\r",
      "  0%|                                                                                        | 0/38 [00:00<?, ?it/s]"
     ]
    },
    {
     "name": "stdout",
     "output_type": "stream",
     "text": [
      "{'activation': 'elu', 'batch_size': 64, 'dropout': 0.1, 'epochs': 10, 'first_neuron': 60, 'hidden_layers': 0, 'hidden_neuron': 20, 'last_activation': 'softmax', 'last_neuron': 10, 'losses': 'categorical_crossentropy', 'optimizer': 'Adam', 'shapes': 'brick'}\n"
     ]
    },
    {
     "name": "stderr",
     "output_type": "stream",
     "text": [
      "\r",
      "  3%|██                                                                              | 1/38 [00:13<08:26, 13.70s/it]"
     ]
    },
    {
     "name": "stdout",
     "output_type": "stream",
     "text": [
      "{'activation': 'relu', 'batch_size': 32, 'dropout': 0.0, 'epochs': 10, 'first_neuron': 20, 'hidden_layers': 3, 'hidden_neuron': 20, 'last_activation': 'softmax', 'last_neuron': 10, 'losses': 'categorical_crossentropy', 'optimizer': 'Nadam', 'shapes': 'brick'}\n"
     ]
    },
    {
     "name": "stderr",
     "output_type": "stream",
     "text": [
      "\r",
      "  5%|████▏                                                                           | 2/38 [00:41<10:41, 17.81s/it]"
     ]
    },
    {
     "name": "stdout",
     "output_type": "stream",
     "text": [
      "{'activation': 'elu', 'batch_size': 128, 'dropout': 0.0, 'epochs': 10, 'first_neuron': 20, 'hidden_layers': 3, 'hidden_neuron': 20, 'last_activation': 'softmax', 'last_neuron': 10, 'losses': 'categorical_crossentropy', 'optimizer': 'Nadam', 'shapes': 'brick'}\n"
     ]
    },
    {
     "name": "stderr",
     "output_type": "stream",
     "text": [
      "\r",
      "  8%|██████▎                                                                         | 3/38 [00:50<08:52, 15.20s/it]"
     ]
    },
    {
     "name": "stdout",
     "output_type": "stream",
     "text": [
      "{'activation': 'elu', 'batch_size': 128, 'dropout': 0.2, 'epochs': 10, 'first_neuron': 60, 'hidden_layers': 3, 'hidden_neuron': 60, 'last_activation': 'softmax', 'last_neuron': 10, 'losses': 'categorical_crossentropy', 'optimizer': 'Nadam', 'shapes': 'brick'}\n"
     ]
    },
    {
     "name": "stderr",
     "output_type": "stream",
     "text": [
      "\r",
      " 11%|████████▍                                                                       | 4/38 [01:07<08:53, 15.70s/it]"
     ]
    },
    {
     "name": "stdout",
     "output_type": "stream",
     "text": [
      "{'activation': 'relu', 'batch_size': 32, 'dropout': 0.0, 'epochs': 10, 'first_neuron': 40, 'hidden_layers': 3, 'hidden_neuron': 20, 'last_activation': 'softmax', 'last_neuron': 10, 'losses': 'categorical_crossentropy', 'optimizer': 'Adam', 'shapes': 'brick'}\n"
     ]
    },
    {
     "name": "stderr",
     "output_type": "stream",
     "text": [
      "\r",
      " 13%|██████████▌                                                                     | 5/38 [01:30<09:55, 18.06s/it]"
     ]
    },
    {
     "name": "stdout",
     "output_type": "stream",
     "text": [
      "{'activation': 'elu', 'batch_size': 128, 'dropout': 0.2, 'epochs': 10, 'first_neuron': 20, 'hidden_layers': 0, 'hidden_neuron': 60, 'last_activation': 'softmax', 'last_neuron': 10, 'losses': 'categorical_crossentropy', 'optimizer': 'Nadam', 'shapes': 'brick'}\n"
     ]
    },
    {
     "name": "stderr",
     "output_type": "stream",
     "text": [
      "\r",
      " 16%|████████████▋                                                                   | 6/38 [01:38<07:55, 14.87s/it]"
     ]
    },
    {
     "name": "stdout",
     "output_type": "stream",
     "text": [
      "{'activation': 'relu', 'batch_size': 32, 'dropout': 0.2, 'epochs': 10, 'first_neuron': 40, 'hidden_layers': 0, 'hidden_neuron': 40, 'last_activation': 'softmax', 'last_neuron': 10, 'losses': 'categorical_crossentropy', 'optimizer': 'Adam', 'shapes': 'brick'}\n"
     ]
    },
    {
     "name": "stderr",
     "output_type": "stream",
     "text": [
      "\r",
      " 18%|██████████████▋                                                                 | 7/38 [01:59<08:46, 16.97s/it]"
     ]
    },
    {
     "name": "stdout",
     "output_type": "stream",
     "text": [
      "{'activation': 'relu', 'batch_size': 128, 'dropout': 0.1, 'epochs': 10, 'first_neuron': 60, 'hidden_layers': 3, 'hidden_neuron': 60, 'last_activation': 'softmax', 'last_neuron': 10, 'losses': 'categorical_crossentropy', 'optimizer': 'Nadam', 'shapes': 'brick'}\n"
     ]
    },
    {
     "name": "stderr",
     "output_type": "stream",
     "text": [
      "\r",
      " 21%|████████████████▊                                                               | 8/38 [02:15<08:16, 16.56s/it]"
     ]
    },
    {
     "name": "stdout",
     "output_type": "stream",
     "text": [
      "{'activation': 'relu', 'batch_size': 32, 'dropout': 0.2, 'epochs': 10, 'first_neuron': 60, 'hidden_layers': 2, 'hidden_neuron': 20, 'last_activation': 'softmax', 'last_neuron': 10, 'losses': 'categorical_crossentropy', 'optimizer': 'Adam', 'shapes': 'brick'}\n"
     ]
    },
    {
     "name": "stderr",
     "output_type": "stream",
     "text": [
      "\r",
      " 24%|██████████████████▉                                                             | 9/38 [02:43<09:36, 19.89s/it]"
     ]
    },
    {
     "name": "stdout",
     "output_type": "stream",
     "text": [
      "{'activation': 'elu', 'batch_size': 128, 'dropout': 0.2, 'epochs': 10, 'first_neuron': 20, 'hidden_layers': 3, 'hidden_neuron': 20, 'last_activation': 'softmax', 'last_neuron': 10, 'losses': 'categorical_crossentropy', 'optimizer': 'Nadam', 'shapes': 'brick'}\n"
     ]
    },
    {
     "name": "stderr",
     "output_type": "stream",
     "text": [
      "\r",
      " 26%|████████████████████▊                                                          | 10/38 [02:55<08:10, 17.51s/it]"
     ]
    },
    {
     "name": "stdout",
     "output_type": "stream",
     "text": [
      "{'activation': 'elu', 'batch_size': 32, 'dropout': 0.0, 'epochs': 10, 'first_neuron': 40, 'hidden_layers': 3, 'hidden_neuron': 20, 'last_activation': 'softmax', 'last_neuron': 10, 'losses': 'categorical_crossentropy', 'optimizer': 'Nadam', 'shapes': 'brick'}\n"
     ]
    },
    {
     "name": "stderr",
     "output_type": "stream",
     "text": [
      "\r",
      " 29%|██████████████████████▊                                                        | 11/38 [03:21<09:01, 20.07s/it]"
     ]
    },
    {
     "name": "stdout",
     "output_type": "stream",
     "text": [
      "{'activation': 'relu', 'batch_size': 32, 'dropout': 0.1, 'epochs': 10, 'first_neuron': 20, 'hidden_layers': 3, 'hidden_neuron': 60, 'last_activation': 'softmax', 'last_neuron': 10, 'losses': 'categorical_crossentropy', 'optimizer': 'Nadam', 'shapes': 'brick'}\n"
     ]
    },
    {
     "name": "stderr",
     "output_type": "stream",
     "text": [
      "\r",
      " 32%|████████████████████████▉                                                      | 12/38 [03:56<10:40, 24.64s/it]"
     ]
    },
    {
     "name": "stdout",
     "output_type": "stream",
     "text": [
      "{'activation': 'relu', 'batch_size': 128, 'dropout': 0.0, 'epochs': 10, 'first_neuron': 40, 'hidden_layers': 3, 'hidden_neuron': 60, 'last_activation': 'softmax', 'last_neuron': 10, 'losses': 'categorical_crossentropy', 'optimizer': 'Nadam', 'shapes': 'brick'}\n"
     ]
    },
    {
     "name": "stderr",
     "output_type": "stream",
     "text": [
      "\r",
      " 34%|███████████████████████████                                                    | 13/38 [04:06<08:23, 20.15s/it]"
     ]
    },
    {
     "name": "stdout",
     "output_type": "stream",
     "text": [
      "{'activation': 'elu', 'batch_size': 128, 'dropout': 0.2, 'epochs': 10, 'first_neuron': 40, 'hidden_layers': 0, 'hidden_neuron': 60, 'last_activation': 'softmax', 'last_neuron': 10, 'losses': 'categorical_crossentropy', 'optimizer': 'Adam', 'shapes': 'brick'}\n"
     ]
    },
    {
     "name": "stderr",
     "output_type": "stream",
     "text": [
      "\r",
      " 37%|█████████████████████████████                                                  | 14/38 [04:14<06:37, 16.56s/it]"
     ]
    },
    {
     "name": "stdout",
     "output_type": "stream",
     "text": [
      "{'activation': 'relu', 'batch_size': 128, 'dropout': 0.0, 'epochs': 10, 'first_neuron': 20, 'hidden_layers': 2, 'hidden_neuron': 40, 'last_activation': 'softmax', 'last_neuron': 10, 'losses': 'categorical_crossentropy', 'optimizer': 'Nadam', 'shapes': 'brick'}\n"
     ]
    },
    {
     "name": "stderr",
     "output_type": "stream",
     "text": [
      "\r",
      " 39%|███████████████████████████████▏                                               | 15/38 [04:21<05:19, 13.87s/it]"
     ]
    },
    {
     "name": "stdout",
     "output_type": "stream",
     "text": [
      "{'activation': 'relu', 'batch_size': 32, 'dropout': 0.2, 'epochs': 10, 'first_neuron': 20, 'hidden_layers': 3, 'hidden_neuron': 20, 'last_activation': 'softmax', 'last_neuron': 10, 'losses': 'categorical_crossentropy', 'optimizer': 'Nadam', 'shapes': 'brick'}\n"
     ]
    },
    {
     "name": "stderr",
     "output_type": "stream",
     "text": [
      "\r",
      " 42%|█████████████████████████████████▎                                             | 16/38 [04:54<07:11, 19.61s/it]"
     ]
    },
    {
     "name": "stdout",
     "output_type": "stream",
     "text": [
      "{'activation': 'elu', 'batch_size': 128, 'dropout': 0.2, 'epochs': 10, 'first_neuron': 60, 'hidden_layers': 0, 'hidden_neuron': 60, 'last_activation': 'softmax', 'last_neuron': 10, 'losses': 'categorical_crossentropy', 'optimizer': 'Adam', 'shapes': 'brick'}\n"
     ]
    },
    {
     "name": "stderr",
     "output_type": "stream",
     "text": [
      "\r",
      " 45%|███████████████████████████████████▎                                           | 17/38 [05:03<05:42, 16.33s/it]"
     ]
    },
    {
     "name": "stdout",
     "output_type": "stream",
     "text": [
      "{'activation': 'relu', 'batch_size': 128, 'dropout': 0.2, 'epochs': 10, 'first_neuron': 40, 'hidden_layers': 3, 'hidden_neuron': 20, 'last_activation': 'softmax', 'last_neuron': 10, 'losses': 'categorical_crossentropy', 'optimizer': 'Adam', 'shapes': 'brick'}\n"
     ]
    },
    {
     "name": "stderr",
     "output_type": "stream",
     "text": [
      "\r",
      " 47%|█████████████████████████████████████▍                                         | 18/38 [05:15<04:59, 14.97s/it]"
     ]
    },
    {
     "name": "stdout",
     "output_type": "stream",
     "text": [
      "{'activation': 'relu', 'batch_size': 128, 'dropout': 0.2, 'epochs': 10, 'first_neuron': 20, 'hidden_layers': 3, 'hidden_neuron': 40, 'last_activation': 'softmax', 'last_neuron': 10, 'losses': 'categorical_crossentropy', 'optimizer': 'Nadam', 'shapes': 'brick'}\n"
     ]
    },
    {
     "name": "stderr",
     "output_type": "stream",
     "text": [
      "\r",
      " 50%|███████████████████████████████████████▌                                       | 19/38 [05:28<04:32, 14.34s/it]"
     ]
    },
    {
     "name": "stdout",
     "output_type": "stream",
     "text": [
      "{'activation': 'relu', 'batch_size': 32, 'dropout': 0.0, 'epochs': 10, 'first_neuron': 60, 'hidden_layers': 3, 'hidden_neuron': 40, 'last_activation': 'softmax', 'last_neuron': 10, 'losses': 'categorical_crossentropy', 'optimizer': 'Nadam', 'shapes': 'brick'}\n"
     ]
    },
    {
     "name": "stderr",
     "output_type": "stream",
     "text": [
      "\r",
      " 53%|█████████████████████████████████████████▌                                     | 20/38 [05:53<05:19, 17.74s/it]"
     ]
    },
    {
     "name": "stdout",
     "output_type": "stream",
     "text": [
      "{'activation': 'relu', 'batch_size': 32, 'dropout': 0.1, 'epochs': 10, 'first_neuron': 20, 'hidden_layers': 3, 'hidden_neuron': 60, 'last_activation': 'softmax', 'last_neuron': 10, 'losses': 'categorical_crossentropy', 'optimizer': 'Adam', 'shapes': 'brick'}\n"
     ]
    },
    {
     "name": "stderr",
     "output_type": "stream",
     "text": [
      "\r",
      " 55%|███████████████████████████████████████████▋                                   | 21/38 [06:32<06:45, 23.84s/it]"
     ]
    },
    {
     "name": "stdout",
     "output_type": "stream",
     "text": [
      "{'activation': 'relu', 'batch_size': 64, 'dropout': 0.0, 'epochs': 10, 'first_neuron': 60, 'hidden_layers': 2, 'hidden_neuron': 40, 'last_activation': 'softmax', 'last_neuron': 10, 'losses': 'categorical_crossentropy', 'optimizer': 'Nadam', 'shapes': 'brick'}\n"
     ]
    },
    {
     "name": "stderr",
     "output_type": "stream",
     "text": [
      "\r",
      " 58%|█████████████████████████████████████████████▋                                 | 22/38 [06:45<05:30, 20.69s/it]"
     ]
    },
    {
     "name": "stdout",
     "output_type": "stream",
     "text": [
      "{'activation': 'relu', 'batch_size': 64, 'dropout': 0.0, 'epochs': 10, 'first_neuron': 40, 'hidden_layers': 3, 'hidden_neuron': 40, 'last_activation': 'softmax', 'last_neuron': 10, 'losses': 'categorical_crossentropy', 'optimizer': 'Adam', 'shapes': 'brick'}\n"
     ]
    },
    {
     "name": "stderr",
     "output_type": "stream",
     "text": [
      "\r",
      " 61%|███████████████████████████████████████████████▊                               | 23/38 [06:58<04:38, 18.54s/it]"
     ]
    },
    {
     "name": "stdout",
     "output_type": "stream",
     "text": [
      "{'activation': 'relu', 'batch_size': 32, 'dropout': 0.1, 'epochs': 10, 'first_neuron': 60, 'hidden_layers': 2, 'hidden_neuron': 60, 'last_activation': 'softmax', 'last_neuron': 10, 'losses': 'categorical_crossentropy', 'optimizer': 'Adam', 'shapes': 'brick'}\n"
     ]
    },
    {
     "name": "stderr",
     "output_type": "stream",
     "text": [
      "\r",
      " 63%|█████████████████████████████████████████████████▉                             | 24/38 [07:32<05:24, 23.20s/it]"
     ]
    },
    {
     "name": "stdout",
     "output_type": "stream",
     "text": [
      "{'activation': 'relu', 'batch_size': 64, 'dropout': 0.2, 'epochs': 10, 'first_neuron': 40, 'hidden_layers': 2, 'hidden_neuron': 20, 'last_activation': 'softmax', 'last_neuron': 10, 'losses': 'categorical_crossentropy', 'optimizer': 'Adam', 'shapes': 'brick'}\n"
     ]
    },
    {
     "name": "stderr",
     "output_type": "stream",
     "text": [
      "\r",
      " 66%|███████████████████████████████████████████████████▉                           | 25/38 [07:50<04:38, 21.45s/it]"
     ]
    },
    {
     "name": "stdout",
     "output_type": "stream",
     "text": [
      "{'activation': 'relu', 'batch_size': 64, 'dropout': 0.0, 'epochs': 10, 'first_neuron': 40, 'hidden_layers': 1, 'hidden_neuron': 60, 'last_activation': 'softmax', 'last_neuron': 10, 'losses': 'categorical_crossentropy', 'optimizer': 'Adam', 'shapes': 'brick'}\n"
     ]
    },
    {
     "name": "stderr",
     "output_type": "stream",
     "text": [
      "\r",
      " 68%|██████████████████████████████████████████████████████                         | 26/38 [08:02<03:44, 18.71s/it]"
     ]
    },
    {
     "name": "stdout",
     "output_type": "stream",
     "text": [
      "{'activation': 'relu', 'batch_size': 64, 'dropout': 0.2, 'epochs': 10, 'first_neuron': 60, 'hidden_layers': 2, 'hidden_neuron': 60, 'last_activation': 'softmax', 'last_neuron': 10, 'losses': 'categorical_crossentropy', 'optimizer': 'Adam', 'shapes': 'brick'}\n"
     ]
    },
    {
     "name": "stderr",
     "output_type": "stream",
     "text": [
      "\r",
      " 71%|████████████████████████████████████████████████████████▏                      | 27/38 [08:24<03:36, 19.70s/it]"
     ]
    },
    {
     "name": "stdout",
     "output_type": "stream",
     "text": [
      "{'activation': 'elu', 'batch_size': 64, 'dropout': 0.0, 'epochs': 10, 'first_neuron': 40, 'hidden_layers': 2, 'hidden_neuron': 40, 'last_activation': 'softmax', 'last_neuron': 10, 'losses': 'categorical_crossentropy', 'optimizer': 'Adam', 'shapes': 'brick'}\n"
     ]
    },
    {
     "name": "stderr",
     "output_type": "stream",
     "text": [
      "\r",
      " 74%|██████████████████████████████████████████████████████████▏                    | 28/38 [08:39<03:03, 18.35s/it]"
     ]
    },
    {
     "name": "stdout",
     "output_type": "stream",
     "text": [
      "{'activation': 'elu', 'batch_size': 64, 'dropout': 0.1, 'epochs': 10, 'first_neuron': 20, 'hidden_layers': 0, 'hidden_neuron': 40, 'last_activation': 'softmax', 'last_neuron': 10, 'losses': 'categorical_crossentropy', 'optimizer': 'Nadam', 'shapes': 'brick'}\n"
     ]
    },
    {
     "name": "stderr",
     "output_type": "stream",
     "text": [
      "\r",
      " 76%|████████████████████████████████████████████████████████████▎                  | 29/38 [08:53<02:32, 16.91s/it]"
     ]
    },
    {
     "name": "stdout",
     "output_type": "stream",
     "text": [
      "{'activation': 'elu', 'batch_size': 32, 'dropout': 0.2, 'epochs': 10, 'first_neuron': 60, 'hidden_layers': 1, 'hidden_neuron': 40, 'last_activation': 'softmax', 'last_neuron': 10, 'losses': 'categorical_crossentropy', 'optimizer': 'Adam', 'shapes': 'brick'}\n"
     ]
    },
    {
     "name": "stderr",
     "output_type": "stream",
     "text": [
      "\r",
      " 79%|██████████████████████████████████████████████████████████████▎                | 30/38 [09:23<02:47, 20.93s/it]"
     ]
    },
    {
     "name": "stdout",
     "output_type": "stream",
     "text": [
      "{'activation': 'elu', 'batch_size': 64, 'dropout': 0.2, 'epochs': 10, 'first_neuron': 40, 'hidden_layers': 1, 'hidden_neuron': 60, 'last_activation': 'softmax', 'last_neuron': 10, 'losses': 'categorical_crossentropy', 'optimizer': 'Adam', 'shapes': 'brick'}\n"
     ]
    },
    {
     "name": "stderr",
     "output_type": "stream",
     "text": [
      "\r",
      " 82%|████████████████████████████████████████████████████████████████▍              | 31/38 [09:43<02:23, 20.55s/it]"
     ]
    },
    {
     "name": "stdout",
     "output_type": "stream",
     "text": [
      "{'activation': 'elu', 'batch_size': 64, 'dropout': 0.1, 'epochs': 10, 'first_neuron': 20, 'hidden_layers': 2, 'hidden_neuron': 20, 'last_activation': 'softmax', 'last_neuron': 10, 'losses': 'categorical_crossentropy', 'optimizer': 'Adam', 'shapes': 'brick'}\n"
     ]
    },
    {
     "name": "stderr",
     "output_type": "stream",
     "text": [
      "\r",
      " 84%|██████████████████████████████████████████████████████████████████▌            | 32/38 [10:03<02:02, 20.36s/it]"
     ]
    },
    {
     "name": "stdout",
     "output_type": "stream",
     "text": [
      "{'activation': 'relu', 'batch_size': 32, 'dropout': 0.1, 'epochs': 10, 'first_neuron': 40, 'hidden_layers': 1, 'hidden_neuron': 40, 'last_activation': 'softmax', 'last_neuron': 10, 'losses': 'categorical_crossentropy', 'optimizer': 'Nadam', 'shapes': 'brick'}\n"
     ]
    },
    {
     "name": "stderr",
     "output_type": "stream",
     "text": [
      "\r",
      " 87%|████████████████████████████████████████████████████████████████████▌          | 33/38 [10:41<02:08, 25.60s/it]"
     ]
    },
    {
     "name": "stdout",
     "output_type": "stream",
     "text": [
      "{'activation': 'elu', 'batch_size': 64, 'dropout': 0.0, 'epochs': 10, 'first_neuron': 20, 'hidden_layers': 0, 'hidden_neuron': 20, 'last_activation': 'softmax', 'last_neuron': 10, 'losses': 'categorical_crossentropy', 'optimizer': 'Adam', 'shapes': 'brick'}\n"
     ]
    },
    {
     "name": "stderr",
     "output_type": "stream",
     "text": [
      "\r",
      " 89%|██████████████████████████████████████████████████████████████████████▋        | 34/38 [10:56<01:30, 22.53s/it]"
     ]
    },
    {
     "name": "stdout",
     "output_type": "stream",
     "text": [
      "{'activation': 'elu', 'batch_size': 64, 'dropout': 0.0, 'epochs': 10, 'first_neuron': 40, 'hidden_layers': 0, 'hidden_neuron': 20, 'last_activation': 'softmax', 'last_neuron': 10, 'losses': 'categorical_crossentropy', 'optimizer': 'Nadam', 'shapes': 'brick'}\n"
     ]
    },
    {
     "name": "stderr",
     "output_type": "stream",
     "text": [
      "\r",
      " 92%|████████████████████████████████████████████████████████████████████████▊      | 35/38 [11:10<00:59, 19.93s/it]"
     ]
    },
    {
     "name": "stdout",
     "output_type": "stream",
     "text": [
      "{'activation': 'elu', 'batch_size': 64, 'dropout': 0.1, 'epochs': 10, 'first_neuron': 60, 'hidden_layers': 3, 'hidden_neuron': 40, 'last_activation': 'softmax', 'last_neuron': 10, 'losses': 'categorical_crossentropy', 'optimizer': 'Nadam', 'shapes': 'brick'}\n"
     ]
    },
    {
     "name": "stderr",
     "output_type": "stream",
     "text": [
      "\r",
      " 95%|██████████████████████████████████████████████████████████████████████████▊    | 36/38 [11:37<00:44, 22.23s/it]"
     ]
    },
    {
     "name": "stdout",
     "output_type": "stream",
     "text": [
      "{'activation': 'elu', 'batch_size': 64, 'dropout': 0.1, 'epochs': 10, 'first_neuron': 60, 'hidden_layers': 0, 'hidden_neuron': 40, 'last_activation': 'softmax', 'last_neuron': 10, 'losses': 'categorical_crossentropy', 'optimizer': 'Nadam', 'shapes': 'brick'}\n"
     ]
    },
    {
     "name": "stderr",
     "output_type": "stream",
     "text": [
      "\r",
      " 97%|████████████████████████████████████████████████████████████████████████████▉  | 37/38 [11:57<00:21, 21.34s/it]"
     ]
    },
    {
     "name": "stdout",
     "output_type": "stream",
     "text": [
      "{'activation': 'elu', 'batch_size': 64, 'dropout': 0.1, 'epochs': 10, 'first_neuron': 60, 'hidden_layers': 0, 'hidden_neuron': 60, 'last_activation': 'softmax', 'last_neuron': 10, 'losses': 'categorical_crossentropy', 'optimizer': 'Nadam', 'shapes': 'brick'}\n"
     ]
    },
    {
     "name": "stderr",
     "output_type": "stream",
     "text": [
      "100%|███████████████████████████████████████████████████████████████████████████████| 38/38 [12:16<00:00, 19.37s/it]\n"
     ]
    }
   ],
   "source": [
    "# se hace la busqueda con la funcion Scan()\n",
    "# se utiliza el conjunto de datos reorganizado con sklearn\n",
    "# la semilla random es 42 porque es la respuesta universal y es la misma en todo el codigo\n",
    "# por defecto Talos hace una busqueda random, en general es mejor aunque puede caer en minimos/maximos locales\n",
    "# la poblacion de busqueda aleatoria es de un 1.0% ~ 3.0% para que el procedimiento sea rapido\n",
    "# para acelerar el proceso se prueba con reduction_method con correlacion y ajustandolo contra la precision de validacion\n",
    "scanPerceptron = talos.Scan(x = X_trainB, y = y_trainB,\n",
    "                            x_val = X_testB, y_val = y_testB,\n",
    "                            model = fashionPerceptron,\n",
    "                            experiment_name = \"fashionPerceptronExp\",\n",
    "                            params = parameters, \n",
    "                            reduction_method = \"correlation\",\n",
    "                            reduction_metric = \"val_acc\",\n",
    "                            fraction_limit = 0.03,\n",
    "                            seed = 42,\n",
    "                            print_params = True)"
   ]
  },
  {
   "cell_type": "markdown",
   "metadata": {},
   "source": [
    "### Accediendo a los resultados del proceso de Optimización"
   ]
  },
  {
   "cell_type": "code",
   "execution_count": 50,
   "metadata": {},
   "outputs": [
    {
     "data": {
      "text/html": [
       "<div>\n",
       "<style scoped>\n",
       "    .dataframe tbody tr th:only-of-type {\n",
       "        vertical-align: middle;\n",
       "    }\n",
       "\n",
       "    .dataframe tbody tr th {\n",
       "        vertical-align: top;\n",
       "    }\n",
       "\n",
       "    .dataframe thead th {\n",
       "        text-align: right;\n",
       "    }\n",
       "</style>\n",
       "<table border=\"1\" class=\"dataframe\">\n",
       "  <thead>\n",
       "    <tr style=\"text-align: right;\">\n",
       "      <th></th>\n",
       "      <th>round_epochs</th>\n",
       "      <th>val_loss</th>\n",
       "      <th>val_acc</th>\n",
       "      <th>loss</th>\n",
       "      <th>acc</th>\n",
       "      <th>activation</th>\n",
       "      <th>batch_size</th>\n",
       "      <th>dropout</th>\n",
       "      <th>epochs</th>\n",
       "      <th>first_neuron</th>\n",
       "      <th>hidden_layers</th>\n",
       "      <th>hidden_neuron</th>\n",
       "      <th>last_activation</th>\n",
       "      <th>last_neuron</th>\n",
       "      <th>losses</th>\n",
       "      <th>optimizer</th>\n",
       "      <th>shapes</th>\n",
       "    </tr>\n",
       "  </thead>\n",
       "  <tbody>\n",
       "    <tr>\n",
       "      <td>0</td>\n",
       "      <td>10</td>\n",
       "      <td>0.513222</td>\n",
       "      <td>0.810929</td>\n",
       "      <td>0.517610</td>\n",
       "      <td>0.806161</td>\n",
       "      <td>elu</td>\n",
       "      <td>64</td>\n",
       "      <td>0.1</td>\n",
       "      <td>10</td>\n",
       "      <td>60</td>\n",
       "      <td>0</td>\n",
       "      <td>20</td>\n",
       "      <td>softmax</td>\n",
       "      <td>10</td>\n",
       "      <td>categorical_crossentropy</td>\n",
       "      <td>Adam</td>\n",
       "      <td>brick</td>\n",
       "    </tr>\n",
       "    <tr>\n",
       "      <td>1</td>\n",
       "      <td>10</td>\n",
       "      <td>0.472110</td>\n",
       "      <td>0.823714</td>\n",
       "      <td>0.476151</td>\n",
       "      <td>0.820339</td>\n",
       "      <td>relu</td>\n",
       "      <td>32</td>\n",
       "      <td>0.0</td>\n",
       "      <td>10</td>\n",
       "      <td>20</td>\n",
       "      <td>3</td>\n",
       "      <td>20</td>\n",
       "      <td>softmax</td>\n",
       "      <td>10</td>\n",
       "      <td>categorical_crossentropy</td>\n",
       "      <td>Nadam</td>\n",
       "      <td>brick</td>\n",
       "    </tr>\n",
       "    <tr>\n",
       "      <td>2</td>\n",
       "      <td>10</td>\n",
       "      <td>0.488756</td>\n",
       "      <td>0.817286</td>\n",
       "      <td>0.480675</td>\n",
       "      <td>0.818125</td>\n",
       "      <td>elu</td>\n",
       "      <td>128</td>\n",
       "      <td>0.0</td>\n",
       "      <td>10</td>\n",
       "      <td>20</td>\n",
       "      <td>3</td>\n",
       "      <td>20</td>\n",
       "      <td>softmax</td>\n",
       "      <td>10</td>\n",
       "      <td>categorical_crossentropy</td>\n",
       "      <td>Nadam</td>\n",
       "      <td>brick</td>\n",
       "    </tr>\n",
       "    <tr>\n",
       "      <td>3</td>\n",
       "      <td>10</td>\n",
       "      <td>0.501656</td>\n",
       "      <td>0.811786</td>\n",
       "      <td>0.528866</td>\n",
       "      <td>0.801554</td>\n",
       "      <td>elu</td>\n",
       "      <td>128</td>\n",
       "      <td>0.2</td>\n",
       "      <td>10</td>\n",
       "      <td>60</td>\n",
       "      <td>3</td>\n",
       "      <td>60</td>\n",
       "      <td>softmax</td>\n",
       "      <td>10</td>\n",
       "      <td>categorical_crossentropy</td>\n",
       "      <td>Nadam</td>\n",
       "      <td>brick</td>\n",
       "    </tr>\n",
       "    <tr>\n",
       "      <td>4</td>\n",
       "      <td>10</td>\n",
       "      <td>0.474418</td>\n",
       "      <td>0.822714</td>\n",
       "      <td>0.465417</td>\n",
       "      <td>0.822911</td>\n",
       "      <td>relu</td>\n",
       "      <td>32</td>\n",
       "      <td>0.0</td>\n",
       "      <td>10</td>\n",
       "      <td>40</td>\n",
       "      <td>3</td>\n",
       "      <td>20</td>\n",
       "      <td>softmax</td>\n",
       "      <td>10</td>\n",
       "      <td>categorical_crossentropy</td>\n",
       "      <td>Adam</td>\n",
       "      <td>brick</td>\n",
       "    </tr>\n",
       "  </tbody>\n",
       "</table>\n",
       "</div>"
      ],
      "text/plain": [
       "   round_epochs  val_loss   val_acc      loss       acc activation  \\\n",
       "0            10  0.513222  0.810929  0.517610  0.806161        elu   \n",
       "1            10  0.472110  0.823714  0.476151  0.820339       relu   \n",
       "2            10  0.488756  0.817286  0.480675  0.818125        elu   \n",
       "3            10  0.501656  0.811786  0.528866  0.801554        elu   \n",
       "4            10  0.474418  0.822714  0.465417  0.822911       relu   \n",
       "\n",
       "   batch_size  dropout  epochs  first_neuron  hidden_layers  hidden_neuron  \\\n",
       "0          64      0.1      10            60              0             20   \n",
       "1          32      0.0      10            20              3             20   \n",
       "2         128      0.0      10            20              3             20   \n",
       "3         128      0.2      10            60              3             60   \n",
       "4          32      0.0      10            40              3             20   \n",
       "\n",
       "  last_activation  last_neuron                    losses optimizer shapes  \n",
       "0         softmax           10  categorical_crossentropy      Adam  brick  \n",
       "1         softmax           10  categorical_crossentropy     Nadam  brick  \n",
       "2         softmax           10  categorical_crossentropy     Nadam  brick  \n",
       "3         softmax           10  categorical_crossentropy     Nadam  brick  \n",
       "4         softmax           10  categorical_crossentropy      Adam  brick  "
      ]
     },
     "execution_count": 50,
     "metadata": {},
     "output_type": "execute_result"
    }
   ],
   "source": [
    "# mirando los resultados de la optimizacion con dataFrame\n",
    "scanPerceptron.data.head()"
   ]
  },
  {
   "cell_type": "code",
   "execution_count": 51,
   "metadata": {},
   "outputs": [
    {
     "data": {
      "text/html": [
       "<div>\n",
       "<style scoped>\n",
       "    .dataframe tbody tr th:only-of-type {\n",
       "        vertical-align: middle;\n",
       "    }\n",
       "\n",
       "    .dataframe tbody tr th {\n",
       "        vertical-align: top;\n",
       "    }\n",
       "\n",
       "    .dataframe thead th {\n",
       "        text-align: right;\n",
       "    }\n",
       "</style>\n",
       "<table border=\"1\" class=\"dataframe\">\n",
       "  <thead>\n",
       "    <tr style=\"text-align: right;\">\n",
       "      <th></th>\n",
       "      <th>loss</th>\n",
       "      <th>acc</th>\n",
       "    </tr>\n",
       "  </thead>\n",
       "  <tbody>\n",
       "    <tr>\n",
       "      <td>0</td>\n",
       "      <td>0.003547</td>\n",
       "      <td>0.000105</td>\n",
       "    </tr>\n",
       "    <tr>\n",
       "      <td>1</td>\n",
       "      <td>0.002619</td>\n",
       "      <td>0.000133</td>\n",
       "    </tr>\n",
       "    <tr>\n",
       "      <td>2</td>\n",
       "      <td>0.004539</td>\n",
       "      <td>0.000218</td>\n",
       "    </tr>\n",
       "    <tr>\n",
       "      <td>3</td>\n",
       "      <td>0.002815</td>\n",
       "      <td>0.000207</td>\n",
       "    </tr>\n",
       "    <tr>\n",
       "      <td>4</td>\n",
       "      <td>0.004340</td>\n",
       "      <td>0.000247</td>\n",
       "    </tr>\n",
       "  </tbody>\n",
       "</table>\n",
       "</div>"
      ],
      "text/plain": [
       "       loss       acc\n",
       "0  0.003547  0.000105\n",
       "1  0.002619  0.000133\n",
       "2  0.004539  0.000218\n",
       "3  0.002815  0.000207\n",
       "4  0.004340  0.000247"
      ]
     },
     "execution_count": 51,
     "metadata": {},
     "output_type": "execute_result"
    }
   ],
   "source": [
    "# mirando la entropia de cada ronda de experimentos\n",
    "scanPerceptron.learning_entropy.head()"
   ]
  },
  {
   "cell_type": "code",
   "execution_count": 52,
   "metadata": {},
   "outputs": [
    {
     "data": {
      "text/plain": [
       "round_epochs         int64\n",
       "val_loss           float64\n",
       "val_acc            float64\n",
       "loss               float64\n",
       "acc                float64\n",
       "activation          object\n",
       "batch_size           int64\n",
       "dropout            float64\n",
       "epochs               int64\n",
       "first_neuron         int64\n",
       "hidden_layers        int64\n",
       "hidden_neuron        int64\n",
       "last_activation     object\n",
       "last_neuron          int64\n",
       "losses              object\n",
       "optimizer           object\n",
       "shapes              object\n",
       "dtype: object"
      ]
     },
     "execution_count": 52,
     "metadata": {},
     "output_type": "execute_result"
    }
   ],
   "source": [
    "# tipos de datos dentro del set de resultados\n",
    "scanPerceptron.data.dtypes"
   ]
  },
  {
   "cell_type": "code",
   "execution_count": 53,
   "metadata": {},
   "outputs": [
    {
     "data": {
      "text/plain": [
       "experiment_name        fashionPerceptronExp\n",
       "random_method              uniform_mersenne\n",
       "reduction_method                correlation\n",
       "reduction_interval                       50\n",
       "reduction_window                         20\n",
       "reduction_threshold                     0.2\n",
       "reduction_metric                    val_acc\n",
       "complete_time                12/01/19/16:48\n",
       "x_shape                                list\n",
       "y_shape                                list\n",
       "dtype: object"
      ]
     },
     "execution_count": 53,
     "metadata": {},
     "output_type": "execute_result"
    }
   ],
   "source": [
    "# # ver los modelos que se probaron en el proceso de optimizavion\n",
    "# scanPerceptron.saved_models\n",
    "    \n",
    "# # ver los pesos de los modelos probados en el proceso de optimizacion\n",
    "# scanPerceptron.saved_weights\n",
    "\n",
    "# resumen del proceso de optimizacion realizado\n",
    "scanPerceptron.details"
   ]
  },
  {
   "cell_type": "markdown",
   "metadata": {},
   "source": [
    "### Analizando los resultados del proceso de Optimización\n",
    "Se hacen diferentes graficas para tener perspectivas diferentes en el análisis de los resultados de la búsqueda con Talos."
   ]
  },
  {
   "cell_type": "code",
   "execution_count": 54,
   "metadata": {},
   "outputs": [],
   "source": [
    "# para el analisis se utiliza el reporte creado por Talos como entrada de Analyze\n",
    "analyzePerceptron = talos.Analyze(scanPerceptron)"
   ]
  },
  {
   "cell_type": "code",
   "execution_count": 55,
   "metadata": {},
   "outputs": [
    {
     "data": {
      "text/html": [
       "<div>\n",
       "<style scoped>\n",
       "    .dataframe tbody tr th:only-of-type {\n",
       "        vertical-align: middle;\n",
       "    }\n",
       "\n",
       "    .dataframe tbody tr th {\n",
       "        vertical-align: top;\n",
       "    }\n",
       "\n",
       "    .dataframe thead th {\n",
       "        text-align: right;\n",
       "    }\n",
       "</style>\n",
       "<table border=\"1\" class=\"dataframe\">\n",
       "  <thead>\n",
       "    <tr style=\"text-align: right;\">\n",
       "      <th></th>\n",
       "      <th>round_epochs</th>\n",
       "      <th>val_loss</th>\n",
       "      <th>val_acc</th>\n",
       "      <th>loss</th>\n",
       "      <th>acc</th>\n",
       "      <th>activation</th>\n",
       "      <th>batch_size</th>\n",
       "      <th>dropout</th>\n",
       "      <th>epochs</th>\n",
       "      <th>first_neuron</th>\n",
       "      <th>hidden_layers</th>\n",
       "      <th>hidden_neuron</th>\n",
       "      <th>last_activation</th>\n",
       "      <th>last_neuron</th>\n",
       "      <th>losses</th>\n",
       "      <th>optimizer</th>\n",
       "      <th>shapes</th>\n",
       "    </tr>\n",
       "  </thead>\n",
       "  <tbody>\n",
       "    <tr>\n",
       "      <td>0</td>\n",
       "      <td>10</td>\n",
       "      <td>0.513222</td>\n",
       "      <td>0.810929</td>\n",
       "      <td>0.517610</td>\n",
       "      <td>0.806161</td>\n",
       "      <td>elu</td>\n",
       "      <td>64</td>\n",
       "      <td>0.1</td>\n",
       "      <td>10</td>\n",
       "      <td>60</td>\n",
       "      <td>0</td>\n",
       "      <td>20</td>\n",
       "      <td>softmax</td>\n",
       "      <td>10</td>\n",
       "      <td>categorical_crossentropy</td>\n",
       "      <td>Adam</td>\n",
       "      <td>brick</td>\n",
       "    </tr>\n",
       "    <tr>\n",
       "      <td>1</td>\n",
       "      <td>10</td>\n",
       "      <td>0.472110</td>\n",
       "      <td>0.823714</td>\n",
       "      <td>0.476151</td>\n",
       "      <td>0.820339</td>\n",
       "      <td>relu</td>\n",
       "      <td>32</td>\n",
       "      <td>0.0</td>\n",
       "      <td>10</td>\n",
       "      <td>20</td>\n",
       "      <td>3</td>\n",
       "      <td>20</td>\n",
       "      <td>softmax</td>\n",
       "      <td>10</td>\n",
       "      <td>categorical_crossentropy</td>\n",
       "      <td>Nadam</td>\n",
       "      <td>brick</td>\n",
       "    </tr>\n",
       "    <tr>\n",
       "      <td>2</td>\n",
       "      <td>10</td>\n",
       "      <td>0.488756</td>\n",
       "      <td>0.817286</td>\n",
       "      <td>0.480675</td>\n",
       "      <td>0.818125</td>\n",
       "      <td>elu</td>\n",
       "      <td>128</td>\n",
       "      <td>0.0</td>\n",
       "      <td>10</td>\n",
       "      <td>20</td>\n",
       "      <td>3</td>\n",
       "      <td>20</td>\n",
       "      <td>softmax</td>\n",
       "      <td>10</td>\n",
       "      <td>categorical_crossentropy</td>\n",
       "      <td>Nadam</td>\n",
       "      <td>brick</td>\n",
       "    </tr>\n",
       "    <tr>\n",
       "      <td>3</td>\n",
       "      <td>10</td>\n",
       "      <td>0.501656</td>\n",
       "      <td>0.811786</td>\n",
       "      <td>0.528866</td>\n",
       "      <td>0.801554</td>\n",
       "      <td>elu</td>\n",
       "      <td>128</td>\n",
       "      <td>0.2</td>\n",
       "      <td>10</td>\n",
       "      <td>60</td>\n",
       "      <td>3</td>\n",
       "      <td>60</td>\n",
       "      <td>softmax</td>\n",
       "      <td>10</td>\n",
       "      <td>categorical_crossentropy</td>\n",
       "      <td>Nadam</td>\n",
       "      <td>brick</td>\n",
       "    </tr>\n",
       "    <tr>\n",
       "      <td>4</td>\n",
       "      <td>10</td>\n",
       "      <td>0.474418</td>\n",
       "      <td>0.822714</td>\n",
       "      <td>0.465417</td>\n",
       "      <td>0.822911</td>\n",
       "      <td>relu</td>\n",
       "      <td>32</td>\n",
       "      <td>0.0</td>\n",
       "      <td>10</td>\n",
       "      <td>40</td>\n",
       "      <td>3</td>\n",
       "      <td>20</td>\n",
       "      <td>softmax</td>\n",
       "      <td>10</td>\n",
       "      <td>categorical_crossentropy</td>\n",
       "      <td>Adam</td>\n",
       "      <td>brick</td>\n",
       "    </tr>\n",
       "    <tr>\n",
       "      <td>5</td>\n",
       "      <td>10</td>\n",
       "      <td>0.532630</td>\n",
       "      <td>0.805214</td>\n",
       "      <td>0.558838</td>\n",
       "      <td>0.793179</td>\n",
       "      <td>elu</td>\n",
       "      <td>128</td>\n",
       "      <td>0.2</td>\n",
       "      <td>10</td>\n",
       "      <td>20</td>\n",
       "      <td>0</td>\n",
       "      <td>60</td>\n",
       "      <td>softmax</td>\n",
       "      <td>10</td>\n",
       "      <td>categorical_crossentropy</td>\n",
       "      <td>Nadam</td>\n",
       "      <td>brick</td>\n",
       "    </tr>\n",
       "    <tr>\n",
       "      <td>6</td>\n",
       "      <td>10</td>\n",
       "      <td>0.491013</td>\n",
       "      <td>0.815500</td>\n",
       "      <td>0.508723</td>\n",
       "      <td>0.809839</td>\n",
       "      <td>relu</td>\n",
       "      <td>32</td>\n",
       "      <td>0.2</td>\n",
       "      <td>10</td>\n",
       "      <td>40</td>\n",
       "      <td>0</td>\n",
       "      <td>40</td>\n",
       "      <td>softmax</td>\n",
       "      <td>10</td>\n",
       "      <td>categorical_crossentropy</td>\n",
       "      <td>Adam</td>\n",
       "      <td>brick</td>\n",
       "    </tr>\n",
       "    <tr>\n",
       "      <td>7</td>\n",
       "      <td>10</td>\n",
       "      <td>0.469659</td>\n",
       "      <td>0.827071</td>\n",
       "      <td>0.482579</td>\n",
       "      <td>0.821536</td>\n",
       "      <td>relu</td>\n",
       "      <td>128</td>\n",
       "      <td>0.1</td>\n",
       "      <td>10</td>\n",
       "      <td>60</td>\n",
       "      <td>3</td>\n",
       "      <td>60</td>\n",
       "      <td>softmax</td>\n",
       "      <td>10</td>\n",
       "      <td>categorical_crossentropy</td>\n",
       "      <td>Nadam</td>\n",
       "      <td>brick</td>\n",
       "    </tr>\n",
       "    <tr>\n",
       "      <td>8</td>\n",
       "      <td>10</td>\n",
       "      <td>0.497951</td>\n",
       "      <td>0.816286</td>\n",
       "      <td>0.577171</td>\n",
       "      <td>0.794518</td>\n",
       "      <td>relu</td>\n",
       "      <td>32</td>\n",
       "      <td>0.2</td>\n",
       "      <td>10</td>\n",
       "      <td>60</td>\n",
       "      <td>2</td>\n",
       "      <td>20</td>\n",
       "      <td>softmax</td>\n",
       "      <td>10</td>\n",
       "      <td>categorical_crossentropy</td>\n",
       "      <td>Adam</td>\n",
       "      <td>brick</td>\n",
       "    </tr>\n",
       "    <tr>\n",
       "      <td>9</td>\n",
       "      <td>10</td>\n",
       "      <td>0.540693</td>\n",
       "      <td>0.801500</td>\n",
       "      <td>0.626402</td>\n",
       "      <td>0.777357</td>\n",
       "      <td>elu</td>\n",
       "      <td>128</td>\n",
       "      <td>0.2</td>\n",
       "      <td>10</td>\n",
       "      <td>20</td>\n",
       "      <td>3</td>\n",
       "      <td>20</td>\n",
       "      <td>softmax</td>\n",
       "      <td>10</td>\n",
       "      <td>categorical_crossentropy</td>\n",
       "      <td>Nadam</td>\n",
       "      <td>brick</td>\n",
       "    </tr>\n",
       "    <tr>\n",
       "      <td>10</td>\n",
       "      <td>10</td>\n",
       "      <td>0.470856</td>\n",
       "      <td>0.825000</td>\n",
       "      <td>0.463269</td>\n",
       "      <td>0.822768</td>\n",
       "      <td>elu</td>\n",
       "      <td>32</td>\n",
       "      <td>0.0</td>\n",
       "      <td>10</td>\n",
       "      <td>40</td>\n",
       "      <td>3</td>\n",
       "      <td>20</td>\n",
       "      <td>softmax</td>\n",
       "      <td>10</td>\n",
       "      <td>categorical_crossentropy</td>\n",
       "      <td>Nadam</td>\n",
       "      <td>brick</td>\n",
       "    </tr>\n",
       "    <tr>\n",
       "      <td>11</td>\n",
       "      <td>10</td>\n",
       "      <td>0.502752</td>\n",
       "      <td>0.812643</td>\n",
       "      <td>0.522336</td>\n",
       "      <td>0.809411</td>\n",
       "      <td>relu</td>\n",
       "      <td>32</td>\n",
       "      <td>0.1</td>\n",
       "      <td>10</td>\n",
       "      <td>20</td>\n",
       "      <td>3</td>\n",
       "      <td>60</td>\n",
       "      <td>softmax</td>\n",
       "      <td>10</td>\n",
       "      <td>categorical_crossentropy</td>\n",
       "      <td>Nadam</td>\n",
       "      <td>brick</td>\n",
       "    </tr>\n",
       "    <tr>\n",
       "      <td>12</td>\n",
       "      <td>10</td>\n",
       "      <td>0.467866</td>\n",
       "      <td>0.826500</td>\n",
       "      <td>0.441577</td>\n",
       "      <td>0.832036</td>\n",
       "      <td>relu</td>\n",
       "      <td>128</td>\n",
       "      <td>0.0</td>\n",
       "      <td>10</td>\n",
       "      <td>40</td>\n",
       "      <td>3</td>\n",
       "      <td>60</td>\n",
       "      <td>softmax</td>\n",
       "      <td>10</td>\n",
       "      <td>categorical_crossentropy</td>\n",
       "      <td>Nadam</td>\n",
       "      <td>brick</td>\n",
       "    </tr>\n",
       "    <tr>\n",
       "      <td>13</td>\n",
       "      <td>10</td>\n",
       "      <td>0.545304</td>\n",
       "      <td>0.799500</td>\n",
       "      <td>0.554200</td>\n",
       "      <td>0.796429</td>\n",
       "      <td>elu</td>\n",
       "      <td>128</td>\n",
       "      <td>0.2</td>\n",
       "      <td>10</td>\n",
       "      <td>40</td>\n",
       "      <td>0</td>\n",
       "      <td>60</td>\n",
       "      <td>softmax</td>\n",
       "      <td>10</td>\n",
       "      <td>categorical_crossentropy</td>\n",
       "      <td>Adam</td>\n",
       "      <td>brick</td>\n",
       "    </tr>\n",
       "    <tr>\n",
       "      <td>14</td>\n",
       "      <td>10</td>\n",
       "      <td>0.477582</td>\n",
       "      <td>0.820571</td>\n",
       "      <td>0.469047</td>\n",
       "      <td>0.823250</td>\n",
       "      <td>relu</td>\n",
       "      <td>128</td>\n",
       "      <td>0.0</td>\n",
       "      <td>10</td>\n",
       "      <td>20</td>\n",
       "      <td>2</td>\n",
       "      <td>40</td>\n",
       "      <td>softmax</td>\n",
       "      <td>10</td>\n",
       "      <td>categorical_crossentropy</td>\n",
       "      <td>Nadam</td>\n",
       "      <td>brick</td>\n",
       "    </tr>\n",
       "    <tr>\n",
       "      <td>15</td>\n",
       "      <td>10</td>\n",
       "      <td>0.562020</td>\n",
       "      <td>0.791571</td>\n",
       "      <td>0.686114</td>\n",
       "      <td>0.754286</td>\n",
       "      <td>relu</td>\n",
       "      <td>32</td>\n",
       "      <td>0.2</td>\n",
       "      <td>10</td>\n",
       "      <td>20</td>\n",
       "      <td>3</td>\n",
       "      <td>20</td>\n",
       "      <td>softmax</td>\n",
       "      <td>10</td>\n",
       "      <td>categorical_crossentropy</td>\n",
       "      <td>Nadam</td>\n",
       "      <td>brick</td>\n",
       "    </tr>\n",
       "    <tr>\n",
       "      <td>16</td>\n",
       "      <td>10</td>\n",
       "      <td>0.531205</td>\n",
       "      <td>0.805643</td>\n",
       "      <td>0.542310</td>\n",
       "      <td>0.798446</td>\n",
       "      <td>elu</td>\n",
       "      <td>128</td>\n",
       "      <td>0.2</td>\n",
       "      <td>10</td>\n",
       "      <td>60</td>\n",
       "      <td>0</td>\n",
       "      <td>60</td>\n",
       "      <td>softmax</td>\n",
       "      <td>10</td>\n",
       "      <td>categorical_crossentropy</td>\n",
       "      <td>Adam</td>\n",
       "      <td>brick</td>\n",
       "    </tr>\n",
       "    <tr>\n",
       "      <td>17</td>\n",
       "      <td>10</td>\n",
       "      <td>0.549631</td>\n",
       "      <td>0.794429</td>\n",
       "      <td>0.672495</td>\n",
       "      <td>0.758607</td>\n",
       "      <td>relu</td>\n",
       "      <td>128</td>\n",
       "      <td>0.2</td>\n",
       "      <td>10</td>\n",
       "      <td>40</td>\n",
       "      <td>3</td>\n",
       "      <td>20</td>\n",
       "      <td>softmax</td>\n",
       "      <td>10</td>\n",
       "      <td>categorical_crossentropy</td>\n",
       "      <td>Adam</td>\n",
       "      <td>brick</td>\n",
       "    </tr>\n",
       "    <tr>\n",
       "      <td>18</td>\n",
       "      <td>10</td>\n",
       "      <td>0.522978</td>\n",
       "      <td>0.811143</td>\n",
       "      <td>0.599152</td>\n",
       "      <td>0.784429</td>\n",
       "      <td>relu</td>\n",
       "      <td>128</td>\n",
       "      <td>0.2</td>\n",
       "      <td>10</td>\n",
       "      <td>20</td>\n",
       "      <td>3</td>\n",
       "      <td>40</td>\n",
       "      <td>softmax</td>\n",
       "      <td>10</td>\n",
       "      <td>categorical_crossentropy</td>\n",
       "      <td>Nadam</td>\n",
       "      <td>brick</td>\n",
       "    </tr>\n",
       "    <tr>\n",
       "      <td>19</td>\n",
       "      <td>10</td>\n",
       "      <td>0.464719</td>\n",
       "      <td>0.828214</td>\n",
       "      <td>0.448105</td>\n",
       "      <td>0.830821</td>\n",
       "      <td>relu</td>\n",
       "      <td>32</td>\n",
       "      <td>0.0</td>\n",
       "      <td>10</td>\n",
       "      <td>60</td>\n",
       "      <td>3</td>\n",
       "      <td>40</td>\n",
       "      <td>softmax</td>\n",
       "      <td>10</td>\n",
       "      <td>categorical_crossentropy</td>\n",
       "      <td>Nadam</td>\n",
       "      <td>brick</td>\n",
       "    </tr>\n",
       "    <tr>\n",
       "      <td>20</td>\n",
       "      <td>10</td>\n",
       "      <td>0.503935</td>\n",
       "      <td>0.811500</td>\n",
       "      <td>0.519180</td>\n",
       "      <td>0.808268</td>\n",
       "      <td>relu</td>\n",
       "      <td>32</td>\n",
       "      <td>0.1</td>\n",
       "      <td>10</td>\n",
       "      <td>20</td>\n",
       "      <td>3</td>\n",
       "      <td>60</td>\n",
       "      <td>softmax</td>\n",
       "      <td>10</td>\n",
       "      <td>categorical_crossentropy</td>\n",
       "      <td>Adam</td>\n",
       "      <td>brick</td>\n",
       "    </tr>\n",
       "    <tr>\n",
       "      <td>21</td>\n",
       "      <td>10</td>\n",
       "      <td>0.461496</td>\n",
       "      <td>0.827500</td>\n",
       "      <td>0.442344</td>\n",
       "      <td>0.833036</td>\n",
       "      <td>relu</td>\n",
       "      <td>64</td>\n",
       "      <td>0.0</td>\n",
       "      <td>10</td>\n",
       "      <td>60</td>\n",
       "      <td>2</td>\n",
       "      <td>40</td>\n",
       "      <td>softmax</td>\n",
       "      <td>10</td>\n",
       "      <td>categorical_crossentropy</td>\n",
       "      <td>Nadam</td>\n",
       "      <td>brick</td>\n",
       "    </tr>\n",
       "    <tr>\n",
       "      <td>22</td>\n",
       "      <td>10</td>\n",
       "      <td>0.475712</td>\n",
       "      <td>0.821857</td>\n",
       "      <td>0.457266</td>\n",
       "      <td>0.827607</td>\n",
       "      <td>relu</td>\n",
       "      <td>64</td>\n",
       "      <td>0.0</td>\n",
       "      <td>10</td>\n",
       "      <td>40</td>\n",
       "      <td>3</td>\n",
       "      <td>40</td>\n",
       "      <td>softmax</td>\n",
       "      <td>10</td>\n",
       "      <td>categorical_crossentropy</td>\n",
       "      <td>Adam</td>\n",
       "      <td>brick</td>\n",
       "    </tr>\n",
       "    <tr>\n",
       "      <td>23</td>\n",
       "      <td>10</td>\n",
       "      <td>0.469252</td>\n",
       "      <td>0.822000</td>\n",
       "      <td>0.476234</td>\n",
       "      <td>0.822554</td>\n",
       "      <td>relu</td>\n",
       "      <td>32</td>\n",
       "      <td>0.1</td>\n",
       "      <td>10</td>\n",
       "      <td>60</td>\n",
       "      <td>2</td>\n",
       "      <td>60</td>\n",
       "      <td>softmax</td>\n",
       "      <td>10</td>\n",
       "      <td>categorical_crossentropy</td>\n",
       "      <td>Adam</td>\n",
       "      <td>brick</td>\n",
       "    </tr>\n",
       "    <tr>\n",
       "      <td>24</td>\n",
       "      <td>10</td>\n",
       "      <td>0.512176</td>\n",
       "      <td>0.811429</td>\n",
       "      <td>0.605921</td>\n",
       "      <td>0.786000</td>\n",
       "      <td>relu</td>\n",
       "      <td>64</td>\n",
       "      <td>0.2</td>\n",
       "      <td>10</td>\n",
       "      <td>40</td>\n",
       "      <td>2</td>\n",
       "      <td>20</td>\n",
       "      <td>softmax</td>\n",
       "      <td>10</td>\n",
       "      <td>categorical_crossentropy</td>\n",
       "      <td>Adam</td>\n",
       "      <td>brick</td>\n",
       "    </tr>\n",
       "    <tr>\n",
       "      <td>25</td>\n",
       "      <td>10</td>\n",
       "      <td>0.473887</td>\n",
       "      <td>0.822786</td>\n",
       "      <td>0.463739</td>\n",
       "      <td>0.825339</td>\n",
       "      <td>relu</td>\n",
       "      <td>64</td>\n",
       "      <td>0.0</td>\n",
       "      <td>10</td>\n",
       "      <td>40</td>\n",
       "      <td>1</td>\n",
       "      <td>60</td>\n",
       "      <td>softmax</td>\n",
       "      <td>10</td>\n",
       "      <td>categorical_crossentropy</td>\n",
       "      <td>Adam</td>\n",
       "      <td>brick</td>\n",
       "    </tr>\n",
       "    <tr>\n",
       "      <td>26</td>\n",
       "      <td>10</td>\n",
       "      <td>0.473429</td>\n",
       "      <td>0.821214</td>\n",
       "      <td>0.508702</td>\n",
       "      <td>0.811857</td>\n",
       "      <td>relu</td>\n",
       "      <td>64</td>\n",
       "      <td>0.2</td>\n",
       "      <td>10</td>\n",
       "      <td>60</td>\n",
       "      <td>2</td>\n",
       "      <td>60</td>\n",
       "      <td>softmax</td>\n",
       "      <td>10</td>\n",
       "      <td>categorical_crossentropy</td>\n",
       "      <td>Adam</td>\n",
       "      <td>brick</td>\n",
       "    </tr>\n",
       "    <tr>\n",
       "      <td>27</td>\n",
       "      <td>10</td>\n",
       "      <td>0.487407</td>\n",
       "      <td>0.817071</td>\n",
       "      <td>0.472521</td>\n",
       "      <td>0.820018</td>\n",
       "      <td>elu</td>\n",
       "      <td>64</td>\n",
       "      <td>0.0</td>\n",
       "      <td>10</td>\n",
       "      <td>40</td>\n",
       "      <td>2</td>\n",
       "      <td>40</td>\n",
       "      <td>softmax</td>\n",
       "      <td>10</td>\n",
       "      <td>categorical_crossentropy</td>\n",
       "      <td>Adam</td>\n",
       "      <td>brick</td>\n",
       "    </tr>\n",
       "    <tr>\n",
       "      <td>28</td>\n",
       "      <td>10</td>\n",
       "      <td>0.517681</td>\n",
       "      <td>0.810571</td>\n",
       "      <td>0.528298</td>\n",
       "      <td>0.802714</td>\n",
       "      <td>elu</td>\n",
       "      <td>64</td>\n",
       "      <td>0.1</td>\n",
       "      <td>10</td>\n",
       "      <td>20</td>\n",
       "      <td>0</td>\n",
       "      <td>40</td>\n",
       "      <td>softmax</td>\n",
       "      <td>10</td>\n",
       "      <td>categorical_crossentropy</td>\n",
       "      <td>Nadam</td>\n",
       "      <td>brick</td>\n",
       "    </tr>\n",
       "    <tr>\n",
       "      <td>29</td>\n",
       "      <td>10</td>\n",
       "      <td>0.496237</td>\n",
       "      <td>0.812143</td>\n",
       "      <td>0.524398</td>\n",
       "      <td>0.802429</td>\n",
       "      <td>elu</td>\n",
       "      <td>32</td>\n",
       "      <td>0.2</td>\n",
       "      <td>10</td>\n",
       "      <td>60</td>\n",
       "      <td>1</td>\n",
       "      <td>40</td>\n",
       "      <td>softmax</td>\n",
       "      <td>10</td>\n",
       "      <td>categorical_crossentropy</td>\n",
       "      <td>Adam</td>\n",
       "      <td>brick</td>\n",
       "    </tr>\n",
       "    <tr>\n",
       "      <td>30</td>\n",
       "      <td>10</td>\n",
       "      <td>0.504950</td>\n",
       "      <td>0.810786</td>\n",
       "      <td>0.534845</td>\n",
       "      <td>0.798929</td>\n",
       "      <td>elu</td>\n",
       "      <td>64</td>\n",
       "      <td>0.2</td>\n",
       "      <td>10</td>\n",
       "      <td>40</td>\n",
       "      <td>1</td>\n",
       "      <td>60</td>\n",
       "      <td>softmax</td>\n",
       "      <td>10</td>\n",
       "      <td>categorical_crossentropy</td>\n",
       "      <td>Adam</td>\n",
       "      <td>brick</td>\n",
       "    </tr>\n",
       "    <tr>\n",
       "      <td>31</td>\n",
       "      <td>10</td>\n",
       "      <td>0.518824</td>\n",
       "      <td>0.806571</td>\n",
       "      <td>0.557500</td>\n",
       "      <td>0.792518</td>\n",
       "      <td>elu</td>\n",
       "      <td>64</td>\n",
       "      <td>0.1</td>\n",
       "      <td>10</td>\n",
       "      <td>20</td>\n",
       "      <td>2</td>\n",
       "      <td>20</td>\n",
       "      <td>softmax</td>\n",
       "      <td>10</td>\n",
       "      <td>categorical_crossentropy</td>\n",
       "      <td>Adam</td>\n",
       "      <td>brick</td>\n",
       "    </tr>\n",
       "    <tr>\n",
       "      <td>32</td>\n",
       "      <td>10</td>\n",
       "      <td>0.472244</td>\n",
       "      <td>0.823429</td>\n",
       "      <td>0.485552</td>\n",
       "      <td>0.818625</td>\n",
       "      <td>relu</td>\n",
       "      <td>32</td>\n",
       "      <td>0.1</td>\n",
       "      <td>10</td>\n",
       "      <td>40</td>\n",
       "      <td>1</td>\n",
       "      <td>40</td>\n",
       "      <td>softmax</td>\n",
       "      <td>10</td>\n",
       "      <td>categorical_crossentropy</td>\n",
       "      <td>Nadam</td>\n",
       "      <td>brick</td>\n",
       "    </tr>\n",
       "    <tr>\n",
       "      <td>33</td>\n",
       "      <td>10</td>\n",
       "      <td>0.526054</td>\n",
       "      <td>0.806714</td>\n",
       "      <td>0.517389</td>\n",
       "      <td>0.809214</td>\n",
       "      <td>elu</td>\n",
       "      <td>64</td>\n",
       "      <td>0.0</td>\n",
       "      <td>10</td>\n",
       "      <td>20</td>\n",
       "      <td>0</td>\n",
       "      <td>20</td>\n",
       "      <td>softmax</td>\n",
       "      <td>10</td>\n",
       "      <td>categorical_crossentropy</td>\n",
       "      <td>Adam</td>\n",
       "      <td>brick</td>\n",
       "    </tr>\n",
       "    <tr>\n",
       "      <td>34</td>\n",
       "      <td>10</td>\n",
       "      <td>0.493064</td>\n",
       "      <td>0.817429</td>\n",
       "      <td>0.481670</td>\n",
       "      <td>0.818018</td>\n",
       "      <td>elu</td>\n",
       "      <td>64</td>\n",
       "      <td>0.0</td>\n",
       "      <td>10</td>\n",
       "      <td>40</td>\n",
       "      <td>0</td>\n",
       "      <td>20</td>\n",
       "      <td>softmax</td>\n",
       "      <td>10</td>\n",
       "      <td>categorical_crossentropy</td>\n",
       "      <td>Nadam</td>\n",
       "      <td>brick</td>\n",
       "    </tr>\n",
       "    <tr>\n",
       "      <td>35</td>\n",
       "      <td>10</td>\n",
       "      <td>0.481345</td>\n",
       "      <td>0.819786</td>\n",
       "      <td>0.506503</td>\n",
       "      <td>0.809286</td>\n",
       "      <td>elu</td>\n",
       "      <td>64</td>\n",
       "      <td>0.1</td>\n",
       "      <td>10</td>\n",
       "      <td>60</td>\n",
       "      <td>3</td>\n",
       "      <td>40</td>\n",
       "      <td>softmax</td>\n",
       "      <td>10</td>\n",
       "      <td>categorical_crossentropy</td>\n",
       "      <td>Nadam</td>\n",
       "      <td>brick</td>\n",
       "    </tr>\n",
       "    <tr>\n",
       "      <td>36</td>\n",
       "      <td>10</td>\n",
       "      <td>0.499612</td>\n",
       "      <td>0.814643</td>\n",
       "      <td>0.505008</td>\n",
       "      <td>0.809036</td>\n",
       "      <td>elu</td>\n",
       "      <td>64</td>\n",
       "      <td>0.1</td>\n",
       "      <td>10</td>\n",
       "      <td>60</td>\n",
       "      <td>0</td>\n",
       "      <td>40</td>\n",
       "      <td>softmax</td>\n",
       "      <td>10</td>\n",
       "      <td>categorical_crossentropy</td>\n",
       "      <td>Nadam</td>\n",
       "      <td>brick</td>\n",
       "    </tr>\n",
       "    <tr>\n",
       "      <td>37</td>\n",
       "      <td>10</td>\n",
       "      <td>0.505432</td>\n",
       "      <td>0.813429</td>\n",
       "      <td>0.507605</td>\n",
       "      <td>0.810696</td>\n",
       "      <td>elu</td>\n",
       "      <td>64</td>\n",
       "      <td>0.1</td>\n",
       "      <td>10</td>\n",
       "      <td>60</td>\n",
       "      <td>0</td>\n",
       "      <td>60</td>\n",
       "      <td>softmax</td>\n",
       "      <td>10</td>\n",
       "      <td>categorical_crossentropy</td>\n",
       "      <td>Nadam</td>\n",
       "      <td>brick</td>\n",
       "    </tr>\n",
       "  </tbody>\n",
       "</table>\n",
       "</div>"
      ],
      "text/plain": [
       "    round_epochs  val_loss   val_acc      loss       acc activation  \\\n",
       "0             10  0.513222  0.810929  0.517610  0.806161        elu   \n",
       "1             10  0.472110  0.823714  0.476151  0.820339       relu   \n",
       "2             10  0.488756  0.817286  0.480675  0.818125        elu   \n",
       "3             10  0.501656  0.811786  0.528866  0.801554        elu   \n",
       "4             10  0.474418  0.822714  0.465417  0.822911       relu   \n",
       "5             10  0.532630  0.805214  0.558838  0.793179        elu   \n",
       "6             10  0.491013  0.815500  0.508723  0.809839       relu   \n",
       "7             10  0.469659  0.827071  0.482579  0.821536       relu   \n",
       "8             10  0.497951  0.816286  0.577171  0.794518       relu   \n",
       "9             10  0.540693  0.801500  0.626402  0.777357        elu   \n",
       "10            10  0.470856  0.825000  0.463269  0.822768        elu   \n",
       "11            10  0.502752  0.812643  0.522336  0.809411       relu   \n",
       "12            10  0.467866  0.826500  0.441577  0.832036       relu   \n",
       "13            10  0.545304  0.799500  0.554200  0.796429        elu   \n",
       "14            10  0.477582  0.820571  0.469047  0.823250       relu   \n",
       "15            10  0.562020  0.791571  0.686114  0.754286       relu   \n",
       "16            10  0.531205  0.805643  0.542310  0.798446        elu   \n",
       "17            10  0.549631  0.794429  0.672495  0.758607       relu   \n",
       "18            10  0.522978  0.811143  0.599152  0.784429       relu   \n",
       "19            10  0.464719  0.828214  0.448105  0.830821       relu   \n",
       "20            10  0.503935  0.811500  0.519180  0.808268       relu   \n",
       "21            10  0.461496  0.827500  0.442344  0.833036       relu   \n",
       "22            10  0.475712  0.821857  0.457266  0.827607       relu   \n",
       "23            10  0.469252  0.822000  0.476234  0.822554       relu   \n",
       "24            10  0.512176  0.811429  0.605921  0.786000       relu   \n",
       "25            10  0.473887  0.822786  0.463739  0.825339       relu   \n",
       "26            10  0.473429  0.821214  0.508702  0.811857       relu   \n",
       "27            10  0.487407  0.817071  0.472521  0.820018        elu   \n",
       "28            10  0.517681  0.810571  0.528298  0.802714        elu   \n",
       "29            10  0.496237  0.812143  0.524398  0.802429        elu   \n",
       "30            10  0.504950  0.810786  0.534845  0.798929        elu   \n",
       "31            10  0.518824  0.806571  0.557500  0.792518        elu   \n",
       "32            10  0.472244  0.823429  0.485552  0.818625       relu   \n",
       "33            10  0.526054  0.806714  0.517389  0.809214        elu   \n",
       "34            10  0.493064  0.817429  0.481670  0.818018        elu   \n",
       "35            10  0.481345  0.819786  0.506503  0.809286        elu   \n",
       "36            10  0.499612  0.814643  0.505008  0.809036        elu   \n",
       "37            10  0.505432  0.813429  0.507605  0.810696        elu   \n",
       "\n",
       "    batch_size  dropout  epochs  first_neuron  hidden_layers  hidden_neuron  \\\n",
       "0           64      0.1      10            60              0             20   \n",
       "1           32      0.0      10            20              3             20   \n",
       "2          128      0.0      10            20              3             20   \n",
       "3          128      0.2      10            60              3             60   \n",
       "4           32      0.0      10            40              3             20   \n",
       "5          128      0.2      10            20              0             60   \n",
       "6           32      0.2      10            40              0             40   \n",
       "7          128      0.1      10            60              3             60   \n",
       "8           32      0.2      10            60              2             20   \n",
       "9          128      0.2      10            20              3             20   \n",
       "10          32      0.0      10            40              3             20   \n",
       "11          32      0.1      10            20              3             60   \n",
       "12         128      0.0      10            40              3             60   \n",
       "13         128      0.2      10            40              0             60   \n",
       "14         128      0.0      10            20              2             40   \n",
       "15          32      0.2      10            20              3             20   \n",
       "16         128      0.2      10            60              0             60   \n",
       "17         128      0.2      10            40              3             20   \n",
       "18         128      0.2      10            20              3             40   \n",
       "19          32      0.0      10            60              3             40   \n",
       "20          32      0.1      10            20              3             60   \n",
       "21          64      0.0      10            60              2             40   \n",
       "22          64      0.0      10            40              3             40   \n",
       "23          32      0.1      10            60              2             60   \n",
       "24          64      0.2      10            40              2             20   \n",
       "25          64      0.0      10            40              1             60   \n",
       "26          64      0.2      10            60              2             60   \n",
       "27          64      0.0      10            40              2             40   \n",
       "28          64      0.1      10            20              0             40   \n",
       "29          32      0.2      10            60              1             40   \n",
       "30          64      0.2      10            40              1             60   \n",
       "31          64      0.1      10            20              2             20   \n",
       "32          32      0.1      10            40              1             40   \n",
       "33          64      0.0      10            20              0             20   \n",
       "34          64      0.0      10            40              0             20   \n",
       "35          64      0.1      10            60              3             40   \n",
       "36          64      0.1      10            60              0             40   \n",
       "37          64      0.1      10            60              0             60   \n",
       "\n",
       "   last_activation  last_neuron                    losses optimizer shapes  \n",
       "0          softmax           10  categorical_crossentropy      Adam  brick  \n",
       "1          softmax           10  categorical_crossentropy     Nadam  brick  \n",
       "2          softmax           10  categorical_crossentropy     Nadam  brick  \n",
       "3          softmax           10  categorical_crossentropy     Nadam  brick  \n",
       "4          softmax           10  categorical_crossentropy      Adam  brick  \n",
       "5          softmax           10  categorical_crossentropy     Nadam  brick  \n",
       "6          softmax           10  categorical_crossentropy      Adam  brick  \n",
       "7          softmax           10  categorical_crossentropy     Nadam  brick  \n",
       "8          softmax           10  categorical_crossentropy      Adam  brick  \n",
       "9          softmax           10  categorical_crossentropy     Nadam  brick  \n",
       "10         softmax           10  categorical_crossentropy     Nadam  brick  \n",
       "11         softmax           10  categorical_crossentropy     Nadam  brick  \n",
       "12         softmax           10  categorical_crossentropy     Nadam  brick  \n",
       "13         softmax           10  categorical_crossentropy      Adam  brick  \n",
       "14         softmax           10  categorical_crossentropy     Nadam  brick  \n",
       "15         softmax           10  categorical_crossentropy     Nadam  brick  \n",
       "16         softmax           10  categorical_crossentropy      Adam  brick  \n",
       "17         softmax           10  categorical_crossentropy      Adam  brick  \n",
       "18         softmax           10  categorical_crossentropy     Nadam  brick  \n",
       "19         softmax           10  categorical_crossentropy     Nadam  brick  \n",
       "20         softmax           10  categorical_crossentropy      Adam  brick  \n",
       "21         softmax           10  categorical_crossentropy     Nadam  brick  \n",
       "22         softmax           10  categorical_crossentropy      Adam  brick  \n",
       "23         softmax           10  categorical_crossentropy      Adam  brick  \n",
       "24         softmax           10  categorical_crossentropy      Adam  brick  \n",
       "25         softmax           10  categorical_crossentropy      Adam  brick  \n",
       "26         softmax           10  categorical_crossentropy      Adam  brick  \n",
       "27         softmax           10  categorical_crossentropy      Adam  brick  \n",
       "28         softmax           10  categorical_crossentropy     Nadam  brick  \n",
       "29         softmax           10  categorical_crossentropy      Adam  brick  \n",
       "30         softmax           10  categorical_crossentropy      Adam  brick  \n",
       "31         softmax           10  categorical_crossentropy      Adam  brick  \n",
       "32         softmax           10  categorical_crossentropy     Nadam  brick  \n",
       "33         softmax           10  categorical_crossentropy      Adam  brick  \n",
       "34         softmax           10  categorical_crossentropy     Nadam  brick  \n",
       "35         softmax           10  categorical_crossentropy     Nadam  brick  \n",
       "36         softmax           10  categorical_crossentropy     Nadam  brick  \n",
       "37         softmax           10  categorical_crossentropy     Nadam  brick  "
      ]
     },
     "execution_count": 55,
     "metadata": {},
     "output_type": "execute_result"
    }
   ],
   "source": [
    "# acceso al DataFrame del analisis del reporte\n",
    "analyzePerceptron.data"
   ]
  },
  {
   "cell_type": "code",
   "execution_count": 56,
   "metadata": {},
   "outputs": [
    {
     "data": {
      "text/plain": [
       "38"
      ]
     },
     "execution_count": 56,
     "metadata": {},
     "output_type": "execute_result"
    }
   ],
   "source": [
    "# numero de experimentos realizados\n",
    "analyzePerceptron.rounds()"
   ]
  },
  {
   "cell_type": "code",
   "execution_count": 57,
   "metadata": {},
   "outputs": [
    {
     "data": {
      "text/plain": [
       "0.8282142877578735"
      ]
     },
     "execution_count": 57,
     "metadata": {},
     "output_type": "execute_result"
    }
   ],
   "source": [
    "# se recupera el numero del modelo con mejor puntaje, en este caso es la precision de pruetas/validacion \"val_acc\"\n",
    "analyzePerceptron.high(\"val_acc\")"
   ]
  },
  {
   "cell_type": "code",
   "execution_count": 58,
   "metadata": {},
   "outputs": [
    {
     "data": {
      "text/plain": [
       "19"
      ]
     },
     "execution_count": 58,
     "metadata": {},
     "output_type": "execute_result"
    }
   ],
   "source": [
    "# get the round with the best result\n",
    "analyzePerceptron.rounds2high(\"val_acc\")"
   ]
  },
  {
   "cell_type": "code",
   "execution_count": 59,
   "metadata": {},
   "outputs": [
    {
     "data": {
      "text/plain": [
       "array([['brick', 0.0, 60, 'softmax', 'categorical_crossentropy', 10,\n",
       "        'relu', 3, 40, 32, 10, 'Nadam', 10, 0],\n",
       "       ['brick', 0.0, 60, 'softmax', 'categorical_crossentropy', 10,\n",
       "        'relu', 2, 40, 64, 10, 'Nadam', 10, 1],\n",
       "       ['brick', 0.1, 60, 'softmax', 'categorical_crossentropy', 10,\n",
       "        'relu', 3, 60, 128, 10, 'Nadam', 10, 2],\n",
       "       ['brick', 0.0, 40, 'softmax', 'categorical_crossentropy', 10,\n",
       "        'relu', 3, 60, 128, 10, 'Nadam', 10, 3],\n",
       "       ['brick', 0.0, 40, 'softmax', 'categorical_crossentropy', 10,\n",
       "        'elu', 3, 20, 32, 10, 'Nadam', 10, 4],\n",
       "       ['brick', 0.0, 20, 'softmax', 'categorical_crossentropy', 10,\n",
       "        'relu', 3, 20, 32, 10, 'Nadam', 10, 5],\n",
       "       ['brick', 0.1, 40, 'softmax', 'categorical_crossentropy', 10,\n",
       "        'relu', 1, 40, 32, 10, 'Nadam', 10, 6],\n",
       "       ['brick', 0.0, 40, 'softmax', 'categorical_crossentropy', 10,\n",
       "        'relu', 1, 60, 64, 10, 'Adam', 10, 7],\n",
       "       ['brick', 0.0, 40, 'softmax', 'categorical_crossentropy', 10,\n",
       "        'relu', 3, 20, 32, 10, 'Adam', 10, 8],\n",
       "       ['brick', 0.1, 60, 'softmax', 'categorical_crossentropy', 10,\n",
       "        'relu', 2, 60, 32, 10, 'Adam', 10, 9]], dtype=object)"
      ]
     },
     "execution_count": 59,
     "metadata": {},
     "output_type": "execute_result"
    }
   ],
   "source": [
    "# imprime los mejores parametros encontrados en el proceso de optimizacion\n",
    "analyzePerceptron.best_params(\"val_acc\", [\"acc\", \"loss\", \"val_loss\"])"
   ]
  },
  {
   "cell_type": "code",
   "execution_count": 60,
   "metadata": {},
   "outputs": [
    {
     "data": {
      "text/plain": [
       "round_epochs          NaN\n",
       "val_acc         -0.981362\n",
       "batch_size       0.331165\n",
       "dropout          0.629519\n",
       "epochs                NaN\n",
       "first_neuron    -0.370194\n",
       "hidden_layers   -0.258227\n",
       "hidden_neuron   -0.166964\n",
       "last_neuron           NaN\n",
       "Name: val_loss, dtype: float64"
      ]
     },
     "execution_count": 60,
     "metadata": {},
     "output_type": "execute_result"
    }
   ],
   "source": [
    "# correlacion entre el puntaje y el resto de los hyperparametros\n",
    "analyzePerceptron.correlate(\"val_loss\", [\"acc\", \"loss\", \"val_loss\"])"
   ]
  },
  {
   "cell_type": "code",
   "execution_count": 61,
   "metadata": {},
   "outputs": [
    {
     "data": {
      "image/png": "[encoded data removed]",
      "text/plain": [
       "<Figure size 720x475.2 with 1 Axes>"
      ]
     },
     "metadata": {},
     "output_type": "display_data"
    }
   ],
   "source": [
    "# a regression entre precision de puntaje/precision y perdida del conjunto de preubas\n",
    "analyzePerceptron.plot_regs(\"val_acc\", \"val_loss\")"
   ]
  },
  {
   "cell_type": "code",
   "execution_count": 62,
   "metadata": {},
   "outputs": [
    {
     "data": {
      "image/png": "[encoded data removed]",
      "text/plain": [
       "<Figure size 864x475.2 with 1 Axes>"
      ]
     },
     "metadata": {},
     "output_type": "display_data"
    }
   ],
   "source": [
    "# linea de resultados de la precision de los experimentos\n",
    "analyzePerceptron.plot_line(\"val_acc\")"
   ]
  },
  {
   "cell_type": "code",
   "execution_count": 63,
   "metadata": {},
   "outputs": [
    {
     "data": {
      "image/png": "[encoded data removed]",
      "text/plain": [
       "<Figure size 720x475.2 with 1 Axes>"
      ]
     },
     "metadata": {},
     "output_type": "display_data"
    }
   ],
   "source": [
    "# distribucion de probabilidad de la precision de pruebas\n",
    "analyzePerceptron.plot_kde(\"val_acc\")"
   ]
  },
  {
   "cell_type": "code",
   "execution_count": 64,
   "metadata": {},
   "outputs": [
    {
     "data": {
      "image/png": "[encoded data removed]",
      "text/plain": [
       "<Figure size 720x475.2 with 1 Axes>"
      ]
     },
     "metadata": {},
     "output_type": "display_data"
    }
   ],
   "source": [
    "# histograma de la precision de pruebas de los experimentso\n",
    "analyzePerceptron.plot_hist(\"val_acc\", bins = 50)"
   ]
  },
  {
   "cell_type": "code",
   "execution_count": 65,
   "metadata": {},
   "outputs": [
    {
     "data": {
      "image/png": "[encoded data removed]",
      "text/plain": [
       "<Figure size 756x756 with 2 Axes>"
      ]
     },
     "metadata": {},
     "output_type": "display_data"
    }
   ],
   "source": [
    "# mapa de correlacion para la correlacion de de la precision de preubas y otras variables\n",
    "analyzePerceptron.plot_corr(\"val_loss\", [\"acc\", \"loss\", \"val_loss\"])"
   ]
  },
  {
   "cell_type": "code",
   "execution_count": 66,
   "metadata": {},
   "outputs": [
    {
     "data": {
      "image/png": "[encoded data removed]",
      "text/plain": [
       "<Figure size 1219.88x288 with 3 Axes>"
      ]
     },
     "metadata": {},
     "output_type": "display_data"
    }
   ],
   "source": [
    "# grafica analizando el comportamiento de las capas ocultas, precision de pruebas, # de neuroans en la entrada y # de neuronas en la capa escondida\n",
    "analyzePerceptron.plot_bars(\"hidden_layers\", \"val_acc\", \"first_neuron\", \"hidden_neuron\")"
   ]
  },
  {
   "cell_type": "code",
   "execution_count": 67,
   "metadata": {},
   "outputs": [
    {
     "data": {
      "image/png": "[encoded data removed]",
      "text/plain": [
       "<Figure size 1219.88x288 with 3 Axes>"
      ]
     },
     "metadata": {},
     "output_type": "display_data"
    }
   ],
   "source": [
    "# grafica analizando el comportamiento de las capas ocultas, precision de pruebas, # de neuroans en la entrada y # de neuronas en la capa escondida\n",
    "analyzePerceptron.plot_bars(\"hidden_layers\", \"val_loss\", \"first_neuron\", \"hidden_neuron\")"
   ]
  },
  {
   "cell_type": "markdown",
   "metadata": {},
   "source": [
    "### Evaluando finalmente el Modelo\n",
    "por defecto Talos si no se indica el ID del modelo para evaluar, escoge el mejor."
   ]
  },
  {
   "cell_type": "code",
   "execution_count": 68,
   "metadata": {},
   "outputs": [],
   "source": [
    "# creando el objeto para evaluar con Talos\n",
    "evaluatePerceptron = talos.Evaluate(scanPerceptron)"
   ]
  },
  {
   "cell_type": "code",
   "execution_count": 69,
   "metadata": {},
   "outputs": [],
   "source": [
    "# evaluacion final de los datos con el mejor modelo\n",
    "bestAcc = evaluatePerceptron.evaluate(np.array(X_testB), to_categorical(np.array(y_testB)), folds = 5, metric = \"val_acc\", task = \"multi_label\")"
   ]
  },
  {
   "cell_type": "code",
   "execution_count": 70,
   "metadata": {},
   "outputs": [
    {
     "name": "stdout",
     "output_type": "stream",
     "text": [
      "Model: \"sequential_1\"\n",
      "_________________________________________________________________\n",
      "Layer (type)                 Output Shape              Param #   \n",
      "=================================================================\n",
      "flatten_1 (Flatten)          (None, 64)                0         \n",
      "_________________________________________________________________\n",
      "dense_1 (Dense)              (None, 60)                3900      \n",
      "_________________________________________________________________\n",
      "dropout_1 (Dropout)          (None, 60)                0         \n",
      "_________________________________________________________________\n",
      "dense_2 (Dense)              (None, 40)                2440      \n",
      "_________________________________________________________________\n",
      "dropout_2 (Dropout)          (None, 40)                0         \n",
      "_________________________________________________________________\n",
      "dense_3 (Dense)              (None, 40)                1640      \n",
      "_________________________________________________________________\n",
      "dropout_3 (Dropout)          (None, 40)                0         \n",
      "_________________________________________________________________\n",
      "dense_4 (Dense)              (None, 40)                1640      \n",
      "_________________________________________________________________\n",
      "dropout_4 (Dropout)          (None, 40)                0         \n",
      "_________________________________________________________________\n",
      "dense_5 (Dense)              (None, 10)                410       \n",
      "=================================================================\n",
      "Total params: 10,030\n",
      "Trainable params: 10,030\n",
      "Non-trainable params: 0\n",
      "_________________________________________________________________\n"
     ]
    }
   ],
   "source": [
    "# resumen basico del mejor MLP\n",
    "evaluatePerceptron.scan_object.best_model(metric='val_acc').summary()"
   ]
  },
  {
   "cell_type": "code",
   "execution_count": 71,
   "metadata": {
    "scrolled": false
   },
   "outputs": [
    {
     "data": {
      "text/plain": [
       "{'name': 'sequential_1',\n",
       " 'layers': [{'class_name': 'Flatten',\n",
       "   'config': {'name': 'flatten_1',\n",
       "    'trainable': True,\n",
       "    'batch_input_shape': (None, 8, 8),\n",
       "    'dtype': 'float32',\n",
       "    'data_format': 'channels_last'}},\n",
       "  {'class_name': 'Dense',\n",
       "   'config': {'name': 'dense_1',\n",
       "    'trainable': True,\n",
       "    'batch_input_shape': (None, 8, 8),\n",
       "    'dtype': 'float32',\n",
       "    'units': 60,\n",
       "    'activation': 'relu',\n",
       "    'use_bias': True,\n",
       "    'kernel_initializer': {'class_name': 'VarianceScaling',\n",
       "     'config': {'scale': 1.0,\n",
       "      'mode': 'fan_avg',\n",
       "      'distribution': 'uniform',\n",
       "      'seed': None}},\n",
       "    'bias_initializer': {'class_name': 'Zeros', 'config': {}},\n",
       "    'kernel_regularizer': None,\n",
       "    'bias_regularizer': None,\n",
       "    'activity_regularizer': None,\n",
       "    'kernel_constraint': None,\n",
       "    'bias_constraint': None}},\n",
       "  {'class_name': 'Dropout',\n",
       "   'config': {'name': 'dropout_1',\n",
       "    'trainable': True,\n",
       "    'dtype': 'float32',\n",
       "    'rate': 0.0,\n",
       "    'noise_shape': None,\n",
       "    'seed': None}},\n",
       "  {'class_name': 'Dense',\n",
       "   'config': {'name': 'dense_2',\n",
       "    'trainable': True,\n",
       "    'batch_input_shape': (None, 64),\n",
       "    'dtype': 'float32',\n",
       "    'units': 40,\n",
       "    'activation': 'relu',\n",
       "    'use_bias': True,\n",
       "    'kernel_initializer': {'class_name': 'VarianceScaling',\n",
       "     'config': {'scale': 1.0,\n",
       "      'mode': 'fan_avg',\n",
       "      'distribution': 'uniform',\n",
       "      'seed': None}},\n",
       "    'bias_initializer': {'class_name': 'Zeros', 'config': {}},\n",
       "    'kernel_regularizer': None,\n",
       "    'bias_regularizer': None,\n",
       "    'activity_regularizer': None,\n",
       "    'kernel_constraint': None,\n",
       "    'bias_constraint': None}},\n",
       "  {'class_name': 'Dropout',\n",
       "   'config': {'name': 'dropout_2',\n",
       "    'trainable': True,\n",
       "    'dtype': 'float32',\n",
       "    'rate': 0.0,\n",
       "    'noise_shape': None,\n",
       "    'seed': None}},\n",
       "  {'class_name': 'Dense',\n",
       "   'config': {'name': 'dense_3',\n",
       "    'trainable': True,\n",
       "    'batch_input_shape': (None, 64),\n",
       "    'dtype': 'float32',\n",
       "    'units': 40,\n",
       "    'activation': 'relu',\n",
       "    'use_bias': True,\n",
       "    'kernel_initializer': {'class_name': 'VarianceScaling',\n",
       "     'config': {'scale': 1.0,\n",
       "      'mode': 'fan_avg',\n",
       "      'distribution': 'uniform',\n",
       "      'seed': None}},\n",
       "    'bias_initializer': {'class_name': 'Zeros', 'config': {}},\n",
       "    'kernel_regularizer': None,\n",
       "    'bias_regularizer': None,\n",
       "    'activity_regularizer': None,\n",
       "    'kernel_constraint': None,\n",
       "    'bias_constraint': None}},\n",
       "  {'class_name': 'Dropout',\n",
       "   'config': {'name': 'dropout_3',\n",
       "    'trainable': True,\n",
       "    'dtype': 'float32',\n",
       "    'rate': 0.0,\n",
       "    'noise_shape': None,\n",
       "    'seed': None}},\n",
       "  {'class_name': 'Dense',\n",
       "   'config': {'name': 'dense_4',\n",
       "    'trainable': True,\n",
       "    'batch_input_shape': (None, 64),\n",
       "    'dtype': 'float32',\n",
       "    'units': 40,\n",
       "    'activation': 'relu',\n",
       "    'use_bias': True,\n",
       "    'kernel_initializer': {'class_name': 'VarianceScaling',\n",
       "     'config': {'scale': 1.0,\n",
       "      'mode': 'fan_avg',\n",
       "      'distribution': 'uniform',\n",
       "      'seed': None}},\n",
       "    'bias_initializer': {'class_name': 'Zeros', 'config': {}},\n",
       "    'kernel_regularizer': None,\n",
       "    'bias_regularizer': None,\n",
       "    'activity_regularizer': None,\n",
       "    'kernel_constraint': None,\n",
       "    'bias_constraint': None}},\n",
       "  {'class_name': 'Dropout',\n",
       "   'config': {'name': 'dropout_4',\n",
       "    'trainable': True,\n",
       "    'dtype': 'float32',\n",
       "    'rate': 0.0,\n",
       "    'noise_shape': None,\n",
       "    'seed': None}},\n",
       "  {'class_name': 'Dense',\n",
       "   'config': {'name': 'dense_5',\n",
       "    'trainable': True,\n",
       "    'batch_input_shape': (None, 64),\n",
       "    'dtype': 'float32',\n",
       "    'units': 10,\n",
       "    'activation': 'softmax',\n",
       "    'use_bias': True,\n",
       "    'kernel_initializer': {'class_name': 'VarianceScaling',\n",
       "     'config': {'scale': 1.0,\n",
       "      'mode': 'fan_avg',\n",
       "      'distribution': 'uniform',\n",
       "      'seed': None}},\n",
       "    'bias_initializer': {'class_name': 'Zeros', 'config': {}},\n",
       "    'kernel_regularizer': None,\n",
       "    'bias_regularizer': None,\n",
       "    'activity_regularizer': None,\n",
       "    'kernel_constraint': None,\n",
       "    'bias_constraint': None}}]}"
      ]
     },
     "execution_count": 71,
     "metadata": {},
     "output_type": "execute_result"
    }
   ],
   "source": [
    "# configuracion especifica del mejor MLP\n",
    "evaluatePerceptron.scan_object.best_model(metric='val_acc').get_config()"
   ]
  },
  {
   "cell_type": "markdown",
   "metadata": {},
   "source": [
    "### Predicciones y Análisis detallado del mejor Modelo"
   ]
  },
  {
   "cell_type": "code",
   "execution_count": 72,
   "metadata": {},
   "outputs": [],
   "source": [
    "# predecir resultados con el mejor modelo\n",
    "predictPerceptron = talos.Predict(scanPerceptron, task = \"multi_label\")"
   ]
  },
  {
   "cell_type": "code",
   "execution_count": 73,
   "metadata": {},
   "outputs": [],
   "source": [
    "# se prueba MLP de sklearn\n",
    "bestPrediction = predictPerceptron.predict(np.array(X_testB))\n",
    "\n",
    "# ajuste de las predicciones para ver el reporte de matrix de confusion\n",
    "bestPrediction = np.array(bestPrediction).argmax(axis=1)"
   ]
  },
  {
   "cell_type": "code",
   "execution_count": 74,
   "metadata": {},
   "outputs": [
    {
     "name": "stdout",
     "output_type": "stream",
     "text": [
      "----- Reporte FINAL de Pruebas MLP -----\n",
      "--- Conteo ---\n",
      "Counter({3: 1537, 5: 1503, 9: 1468, 4: 1453, 8: 1399, 1: 1376, 2: 1374, 0: 1334, 7: 1286, 6: 1270})\n",
      "--- Matriz de Confusion ---\n",
      "[[1070    7   16   69    7    3  200    0   22    0]\n",
      " [   4 1347    5   35    2    1    5    0    3    0]\n",
      " [  22    1 1011   15  213    1  134    0   10    0]\n",
      " [  36   15    7 1285   46    2   44    0   14    0]\n",
      " [   2    1  135   81 1017    0  108    0   13    0]\n",
      " [   1    0    0    0    0 1311    0   69    8   60]\n",
      " [ 196    5  195   43  163    1  770    0   34    0]\n",
      " [   0    0    0    0    0  120    0 1160    1   78]\n",
      " [   3    0    5    9    5   12    9    5 1294    0]\n",
      " [   0    0    0    0    0   52    0   52    0 1330]]\n",
      "--- Reporte de Pruebas: ---\n",
      "              precision    recall  f1-score   support\n",
      "\n",
      "           0       0.80      0.77      0.78      1394\n",
      "           1       0.98      0.96      0.97      1402\n",
      "           2       0.74      0.72      0.73      1407\n",
      "           3       0.84      0.89      0.86      1449\n",
      "           4       0.70      0.75      0.72      1357\n",
      "           5       0.87      0.90      0.89      1449\n",
      "           6       0.61      0.55      0.58      1407\n",
      "           7       0.90      0.85      0.88      1359\n",
      "           8       0.92      0.96      0.94      1342\n",
      "           9       0.91      0.93      0.92      1434\n",
      "\n",
      "    accuracy                           0.83     14000\n",
      "   macro avg       0.83      0.83      0.83     14000\n",
      "weighted avg       0.83      0.83      0.83     14000\n",
      "\n",
      "--- Puntaje ---\n",
      "\n",
      " - Precision:  [0.8248169345741119, 0.8352408444521581, 0.8189187740437498, 0.8367553184968537, 0.8174824044021911]\n",
      " - Precision Promedio:  0.8266428551938129\n"
     ]
    }
   ],
   "source": [
    "# Informe de los resultados para las pruebas del MLP\n",
    "print(\"----- Reporte FINAL de Pruebas MLP -----\")\n",
    "print(\"--- Conteo ---\\n\" + str(Counter(bestPrediction)))\n",
    "print(\"--- Matriz de Confusion ---\\n\" + str(confusion_matrix(y_testB, bestPrediction)))\n",
    "print(\"--- Reporte de Pruebas: ---\")\n",
    "print(classification_report(y_testB, bestPrediction))\n",
    "print(\"--- Puntaje ---\\n\")\n",
    "print(\" - Precision: \", str(bestAcc))\n",
    "print(\" - Precision Promedio: \", str(np.mean(bestAcc)))"
   ]
  },
  {
   "cell_type": "markdown",
   "metadata": {},
   "source": [
    "# Conclusiones \n",
    "\n",
    "Se utiliza la estructura DataFame para guardar todas las representaciones de datos necesarias durante el ejercicio. Aunque, se establece la perdida y la precisión como medidas del rendimiento de los modelos, en el Autoencoder la precisión no es significativa y se considera tomar otra medida/método como minimizar la pérdida del modelo para poder agilizar la experimentación.\n",
    "\n",
    "La grafica de la curva de aprendizaje en este caso es irrelevante si se observa la precisión/perdida juntas, solo al momento de reconstruir las imágenes y desplegar la representación condensada de los datos se puede ver que el modelo realmente está funcionando.\n",
    "\n",
    "Como en la primera parte del taller, se observa que el modelo tiene un buen comportamiento global, pero se observa un menor rendimiento en las categorías 0 (“T-shirt/top”/camiseta), 2 (“Pullover”/buso), 4 (“Coat”/chaqueta) y 6 (“Shirt”/camisa). Esto tiene que ver con que las clases sean parecidas entre sí, y aunque la representación condensada ayuda un poco, esta también se confunde porque varias características/atributos significativos son iguales entre clases. Como, por ejemplo: el largo de las mangas, el tipo de cuello, entre otros.\n",
    "\n",
    "En la optimización de hiper-parámetros se utiliza la librería por extensión Talos con la misma metodología que el primer punto con una búsqueda aleatoria de los mejores hiper-parámetros en el espacio. De nuevo, la precisión se selecciona como parámetro objetivo a maximizar y se usa una población de máximo 3%. Por último, se configura la búsqueda para minimizar el uso de parámetros/hiper-parámetros no significativos (correlacionados linealmente) con la precisión del modelo. Al reducir el numero de neuronas y simplificar el modelo se observó una mejora significativa en el tiempo de optimización.\n",
    "\n",
    "El modelo final optimizado es un MLP con:\n",
    "-\tUna capa de entrada “Flatten” que recibe la imagen 2D y la transforma a un arreglo 1D para su procesamiento.\n",
    "-\tUna capa de 60 neuronas “Dense” como primera capa de aprendizaje y activación tipo “relu”\n",
    "-\tEntre capas de trabajo “Dropout” con 10% de desactivación para evitar sobreajustes.\n",
    "-\tUna capa de 40 neuronas “Dense” como capa como segunda capa de aprendizaje y activación tipo “relu”.\n",
    "-\tUna capa con 10 neuronas “Dense” como capa de salida para clasificación con función de activación “softmax” para reconocer categorías por separado.\n",
    "\n",
    "La búsqueda muestra una correlación fuerte entre la precisión y la perdida de tendencia lineal, lo que coincide con la literatura. La precisión tiene un mínimo de 81% y un máximo de 83% (optimo encontrado). En promedio el rendimiento (precisión) de los modelos esta alrededor 80%. También se observa una correlación entre el tamaño de la muestra, el numero de neuronas en la capa de entrada y el número de capas ocultas. Por el contrario, el “Dropdown” no afecta significativamente el modelo ni tampoco el numero de neuronas por capa. Esto último se relaciona con la simplificación de los datos con la representación condensada. En general las soluciones son mas estables entre si, pero los modelos todavía no pueden reconocer bien las categorías confusas (0, 2, 4 y 6) y no hay cambio significativo después de la optimización, seguramente porque se utiliza la representación condensada con características fundamentales de cada categoría.\n"
   ]
  }
 ],
 "metadata": {
  "kernelspec": {
   "display_name": "Python 3",
   "language": "python",
   "name": "python3"
  },
  "language_info": {
   "codemirror_mode": {
    "name": "ipython",
    "version": 3
   },
   "file_extension": ".py",
   "mimetype": "text/x-python",
   "name": "python",
   "nbconvert_exporter": "python",
   "pygments_lexer": "ipython3",
   "version": "3.7.0"
  },
  "pycharm": {
   "stem_cell": {
    "cell_type": "raw",
    "metadata": {
     "collapsed": false
    },
    "source": []
   }
  }
 },
 "nbformat": 4,
 "nbformat_minor": 1
}
