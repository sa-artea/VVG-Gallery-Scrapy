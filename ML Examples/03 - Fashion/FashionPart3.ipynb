{
 "cells": [
  {
   "cell_type": "markdown",
   "metadata": {},
   "source": [
    "# REDES NEURONALES PROFUNDAS\n",
    "Utilice el conjunto de datos Fashion-MNIST para construir un clasificador de imágenes de productos. Para la construcción del modelo utilice los tres esquemas que se describen a continuación y compare los resultados:\n",
    "\n",
    "1. Entrenamiento de un perceptrón multicapa.\n",
    "2. Entrenamiento de un undercompleted autoencoder para realizar una reducción de la dimensionalidad. Sobre el nuevo conjunto de características construya el modelo de clasificación con un perceptrón multicapa.\n",
    "3. Entrenamiento de un denoising autoendoder para preentrenar una red profunda. Reuse lasprimeras capas de este autoencoder para construir un perceptron multicapa (con solo el 10% de los datos).\n",
    "\n",
    "Para los puntos 2) y 3) compruebe, y muestre con ejemplos, que las imágenes están bien reconstruidas.\n",
    "\n",
    "## OBJETIVO\n",
    "Aplicar el proceso de aprendizaje a partir de datos para resolver problemas de clasificación utilizando redes neuronales profundas, sobre la herramienta Keras.\n",
    "\n",
    "## DATOS\n",
    "Incluidos en Keras.\n",
    "Tambien, existe otra fuente equivalente que se consigue en el siguiente URL https://www.kaggle.com/zalando-research/fashionmnist donde hay un resumen de estos datos en el archivo CVS y XLSX.\n",
    "\n",
    "la clasificacion para el aprendizaje supervisado es:\n",
    "\n",
    "    Label \tClass\n",
    "    0 \t \tT-shirt/top\n",
    "    1 \t \tTrouser\n",
    "    2 \t \tPullover\n",
    "    3 \t \tDress\n",
    "    4 \t \tCoat\n",
    "    5 \t \tSandal\n",
    "    6 \t \tShirt\n",
    "    7 \t \tSneaker\n",
    "    8 \t \tBag\n",
    "    9 \t \tAnkle boot\n",
    "\n",
    "**Importante: justifique cada decisión tomada y presente un análisis de los resultados obtenidos.**\n",
    "### Consideraciones\n",
    "- Utilice sólo los conjuntos de datos que se indican.\n",
    "- El frameworks a utilizar es Keras con Jupyter Notebbooks.\n",
    "- El taller debe ser realizado en grupos de tres personas.\n",
    "- Entregables: archivos ipynb (comentados, con la justificación de las decisiones consideradas y análisis de resultados).\n",
    "\n",
    "### Enlaces de Interes\n",
    "- Ejemplos de Talos https://nbviewer.jupyter.org/github/autonomio/talos/tree/master/examples/\n",
    "- Articulo sobre el uso de Talos https://towardsdatascience.com/hyperparameter-optimization-with-keras-b82e6364ca53\n",
    "- Portal oficial de Talos https://autonomio.github.io/docs_talos/#introduction\n",
    "- Github Talos https://github.com/autonomio/talos/tree/master/talos/scan\n",
    "- Documentacion de github Talos https://github.com/autonomio/talos/tree/master/docs\n",
    "- Documentacion Keras https://keras.io/models/sequential/\n",
    "- Ejemplo 1 Autoencoder denoising https://github.com/deanwetherby/keras-denoising-autoencoder/blob/master/Denoising%20Autoencoder.ipynb\n",
    "- Ejemplo 2 Autoencoder denoising https://www.kaggle.com/nathra/fashion-mnist-convolutional-autoencoder\n",
    "- Ejemplo 3 Autoencoder denoising https://medium.com/analytics-vidhya/building-a-convolutional-autoencoder-using-keras-using-conv2dtranspose-ca403c8d144e\n",
    "- Ejemplo 4 Autoencoder denoising https://www.kaggle.com/anmour/convolutional-autoencoder-with-keras"
   ]
  },
  {
   "cell_type": "code",
   "execution_count": 1,
   "metadata": {},
   "outputs": [
    {
     "name": "stderr",
     "output_type": "stream",
     "text": [
      "Using TensorFlow backend.\n"
     ]
    }
   ],
   "source": [
    "# importando dependencias de trabajo\n",
    "# se importa OS, pandas y numpy para leer y preparar datos\n",
    "import os\n",
    "from collections import OrderedDict\n",
    "from collections import Counter\n",
    "import pandas as pd\n",
    "from pandas import ExcelWriter\n",
    "from pandas import ExcelFile\n",
    "import pandas_profiling as profile\n",
    "import numpy as np\n",
    "import tensorflow as tf\n",
    "import matplotlib as mpl\n",
    "import matplotlib.pyplot as plt\n",
    "from tensorflow import keras\n",
    "\n",
    "# los modelos de aprendizaje con las diferentes librerias\n",
    "import talos\n",
    "from keras.models import load_model\n",
    "from keras.layers import Input\n",
    "from keras.layers import Flatten\n",
    "from keras.layers import Reshape\n",
    "from keras.layers import InputLayer\n",
    "from keras.models import Model\n",
    "from keras.models import Sequential\n",
    "from keras.layers import InputLayer\n",
    "from keras.layers import Dense\n",
    "from keras.layers import Dropout\n",
    "from keras.layers import Conv2D\n",
    "from keras.layers import MaxPooling2D\n",
    "from keras.layers import UpSampling2D\n",
    "from keras.layers import BatchNormalization\n",
    "\n",
    "# otras librerias para manejo de experimentos, pruebas, optimizacion y otros\n",
    "from sklearn.model_selection import train_test_split\n",
    "from sklearn.model_selection import GridSearchCV\n",
    "from sklearn.model_selection import RandomizedSearchCV\n",
    "from sklearn.model_selection import cross_val_score\n",
    "from sklearn.model_selection import StratifiedKFold\n",
    "from sklearn.metrics import confusion_matrix\n",
    "from sklearn.metrics import classification_report\n",
    "from sklearn.metrics import accuracy_score\n",
    "from sklearn.metrics import precision_score\n",
    "from sklearn.metrics import make_scorer\n",
    "from sklearn.preprocessing import LabelEncoder\n",
    "from sklearn.preprocessing import StandardScaler\n",
    "from sklearn.pipeline import Pipeline\n",
    "from imblearn.over_sampling import SMOTE\n",
    "from keras.utils import to_categorical\n",
    "from keras.wrappers.scikit_learn import KerasClassifier"
   ]
  },
  {
   "cell_type": "markdown",
   "metadata": {},
   "source": [
    "### Cargar archivos\n",
    "Para cargar los datos necesarios se siguen los siguientes pasos:\n",
    "\n",
    " - Se cargan los datos desde el conjunto de datos incluido en Keras\n",
    "\n",
    " - Se crean diccionarios de referencia para el pruebas y entrenamiento.\n",
    " - Se leen los arhivos de pruebas y entrenamiento para crear un set de datos.\n",
    " - Se transforma cada uno de los archivos en matrices de datos y se adicionan a los conjuntos de pruebas y entrenamiento."
   ]
  },
  {
   "cell_type": "code",
   "execution_count": 2,
   "metadata": {},
   "outputs": [],
   "source": [
    "# lista de nombres de las clasificaciones\n",
    "classNamesList = [\"T-shirt/top\", \"Trouser\", \"Pullover\", \"Dress\", \"Coat\", \"Sandal\", \"Shirt\", \"Sneaker\", \"Bag\", \"Ankle boot\"]"
   ]
  },
  {
   "cell_type": "code",
   "execution_count": 3,
   "metadata": {},
   "outputs": [],
   "source": [
    "# se carga el archivo de datos de trabajo por medio de Keras\n",
    "fashionSource = keras.datasets.fashion_mnist\n",
    "(X_train, y_train), (X_test, y_test) = fashionSource.load_data()"
   ]
  },
  {
   "cell_type": "code",
   "execution_count": 4,
   "metadata": {},
   "outputs": [],
   "source": [
    "# nombres de columnas para el dataframe de pandas\n",
    "columns = [\"ID\", \"Data\", \"NormData\", \"NoiseData\", \"ReshapeData\", \"Label\", \"Class\", \"DataSize\", \"ReshapeSize\"]\n",
    "X_Data = np.concatenate((X_train, X_test), axis = 0)\n",
    "y_Data = np.concatenate((y_train, y_test), axis = 0)"
   ]
  },
  {
   "cell_type": "code",
   "execution_count": 5,
   "metadata": {},
   "outputs": [],
   "source": [
    "# puedo hacer otra forma de aprendizaje reorganizando los grupos de prueba y entrenamiento para ver si existe algun cambio de comportamiento.\n",
    "# dataset para entrenamiento\n",
    "trainData = pd.DataFrame()\n",
    "\n",
    "# preparar datos dataset entrenamiento\n",
    "for col in columns:\n",
    "    \n",
    "    # creo el ID del set\n",
    "    if col is \"ID\":\n",
    "        \n",
    "        IDList = list(range(len(X_Data)))\n",
    "        trainData[col] = IDList\n",
    "\n",
    "    # datos de la imagen (nxm) para utilizarlos en el algoritmo de aprendizaje\n",
    "    elif col is \"Data\":\n",
    "        \n",
    "        dataList = np.array(X_Data).astype(float)\n",
    "        trainData[col] = list(dataList)\n",
    "\n",
    "    # datos de la imagen (nxm) para utilizarlos en el algoritmo de aprendizaje\n",
    "    elif col is \"NormData\":\n",
    "        \n",
    "        normList = np.array(X_Data).astype(float)\n",
    "        maxValue = normList.max()\n",
    "        normList = normList/maxValue\n",
    "        normList = np.reshape(normList, (len(normList), 28, 28))\n",
    "        trainData[col] = list(normList)\n",
    "    \n",
    "    # datos de imagen con ruido gaussiano y aplicando el reajuste\n",
    "    elif col is \"NoiseData\":\n",
    "        \n",
    "        nfactor = 0.25\n",
    "        prepData = np.array(X_Data).astype(float)\n",
    "        maxValue = normList.max()\n",
    "        prepData = prepData/maxValue\n",
    "        nrange = np.array(X_Data).shape\n",
    "        noiseData = nfactor*np.random.normal(loc = 0.0, scale = 1.0, size = nrange)\n",
    "        noiseList = np.add(prepData, noiseData)\n",
    "        noiseList = np.clip(noiseList, 0.0, 1.0)\n",
    "        trainData[col] = list(noiseList)\n",
    "    \n",
    "    # datos de la imagen (nxm) de con cambio de forma(reshape) para poder ser utilizados en el algoritmo de aprendizaje\n",
    "    elif col is \"ReshapeData\":\n",
    "        \n",
    "        reshapeData = list()\n",
    "        \n",
    "        for data in list(trainData[\"NormData\"]):\n",
    "            \n",
    "            tempImg = data.astype(float)\n",
    "            reshapeData.append(list(tempImg))\n",
    "        \n",
    "        reshapeData = np.array(reshapeData)\n",
    "        reshapeData = reshapeData.reshape(len(reshapeData), -1)\n",
    "        trainData[col] = list(reshapeData)\n",
    "        \n",
    "    # categoria de la imagen en entero\n",
    "    elif col is \"Label\":\n",
    "        \n",
    "        nameList = list(y_Data)\n",
    "        trainData[col] = nameList\n",
    "    \n",
    "    # nombre de la categoria/clase de la imagen\n",
    "    elif col is \"Class\":\n",
    "        \n",
    "        classList = list()\n",
    "        \n",
    "        for data in np.nditer(y_Data):\n",
    "            \n",
    "            tempClass = classNamesList[data]\n",
    "            classList.append(tempClass)\n",
    "        \n",
    "        classList = np.array(classList)\n",
    "        trainData[col] = list(classList)\n",
    "\n",
    "    # tamanho de pixeles de la matriz que representa la imagen (nxm)\n",
    "    elif col is \"DataSize\":\n",
    "\n",
    "        sizeList = list()\n",
    "                \n",
    "        for data in list(X_Data):\n",
    "            \n",
    "            tempSize = data.shape\n",
    "            sizeList.append(tempSize)\n",
    "        \n",
    "        sizeList = np.array(sizeList)\n",
    "        trainData[col] = list(sizeList)\n",
    "    \n",
    "    # tamanho dee pixales en 1D\n",
    "    elif col is \"ReshapeSize\":\n",
    "        \n",
    "        reshapeList = list()\n",
    "        dataList = trainData[\"ReshapeData\"]\n",
    "        dataList = np.array(dataList)\n",
    "        dataList = list(dataList)\n",
    "\n",
    "        for data in dataList:\n",
    "            \n",
    "            tempReshape = np.array(data.shape)\n",
    "            reshapeList.append(tempReshape)\n",
    "\n",
    "        dataList = np.array(reshapeList)\n",
    "        trainData[col] = list(reshapeList)#.tolist()"
   ]
  },
  {
   "cell_type": "code",
   "execution_count": 6,
   "metadata": {},
   "outputs": [
    {
     "data": {
      "text/html": [
       "<div>\n",
       "<style scoped>\n",
       "    .dataframe tbody tr th:only-of-type {\n",
       "        vertical-align: middle;\n",
       "    }\n",
       "\n",
       "    .dataframe tbody tr th {\n",
       "        vertical-align: top;\n",
       "    }\n",
       "\n",
       "    .dataframe thead th {\n",
       "        text-align: right;\n",
       "    }\n",
       "</style>\n",
       "<table border=\"1\" class=\"dataframe\">\n",
       "  <thead>\n",
       "    <tr style=\"text-align: right;\">\n",
       "      <th></th>\n",
       "      <th>ID</th>\n",
       "      <th>Data</th>\n",
       "      <th>NormData</th>\n",
       "      <th>NoiseData</th>\n",
       "      <th>ReshapeData</th>\n",
       "      <th>Label</th>\n",
       "      <th>Class</th>\n",
       "      <th>DataSize</th>\n",
       "      <th>ReshapeSize</th>\n",
       "    </tr>\n",
       "  </thead>\n",
       "  <tbody>\n",
       "    <tr>\n",
       "      <td>0</td>\n",
       "      <td>0</td>\n",
       "      <td>[[0.0, 0.0, 0.0, 0.0, 0.0, 0.0, 0.0, 0.0, 0.0,...</td>\n",
       "      <td>[[0.0, 0.0, 0.0, 0.0, 0.0, 0.0, 0.0, 0.0, 0.0,...</td>\n",
       "      <td>[[0.3750231730220056, 0.0, 0.05156751717306366...</td>\n",
       "      <td>[0.0, 0.0, 0.0, 0.0, 0.0, 0.0, 0.0, 0.0, 0.0, ...</td>\n",
       "      <td>9</td>\n",
       "      <td>Ankle boot</td>\n",
       "      <td>[28, 28]</td>\n",
       "      <td>[784]</td>\n",
       "    </tr>\n",
       "    <tr>\n",
       "      <td>1</td>\n",
       "      <td>1</td>\n",
       "      <td>[[0.0, 0.0, 0.0, 0.0, 0.0, 1.0, 0.0, 0.0, 0.0,...</td>\n",
       "      <td>[[0.0, 0.0, 0.0, 0.0, 0.0, 0.00392156862745098...</td>\n",
       "      <td>[[0.2718962753222339, 0.0, 0.0, 0.383056601930...</td>\n",
       "      <td>[0.0, 0.0, 0.0, 0.0, 0.0, 0.00392156862745098,...</td>\n",
       "      <td>0</td>\n",
       "      <td>T-shirt/top</td>\n",
       "      <td>[28, 28]</td>\n",
       "      <td>[784]</td>\n",
       "    </tr>\n",
       "    <tr>\n",
       "      <td>2</td>\n",
       "      <td>2</td>\n",
       "      <td>[[0.0, 0.0, 0.0, 0.0, 0.0, 0.0, 0.0, 0.0, 0.0,...</td>\n",
       "      <td>[[0.0, 0.0, 0.0, 0.0, 0.0, 0.0, 0.0, 0.0, 0.0,...</td>\n",
       "      <td>[[0.0, 0.0, 0.0, 0.006537600324446669, 0.18545...</td>\n",
       "      <td>[0.0, 0.0, 0.0, 0.0, 0.0, 0.0, 0.0, 0.0, 0.0, ...</td>\n",
       "      <td>0</td>\n",
       "      <td>T-shirt/top</td>\n",
       "      <td>[28, 28]</td>\n",
       "      <td>[784]</td>\n",
       "    </tr>\n",
       "    <tr>\n",
       "      <td>3</td>\n",
       "      <td>3</td>\n",
       "      <td>[[0.0, 0.0, 0.0, 0.0, 0.0, 0.0, 0.0, 0.0, 33.0...</td>\n",
       "      <td>[[0.0, 0.0, 0.0, 0.0, 0.0, 0.0, 0.0, 0.0, 0.12...</td>\n",
       "      <td>[[0.09915371818863275, 0.07160150058964104, 0....</td>\n",
       "      <td>[0.0, 0.0, 0.0, 0.0, 0.0, 0.0, 0.0, 0.0, 0.129...</td>\n",
       "      <td>3</td>\n",
       "      <td>Dress</td>\n",
       "      <td>[28, 28]</td>\n",
       "      <td>[784]</td>\n",
       "    </tr>\n",
       "    <tr>\n",
       "      <td>4</td>\n",
       "      <td>4</td>\n",
       "      <td>[[0.0, 0.0, 0.0, 0.0, 0.0, 0.0, 0.0, 0.0, 0.0,...</td>\n",
       "      <td>[[0.0, 0.0, 0.0, 0.0, 0.0, 0.0, 0.0, 0.0, 0.0,...</td>\n",
       "      <td>[[0.0, 0.34092691516236673, 0.0, 0.0, 0.105635...</td>\n",
       "      <td>[0.0, 0.0, 0.0, 0.0, 0.0, 0.0, 0.0, 0.0, 0.0, ...</td>\n",
       "      <td>0</td>\n",
       "      <td>T-shirt/top</td>\n",
       "      <td>[28, 28]</td>\n",
       "      <td>[784]</td>\n",
       "    </tr>\n",
       "  </tbody>\n",
       "</table>\n",
       "</div>"
      ],
      "text/plain": [
       "   ID                                               Data  \\\n",
       "0   0  [[0.0, 0.0, 0.0, 0.0, 0.0, 0.0, 0.0, 0.0, 0.0,...   \n",
       "1   1  [[0.0, 0.0, 0.0, 0.0, 0.0, 1.0, 0.0, 0.0, 0.0,...   \n",
       "2   2  [[0.0, 0.0, 0.0, 0.0, 0.0, 0.0, 0.0, 0.0, 0.0,...   \n",
       "3   3  [[0.0, 0.0, 0.0, 0.0, 0.0, 0.0, 0.0, 0.0, 33.0...   \n",
       "4   4  [[0.0, 0.0, 0.0, 0.0, 0.0, 0.0, 0.0, 0.0, 0.0,...   \n",
       "\n",
       "                                            NormData  \\\n",
       "0  [[0.0, 0.0, 0.0, 0.0, 0.0, 0.0, 0.0, 0.0, 0.0,...   \n",
       "1  [[0.0, 0.0, 0.0, 0.0, 0.0, 0.00392156862745098...   \n",
       "2  [[0.0, 0.0, 0.0, 0.0, 0.0, 0.0, 0.0, 0.0, 0.0,...   \n",
       "3  [[0.0, 0.0, 0.0, 0.0, 0.0, 0.0, 0.0, 0.0, 0.12...   \n",
       "4  [[0.0, 0.0, 0.0, 0.0, 0.0, 0.0, 0.0, 0.0, 0.0,...   \n",
       "\n",
       "                                           NoiseData  \\\n",
       "0  [[0.3750231730220056, 0.0, 0.05156751717306366...   \n",
       "1  [[0.2718962753222339, 0.0, 0.0, 0.383056601930...   \n",
       "2  [[0.0, 0.0, 0.0, 0.006537600324446669, 0.18545...   \n",
       "3  [[0.09915371818863275, 0.07160150058964104, 0....   \n",
       "4  [[0.0, 0.34092691516236673, 0.0, 0.0, 0.105635...   \n",
       "\n",
       "                                         ReshapeData  Label        Class  \\\n",
       "0  [0.0, 0.0, 0.0, 0.0, 0.0, 0.0, 0.0, 0.0, 0.0, ...      9   Ankle boot   \n",
       "1  [0.0, 0.0, 0.0, 0.0, 0.0, 0.00392156862745098,...      0  T-shirt/top   \n",
       "2  [0.0, 0.0, 0.0, 0.0, 0.0, 0.0, 0.0, 0.0, 0.0, ...      0  T-shirt/top   \n",
       "3  [0.0, 0.0, 0.0, 0.0, 0.0, 0.0, 0.0, 0.0, 0.129...      3        Dress   \n",
       "4  [0.0, 0.0, 0.0, 0.0, 0.0, 0.0, 0.0, 0.0, 0.0, ...      0  T-shirt/top   \n",
       "\n",
       "   DataSize ReshapeSize  \n",
       "0  [28, 28]       [784]  \n",
       "1  [28, 28]       [784]  \n",
       "2  [28, 28]       [784]  \n",
       "3  [28, 28]       [784]  \n",
       "4  [28, 28]       [784]  "
      ]
     },
     "execution_count": 6,
     "metadata": {},
     "output_type": "execute_result"
    }
   ],
   "source": [
    "# probando def de dataframe entrenamiento\n",
    "trainData.head()"
   ]
  },
  {
   "cell_type": "code",
   "execution_count": 7,
   "metadata": {},
   "outputs": [
    {
     "data": {
      "text/plain": [
       "ID              int64\n",
       "Data           object\n",
       "NormData       object\n",
       "NoiseData      object\n",
       "ReshapeData    object\n",
       "Label           int64\n",
       "Class          object\n",
       "DataSize       object\n",
       "ReshapeSize    object\n",
       "dtype: object"
      ]
     },
     "execution_count": 7,
     "metadata": {},
     "output_type": "execute_result"
    }
   ],
   "source": [
    "# probando tipos de dataframe entrenamiento\n",
    "trainData.dtypes"
   ]
  },
  {
   "cell_type": "markdown",
   "metadata": {},
   "source": [
    "## AUTOCODIFICADOR-D (AUTOENCODER DENOISING)"
   ]
  },
  {
   "cell_type": "code",
   "execution_count": 8,
   "metadata": {},
   "outputs": [],
   "source": [
    "# se remueve la clase a predecir y demas columnas innecesarias\n",
    "dropColumns = [\"DataSize\", \"ReshapeSize\", \"ReshapeData\", \"Data\"]\n",
    "encoderData = trainData.drop(columns = dropColumns, axis = 1)"
   ]
  },
  {
   "cell_type": "code",
   "execution_count": 9,
   "metadata": {},
   "outputs": [
    {
     "data": {
      "text/html": [
       "<div>\n",
       "<style scoped>\n",
       "    .dataframe tbody tr th:only-of-type {\n",
       "        vertical-align: middle;\n",
       "    }\n",
       "\n",
       "    .dataframe tbody tr th {\n",
       "        vertical-align: top;\n",
       "    }\n",
       "\n",
       "    .dataframe thead th {\n",
       "        text-align: right;\n",
       "    }\n",
       "</style>\n",
       "<table border=\"1\" class=\"dataframe\">\n",
       "  <thead>\n",
       "    <tr style=\"text-align: right;\">\n",
       "      <th></th>\n",
       "      <th>ID</th>\n",
       "      <th>NormData</th>\n",
       "      <th>NoiseData</th>\n",
       "      <th>Label</th>\n",
       "      <th>Class</th>\n",
       "    </tr>\n",
       "  </thead>\n",
       "  <tbody>\n",
       "    <tr>\n",
       "      <td>0</td>\n",
       "      <td>0</td>\n",
       "      <td>[[0.0, 0.0, 0.0, 0.0, 0.0, 0.0, 0.0, 0.0, 0.0,...</td>\n",
       "      <td>[[0.3750231730220056, 0.0, 0.05156751717306366...</td>\n",
       "      <td>9</td>\n",
       "      <td>Ankle boot</td>\n",
       "    </tr>\n",
       "    <tr>\n",
       "      <td>1</td>\n",
       "      <td>1</td>\n",
       "      <td>[[0.0, 0.0, 0.0, 0.0, 0.0, 0.00392156862745098...</td>\n",
       "      <td>[[0.2718962753222339, 0.0, 0.0, 0.383056601930...</td>\n",
       "      <td>0</td>\n",
       "      <td>T-shirt/top</td>\n",
       "    </tr>\n",
       "    <tr>\n",
       "      <td>2</td>\n",
       "      <td>2</td>\n",
       "      <td>[[0.0, 0.0, 0.0, 0.0, 0.0, 0.0, 0.0, 0.0, 0.0,...</td>\n",
       "      <td>[[0.0, 0.0, 0.0, 0.006537600324446669, 0.18545...</td>\n",
       "      <td>0</td>\n",
       "      <td>T-shirt/top</td>\n",
       "    </tr>\n",
       "    <tr>\n",
       "      <td>3</td>\n",
       "      <td>3</td>\n",
       "      <td>[[0.0, 0.0, 0.0, 0.0, 0.0, 0.0, 0.0, 0.0, 0.12...</td>\n",
       "      <td>[[0.09915371818863275, 0.07160150058964104, 0....</td>\n",
       "      <td>3</td>\n",
       "      <td>Dress</td>\n",
       "    </tr>\n",
       "    <tr>\n",
       "      <td>4</td>\n",
       "      <td>4</td>\n",
       "      <td>[[0.0, 0.0, 0.0, 0.0, 0.0, 0.0, 0.0, 0.0, 0.0,...</td>\n",
       "      <td>[[0.0, 0.34092691516236673, 0.0, 0.0, 0.105635...</td>\n",
       "      <td>0</td>\n",
       "      <td>T-shirt/top</td>\n",
       "    </tr>\n",
       "  </tbody>\n",
       "</table>\n",
       "</div>"
      ],
      "text/plain": [
       "   ID                                           NormData  \\\n",
       "0   0  [[0.0, 0.0, 0.0, 0.0, 0.0, 0.0, 0.0, 0.0, 0.0,...   \n",
       "1   1  [[0.0, 0.0, 0.0, 0.0, 0.0, 0.00392156862745098...   \n",
       "2   2  [[0.0, 0.0, 0.0, 0.0, 0.0, 0.0, 0.0, 0.0, 0.0,...   \n",
       "3   3  [[0.0, 0.0, 0.0, 0.0, 0.0, 0.0, 0.0, 0.0, 0.12...   \n",
       "4   4  [[0.0, 0.0, 0.0, 0.0, 0.0, 0.0, 0.0, 0.0, 0.0,...   \n",
       "\n",
       "                                           NoiseData  Label        Class  \n",
       "0  [[0.3750231730220056, 0.0, 0.05156751717306366...      9   Ankle boot  \n",
       "1  [[0.2718962753222339, 0.0, 0.0, 0.383056601930...      0  T-shirt/top  \n",
       "2  [[0.0, 0.0, 0.0, 0.006537600324446669, 0.18545...      0  T-shirt/top  \n",
       "3  [[0.09915371818863275, 0.07160150058964104, 0....      3        Dress  \n",
       "4  [[0.0, 0.34092691516236673, 0.0, 0.0, 0.105635...      0  T-shirt/top  "
      ]
     },
     "execution_count": 9,
     "metadata": {},
     "output_type": "execute_result"
    }
   ],
   "source": [
    "# pruebo nueva representacion de los datos\n",
    "encoderData.head()"
   ]
  },
  {
   "cell_type": "code",
   "execution_count": 112,
   "metadata": {},
   "outputs": [],
   "source": [
    "# asigno variables para el entrenamiento del autoencoder\n",
    "X_encoder = np.array(encoderData[\"NoiseData\"])\n",
    "y_encoder = np.array(encoderData[\"NormData\"])\n",
    "# X_encoder = X_encoder.reshape(-1,28,28,1)\n",
    "\n",
    "noiseList = list()\n",
    "encoderList = list()\n",
    "\n",
    "for data in list(X_encoder):\n",
    "    data = np.reshape(data,(28,28,1))\n",
    "    noiseList.append(data)\n",
    "\n",
    "for data in list(y_encoder):\n",
    "    data = np.reshape(data,(28,28,1))\n",
    "    encoderList.append(data)\n",
    "    \n",
    "X_encoder = np.array(noiseList)\n",
    "y_encoder = np.array(encoderList)"
   ]
  },
  {
   "cell_type": "code",
   "execution_count": 159,
   "metadata": {},
   "outputs": [],
   "source": [
    "# agrego las capas necesarias para el modelo Keras para el Autoencoder\n",
    "# parametros para las capas\n",
    "neurons = trainData[\"ReshapeSize\"][0]\n",
    "output = trainData[\"ReshapeSize\"][0]\n",
    "inn = \"relu\"\n",
    "act = \"relu\"\n",
    "out = \"relu\" # \"relu\"\n",
    "pool = (2,2)\n",
    "ldrop = 0.2\n",
    "\n",
    "# forma de entrada de los datos para las capas de entrada, salida y aprendizaje\n",
    "# inshape = list(trainData[\"DataSize\"][0],)\n",
    "inshape = list(trainData[\"ReshapeSize\"][0],)\n",
    "outshape = list(trainData[\"ReshapeSize\"][0],)\n",
    "lshape = list(trainData[\"ReshapeSize\"][0],)\n",
    "\n",
    "# parametros para compilar\n",
    "# se selecciona Mean Squared Error (MSE) con datos estandarizados (imagen en escala de grises 0 a 255)\n",
    "l = \"mse\"\n",
    "opti = \"adam\" # \"adam\" \"adadelta\" \"nadam\"\n",
    "met = [\"accuracy\"]\n",
    "\n",
    "# parametros para mirar el progreso del entrenamiento\n",
    "ver = 1\n",
    "epo = 10\n",
    "batch = 256"
   ]
  },
  {
   "cell_type": "markdown",
   "metadata": {},
   "source": [
    "### Definición de las capas del AUTOENCODER\n",
    "Para el AUTOENCODER se definen las siguientes capas:\n",
    "\n",
    "-\tUna capa de entrada “input_img” y forma de entrada (28,28,1).\n",
    "-\tUna primera capa de codificación  “Conv2D”.\n",
    "-\tUna segunda capa de codificación  “Conv2D”.\n",
    "-\tUna capa intermedia de hallazgos/aprendizaje “Conv2D”.\n",
    "-\tUna primera capa de decodificación  “Conv2D”.\n",
    "-\tUna primera capa de decodificación  “Conv2D”.\n",
    "-\tUna capa de salida “Conv2D” con 784 y función de activación “relu”.\n",
    "-\tUnas capas “MaxPooling2D” entre cada capa de aprendizaje para evitar un sobre ajuste del modelo.\n",
    "-\tTodas las capas de aprendizaje (codificación, decodificación e intermania) tiene una funcion de activación “relu” para evitar la saturación de la salida de las capas."
   ]
  },
  {
   "cell_type": "code",
   "execution_count": 207,
   "metadata": {},
   "outputs": [],
   "source": [
    "# definicion de Keras para el AUTOENCODER\n",
    "# create the encode network\n",
    "input_img = Input(shape = (28,28,1), name = \"in_layer\")\n",
    "x = Conv2D(32, 3, 3, activation = inn, border_mode = 'same', input_shape = (1,28,28))(input_img)\n",
    "x = MaxPooling2D((2,2), border_mode = 'same')(x)\n",
    "x = Conv2D(16, 3, 3, activation = act, border_mode = 'same',input_shape = (1,28,28))(x)\n",
    "encoded = MaxPooling2D((2,2), border_mode = 'same')(x)"
   ]
  },
  {
   "cell_type": "code",
   "execution_count": 208,
   "metadata": {},
   "outputs": [],
   "source": [
    "# create the decode network\n",
    "x = Conv2D(16, 3, 3, activation = act, border_mode = 'same', input_shape = (1,28,28), name = \"mid_layer\")(encoded)\n",
    "x = UpSampling2D((2,2))(x)\n",
    "x = Conv2D(32, 3, 3, activation = act, border_mode = 'same', input_shape = (1,28,28))(x)\n",
    "x = UpSampling2D((2,2))(x)\n",
    "decoded = Conv2D(1, 3, 3, activation = out, border_mode = 'same', input_shape = (1,28,28), name = \"out_layer\")(x)"
   ]
  },
  {
   "cell_type": "code",
   "execution_count": 209,
   "metadata": {},
   "outputs": [
    {
     "name": "stdout",
     "output_type": "stream",
     "text": [
      "Model: \"model_11\"\n",
      "_________________________________________________________________\n",
      "Layer (type)                 Output Shape              Param #   \n",
      "=================================================================\n",
      "in_layer (InputLayer)        (None, 28, 28, 1)         0         \n",
      "_________________________________________________________________\n",
      "conv2d_58 (Conv2D)           (None, 28, 28, 32)        320       \n",
      "_________________________________________________________________\n",
      "max_pooling2d_21 (MaxPooling (None, 14, 14, 32)        0         \n",
      "_________________________________________________________________\n",
      "conv2d_59 (Conv2D)           (None, 14, 14, 16)        4624      \n",
      "_________________________________________________________________\n",
      "max_pooling2d_22 (MaxPooling (None, 7, 7, 16)          0         \n",
      "_________________________________________________________________\n",
      "mid_layer (Conv2D)           (None, 7, 7, 16)          2320      \n",
      "_________________________________________________________________\n",
      "up_sampling2d_19 (UpSampling (None, 14, 14, 16)        0         \n",
      "_________________________________________________________________\n",
      "conv2d_60 (Conv2D)           (None, 14, 14, 32)        4640      \n",
      "_________________________________________________________________\n",
      "up_sampling2d_20 (UpSampling (None, 28, 28, 32)        0         \n",
      "_________________________________________________________________\n",
      "out_layer (Conv2D)           (None, 28, 28, 1)         289       \n",
      "=================================================================\n",
      "Total params: 12,193\n",
      "Trainable params: 12,193\n",
      "Non-trainable params: 0\n",
      "_________________________________________________________________\n"
     ]
    }
   ],
   "source": [
    "# create the autoencoder by tying the encode and decode networks together\n",
    "noisyEncoder = Model(input_img, decoded)\n",
    "noisyEncoder.compile(optimizer = opti, loss = l)\n",
    "noisyEncoder.summary()"
   ]
  },
  {
   "cell_type": "code",
   "execution_count": 210,
   "metadata": {},
   "outputs": [],
   "source": [
    "# division de poblacion de entrenamiento y pruebas con los datos en un orden alternativos\n",
    "X_trainE, X_testE, y_trainE, y_testE = train_test_split(X_encoder, y_encoder, test_size = 0.2, random_state = 42)"
   ]
  },
  {
   "cell_type": "code",
   "execution_count": 211,
   "metadata": {},
   "outputs": [],
   "source": [
    "# compilando las condiciones de optimizacion y ajuste del MLP Keras\n",
    "noisyEncoder.compile(loss = l, optimizer = opti, metrics = met)"
   ]
  },
  {
   "cell_type": "code",
   "execution_count": 212,
   "metadata": {},
   "outputs": [
    {
     "name": "stdout",
     "output_type": "stream",
     "text": [
      "Train on 56000 samples, validate on 14000 samples\n",
      "Epoch 1/10\n",
      "56000/56000 [==============================] - 151s 3ms/step - loss: 0.0449 - accuracy: 0.5034 - val_loss: 0.1396 - val_accuracy: 0.6078\n",
      "Epoch 2/10\n",
      "56000/56000 [==============================] - 161s 3ms/step - loss: 0.0309 - accuracy: 0.5072 - val_loss: 0.1154 - val_accuracy: 0.6371\n",
      "Epoch 3/10\n",
      "56000/56000 [==============================] - 184s 3ms/step - loss: 0.0294 - accuracy: 0.5076 - val_loss: 0.1208 - val_accuracy: 0.6311\n",
      "Epoch 4/10\n",
      "56000/56000 [==============================] - 164s 3ms/step - loss: 0.0283 - accuracy: 0.5078 - val_loss: 0.1177 - val_accuracy: 0.6381\n",
      "Epoch 5/10\n",
      "56000/56000 [==============================] - 169s 3ms/step - loss: 0.0278 - accuracy: 0.5079 - val_loss: 0.1140 - val_accuracy: 0.6416\n",
      "Epoch 6/10\n",
      "56000/56000 [==============================] - 133s 2ms/step - loss: 0.0273 - accuracy: 0.5080 - val_loss: 0.1177 - val_accuracy: 0.6356\n",
      "Epoch 7/10\n",
      "56000/56000 [==============================] - 133s 2ms/step - loss: 0.0269 - accuracy: 0.5080 - val_loss: 0.1319 - val_accuracy: 0.6191\n",
      "Epoch 8/10\n",
      "56000/56000 [==============================] - 137s 2ms/step - loss: 0.0267 - accuracy: 0.5081 - val_loss: 0.1323 - val_accuracy: 0.6186\n",
      "Epoch 9/10\n",
      "56000/56000 [==============================] - 152s 3ms/step - loss: 0.0263 - accuracy: 0.5081 - val_loss: 0.1067 - val_accuracy: 0.6533\n",
      "Epoch 10/10\n",
      "56000/56000 [==============================] - 162s 3ms/step - loss: 0.0260 - accuracy: 0.5082 - val_loss: 0.1301 - val_accuracy: 0.6194\n"
     ]
    }
   ],
   "source": [
    "# ajustando el modelo MLP Keras\n",
    "historyEncoder = noisyEncoder.fit(\n",
    "    x = np.array(X_trainE), \n",
    "    y = np.array(y_trainE), \n",
    "    epochs = epo, verbose = ver,\n",
    "    workers = 32, use_multiprocessing = True,\n",
    "    batch_size = batch,\n",
    "    validation_data = (np.array(X_testE), np.array(X_testE))\n",
    ")"
   ]
  },
  {
   "cell_type": "code",
   "execution_count": 213,
   "metadata": {},
   "outputs": [
    {
     "name": "stdout",
     "output_type": "stream",
     "text": [
      "14000/14000 [==============================] - 8s 545us/step\n"
     ]
    }
   ],
   "source": [
    "# evaluando el modelo entrenado con sus propias herramientas\n",
    "evalEnconder = noisyEncoder.evaluate(np.array(X_testE), np.array(X_testE))"
   ]
  },
  {
   "cell_type": "code",
   "execution_count": 214,
   "metadata": {},
   "outputs": [
    {
     "name": "stdout",
     "output_type": "stream",
     "text": [
      "Perdida:  0.13010077485016414\n",
      "Precision:  0.6194108724594116\n"
     ]
    }
   ],
   "source": [
    "print(\"Perdida: \", evalEnconder[0])\n",
    "print(\"Precision: \", evalEnconder[1])"
   ]
  },
  {
   "cell_type": "code",
   "execution_count": 215,
   "metadata": {},
   "outputs": [
    {
     "name": "stdout",
     "output_type": "stream",
     "text": [
      "Model: \"model_11\"\n",
      "_________________________________________________________________\n",
      "Layer (type)                 Output Shape              Param #   \n",
      "=================================================================\n",
      "in_layer (InputLayer)        (None, 28, 28, 1)         0         \n",
      "_________________________________________________________________\n",
      "conv2d_58 (Conv2D)           (None, 28, 28, 32)        320       \n",
      "_________________________________________________________________\n",
      "max_pooling2d_21 (MaxPooling (None, 14, 14, 32)        0         \n",
      "_________________________________________________________________\n",
      "conv2d_59 (Conv2D)           (None, 14, 14, 16)        4624      \n",
      "_________________________________________________________________\n",
      "max_pooling2d_22 (MaxPooling (None, 7, 7, 16)          0         \n",
      "_________________________________________________________________\n",
      "mid_layer (Conv2D)           (None, 7, 7, 16)          2320      \n",
      "_________________________________________________________________\n",
      "up_sampling2d_19 (UpSampling (None, 14, 14, 16)        0         \n",
      "_________________________________________________________________\n",
      "conv2d_60 (Conv2D)           (None, 14, 14, 32)        4640      \n",
      "_________________________________________________________________\n",
      "up_sampling2d_20 (UpSampling (None, 28, 28, 32)        0         \n",
      "_________________________________________________________________\n",
      "out_layer (Conv2D)           (None, 28, 28, 1)         289       \n",
      "=================================================================\n",
      "Total params: 12,193\n",
      "Trainable params: 12,193\n",
      "Non-trainable params: 0\n",
      "_________________________________________________________________\n"
     ]
    }
   ],
   "source": [
    "# resumen de datos del MLP Keras\n",
    "noisyEncoder.summary()"
   ]
  },
  {
   "cell_type": "markdown",
   "metadata": {},
   "source": [
    "### Creando el modelo Underencoder"
   ]
  },
  {
   "cell_type": "code",
   "execution_count": 216,
   "metadata": {},
   "outputs": [],
   "source": [
    "# guardo los datos del modelo entrenado \n",
    "noisyEncoder.save('noisyEncoderFashion.h5')\n",
    "\n",
    "# cargo otro otro modelo para editarlo\n",
    "underEncoder = load_model('noisyEncoderFashion.h5')"
   ]
  },
  {
   "cell_type": "code",
   "execution_count": 217,
   "metadata": {},
   "outputs": [
    {
     "name": "stdout",
     "output_type": "stream",
     "text": [
      "Model: \"model_11\"\n",
      "_________________________________________________________________\n",
      "Layer (type)                 Output Shape              Param #   \n",
      "=================================================================\n",
      "in_layer (InputLayer)        (None, 28, 28, 1)         0         \n",
      "_________________________________________________________________\n",
      "conv2d_58 (Conv2D)           (None, 28, 28, 32)        320       \n",
      "_________________________________________________________________\n",
      "max_pooling2d_21 (MaxPooling (None, 14, 14, 32)        0         \n",
      "_________________________________________________________________\n",
      "conv2d_59 (Conv2D)           (None, 14, 14, 16)        4624      \n",
      "_________________________________________________________________\n",
      "max_pooling2d_22 (MaxPooling (None, 7, 7, 16)          0         \n",
      "_________________________________________________________________\n",
      "mid_layer (Conv2D)           (None, 7, 7, 16)          2320      \n",
      "_________________________________________________________________\n",
      "up_sampling2d_19 (UpSampling (None, 14, 14, 16)        0         \n",
      "_________________________________________________________________\n",
      "conv2d_60 (Conv2D)           (None, 14, 14, 32)        4640      \n",
      "_________________________________________________________________\n",
      "up_sampling2d_20 (UpSampling (None, 28, 28, 32)        0         \n",
      "_________________________________________________________________\n",
      "out_layer (Conv2D)           (None, 28, 28, 1)         289       \n",
      "=================================================================\n",
      "Total params: 12,193\n",
      "Trainable params: 12,193\n",
      "Non-trainable params: 0\n",
      "_________________________________________________________________\n"
     ]
    }
   ],
   "source": [
    "underEncoder.summary()"
   ]
  },
  {
   "cell_type": "code",
   "execution_count": 218,
   "metadata": {},
   "outputs": [],
   "source": [
    "# borro las capas innecesarias entre la capa de salida (out_layer) y la intermedia (mid_layer)\n",
    "i = len(underEncoder.layers)\n",
    "denseShape = (28, 28)\n",
    "extraLayers = list()\n",
    "found = False\n",
    "\n",
    "while i >= 0 and found == False and underEncoder.layers[i-1].name != \"mid_layer\":\n",
    "    i -= 1\n",
    "    \n",
    "    extraLayers.append(underEncoder.layers[i].name)\n",
    "    \n",
    "    if underEncoder.layers[i].name == \"mid_layer\":\n",
    "        found = True\n",
    "        \n",
    "    underEncoder.layers.pop()"
   ]
  },
  {
   "cell_type": "code",
   "execution_count": 219,
   "metadata": {},
   "outputs": [
    {
     "name": "stdout",
     "output_type": "stream",
     "text": [
      "Model: \"model_11\"\n",
      "_________________________________________________________________\n",
      "Layer (type)                 Output Shape              Param #   \n",
      "=================================================================\n",
      "in_layer (InputLayer)        (None, 28, 28, 1)         0         \n",
      "_________________________________________________________________\n",
      "conv2d_58 (Conv2D)           (None, 28, 28, 32)        320       \n",
      "_________________________________________________________________\n",
      "max_pooling2d_21 (MaxPooling (None, 14, 14, 32)        0         \n",
      "_________________________________________________________________\n",
      "conv2d_59 (Conv2D)           (None, 14, 14, 16)        4624      \n",
      "_________________________________________________________________\n",
      "max_pooling2d_22 (MaxPooling (None, 7, 7, 16)          0         \n",
      "_________________________________________________________________\n",
      "mid_layer (Conv2D)           (None, 7, 7, 16)          2320      \n",
      "=================================================================\n",
      "Total params: 12,193\n",
      "Trainable params: 12,193\n",
      "Non-trainable params: 0\n",
      "_________________________________________________________________\n"
     ]
    }
   ],
   "source": [
    "underEncoder.summary()"
   ]
  },
  {
   "cell_type": "code",
   "execution_count": 220,
   "metadata": {},
   "outputs": [],
   "source": [
    "# se prueba el underencoder creado con keras y el modelo original\n",
    "underPrediction = underEncoder.predict(np.array(X_testE))"
   ]
  },
  {
   "cell_type": "code",
   "execution_count": 221,
   "metadata": {},
   "outputs": [],
   "source": [
    "# se prueba Autoencoder con keras\n",
    "encoderPrediction = noisyEncoder.predict(np.array(X_testE))"
   ]
  },
  {
   "cell_type": "code",
   "execution_count": 222,
   "metadata": {},
   "outputs": [],
   "source": [
    "maxImages = 10\n",
    "randomTestImg = np.random.randint(len(X_testE), size = maxImages)"
   ]
  },
  {
   "cell_type": "markdown",
   "metadata": {},
   "source": [
    "### Muestra de trabajo para el Autoencoder y el Underencoder"
   ]
  },
  {
   "cell_type": "code",
   "execution_count": 226,
   "metadata": {},
   "outputs": [
    {
     "data": {
      "image/png": "[encoded data removed]",
      "text/plain": [
       "<Figure size 1296x288 with 30 Axes>"
      ]
     },
     "metadata": {
      "needs_background": "light"
     },
     "output_type": "display_data"
    }
   ],
   "source": [
    "plt.figure(figsize=(18, 4))\n",
    "originalShape = trainData[\"DataSize\"][0]\n",
    "\n",
    "for i, image_idx in enumerate(randomTestImg):\n",
    "    # plot original image\n",
    "    ax = plt.subplot(3, maxImages, i + 1)\n",
    "    plt.imshow(X_testE[image_idx].reshape(originalShape))\n",
    "    plt.gray()\n",
    "    ax.get_xaxis().set_visible(False)\n",
    "    ax.get_yaxis().set_visible(False)\n",
    "    \n",
    "    # plot encoded image\n",
    "    ax = plt.subplot(3, maxImages, maxImages + i + 1)\n",
    "    plt.imshow(underPrediction[image_idx].reshape(denseShape))\n",
    "    plt.gray()\n",
    "    ax.get_xaxis().set_visible(False)\n",
    "    ax.get_yaxis().set_visible(False)\n",
    "\n",
    "    # plot reconstructed image\n",
    "    ax = plt.subplot(3, maxImages, 2*maxImages + i + 1)\n",
    "    plt.imshow(encoderPrediction[image_idx].reshape(originalShape))\n",
    "    plt.gray()\n",
    "    ax.get_xaxis().set_visible(False)\n",
    "    ax.get_yaxis().set_visible(False)\n",
    "plt.show()"
   ]
  },
  {
   "cell_type": "code",
   "execution_count": 227,
   "metadata": {},
   "outputs": [
    {
     "data": {
      "image/png": "[encoded data removed]",
      "text/plain": [
       "<Figure size 576x360 with 1 Axes>"
      ]
     },
     "metadata": {
      "needs_background": "light"
     },
     "output_type": "display_data"
    }
   ],
   "source": [
    "# curva de aprendizaje para clasificador con sklearn split\n",
    "pd.DataFrame(historyEncoder.history).plot(figsize=(8, 5))\n",
    "plt.grid(True)\n",
    "plt.gca().set_ylim(0, 1) # set the vertical range to [0-1]\n",
    "plt.show()"
   ]
  },
  {
   "cell_type": "markdown",
   "metadata": {},
   "source": [
    "### Agregando Representaciones condensadas al DataFrame\n",
    "\n",
    "Se agregan nuevas representaciones para entrenar el MLP, específicamente se crea un modelo de codificación basado en el Autoencoder para entrenar la red con los datos característicos encontrados por la otra red. Los resultados de estas operaciones de guardan en el DataFrame de entrenamiento original."
   ]
  },
  {
   "cell_type": "code",
   "execution_count": 228,
   "metadata": {},
   "outputs": [],
   "source": [
    "# se representa el conjunto de datos con la representacion condensada\n",
    "dataSet = np.array(encoderData[\"NoiseData\"])\n",
    "\n",
    "noiseList = list()\n",
    "\n",
    "for data in list(X_encoder):\n",
    "    data = np.reshape(data,(28,28,1))\n",
    "    noiseList.append(data)\n",
    "    \n",
    "dataSet = np.array(noiseList)\n"
   ]
  },
  {
   "cell_type": "code",
   "execution_count": 229,
   "metadata": {},
   "outputs": [],
   "source": [
    "dataPrediction = underEncoder.predict(np.array(dataSet))"
   ]
  },
  {
   "cell_type": "code",
   "execution_count": 230,
   "metadata": {},
   "outputs": [],
   "source": [
    "# se agrega la info de la informacion condensada en el dataframe de entrenamiento\n",
    "denseData = list()\n",
    "\n",
    "for data in list(dataPrediction):\n",
    "#     print(data)\n",
    "    tempDense = data.reshape(denseShape)\n",
    "    denseData.append(tempDense)\n",
    "\n",
    "trainData[\"DenseData\"] = denseData"
   ]
  },
  {
   "cell_type": "code",
   "execution_count": 231,
   "metadata": {},
   "outputs": [],
   "source": [
    "# se agrega la forma de la informacion condensada en el dataframe\n",
    "sizeList = list()\n",
    "\n",
    "for data in list(trainData[\"DenseData\"]):\n",
    "\n",
    "    tempSize = data.shape\n",
    "    sizeList.append(tempSize)\n",
    "\n",
    "sizeList = np.array(sizeList)\n",
    "trainData[\"DenseSize\"] = list(sizeList)"
   ]
  },
  {
   "cell_type": "code",
   "execution_count": 232,
   "metadata": {},
   "outputs": [],
   "source": [
    "# representacion alternativa 1D de la forma condensanda en el dataframe\n",
    "reshapeList = list()\n",
    "dataList = np.array(trainData[\"DenseData\"])\n",
    "\n",
    "for data in dataList:\n",
    "\n",
    "    tempReshape = np.array(data).flatten().shape\n",
    "    reshapeList.append(tempReshape)\n",
    "    \n",
    "trainData[\"AlterSize\"] = list(reshapeList)#.tolist()"
   ]
  },
  {
   "cell_type": "code",
   "execution_count": 233,
   "metadata": {},
   "outputs": [
    {
     "data": {
      "text/html": [
       "<div>\n",
       "<style scoped>\n",
       "    .dataframe tbody tr th:only-of-type {\n",
       "        vertical-align: middle;\n",
       "    }\n",
       "\n",
       "    .dataframe tbody tr th {\n",
       "        vertical-align: top;\n",
       "    }\n",
       "\n",
       "    .dataframe thead th {\n",
       "        text-align: right;\n",
       "    }\n",
       "</style>\n",
       "<table border=\"1\" class=\"dataframe\">\n",
       "  <thead>\n",
       "    <tr style=\"text-align: right;\">\n",
       "      <th></th>\n",
       "      <th>ID</th>\n",
       "      <th>Data</th>\n",
       "      <th>NormData</th>\n",
       "      <th>NoiseData</th>\n",
       "      <th>ReshapeData</th>\n",
       "      <th>Label</th>\n",
       "      <th>Class</th>\n",
       "      <th>DataSize</th>\n",
       "      <th>ReshapeSize</th>\n",
       "      <th>DenseData</th>\n",
       "      <th>DenseSize</th>\n",
       "      <th>AlterSize</th>\n",
       "    </tr>\n",
       "  </thead>\n",
       "  <tbody>\n",
       "    <tr>\n",
       "      <td>0</td>\n",
       "      <td>0</td>\n",
       "      <td>[[0.0, 0.0, 0.0, 0.0, 0.0, 0.0, 0.0, 0.0, 0.0,...</td>\n",
       "      <td>[[0.0, 0.0, 0.0, 0.0, 0.0, 0.0, 0.0, 0.0, 0.0,...</td>\n",
       "      <td>[[0.3750231730220056, 0.0, 0.05156751717306366...</td>\n",
       "      <td>[0.0, 0.0, 0.0, 0.0, 0.0, 0.0, 0.0, 0.0, 0.0, ...</td>\n",
       "      <td>9</td>\n",
       "      <td>Ankle boot</td>\n",
       "      <td>[28, 28]</td>\n",
       "      <td>[784]</td>\n",
       "      <td>[[0.0, 0.0, 0.0, 0.0, 0.0, 0.0, 0.0, 0.0, 0.0,...</td>\n",
       "      <td>[28, 28]</td>\n",
       "      <td>(784,)</td>\n",
       "    </tr>\n",
       "    <tr>\n",
       "      <td>1</td>\n",
       "      <td>1</td>\n",
       "      <td>[[0.0, 0.0, 0.0, 0.0, 0.0, 1.0, 0.0, 0.0, 0.0,...</td>\n",
       "      <td>[[0.0, 0.0, 0.0, 0.0, 0.0, 0.00392156862745098...</td>\n",
       "      <td>[[0.2718962753222339, 0.0, 0.0, 0.383056601930...</td>\n",
       "      <td>[0.0, 0.0, 0.0, 0.0, 0.0, 0.00392156862745098,...</td>\n",
       "      <td>0</td>\n",
       "      <td>T-shirt/top</td>\n",
       "      <td>[28, 28]</td>\n",
       "      <td>[784]</td>\n",
       "      <td>[[0.0, 0.0, 0.0, 0.0, 0.0, 0.0, 0.0, 0.0, 0.0,...</td>\n",
       "      <td>[28, 28]</td>\n",
       "      <td>(784,)</td>\n",
       "    </tr>\n",
       "    <tr>\n",
       "      <td>2</td>\n",
       "      <td>2</td>\n",
       "      <td>[[0.0, 0.0, 0.0, 0.0, 0.0, 0.0, 0.0, 0.0, 0.0,...</td>\n",
       "      <td>[[0.0, 0.0, 0.0, 0.0, 0.0, 0.0, 0.0, 0.0, 0.0,...</td>\n",
       "      <td>[[0.0, 0.0, 0.0, 0.006537600324446669, 0.18545...</td>\n",
       "      <td>[0.0, 0.0, 0.0, 0.0, 0.0, 0.0, 0.0, 0.0, 0.0, ...</td>\n",
       "      <td>0</td>\n",
       "      <td>T-shirt/top</td>\n",
       "      <td>[28, 28]</td>\n",
       "      <td>[784]</td>\n",
       "      <td>[[0.0, 0.0, 0.0, 0.0, 0.0, 0.0, 0.0, 0.0, 0.0,...</td>\n",
       "      <td>[28, 28]</td>\n",
       "      <td>(784,)</td>\n",
       "    </tr>\n",
       "    <tr>\n",
       "      <td>3</td>\n",
       "      <td>3</td>\n",
       "      <td>[[0.0, 0.0, 0.0, 0.0, 0.0, 0.0, 0.0, 0.0, 33.0...</td>\n",
       "      <td>[[0.0, 0.0, 0.0, 0.0, 0.0, 0.0, 0.0, 0.0, 0.12...</td>\n",
       "      <td>[[0.09915371818863275, 0.07160150058964104, 0....</td>\n",
       "      <td>[0.0, 0.0, 0.0, 0.0, 0.0, 0.0, 0.0, 0.0, 0.129...</td>\n",
       "      <td>3</td>\n",
       "      <td>Dress</td>\n",
       "      <td>[28, 28]</td>\n",
       "      <td>[784]</td>\n",
       "      <td>[[0.0, 0.0, 0.0, 0.0, 0.0, 0.0, 0.06894106, 0....</td>\n",
       "      <td>[28, 28]</td>\n",
       "      <td>(784,)</td>\n",
       "    </tr>\n",
       "    <tr>\n",
       "      <td>4</td>\n",
       "      <td>4</td>\n",
       "      <td>[[0.0, 0.0, 0.0, 0.0, 0.0, 0.0, 0.0, 0.0, 0.0,...</td>\n",
       "      <td>[[0.0, 0.0, 0.0, 0.0, 0.0, 0.0, 0.0, 0.0, 0.0,...</td>\n",
       "      <td>[[0.0, 0.34092691516236673, 0.0, 0.0, 0.105635...</td>\n",
       "      <td>[0.0, 0.0, 0.0, 0.0, 0.0, 0.0, 0.0, 0.0, 0.0, ...</td>\n",
       "      <td>0</td>\n",
       "      <td>T-shirt/top</td>\n",
       "      <td>[28, 28]</td>\n",
       "      <td>[784]</td>\n",
       "      <td>[[0.0, 0.0, 0.0, 0.0, 0.0, 0.0, 0.0, 0.0, 0.0,...</td>\n",
       "      <td>[28, 28]</td>\n",
       "      <td>(784,)</td>\n",
       "    </tr>\n",
       "  </tbody>\n",
       "</table>\n",
       "</div>"
      ],
      "text/plain": [
       "   ID                                               Data  \\\n",
       "0   0  [[0.0, 0.0, 0.0, 0.0, 0.0, 0.0, 0.0, 0.0, 0.0,...   \n",
       "1   1  [[0.0, 0.0, 0.0, 0.0, 0.0, 1.0, 0.0, 0.0, 0.0,...   \n",
       "2   2  [[0.0, 0.0, 0.0, 0.0, 0.0, 0.0, 0.0, 0.0, 0.0,...   \n",
       "3   3  [[0.0, 0.0, 0.0, 0.0, 0.0, 0.0, 0.0, 0.0, 33.0...   \n",
       "4   4  [[0.0, 0.0, 0.0, 0.0, 0.0, 0.0, 0.0, 0.0, 0.0,...   \n",
       "\n",
       "                                            NormData  \\\n",
       "0  [[0.0, 0.0, 0.0, 0.0, 0.0, 0.0, 0.0, 0.0, 0.0,...   \n",
       "1  [[0.0, 0.0, 0.0, 0.0, 0.0, 0.00392156862745098...   \n",
       "2  [[0.0, 0.0, 0.0, 0.0, 0.0, 0.0, 0.0, 0.0, 0.0,...   \n",
       "3  [[0.0, 0.0, 0.0, 0.0, 0.0, 0.0, 0.0, 0.0, 0.12...   \n",
       "4  [[0.0, 0.0, 0.0, 0.0, 0.0, 0.0, 0.0, 0.0, 0.0,...   \n",
       "\n",
       "                                           NoiseData  \\\n",
       "0  [[0.3750231730220056, 0.0, 0.05156751717306366...   \n",
       "1  [[0.2718962753222339, 0.0, 0.0, 0.383056601930...   \n",
       "2  [[0.0, 0.0, 0.0, 0.006537600324446669, 0.18545...   \n",
       "3  [[0.09915371818863275, 0.07160150058964104, 0....   \n",
       "4  [[0.0, 0.34092691516236673, 0.0, 0.0, 0.105635...   \n",
       "\n",
       "                                         ReshapeData  Label        Class  \\\n",
       "0  [0.0, 0.0, 0.0, 0.0, 0.0, 0.0, 0.0, 0.0, 0.0, ...      9   Ankle boot   \n",
       "1  [0.0, 0.0, 0.0, 0.0, 0.0, 0.00392156862745098,...      0  T-shirt/top   \n",
       "2  [0.0, 0.0, 0.0, 0.0, 0.0, 0.0, 0.0, 0.0, 0.0, ...      0  T-shirt/top   \n",
       "3  [0.0, 0.0, 0.0, 0.0, 0.0, 0.0, 0.0, 0.0, 0.129...      3        Dress   \n",
       "4  [0.0, 0.0, 0.0, 0.0, 0.0, 0.0, 0.0, 0.0, 0.0, ...      0  T-shirt/top   \n",
       "\n",
       "   DataSize ReshapeSize                                          DenseData  \\\n",
       "0  [28, 28]       [784]  [[0.0, 0.0, 0.0, 0.0, 0.0, 0.0, 0.0, 0.0, 0.0,...   \n",
       "1  [28, 28]       [784]  [[0.0, 0.0, 0.0, 0.0, 0.0, 0.0, 0.0, 0.0, 0.0,...   \n",
       "2  [28, 28]       [784]  [[0.0, 0.0, 0.0, 0.0, 0.0, 0.0, 0.0, 0.0, 0.0,...   \n",
       "3  [28, 28]       [784]  [[0.0, 0.0, 0.0, 0.0, 0.0, 0.0, 0.06894106, 0....   \n",
       "4  [28, 28]       [784]  [[0.0, 0.0, 0.0, 0.0, 0.0, 0.0, 0.0, 0.0, 0.0,...   \n",
       "\n",
       "  DenseSize AlterSize  \n",
       "0  [28, 28]    (784,)  \n",
       "1  [28, 28]    (784,)  \n",
       "2  [28, 28]    (784,)  \n",
       "3  [28, 28]    (784,)  \n",
       "4  [28, 28]    (784,)  "
      ]
     },
     "execution_count": 233,
     "metadata": {},
     "output_type": "execute_result"
    }
   ],
   "source": [
    "trainData.head()\n",
    "# trainData[\"DenseData\"][0].shape"
   ]
  },
  {
   "cell_type": "markdown",
   "metadata": {},
   "source": [
    "## PERCEPTRON MULTICAPA MODIFICADO\n",
    "\n",
    "El MLP se modifica para tener menos neuronas y entrenarse con la representación condensada de la información (forma densa de 8x8), se espera que esta nueva representación de datos mejore el rendimiento del modelo."
   ]
  },
  {
   "cell_type": "code",
   "execution_count": 234,
   "metadata": {},
   "outputs": [],
   "source": [
    "# se remueve la clase a predecir \n",
    "dropColumns = [\"ID\", \"Label\", \"Class\", \"DataSize\", \"ReshapeSize\"]\n",
    "#[\"Name\", \"Path\", \"Digit\", \"DataSize\", \"ReshapeSize\"]\n",
    "X = trainData.drop(columns = dropColumns, axis = 1)[\"DenseData\"].tolist()\n",
    "y = trainData[\"Label\"].tolist()"
   ]
  },
  {
   "cell_type": "code",
   "execution_count": 235,
   "metadata": {},
   "outputs": [],
   "source": [
    "# agrego las capas necesarias para el modelo Keras Perceptron Multicapa (MLP)\n",
    "# parametros para las capas\n",
    "neurons = 80\n",
    "categories = len(classNamesList)\n",
    "act = \"relu\"\n",
    "out = \"softmax\"\n",
    "ldrop = 0.2\n",
    "\n",
    "# estos se cambian aparte porque se demoran mucho\n",
    "# inshape = list(trainData[\"DataSize\"].value_counts().index.tolist()[0],)\n",
    "# lshape = list(trainData[\"ReshapeSize\"].value_counts().index.tolist()[0],)\n",
    "inshape = list(trainData[\"DenseSize\"][0],)\n",
    "lshape = list(trainData[\"AlterSize\"][0],)\n",
    "\n",
    "# parametros para compilar\n",
    "l = \"categorical_crossentropy\"\n",
    "opti = \"adam\"\n",
    "met = [\"accuracy\"]\n",
    "\n",
    "# parametros para mirar el progreso del entrenamiento\n",
    "ver = 1\n",
    "epo = 10"
   ]
  },
  {
   "cell_type": "markdown",
   "metadata": {},
   "source": [
    "### Definición de las capas MLP\n",
    "Para el MLP se definen las siguientes capas:\n",
    "\n",
    "-\tUna capa de entrada “Flatten” que recibe la imagen 2D y lo transforma a un arreglo 1D para facilidad de procesamiento.\n",
    "-\tUna capa de 80 neuronas “Dense” como capa de entrada para los datos con representación 1D.\n",
    "-\tUna capa “Dropout” con 20% de desactivación de los datos de entrada para evitar un sobre ajuste del modelo, se recalca que entre cada capa de trabajo se utiliza “Dropout” con el mismo propósito.\n",
    "-\tUna capa de 60 neuronas “Dense” como capa como primera capa de aprendizaje.\n",
    "-\tUna capa de 40 neuronas “Dense” como capa como segunda capa de aprendizaje.\n",
    "-\tTodas las capas de aprendizaje tienen función de activación “relu” para evitar la explosión/desvanecimiento de los gradientes.\n",
    "-\tUna capa con 10 neuronas “Dense” como capa de salida para clasificación con función de activación “softmax” para reconocer categorías por separado.\n"
   ]
  },
  {
   "cell_type": "code",
   "execution_count": 236,
   "metadata": {},
   "outputs": [],
   "source": [
    "# arreglo de capas Keras para el MLP\n",
    "layerList = (\n",
    "    Flatten(input_shape = inshape),\n",
    "    Dense(neurons, input_shape = inshape, activation = act),\n",
    "    Dropout(ldrop, seed = 42),\n",
    "    Dense(neurons-20, input_shape = lshape, activation = act),\n",
    "    Dropout(ldrop, seed = 42),\n",
    "    Dense(neurons-40, input_shape = lshape, activation = act),\n",
    "    Dropout(ldrop, seed = 42),\n",
    "    Dense(categories, input_shape = lshape, activation = out)\n",
    ")"
   ]
  },
  {
   "cell_type": "markdown",
   "metadata": {},
   "source": [
    "### Entrenamiento Preliminar\n",
    "Cabe recordar que para poder entrenar el modelo multiclase se deben hacer ajustes de tipo (casts) en las entradas de los datos, en donde se transforma la matriz de datos de entrada en un array NumPy (ej.: “np.array(X_testB)”) y se transforma a categorías Dummy la salida (ej.: “to_categorical(np.array(y_testB), categories)”).\n",
    "\n",
    "Siempre se utiliza la división aleatoria de datos después de los experimentos preliminares de la primera parte del taller."
   ]
  },
  {
   "cell_type": "markdown",
   "metadata": {},
   "source": [
    "### Con Split Random SKLearn"
   ]
  },
  {
   "cell_type": "code",
   "execution_count": 237,
   "metadata": {},
   "outputs": [],
   "source": [
    "# division de poblacion de entrenamiento y pruebas con los datos en un orden alternativos\n",
    "X_trainB, X_testB, y_trainB, y_testB = train_test_split(X, y, test_size = 0.2, random_state = 42)"
   ]
  },
  {
   "cell_type": "code",
   "execution_count": 238,
   "metadata": {},
   "outputs": [],
   "source": [
    "# definiendo el modelo MLP de Keras\n",
    "splitClassifier = Sequential(layerList)"
   ]
  },
  {
   "cell_type": "code",
   "execution_count": 239,
   "metadata": {},
   "outputs": [],
   "source": [
    "# compilando las condiciones de optimizacion y ajuste del MLP Keras\n",
    "splitClassifier.compile(loss = l, optimizer = opti, metrics = met)"
   ]
  },
  {
   "cell_type": "code",
   "execution_count": 240,
   "metadata": {},
   "outputs": [
    {
     "name": "stdout",
     "output_type": "stream",
     "text": [
      "Train on 56000 samples, validate on 14000 samples\n",
      "Epoch 1/10\n",
      "56000/56000 [==============================] - 7s 121us/step - loss: 0.7248 - accuracy: 0.7328 - val_loss: 0.4549 - val_accuracy: 0.8259\n",
      "Epoch 2/10\n",
      "56000/56000 [==============================] - 6s 110us/step - loss: 0.5283 - accuracy: 0.8090 - val_loss: 0.4304 - val_accuracy: 0.8376\n",
      "Epoch 3/10\n",
      "56000/56000 [==============================] - 7s 121us/step - loss: 0.4862 - accuracy: 0.8240 - val_loss: 0.4102 - val_accuracy: 0.8458\n",
      "Epoch 4/10\n",
      "56000/56000 [==============================] - 6s 112us/step - loss: 0.4658 - accuracy: 0.8294 - val_loss: 0.3961 - val_accuracy: 0.8526\n",
      "Epoch 5/10\n",
      "56000/56000 [==============================] - 7s 121us/step - loss: 0.4530 - accuracy: 0.8342 - val_loss: 0.3980 - val_accuracy: 0.8483\n",
      "Epoch 6/10\n",
      "56000/56000 [==============================] - 7s 120us/step - loss: 0.4440 - accuracy: 0.8387 - val_loss: 0.4117 - val_accuracy: 0.8461\n",
      "Epoch 7/10\n",
      "56000/56000 [==============================] - 6s 111us/step - loss: 0.4324 - accuracy: 0.8425 - val_loss: 0.3869 - val_accuracy: 0.8518\n",
      "Epoch 8/10\n",
      "56000/56000 [==============================] - 6s 115us/step - loss: 0.4242 - accuracy: 0.8441 - val_loss: 0.3720 - val_accuracy: 0.8623\n",
      "Epoch 9/10\n",
      "56000/56000 [==============================] - 7s 124us/step - loss: 0.4194 - accuracy: 0.8441 - val_loss: 0.3815 - val_accuracy: 0.8567\n",
      "Epoch 10/10\n",
      "56000/56000 [==============================] - 7s 126us/step - loss: 0.4143 - accuracy: 0.8464 - val_loss: 0.3774 - val_accuracy: 0.8623\n"
     ]
    }
   ],
   "source": [
    "# ajustando el modelo MLP Keras\n",
    "historySplit = splitClassifier.fit(\n",
    "    x = np.array(X_trainB), \n",
    "    y = to_categorical(np.array(y_trainB), categories), \n",
    "    epochs = epo, verbose = ver, \n",
    "    validation_data = (np.array(X_testB), to_categorical(np.array(y_testB), categories))\n",
    ")"
   ]
  },
  {
   "cell_type": "code",
   "execution_count": 241,
   "metadata": {},
   "outputs": [
    {
     "name": "stdout",
     "output_type": "stream",
     "text": [
      "14000/14000 [==============================] - 0s 32us/step\n"
     ]
    }
   ],
   "source": [
    "# evaluando el modelo entrenado con sus propias herramientas\n",
    "evalSplit = splitClassifier.evaluate(x = np.array(X_testB), y = to_categorical(np.array(y_testB), categories))"
   ]
  },
  {
   "cell_type": "code",
   "execution_count": 245,
   "metadata": {},
   "outputs": [
    {
     "name": "stdout",
     "output_type": "stream",
     "text": [
      "Perdida:  0.37742260221072604\n",
      "Precision:  0.8622857332229614\n"
     ]
    }
   ],
   "source": [
    "print(\"Perdida: \", evalSplit[0])\n",
    "print(\"Precision: \", evalSplit[1])"
   ]
  },
  {
   "cell_type": "code",
   "execution_count": 246,
   "metadata": {},
   "outputs": [
    {
     "name": "stdout",
     "output_type": "stream",
     "text": [
      "Model: \"sequential_1\"\n",
      "_________________________________________________________________\n",
      "Layer (type)                 Output Shape              Param #   \n",
      "=================================================================\n",
      "flatten_1 (Flatten)          (None, 784)               0         \n",
      "_________________________________________________________________\n",
      "dense_1 (Dense)              (None, 80)                62800     \n",
      "_________________________________________________________________\n",
      "dropout_1 (Dropout)          (None, 80)                0         \n",
      "_________________________________________________________________\n",
      "dense_2 (Dense)              (None, 60)                4860      \n",
      "_________________________________________________________________\n",
      "dropout_2 (Dropout)          (None, 60)                0         \n",
      "_________________________________________________________________\n",
      "dense_3 (Dense)              (None, 40)                2440      \n",
      "_________________________________________________________________\n",
      "dropout_3 (Dropout)          (None, 40)                0         \n",
      "_________________________________________________________________\n",
      "dense_4 (Dense)              (None, 10)                410       \n",
      "=================================================================\n",
      "Total params: 70,510\n",
      "Trainable params: 70,510\n",
      "Non-trainable params: 0\n",
      "_________________________________________________________________\n"
     ]
    }
   ],
   "source": [
    "# resumen de datos del MLP Keras\n",
    "splitClassifier.summary()"
   ]
  },
  {
   "cell_type": "code",
   "execution_count": 247,
   "metadata": {},
   "outputs": [],
   "source": [
    "# se prueba MLP de sklearn\n",
    "splitPrediction = splitClassifier.predict(np.array(X_testB))\n",
    "\n",
    "# ajuste de las predicciones para ver el reporte de matrix de confusion\n",
    "splitPrediction = np.array(splitPrediction).argmax(axis=1)"
   ]
  },
  {
   "cell_type": "code",
   "execution_count": 248,
   "metadata": {},
   "outputs": [
    {
     "name": "stdout",
     "output_type": "stream",
     "text": [
      "----- Reporte de Pruebas MLP con div aleatoria -----\n",
      "--- Conteo ---\n",
      "Counter({3: 1550, 2: 1540, 4: 1485, 7: 1436, 9: 1414, 1: 1403, 5: 1397, 0: 1375, 8: 1366, 6: 1034})\n",
      "--- Matriz de Confusion ---\n",
      "[[1133    9   26   96    7    1  111    0   11    0]\n",
      " [   1 1363    3   27    4    0    2    0    2    0]\n",
      " [   6    2 1121   19  176    0   77    0    6    0]\n",
      " [  14   22    9 1298   78    0   24    0    4    0]\n",
      " [   0    3  207   49 1043    0   48    0    7    0]\n",
      " [   0    0    0    1    0 1374    1   56    1   16]\n",
      " [ 221    2  169   56  174    0  762    0   23    0]\n",
      " [   0    0    0    0    0   16    0 1309    1   33]\n",
      " [   0    2    4    4    3    2    9    8 1307    3]\n",
      " [   0    0    1    0    0    4    0   63    4 1362]]\n",
      "--- Reporte de Pruebas: ---\n",
      "              precision    recall  f1-score   support\n",
      "\n",
      "           0       0.82      0.81      0.82      1394\n",
      "           1       0.97      0.97      0.97      1402\n",
      "           2       0.73      0.80      0.76      1407\n",
      "           3       0.84      0.90      0.87      1449\n",
      "           4       0.70      0.77      0.73      1357\n",
      "           5       0.98      0.95      0.97      1449\n",
      "           6       0.74      0.54      0.62      1407\n",
      "           7       0.91      0.96      0.94      1359\n",
      "           8       0.96      0.97      0.97      1342\n",
      "           9       0.96      0.95      0.96      1434\n",
      "\n",
      "    accuracy                           0.86     14000\n",
      "   macro avg       0.86      0.86      0.86     14000\n",
      "weighted avg       0.86      0.86      0.86     14000\n",
      "\n",
      "--- Puntaje ---\n",
      "\n",
      " - Perdida:  0.37742260221072604\n",
      " - Precision:  0.8622857332229614\n"
     ]
    }
   ],
   "source": [
    "# Informe de los resultados para las pruebas del MLP\n",
    "print(\"----- Reporte de Pruebas MLP con div aleatoria -----\")\n",
    "print(\"--- Conteo ---\\n\" + str(Counter(splitPrediction)))\n",
    "print(\"--- Matriz de Confusion ---\\n\" + str(confusion_matrix(y_testB, splitPrediction)))\n",
    "print(\"--- Reporte de Pruebas: ---\")\n",
    "print(classification_report(y_testB, splitPrediction))\n",
    "print(\"--- Puntaje ---\\n\")\n",
    "print(\" - Perdida: \", evalSplit[0])\n",
    "print(\" - Precision: \", evalSplit[1])"
   ]
  },
  {
   "cell_type": "code",
   "execution_count": 249,
   "metadata": {},
   "outputs": [
    {
     "data": {
      "image/png": "[encoded data removed]",
      "text/plain": [
       "<Figure size 576x360 with 1 Axes>"
      ]
     },
     "metadata": {
      "needs_background": "light"
     },
     "output_type": "display_data"
    }
   ],
   "source": [
    "# curva de aprendizaje para clasificador con sklearn split\n",
    "pd.DataFrame(historySplit.history).plot(figsize=(8, 5))\n",
    "plt.grid(True)\n",
    "plt.gca().set_ylim(0, 1) # set the vertical range to [0-1]\n",
    "plt.show()"
   ]
  },
  {
   "cell_type": "markdown",
   "metadata": {},
   "source": [
    "### Optimización de Hiper-parámetros\n",
    "\n",
    "para optimizar el desempeño del Perceptrón se utiliza la librería Talos porque es relativamente fácil de crear un modelo optimizable e iterable en el espacio de hiper-parámetros definiendo una función con parámetros específicos. Para lograr esto se realizan los siguientes pasos:\n",
    "\n",
    " - Se define una función como modelo para el modelo de optimización Talos.\n",
    " - Se define un espacio de búsqueda de hiper-parámetros del MLP.\n",
    " - Se ejecuta una búsqueda aleatoria (opción por defecto de Talos) en una fracción reducida del espacio de hiper-parámetros del MLP.\n",
    " - Después, se analizan los resultados para obtener la mejor versión del modelo entrenado y se resume los resultados del modelo seleccionado durante el proceso de optimización."
   ]
  },
  {
   "cell_type": "code",
   "execution_count": 250,
   "metadata": {},
   "outputs": [],
   "source": [
    "# redefiniendo el modelo preliminar en funcion para optimizar\n",
    "def fashionPerceptron(X_train, y_train, X_test, y_test, params):\n",
    "  \n",
    "    inshape = X_train[0].shape\n",
    "    lshape = np.reshape(X_train[0], -1).shape\n",
    "    ver = 0\n",
    "    \n",
    "    # definiendo el modelo MLP de Keras\n",
    "    model = Sequential()\n",
    "    \n",
    "    # capa para representacion alternativa de (n,m) a (m*m)\n",
    "    model.add(Flatten(input_shape = X_train[0].shape))\n",
    "\n",
    "    # capa de entrada para el modelo\n",
    "    model.add(Dense(params[\"first_neuron\"], input_shape = inshape, activation = params[\"activation\"]))\n",
    "    \n",
    "    # paso intermedio para hacer dropout yevitar overfit\n",
    "    model.add(Dropout(params[\"dropout\"]))\n",
    "    \n",
    "    # capas ocultas del modelo\n",
    "    for i in range(params['hidden_layers']):\n",
    "        model.add(Dense(params['hidden_neuron'], input_shape = lshape, activation = params[\"activation\"])),\n",
    "        model.add(Dropout(params['dropout']))\n",
    "    \n",
    "    # capa de salida del modelo\n",
    "    model.add(Dense(params[\"last_neuron\"], input_shape = lshape, activation = params[\"last_activation\"]))\n",
    "    \n",
    "    # compilando las condiciones de optimizacion y ajuste del MLP Keras\n",
    "    model.compile(optimizer = params[\"optimizer\"], loss = params[\"losses\"], metrics = [\"acc\"])\n",
    "\n",
    "    # entrenando el modelo MLP Keras\n",
    "    history = model.fit(\n",
    "        x = np.array(X_train), \n",
    "        y = to_categorical(np.array(y_train), params[\"last_neuron\"]), \n",
    "        epochs = params[\"epochs\"], verbose = ver, \n",
    "        workers = 8, use_multiprocessing = True,\n",
    "        batch_size = params[\"batch_size\"],\n",
    "        callbacks = [talos.utils.ExperimentLogCallback(\"fashionPerceptronExp\", params)],\n",
    "        validation_data = (np.array(X_test), to_categorical(np.array(y_test), params[\"last_neuron\"]))\n",
    "    )\n",
    "    \n",
    "    return history, model"
   ]
  },
  {
   "cell_type": "code",
   "execution_count": 251,
   "metadata": {},
   "outputs": [],
   "source": [
    "# espacio de optimizacion de hyperparametros para el MLP\n",
    "parameters = {\"activation\": [\"relu\", \"elu\"],\n",
    "     \"last_activation\": [\"softmax\"],\n",
    "     \"optimizer\": [\"Nadam\", \"Adam\"],\n",
    "     \"losses\": [\"categorical_crossentropy\"],\n",
    "     \"shapes\": [\"brick\"],\n",
    "     \"first_neuron\": [80, 60, 40],\n",
    "     \"hidden_neuron\": [80, 60, 40],\n",
    "     \"last_neuron\": [len(classNamesList)],\n",
    "     \"hidden_layers\": [0, 1, 2, 3],\n",
    "     \"dropout\": [.1, .2, .3],\n",
    "     \"batch_size\": [32, 64, 128],\n",
    "     \"epochs\": [10]}"
   ]
  },
  {
   "cell_type": "code",
   "execution_count": 252,
   "metadata": {
    "scrolled": true
   },
   "outputs": [
    {
     "name": "stderr",
     "output_type": "stream",
     "text": [
      "\r",
      "  0%|                                                                                        | 0/38 [00:00<?, ?it/s]"
     ]
    },
    {
     "name": "stdout",
     "output_type": "stream",
     "text": [
      "{'activation': 'elu', 'batch_size': 64, 'dropout': 0.2, 'epochs': 10, 'first_neuron': 40, 'hidden_layers': 0, 'hidden_neuron': 80, 'last_activation': 'softmax', 'last_neuron': 10, 'losses': 'categorical_crossentropy', 'optimizer': 'Nadam', 'shapes': 'brick'}\n"
     ]
    },
    {
     "name": "stderr",
     "output_type": "stream",
     "text": [
      "\r",
      "  3%|██                                                                              | 1/38 [00:21<13:22, 21.68s/it]"
     ]
    },
    {
     "name": "stdout",
     "output_type": "stream",
     "text": [
      "{'activation': 'relu', 'batch_size': 128, 'dropout': 0.1, 'epochs': 10, 'first_neuron': 80, 'hidden_layers': 2, 'hidden_neuron': 80, 'last_activation': 'softmax', 'last_neuron': 10, 'losses': 'categorical_crossentropy', 'optimizer': 'Nadam', 'shapes': 'brick'}\n"
     ]
    },
    {
     "name": "stderr",
     "output_type": "stream",
     "text": [
      "\r",
      "  5%|████▏                                                                           | 2/38 [00:47<13:47, 22.98s/it]"
     ]
    },
    {
     "name": "stdout",
     "output_type": "stream",
     "text": [
      "{'activation': 'relu', 'batch_size': 64, 'dropout': 0.3, 'epochs': 10, 'first_neuron': 80, 'hidden_layers': 2, 'hidden_neuron': 60, 'last_activation': 'softmax', 'last_neuron': 10, 'losses': 'categorical_crossentropy', 'optimizer': 'Adam', 'shapes': 'brick'}\n"
     ]
    },
    {
     "name": "stderr",
     "output_type": "stream",
     "text": [
      "\r",
      "  8%|██████▎                                                                         | 3/38 [01:22<15:29, 26.55s/it]"
     ]
    },
    {
     "name": "stdout",
     "output_type": "stream",
     "text": [
      "{'activation': 'relu', 'batch_size': 32, 'dropout': 0.3, 'epochs': 10, 'first_neuron': 40, 'hidden_layers': 3, 'hidden_neuron': 40, 'last_activation': 'softmax', 'last_neuron': 10, 'losses': 'categorical_crossentropy', 'optimizer': 'Adam', 'shapes': 'brick'}\n"
     ]
    },
    {
     "name": "stderr",
     "output_type": "stream",
     "text": [
      "\r",
      " 11%|████████▍                                                                       | 4/38 [02:10<18:40, 32.96s/it]"
     ]
    },
    {
     "name": "stdout",
     "output_type": "stream",
     "text": [
      "{'activation': 'elu', 'batch_size': 128, 'dropout': 0.1, 'epochs': 10, 'first_neuron': 40, 'hidden_layers': 2, 'hidden_neuron': 40, 'last_activation': 'softmax', 'last_neuron': 10, 'losses': 'categorical_crossentropy', 'optimizer': 'Nadam', 'shapes': 'brick'}\n"
     ]
    },
    {
     "name": "stderr",
     "output_type": "stream",
     "text": [
      "\r",
      " 13%|██████████▌                                                                     | 5/38 [02:29<15:54, 28.92s/it]"
     ]
    },
    {
     "name": "stdout",
     "output_type": "stream",
     "text": [
      "{'activation': 'elu', 'batch_size': 128, 'dropout': 0.2, 'epochs': 10, 'first_neuron': 80, 'hidden_layers': 3, 'hidden_neuron': 40, 'last_activation': 'softmax', 'last_neuron': 10, 'losses': 'categorical_crossentropy', 'optimizer': 'Adam', 'shapes': 'brick'}\n"
     ]
    },
    {
     "name": "stderr",
     "output_type": "stream",
     "text": [
      "\r",
      " 16%|████████████▋                                                                   | 6/38 [02:57<15:15, 28.62s/it]"
     ]
    },
    {
     "name": "stdout",
     "output_type": "stream",
     "text": [
      "{'activation': 'relu', 'batch_size': 64, 'dropout': 0.1, 'epochs': 10, 'first_neuron': 40, 'hidden_layers': 3, 'hidden_neuron': 80, 'last_activation': 'softmax', 'last_neuron': 10, 'losses': 'categorical_crossentropy', 'optimizer': 'Nadam', 'shapes': 'brick'}\n"
     ]
    },
    {
     "name": "stderr",
     "output_type": "stream",
     "text": [
      "\r",
      " 18%|██████████████▋                                                                 | 7/38 [03:32<15:40, 30.33s/it]"
     ]
    },
    {
     "name": "stdout",
     "output_type": "stream",
     "text": [
      "{'activation': 'elu', 'batch_size': 32, 'dropout': 0.3, 'epochs': 10, 'first_neuron': 40, 'hidden_layers': 3, 'hidden_neuron': 40, 'last_activation': 'softmax', 'last_neuron': 10, 'losses': 'categorical_crossentropy', 'optimizer': 'Nadam', 'shapes': 'brick'}\n"
     ]
    },
    {
     "name": "stderr",
     "output_type": "stream",
     "text": [
      "\r",
      " 21%|████████████████▊                                                               | 8/38 [04:23<18:14, 36.49s/it]"
     ]
    },
    {
     "name": "stdout",
     "output_type": "stream",
     "text": [
      "{'activation': 'relu', 'batch_size': 32, 'dropout': 0.3, 'epochs': 10, 'first_neuron': 60, 'hidden_layers': 0, 'hidden_neuron': 80, 'last_activation': 'softmax', 'last_neuron': 10, 'losses': 'categorical_crossentropy', 'optimizer': 'Adam', 'shapes': 'brick'}\n"
     ]
    },
    {
     "name": "stderr",
     "output_type": "stream",
     "text": [
      "\r",
      " 24%|██████████████████▉                                                             | 9/38 [05:03<18:16, 37.81s/it]"
     ]
    },
    {
     "name": "stdout",
     "output_type": "stream",
     "text": [
      "{'activation': 'relu', 'batch_size': 64, 'dropout': 0.1, 'epochs': 10, 'first_neuron': 60, 'hidden_layers': 2, 'hidden_neuron': 40, 'last_activation': 'softmax', 'last_neuron': 10, 'losses': 'categorical_crossentropy', 'optimizer': 'Nadam', 'shapes': 'brick'}\n"
     ]
    },
    {
     "name": "stderr",
     "output_type": "stream",
     "text": [
      "\r",
      " 26%|████████████████████▊                                                          | 10/38 [05:38<17:12, 36.86s/it]"
     ]
    },
    {
     "name": "stdout",
     "output_type": "stream",
     "text": [
      "{'activation': 'relu', 'batch_size': 64, 'dropout': 0.1, 'epochs': 10, 'first_neuron': 60, 'hidden_layers': 0, 'hidden_neuron': 60, 'last_activation': 'softmax', 'last_neuron': 10, 'losses': 'categorical_crossentropy', 'optimizer': 'Adam', 'shapes': 'brick'}\n"
     ]
    },
    {
     "name": "stderr",
     "output_type": "stream",
     "text": [
      "\r",
      " 29%|██████████████████████▊                                                        | 11/38 [06:04<15:04, 33.50s/it]"
     ]
    },
    {
     "name": "stdout",
     "output_type": "stream",
     "text": [
      "{'activation': 'elu', 'batch_size': 32, 'dropout': 0.3, 'epochs': 10, 'first_neuron': 80, 'hidden_layers': 1, 'hidden_neuron': 60, 'last_activation': 'softmax', 'last_neuron': 10, 'losses': 'categorical_crossentropy', 'optimizer': 'Adam', 'shapes': 'brick'}\n"
     ]
    },
    {
     "name": "stderr",
     "output_type": "stream",
     "text": [
      "\r",
      " 32%|████████████████████████▉                                                      | 12/38 [06:58<17:09, 39.61s/it]"
     ]
    },
    {
     "name": "stdout",
     "output_type": "stream",
     "text": [
      "{'activation': 'relu', 'batch_size': 64, 'dropout': 0.1, 'epochs': 10, 'first_neuron': 40, 'hidden_layers': 0, 'hidden_neuron': 80, 'last_activation': 'softmax', 'last_neuron': 10, 'losses': 'categorical_crossentropy', 'optimizer': 'Adam', 'shapes': 'brick'}\n"
     ]
    },
    {
     "name": "stderr",
     "output_type": "stream",
     "text": [
      "\r",
      " 34%|███████████████████████████                                                    | 13/38 [07:21<14:31, 34.85s/it]"
     ]
    },
    {
     "name": "stdout",
     "output_type": "stream",
     "text": [
      "{'activation': 'elu', 'batch_size': 64, 'dropout': 0.2, 'epochs': 10, 'first_neuron': 40, 'hidden_layers': 0, 'hidden_neuron': 80, 'last_activation': 'softmax', 'last_neuron': 10, 'losses': 'categorical_crossentropy', 'optimizer': 'Adam', 'shapes': 'brick'}\n"
     ]
    },
    {
     "name": "stderr",
     "output_type": "stream",
     "text": [
      "\r",
      " 37%|█████████████████████████████                                                  | 14/38 [07:43<12:22, 30.94s/it]"
     ]
    },
    {
     "name": "stdout",
     "output_type": "stream",
     "text": [
      "{'activation': 'elu', 'batch_size': 128, 'dropout': 0.2, 'epochs': 10, 'first_neuron': 60, 'hidden_layers': 2, 'hidden_neuron': 40, 'last_activation': 'softmax', 'last_neuron': 10, 'losses': 'categorical_crossentropy', 'optimizer': 'Nadam', 'shapes': 'brick'}\n"
     ]
    },
    {
     "name": "stderr",
     "output_type": "stream",
     "text": [
      "\r",
      " 39%|███████████████████████████████▏                                               | 15/38 [08:04<10:40, 27.83s/it]"
     ]
    },
    {
     "name": "stdout",
     "output_type": "stream",
     "text": [
      "{'activation': 'elu', 'batch_size': 64, 'dropout': 0.2, 'epochs': 10, 'first_neuron': 80, 'hidden_layers': 3, 'hidden_neuron': 60, 'last_activation': 'softmax', 'last_neuron': 10, 'losses': 'categorical_crossentropy', 'optimizer': 'Adam', 'shapes': 'brick'}\n"
     ]
    },
    {
     "name": "stderr",
     "output_type": "stream",
     "text": [
      "\r",
      " 42%|█████████████████████████████████▎                                             | 16/38 [08:46<11:45, 32.08s/it]"
     ]
    },
    {
     "name": "stdout",
     "output_type": "stream",
     "text": [
      "{'activation': 'relu', 'batch_size': 32, 'dropout': 0.2, 'epochs': 10, 'first_neuron': 60, 'hidden_layers': 1, 'hidden_neuron': 40, 'last_activation': 'softmax', 'last_neuron': 10, 'losses': 'categorical_crossentropy', 'optimizer': 'Adam', 'shapes': 'brick'}\n"
     ]
    },
    {
     "name": "stderr",
     "output_type": "stream",
     "text": [
      "\r",
      " 45%|███████████████████████████████████▎                                           | 17/38 [09:36<13:06, 37.46s/it]"
     ]
    },
    {
     "name": "stdout",
     "output_type": "stream",
     "text": [
      "{'activation': 'relu', 'batch_size': 64, 'dropout': 0.3, 'epochs': 10, 'first_neuron': 40, 'hidden_layers': 2, 'hidden_neuron': 60, 'last_activation': 'softmax', 'last_neuron': 10, 'losses': 'categorical_crossentropy', 'optimizer': 'Adam', 'shapes': 'brick'}\n"
     ]
    },
    {
     "name": "stderr",
     "output_type": "stream",
     "text": [
      "\r",
      " 47%|█████████████████████████████████████▍                                         | 18/38 [10:10<12:06, 36.35s/it]"
     ]
    },
    {
     "name": "stdout",
     "output_type": "stream",
     "text": [
      "{'activation': 'relu', 'batch_size': 128, 'dropout': 0.1, 'epochs': 10, 'first_neuron': 60, 'hidden_layers': 0, 'hidden_neuron': 40, 'last_activation': 'softmax', 'last_neuron': 10, 'losses': 'categorical_crossentropy', 'optimizer': 'Nadam', 'shapes': 'brick'}\n"
     ]
    },
    {
     "name": "stderr",
     "output_type": "stream",
     "text": [
      "\r",
      " 50%|███████████████████████████████████████▌                                       | 19/38 [10:28<09:48, 30.98s/it]"
     ]
    },
    {
     "name": "stdout",
     "output_type": "stream",
     "text": [
      "{'activation': 'relu', 'batch_size': 128, 'dropout': 0.1, 'epochs': 10, 'first_neuron': 80, 'hidden_layers': 0, 'hidden_neuron': 60, 'last_activation': 'softmax', 'last_neuron': 10, 'losses': 'categorical_crossentropy', 'optimizer': 'Adam', 'shapes': 'brick'}\n"
     ]
    },
    {
     "name": "stderr",
     "output_type": "stream",
     "text": [
      "\r",
      " 53%|█████████████████████████████████████████▌                                     | 20/38 [10:47<08:14, 27.46s/it]"
     ]
    },
    {
     "name": "stdout",
     "output_type": "stream",
     "text": [
      "{'activation': 'relu', 'batch_size': 128, 'dropout': 0.1, 'epochs': 10, 'first_neuron': 80, 'hidden_layers': 0, 'hidden_neuron': 80, 'last_activation': 'softmax', 'last_neuron': 10, 'losses': 'categorical_crossentropy', 'optimizer': 'Adam', 'shapes': 'brick'}\n"
     ]
    },
    {
     "name": "stderr",
     "output_type": "stream",
     "text": [
      "\r",
      " 55%|███████████████████████████████████████████▋                                   | 21/38 [11:07<07:06, 25.06s/it]"
     ]
    },
    {
     "name": "stdout",
     "output_type": "stream",
     "text": [
      "{'activation': 'elu', 'batch_size': 32, 'dropout': 0.2, 'epochs': 10, 'first_neuron': 40, 'hidden_layers': 0, 'hidden_neuron': 60, 'last_activation': 'softmax', 'last_neuron': 10, 'losses': 'categorical_crossentropy', 'optimizer': 'Nadam', 'shapes': 'brick'}\n"
     ]
    },
    {
     "name": "stderr",
     "output_type": "stream",
     "text": [
      "\r",
      " 58%|█████████████████████████████████████████████▋                                 | 22/38 [11:43<07:32, 28.29s/it]"
     ]
    },
    {
     "name": "stdout",
     "output_type": "stream",
     "text": [
      "{'activation': 'elu', 'batch_size': 128, 'dropout': 0.1, 'epochs': 10, 'first_neuron': 60, 'hidden_layers': 2, 'hidden_neuron': 80, 'last_activation': 'softmax', 'last_neuron': 10, 'losses': 'categorical_crossentropy', 'optimizer': 'Adam', 'shapes': 'brick'}\n"
     ]
    },
    {
     "name": "stderr",
     "output_type": "stream",
     "text": [
      "\r",
      " 61%|███████████████████████████████████████████████▊                               | 23/38 [12:06<06:40, 26.71s/it]"
     ]
    },
    {
     "name": "stdout",
     "output_type": "stream",
     "text": [
      "{'activation': 'elu', 'batch_size': 32, 'dropout': 0.3, 'epochs': 10, 'first_neuron': 60, 'hidden_layers': 3, 'hidden_neuron': 80, 'last_activation': 'softmax', 'last_neuron': 10, 'losses': 'categorical_crossentropy', 'optimizer': 'Nadam', 'shapes': 'brick'}\n"
     ]
    },
    {
     "name": "stderr",
     "output_type": "stream",
     "text": [
      "\r",
      " 63%|█████████████████████████████████████████████████▉                             | 24/38 [13:07<08:41, 37.23s/it]"
     ]
    },
    {
     "name": "stdout",
     "output_type": "stream",
     "text": [
      "{'activation': 'elu', 'batch_size': 32, 'dropout': 0.3, 'epochs': 10, 'first_neuron': 80, 'hidden_layers': 3, 'hidden_neuron': 60, 'last_activation': 'softmax', 'last_neuron': 10, 'losses': 'categorical_crossentropy', 'optimizer': 'Nadam', 'shapes': 'brick'}\n"
     ]
    },
    {
     "name": "stderr",
     "output_type": "stream",
     "text": [
      "\r",
      " 66%|███████████████████████████████████████████████████▉                           | 25/38 [14:14<09:58, 46.07s/it]"
     ]
    },
    {
     "name": "stdout",
     "output_type": "stream",
     "text": [
      "{'activation': 'relu', 'batch_size': 128, 'dropout': 0.3, 'epochs': 10, 'first_neuron': 80, 'hidden_layers': 0, 'hidden_neuron': 60, 'last_activation': 'softmax', 'last_neuron': 10, 'losses': 'categorical_crossentropy', 'optimizer': 'Nadam', 'shapes': 'brick'}\n"
     ]
    },
    {
     "name": "stderr",
     "output_type": "stream",
     "text": [
      "\r",
      " 68%|██████████████████████████████████████████████████████                         | 26/38 [14:32<07:31, 37.59s/it]"
     ]
    },
    {
     "name": "stdout",
     "output_type": "stream",
     "text": [
      "{'activation': 'relu', 'batch_size': 128, 'dropout': 0.1, 'epochs': 10, 'first_neuron': 80, 'hidden_layers': 2, 'hidden_neuron': 40, 'last_activation': 'softmax', 'last_neuron': 10, 'losses': 'categorical_crossentropy', 'optimizer': 'Adam', 'shapes': 'brick'}\n"
     ]
    },
    {
     "name": "stderr",
     "output_type": "stream",
     "text": [
      "\r",
      " 71%|████████████████████████████████████████████████████████▏                      | 27/38 [14:54<06:03, 33.03s/it]"
     ]
    },
    {
     "name": "stdout",
     "output_type": "stream",
     "text": [
      "{'activation': 'elu', 'batch_size': 64, 'dropout': 0.1, 'epochs': 10, 'first_neuron': 40, 'hidden_layers': 2, 'hidden_neuron': 40, 'last_activation': 'softmax', 'last_neuron': 10, 'losses': 'categorical_crossentropy', 'optimizer': 'Nadam', 'shapes': 'brick'}\n"
     ]
    },
    {
     "name": "stderr",
     "output_type": "stream",
     "text": [
      "\r",
      " 74%|██████████████████████████████████████████████████████████▏                    | 28/38 [15:22<05:13, 31.38s/it]"
     ]
    },
    {
     "name": "stdout",
     "output_type": "stream",
     "text": [
      "{'activation': 'relu', 'batch_size': 128, 'dropout': 0.2, 'epochs': 10, 'first_neuron': 40, 'hidden_layers': 3, 'hidden_neuron': 80, 'last_activation': 'softmax', 'last_neuron': 10, 'losses': 'categorical_crossentropy', 'optimizer': 'Adam', 'shapes': 'brick'}\n"
     ]
    },
    {
     "name": "stderr",
     "output_type": "stream",
     "text": [
      "\r",
      " 76%|████████████████████████████████████████████████████████████▎                  | 29/38 [15:45<04:19, 28.83s/it]"
     ]
    },
    {
     "name": "stdout",
     "output_type": "stream",
     "text": [
      "{'activation': 'elu', 'batch_size': 64, 'dropout': 0.3, 'epochs': 10, 'first_neuron': 40, 'hidden_layers': 0, 'hidden_neuron': 80, 'last_activation': 'softmax', 'last_neuron': 10, 'losses': 'categorical_crossentropy', 'optimizer': 'Adam', 'shapes': 'brick'}\n"
     ]
    },
    {
     "name": "stderr",
     "output_type": "stream",
     "text": [
      "\r",
      " 79%|██████████████████████████████████████████████████████████████▎                | 30/38 [16:06<03:32, 26.61s/it]"
     ]
    },
    {
     "name": "stdout",
     "output_type": "stream",
     "text": [
      "{'activation': 'relu', 'batch_size': 128, 'dropout': 0.3, 'epochs': 10, 'first_neuron': 80, 'hidden_layers': 2, 'hidden_neuron': 40, 'last_activation': 'softmax', 'last_neuron': 10, 'losses': 'categorical_crossentropy', 'optimizer': 'Nadam', 'shapes': 'brick'}\n"
     ]
    },
    {
     "name": "stderr",
     "output_type": "stream",
     "text": [
      "\r",
      " 82%|████████████████████████████████████████████████████████████████▍              | 31/38 [16:27<02:54, 24.89s/it]"
     ]
    },
    {
     "name": "stdout",
     "output_type": "stream",
     "text": [
      "{'activation': 'elu', 'batch_size': 32, 'dropout': 0.1, 'epochs': 10, 'first_neuron': 80, 'hidden_layers': 2, 'hidden_neuron': 80, 'last_activation': 'softmax', 'last_neuron': 10, 'losses': 'categorical_crossentropy', 'optimizer': 'Nadam', 'shapes': 'brick'}\n"
     ]
    },
    {
     "name": "stderr",
     "output_type": "stream",
     "text": [
      "\r",
      " 84%|██████████████████████████████████████████████████████████████████▌            | 32/38 [17:27<03:32, 35.42s/it]"
     ]
    },
    {
     "name": "stdout",
     "output_type": "stream",
     "text": [
      "{'activation': 'elu', 'batch_size': 64, 'dropout': 0.1, 'epochs': 10, 'first_neuron': 80, 'hidden_layers': 0, 'hidden_neuron': 60, 'last_activation': 'softmax', 'last_neuron': 10, 'losses': 'categorical_crossentropy', 'optimizer': 'Adam', 'shapes': 'brick'}\n"
     ]
    },
    {
     "name": "stderr",
     "output_type": "stream",
     "text": [
      "\r",
      " 87%|████████████████████████████████████████████████████████████████████▌          | 33/38 [17:57<02:49, 33.83s/it]"
     ]
    },
    {
     "name": "stdout",
     "output_type": "stream",
     "text": [
      "{'activation': 'elu', 'batch_size': 64, 'dropout': 0.3, 'epochs': 10, 'first_neuron': 60, 'hidden_layers': 2, 'hidden_neuron': 60, 'last_activation': 'softmax', 'last_neuron': 10, 'losses': 'categorical_crossentropy', 'optimizer': 'Adam', 'shapes': 'brick'}\n"
     ]
    },
    {
     "name": "stderr",
     "output_type": "stream",
     "text": [
      "\r",
      " 89%|██████████████████████████████████████████████████████████████████████▋        | 34/38 [18:31<02:15, 33.96s/it]"
     ]
    },
    {
     "name": "stdout",
     "output_type": "stream",
     "text": [
      "{'activation': 'elu', 'batch_size': 128, 'dropout': 0.3, 'epochs': 10, 'first_neuron': 80, 'hidden_layers': 0, 'hidden_neuron': 60, 'last_activation': 'softmax', 'last_neuron': 10, 'losses': 'categorical_crossentropy', 'optimizer': 'Adam', 'shapes': 'brick'}\n"
     ]
    },
    {
     "name": "stderr",
     "output_type": "stream",
     "text": [
      "\r",
      " 92%|████████████████████████████████████████████████████████████████████████▊      | 35/38 [18:50<01:28, 29.44s/it]"
     ]
    },
    {
     "name": "stdout",
     "output_type": "stream",
     "text": [
      "{'activation': 'relu', 'batch_size': 64, 'dropout': 0.2, 'epochs': 10, 'first_neuron': 60, 'hidden_layers': 1, 'hidden_neuron': 40, 'last_activation': 'softmax', 'last_neuron': 10, 'losses': 'categorical_crossentropy', 'optimizer': 'Adam', 'shapes': 'brick'}\n"
     ]
    },
    {
     "name": "stderr",
     "output_type": "stream",
     "text": [
      "\r",
      " 95%|██████████████████████████████████████████████████████████████████████████▊    | 36/38 [19:22<01:00, 30.14s/it]"
     ]
    },
    {
     "name": "stdout",
     "output_type": "stream",
     "text": [
      "{'activation': 'elu', 'batch_size': 32, 'dropout': 0.3, 'epochs': 10, 'first_neuron': 40, 'hidden_layers': 3, 'hidden_neuron': 60, 'last_activation': 'softmax', 'last_neuron': 10, 'losses': 'categorical_crossentropy', 'optimizer': 'Nadam', 'shapes': 'brick'}\n"
     ]
    },
    {
     "name": "stderr",
     "output_type": "stream",
     "text": [
      "\r",
      " 97%|████████████████████████████████████████████████████████████████████████████▉  | 37/38 [20:17<00:37, 37.69s/it]"
     ]
    },
    {
     "name": "stdout",
     "output_type": "stream",
     "text": [
      "{'activation': 'elu', 'batch_size': 128, 'dropout': 0.2, 'epochs': 10, 'first_neuron': 60, 'hidden_layers': 0, 'hidden_neuron': 60, 'last_activation': 'softmax', 'last_neuron': 10, 'losses': 'categorical_crossentropy', 'optimizer': 'Adam', 'shapes': 'brick'}\n"
     ]
    },
    {
     "name": "stderr",
     "output_type": "stream",
     "text": [
      "100%|███████████████████████████████████████████████████████████████████████████████| 38/38 [20:33<00:00, 32.47s/it]\n"
     ]
    }
   ],
   "source": [
    "# se hace la busqueda con la funcion Scan()\n",
    "# se utiliza el conjunto de datos reorganizado con sklearn\n",
    "# la semilla random es 42 porque es la respuesta universal y es la misma en todo el codigo\n",
    "# por defecto Talos hace una busqueda random, en general es mejor aunque puede caer en minimos/maximos locales\n",
    "# la poblacion de busqueda aleatoria es de un 1.0% ~ 3.0% para que el procedimiento sea rapido\n",
    "# para acelerar el proceso se prueba con reduction_method con correlacion y ajustandolo contra la precision de validacion\n",
    "scanPerceptron = talos.Scan(x = X_trainB, y = y_trainB,\n",
    "                            x_val = X_testB, y_val = y_testB,\n",
    "                            model = fashionPerceptron,\n",
    "                            experiment_name = \"fashionPerceptronExp\",\n",
    "                            params = parameters, \n",
    "                            reduction_method = \"correlation\",\n",
    "                            reduction_metric = \"val_acc\",\n",
    "                            fraction_limit = 0.03,\n",
    "                            seed = 42,\n",
    "                            print_params = True)"
   ]
  },
  {
   "cell_type": "markdown",
   "metadata": {},
   "source": [
    "### Accediendo a los resultados del proceso de Optimización"
   ]
  },
  {
   "cell_type": "code",
   "execution_count": 253,
   "metadata": {},
   "outputs": [
    {
     "data": {
      "text/html": [
       "<div>\n",
       "<style scoped>\n",
       "    .dataframe tbody tr th:only-of-type {\n",
       "        vertical-align: middle;\n",
       "    }\n",
       "\n",
       "    .dataframe tbody tr th {\n",
       "        vertical-align: top;\n",
       "    }\n",
       "\n",
       "    .dataframe thead th {\n",
       "        text-align: right;\n",
       "    }\n",
       "</style>\n",
       "<table border=\"1\" class=\"dataframe\">\n",
       "  <thead>\n",
       "    <tr style=\"text-align: right;\">\n",
       "      <th></th>\n",
       "      <th>round_epochs</th>\n",
       "      <th>val_loss</th>\n",
       "      <th>val_acc</th>\n",
       "      <th>loss</th>\n",
       "      <th>acc</th>\n",
       "      <th>activation</th>\n",
       "      <th>batch_size</th>\n",
       "      <th>dropout</th>\n",
       "      <th>epochs</th>\n",
       "      <th>first_neuron</th>\n",
       "      <th>hidden_layers</th>\n",
       "      <th>hidden_neuron</th>\n",
       "      <th>last_activation</th>\n",
       "      <th>last_neuron</th>\n",
       "      <th>losses</th>\n",
       "      <th>optimizer</th>\n",
       "      <th>shapes</th>\n",
       "    </tr>\n",
       "  </thead>\n",
       "  <tbody>\n",
       "    <tr>\n",
       "      <td>0</td>\n",
       "      <td>10</td>\n",
       "      <td>0.352015</td>\n",
       "      <td>0.869143</td>\n",
       "      <td>0.383220</td>\n",
       "      <td>0.855839</td>\n",
       "      <td>elu</td>\n",
       "      <td>64</td>\n",
       "      <td>0.2</td>\n",
       "      <td>10</td>\n",
       "      <td>40</td>\n",
       "      <td>0</td>\n",
       "      <td>80</td>\n",
       "      <td>softmax</td>\n",
       "      <td>10</td>\n",
       "      <td>categorical_crossentropy</td>\n",
       "      <td>Nadam</td>\n",
       "      <td>brick</td>\n",
       "    </tr>\n",
       "    <tr>\n",
       "      <td>1</td>\n",
       "      <td>10</td>\n",
       "      <td>0.361126</td>\n",
       "      <td>0.865429</td>\n",
       "      <td>0.346621</td>\n",
       "      <td>0.868821</td>\n",
       "      <td>relu</td>\n",
       "      <td>128</td>\n",
       "      <td>0.1</td>\n",
       "      <td>10</td>\n",
       "      <td>80</td>\n",
       "      <td>2</td>\n",
       "      <td>80</td>\n",
       "      <td>softmax</td>\n",
       "      <td>10</td>\n",
       "      <td>categorical_crossentropy</td>\n",
       "      <td>Nadam</td>\n",
       "      <td>brick</td>\n",
       "    </tr>\n",
       "    <tr>\n",
       "      <td>2</td>\n",
       "      <td>10</td>\n",
       "      <td>0.382178</td>\n",
       "      <td>0.857571</td>\n",
       "      <td>0.452120</td>\n",
       "      <td>0.837036</td>\n",
       "      <td>relu</td>\n",
       "      <td>64</td>\n",
       "      <td>0.3</td>\n",
       "      <td>10</td>\n",
       "      <td>80</td>\n",
       "      <td>2</td>\n",
       "      <td>60</td>\n",
       "      <td>softmax</td>\n",
       "      <td>10</td>\n",
       "      <td>categorical_crossentropy</td>\n",
       "      <td>Adam</td>\n",
       "      <td>brick</td>\n",
       "    </tr>\n",
       "    <tr>\n",
       "      <td>3</td>\n",
       "      <td>10</td>\n",
       "      <td>0.496475</td>\n",
       "      <td>0.827071</td>\n",
       "      <td>0.654799</td>\n",
       "      <td>0.761250</td>\n",
       "      <td>relu</td>\n",
       "      <td>32</td>\n",
       "      <td>0.3</td>\n",
       "      <td>10</td>\n",
       "      <td>40</td>\n",
       "      <td>3</td>\n",
       "      <td>40</td>\n",
       "      <td>softmax</td>\n",
       "      <td>10</td>\n",
       "      <td>categorical_crossentropy</td>\n",
       "      <td>Adam</td>\n",
       "      <td>brick</td>\n",
       "    </tr>\n",
       "    <tr>\n",
       "      <td>4</td>\n",
       "      <td>10</td>\n",
       "      <td>0.352460</td>\n",
       "      <td>0.865786</td>\n",
       "      <td>0.370819</td>\n",
       "      <td>0.862482</td>\n",
       "      <td>elu</td>\n",
       "      <td>128</td>\n",
       "      <td>0.1</td>\n",
       "      <td>10</td>\n",
       "      <td>40</td>\n",
       "      <td>2</td>\n",
       "      <td>40</td>\n",
       "      <td>softmax</td>\n",
       "      <td>10</td>\n",
       "      <td>categorical_crossentropy</td>\n",
       "      <td>Nadam</td>\n",
       "      <td>brick</td>\n",
       "    </tr>\n",
       "  </tbody>\n",
       "</table>\n",
       "</div>"
      ],
      "text/plain": [
       "   round_epochs  val_loss   val_acc      loss       acc activation  \\\n",
       "0            10  0.352015  0.869143  0.383220  0.855839        elu   \n",
       "1            10  0.361126  0.865429  0.346621  0.868821       relu   \n",
       "2            10  0.382178  0.857571  0.452120  0.837036       relu   \n",
       "3            10  0.496475  0.827071  0.654799  0.761250       relu   \n",
       "4            10  0.352460  0.865786  0.370819  0.862482        elu   \n",
       "\n",
       "   batch_size  dropout  epochs  first_neuron  hidden_layers  hidden_neuron  \\\n",
       "0          64      0.2      10            40              0             80   \n",
       "1         128      0.1      10            80              2             80   \n",
       "2          64      0.3      10            80              2             60   \n",
       "3          32      0.3      10            40              3             40   \n",
       "4         128      0.1      10            40              2             40   \n",
       "\n",
       "  last_activation  last_neuron                    losses optimizer shapes  \n",
       "0         softmax           10  categorical_crossentropy     Nadam  brick  \n",
       "1         softmax           10  categorical_crossentropy     Nadam  brick  \n",
       "2         softmax           10  categorical_crossentropy      Adam  brick  \n",
       "3         softmax           10  categorical_crossentropy      Adam  brick  \n",
       "4         softmax           10  categorical_crossentropy     Nadam  brick  "
      ]
     },
     "execution_count": 253,
     "metadata": {},
     "output_type": "execute_result"
    }
   ],
   "source": [
    "# mirando los resultados de la optimizacion con dataFrame\n",
    "scanPerceptron.data.head()"
   ]
  },
  {
   "cell_type": "code",
   "execution_count": 254,
   "metadata": {},
   "outputs": [
    {
     "data": {
      "text/html": [
       "<div>\n",
       "<style scoped>\n",
       "    .dataframe tbody tr th:only-of-type {\n",
       "        vertical-align: middle;\n",
       "    }\n",
       "\n",
       "    .dataframe tbody tr th {\n",
       "        vertical-align: top;\n",
       "    }\n",
       "\n",
       "    .dataframe thead th {\n",
       "        text-align: right;\n",
       "    }\n",
       "</style>\n",
       "<table border=\"1\" class=\"dataframe\">\n",
       "  <thead>\n",
       "    <tr style=\"text-align: right;\">\n",
       "      <th></th>\n",
       "      <th>loss</th>\n",
       "      <th>acc</th>\n",
       "    </tr>\n",
       "  </thead>\n",
       "  <tbody>\n",
       "    <tr>\n",
       "      <td>0</td>\n",
       "      <td>0.001220</td>\n",
       "      <td>0.000060</td>\n",
       "    </tr>\n",
       "    <tr>\n",
       "      <td>1</td>\n",
       "      <td>0.004627</td>\n",
       "      <td>0.000168</td>\n",
       "    </tr>\n",
       "    <tr>\n",
       "      <td>2</td>\n",
       "      <td>0.006424</td>\n",
       "      <td>0.000693</td>\n",
       "    </tr>\n",
       "    <tr>\n",
       "      <td>3</td>\n",
       "      <td>0.003294</td>\n",
       "      <td>0.001371</td>\n",
       "    </tr>\n",
       "    <tr>\n",
       "      <td>4</td>\n",
       "      <td>0.002260</td>\n",
       "      <td>0.000131</td>\n",
       "    </tr>\n",
       "  </tbody>\n",
       "</table>\n",
       "</div>"
      ],
      "text/plain": [
       "       loss       acc\n",
       "0  0.001220  0.000060\n",
       "1  0.004627  0.000168\n",
       "2  0.006424  0.000693\n",
       "3  0.003294  0.001371\n",
       "4  0.002260  0.000131"
      ]
     },
     "execution_count": 254,
     "metadata": {},
     "output_type": "execute_result"
    }
   ],
   "source": [
    "# mirando la entropia de cada ronda de experimentos\n",
    "scanPerceptron.learning_entropy.head()"
   ]
  },
  {
   "cell_type": "code",
   "execution_count": 255,
   "metadata": {},
   "outputs": [
    {
     "data": {
      "text/plain": [
       "round_epochs         int64\n",
       "val_loss           float64\n",
       "val_acc            float64\n",
       "loss               float64\n",
       "acc                float64\n",
       "activation          object\n",
       "batch_size           int64\n",
       "dropout            float64\n",
       "epochs               int64\n",
       "first_neuron         int64\n",
       "hidden_layers        int64\n",
       "hidden_neuron        int64\n",
       "last_activation     object\n",
       "last_neuron          int64\n",
       "losses              object\n",
       "optimizer           object\n",
       "shapes              object\n",
       "dtype: object"
      ]
     },
     "execution_count": 255,
     "metadata": {},
     "output_type": "execute_result"
    }
   ],
   "source": [
    "# tipos de datos dentro del set de resultados\n",
    "scanPerceptron.data.dtypes"
   ]
  },
  {
   "cell_type": "code",
   "execution_count": 256,
   "metadata": {},
   "outputs": [
    {
     "data": {
      "text/plain": [
       "experiment_name        fashionPerceptronExp\n",
       "random_method              uniform_mersenne\n",
       "reduction_method                correlation\n",
       "reduction_interval                       50\n",
       "reduction_window                         20\n",
       "reduction_threshold                     0.2\n",
       "reduction_metric                    val_acc\n",
       "complete_time                12/01/19/20:52\n",
       "x_shape                                list\n",
       "y_shape                                list\n",
       "dtype: object"
      ]
     },
     "execution_count": 256,
     "metadata": {},
     "output_type": "execute_result"
    }
   ],
   "source": [
    "# # ver los modelos que se probaron en el proceso de optimizavion\n",
    "# scanPerceptron.saved_models\n",
    "    \n",
    "# # ver los pesos de los modelos probados en el proceso de optimizacion\n",
    "# scanPerceptron.saved_weights\n",
    "\n",
    "# resumen del proceso de optimizacion realizado\n",
    "scanPerceptron.details"
   ]
  },
  {
   "cell_type": "markdown",
   "metadata": {},
   "source": [
    "### Analizando los resultados del proceso de Optimización\n",
    "Se hacen diferentes graficas para tener perspectivas diferentes en el análisis de los resultados de la búsqueda con Talos."
   ]
  },
  {
   "cell_type": "code",
   "execution_count": 257,
   "metadata": {},
   "outputs": [],
   "source": [
    "# para el analisis se utiliza el reporte creado por Talos como entrada de Analyze\n",
    "analyzePerceptron = talos.Analyze(scanPerceptron)"
   ]
  },
  {
   "cell_type": "code",
   "execution_count": 258,
   "metadata": {},
   "outputs": [
    {
     "data": {
      "text/html": [
       "<div>\n",
       "<style scoped>\n",
       "    .dataframe tbody tr th:only-of-type {\n",
       "        vertical-align: middle;\n",
       "    }\n",
       "\n",
       "    .dataframe tbody tr th {\n",
       "        vertical-align: top;\n",
       "    }\n",
       "\n",
       "    .dataframe thead th {\n",
       "        text-align: right;\n",
       "    }\n",
       "</style>\n",
       "<table border=\"1\" class=\"dataframe\">\n",
       "  <thead>\n",
       "    <tr style=\"text-align: right;\">\n",
       "      <th></th>\n",
       "      <th>round_epochs</th>\n",
       "      <th>val_loss</th>\n",
       "      <th>val_acc</th>\n",
       "      <th>loss</th>\n",
       "      <th>acc</th>\n",
       "      <th>activation</th>\n",
       "      <th>batch_size</th>\n",
       "      <th>dropout</th>\n",
       "      <th>epochs</th>\n",
       "      <th>first_neuron</th>\n",
       "      <th>hidden_layers</th>\n",
       "      <th>hidden_neuron</th>\n",
       "      <th>last_activation</th>\n",
       "      <th>last_neuron</th>\n",
       "      <th>losses</th>\n",
       "      <th>optimizer</th>\n",
       "      <th>shapes</th>\n",
       "    </tr>\n",
       "  </thead>\n",
       "  <tbody>\n",
       "    <tr>\n",
       "      <td>0</td>\n",
       "      <td>10</td>\n",
       "      <td>0.352015</td>\n",
       "      <td>0.869143</td>\n",
       "      <td>0.383220</td>\n",
       "      <td>0.855839</td>\n",
       "      <td>elu</td>\n",
       "      <td>64</td>\n",
       "      <td>0.2</td>\n",
       "      <td>10</td>\n",
       "      <td>40</td>\n",
       "      <td>0</td>\n",
       "      <td>80</td>\n",
       "      <td>softmax</td>\n",
       "      <td>10</td>\n",
       "      <td>categorical_crossentropy</td>\n",
       "      <td>Nadam</td>\n",
       "      <td>brick</td>\n",
       "    </tr>\n",
       "    <tr>\n",
       "      <td>1</td>\n",
       "      <td>10</td>\n",
       "      <td>0.361126</td>\n",
       "      <td>0.865429</td>\n",
       "      <td>0.346621</td>\n",
       "      <td>0.868821</td>\n",
       "      <td>relu</td>\n",
       "      <td>128</td>\n",
       "      <td>0.1</td>\n",
       "      <td>10</td>\n",
       "      <td>80</td>\n",
       "      <td>2</td>\n",
       "      <td>80</td>\n",
       "      <td>softmax</td>\n",
       "      <td>10</td>\n",
       "      <td>categorical_crossentropy</td>\n",
       "      <td>Nadam</td>\n",
       "      <td>brick</td>\n",
       "    </tr>\n",
       "    <tr>\n",
       "      <td>2</td>\n",
       "      <td>10</td>\n",
       "      <td>0.382178</td>\n",
       "      <td>0.857571</td>\n",
       "      <td>0.452120</td>\n",
       "      <td>0.837036</td>\n",
       "      <td>relu</td>\n",
       "      <td>64</td>\n",
       "      <td>0.3</td>\n",
       "      <td>10</td>\n",
       "      <td>80</td>\n",
       "      <td>2</td>\n",
       "      <td>60</td>\n",
       "      <td>softmax</td>\n",
       "      <td>10</td>\n",
       "      <td>categorical_crossentropy</td>\n",
       "      <td>Adam</td>\n",
       "      <td>brick</td>\n",
       "    </tr>\n",
       "    <tr>\n",
       "      <td>3</td>\n",
       "      <td>10</td>\n",
       "      <td>0.496475</td>\n",
       "      <td>0.827071</td>\n",
       "      <td>0.654799</td>\n",
       "      <td>0.761250</td>\n",
       "      <td>relu</td>\n",
       "      <td>32</td>\n",
       "      <td>0.3</td>\n",
       "      <td>10</td>\n",
       "      <td>40</td>\n",
       "      <td>3</td>\n",
       "      <td>40</td>\n",
       "      <td>softmax</td>\n",
       "      <td>10</td>\n",
       "      <td>categorical_crossentropy</td>\n",
       "      <td>Adam</td>\n",
       "      <td>brick</td>\n",
       "    </tr>\n",
       "    <tr>\n",
       "      <td>4</td>\n",
       "      <td>10</td>\n",
       "      <td>0.352460</td>\n",
       "      <td>0.865786</td>\n",
       "      <td>0.370819</td>\n",
       "      <td>0.862482</td>\n",
       "      <td>elu</td>\n",
       "      <td>128</td>\n",
       "      <td>0.1</td>\n",
       "      <td>10</td>\n",
       "      <td>40</td>\n",
       "      <td>2</td>\n",
       "      <td>40</td>\n",
       "      <td>softmax</td>\n",
       "      <td>10</td>\n",
       "      <td>categorical_crossentropy</td>\n",
       "      <td>Nadam</td>\n",
       "      <td>brick</td>\n",
       "    </tr>\n",
       "    <tr>\n",
       "      <td>5</td>\n",
       "      <td>10</td>\n",
       "      <td>0.376184</td>\n",
       "      <td>0.858857</td>\n",
       "      <td>0.426917</td>\n",
       "      <td>0.844554</td>\n",
       "      <td>elu</td>\n",
       "      <td>128</td>\n",
       "      <td>0.2</td>\n",
       "      <td>10</td>\n",
       "      <td>80</td>\n",
       "      <td>3</td>\n",
       "      <td>40</td>\n",
       "      <td>softmax</td>\n",
       "      <td>10</td>\n",
       "      <td>categorical_crossentropy</td>\n",
       "      <td>Adam</td>\n",
       "      <td>brick</td>\n",
       "    </tr>\n",
       "    <tr>\n",
       "      <td>6</td>\n",
       "      <td>10</td>\n",
       "      <td>0.361381</td>\n",
       "      <td>0.862143</td>\n",
       "      <td>0.394046</td>\n",
       "      <td>0.853518</td>\n",
       "      <td>relu</td>\n",
       "      <td>64</td>\n",
       "      <td>0.1</td>\n",
       "      <td>10</td>\n",
       "      <td>40</td>\n",
       "      <td>3</td>\n",
       "      <td>80</td>\n",
       "      <td>softmax</td>\n",
       "      <td>10</td>\n",
       "      <td>categorical_crossentropy</td>\n",
       "      <td>Nadam</td>\n",
       "      <td>brick</td>\n",
       "    </tr>\n",
       "    <tr>\n",
       "      <td>7</td>\n",
       "      <td>10</td>\n",
       "      <td>0.425119</td>\n",
       "      <td>0.845000</td>\n",
       "      <td>0.502569</td>\n",
       "      <td>0.826232</td>\n",
       "      <td>elu</td>\n",
       "      <td>32</td>\n",
       "      <td>0.3</td>\n",
       "      <td>10</td>\n",
       "      <td>40</td>\n",
       "      <td>3</td>\n",
       "      <td>40</td>\n",
       "      <td>softmax</td>\n",
       "      <td>10</td>\n",
       "      <td>categorical_crossentropy</td>\n",
       "      <td>Nadam</td>\n",
       "      <td>brick</td>\n",
       "    </tr>\n",
       "    <tr>\n",
       "      <td>8</td>\n",
       "      <td>10</td>\n",
       "      <td>0.364421</td>\n",
       "      <td>0.864571</td>\n",
       "      <td>0.412665</td>\n",
       "      <td>0.847071</td>\n",
       "      <td>relu</td>\n",
       "      <td>32</td>\n",
       "      <td>0.3</td>\n",
       "      <td>10</td>\n",
       "      <td>60</td>\n",
       "      <td>0</td>\n",
       "      <td>80</td>\n",
       "      <td>softmax</td>\n",
       "      <td>10</td>\n",
       "      <td>categorical_crossentropy</td>\n",
       "      <td>Adam</td>\n",
       "      <td>brick</td>\n",
       "    </tr>\n",
       "    <tr>\n",
       "      <td>9</td>\n",
       "      <td>10</td>\n",
       "      <td>0.354680</td>\n",
       "      <td>0.865857</td>\n",
       "      <td>0.378511</td>\n",
       "      <td>0.859018</td>\n",
       "      <td>relu</td>\n",
       "      <td>64</td>\n",
       "      <td>0.1</td>\n",
       "      <td>10</td>\n",
       "      <td>60</td>\n",
       "      <td>2</td>\n",
       "      <td>40</td>\n",
       "      <td>softmax</td>\n",
       "      <td>10</td>\n",
       "      <td>categorical_crossentropy</td>\n",
       "      <td>Nadam</td>\n",
       "      <td>brick</td>\n",
       "    </tr>\n",
       "    <tr>\n",
       "      <td>10</td>\n",
       "      <td>10</td>\n",
       "      <td>0.342106</td>\n",
       "      <td>0.868857</td>\n",
       "      <td>0.354397</td>\n",
       "      <td>0.867125</td>\n",
       "      <td>relu</td>\n",
       "      <td>64</td>\n",
       "      <td>0.1</td>\n",
       "      <td>10</td>\n",
       "      <td>60</td>\n",
       "      <td>0</td>\n",
       "      <td>60</td>\n",
       "      <td>softmax</td>\n",
       "      <td>10</td>\n",
       "      <td>categorical_crossentropy</td>\n",
       "      <td>Adam</td>\n",
       "      <td>brick</td>\n",
       "    </tr>\n",
       "    <tr>\n",
       "      <td>11</td>\n",
       "      <td>10</td>\n",
       "      <td>0.359002</td>\n",
       "      <td>0.861214</td>\n",
       "      <td>0.404622</td>\n",
       "      <td>0.848304</td>\n",
       "      <td>elu</td>\n",
       "      <td>32</td>\n",
       "      <td>0.3</td>\n",
       "      <td>10</td>\n",
       "      <td>80</td>\n",
       "      <td>1</td>\n",
       "      <td>60</td>\n",
       "      <td>softmax</td>\n",
       "      <td>10</td>\n",
       "      <td>categorical_crossentropy</td>\n",
       "      <td>Adam</td>\n",
       "      <td>brick</td>\n",
       "    </tr>\n",
       "    <tr>\n",
       "      <td>12</td>\n",
       "      <td>10</td>\n",
       "      <td>0.353429</td>\n",
       "      <td>0.868500</td>\n",
       "      <td>0.371276</td>\n",
       "      <td>0.860536</td>\n",
       "      <td>relu</td>\n",
       "      <td>64</td>\n",
       "      <td>0.1</td>\n",
       "      <td>10</td>\n",
       "      <td>40</td>\n",
       "      <td>0</td>\n",
       "      <td>80</td>\n",
       "      <td>softmax</td>\n",
       "      <td>10</td>\n",
       "      <td>categorical_crossentropy</td>\n",
       "      <td>Adam</td>\n",
       "      <td>brick</td>\n",
       "    </tr>\n",
       "    <tr>\n",
       "      <td>13</td>\n",
       "      <td>10</td>\n",
       "      <td>0.371261</td>\n",
       "      <td>0.860143</td>\n",
       "      <td>0.396274</td>\n",
       "      <td>0.850232</td>\n",
       "      <td>elu</td>\n",
       "      <td>64</td>\n",
       "      <td>0.2</td>\n",
       "      <td>10</td>\n",
       "      <td>40</td>\n",
       "      <td>0</td>\n",
       "      <td>80</td>\n",
       "      <td>softmax</td>\n",
       "      <td>10</td>\n",
       "      <td>categorical_crossentropy</td>\n",
       "      <td>Adam</td>\n",
       "      <td>brick</td>\n",
       "    </tr>\n",
       "    <tr>\n",
       "      <td>14</td>\n",
       "      <td>10</td>\n",
       "      <td>0.356819</td>\n",
       "      <td>0.866357</td>\n",
       "      <td>0.403168</td>\n",
       "      <td>0.850500</td>\n",
       "      <td>elu</td>\n",
       "      <td>128</td>\n",
       "      <td>0.2</td>\n",
       "      <td>10</td>\n",
       "      <td>60</td>\n",
       "      <td>2</td>\n",
       "      <td>40</td>\n",
       "      <td>softmax</td>\n",
       "      <td>10</td>\n",
       "      <td>categorical_crossentropy</td>\n",
       "      <td>Nadam</td>\n",
       "      <td>brick</td>\n",
       "    </tr>\n",
       "    <tr>\n",
       "      <td>15</td>\n",
       "      <td>10</td>\n",
       "      <td>0.386838</td>\n",
       "      <td>0.852429</td>\n",
       "      <td>0.403837</td>\n",
       "      <td>0.849375</td>\n",
       "      <td>elu</td>\n",
       "      <td>64</td>\n",
       "      <td>0.2</td>\n",
       "      <td>10</td>\n",
       "      <td>80</td>\n",
       "      <td>3</td>\n",
       "      <td>60</td>\n",
       "      <td>softmax</td>\n",
       "      <td>10</td>\n",
       "      <td>categorical_crossentropy</td>\n",
       "      <td>Adam</td>\n",
       "      <td>brick</td>\n",
       "    </tr>\n",
       "    <tr>\n",
       "      <td>16</td>\n",
       "      <td>10</td>\n",
       "      <td>0.385215</td>\n",
       "      <td>0.855571</td>\n",
       "      <td>0.419966</td>\n",
       "      <td>0.844536</td>\n",
       "      <td>relu</td>\n",
       "      <td>32</td>\n",
       "      <td>0.2</td>\n",
       "      <td>10</td>\n",
       "      <td>60</td>\n",
       "      <td>1</td>\n",
       "      <td>40</td>\n",
       "      <td>softmax</td>\n",
       "      <td>10</td>\n",
       "      <td>categorical_crossentropy</td>\n",
       "      <td>Adam</td>\n",
       "      <td>brick</td>\n",
       "    </tr>\n",
       "    <tr>\n",
       "      <td>17</td>\n",
       "      <td>10</td>\n",
       "      <td>0.396337</td>\n",
       "      <td>0.849643</td>\n",
       "      <td>0.488214</td>\n",
       "      <td>0.822482</td>\n",
       "      <td>relu</td>\n",
       "      <td>64</td>\n",
       "      <td>0.3</td>\n",
       "      <td>10</td>\n",
       "      <td>40</td>\n",
       "      <td>2</td>\n",
       "      <td>60</td>\n",
       "      <td>softmax</td>\n",
       "      <td>10</td>\n",
       "      <td>categorical_crossentropy</td>\n",
       "      <td>Adam</td>\n",
       "      <td>brick</td>\n",
       "    </tr>\n",
       "    <tr>\n",
       "      <td>18</td>\n",
       "      <td>10</td>\n",
       "      <td>0.350661</td>\n",
       "      <td>0.869286</td>\n",
       "      <td>0.345408</td>\n",
       "      <td>0.869893</td>\n",
       "      <td>relu</td>\n",
       "      <td>128</td>\n",
       "      <td>0.1</td>\n",
       "      <td>10</td>\n",
       "      <td>60</td>\n",
       "      <td>0</td>\n",
       "      <td>40</td>\n",
       "      <td>softmax</td>\n",
       "      <td>10</td>\n",
       "      <td>categorical_crossentropy</td>\n",
       "      <td>Nadam</td>\n",
       "      <td>brick</td>\n",
       "    </tr>\n",
       "    <tr>\n",
       "      <td>19</td>\n",
       "      <td>10</td>\n",
       "      <td>0.344747</td>\n",
       "      <td>0.872143</td>\n",
       "      <td>0.349293</td>\n",
       "      <td>0.868446</td>\n",
       "      <td>relu</td>\n",
       "      <td>128</td>\n",
       "      <td>0.1</td>\n",
       "      <td>10</td>\n",
       "      <td>80</td>\n",
       "      <td>0</td>\n",
       "      <td>60</td>\n",
       "      <td>softmax</td>\n",
       "      <td>10</td>\n",
       "      <td>categorical_crossentropy</td>\n",
       "      <td>Adam</td>\n",
       "      <td>brick</td>\n",
       "    </tr>\n",
       "    <tr>\n",
       "      <td>20</td>\n",
       "      <td>10</td>\n",
       "      <td>0.346004</td>\n",
       "      <td>0.871071</td>\n",
       "      <td>0.355655</td>\n",
       "      <td>0.866714</td>\n",
       "      <td>relu</td>\n",
       "      <td>128</td>\n",
       "      <td>0.1</td>\n",
       "      <td>10</td>\n",
       "      <td>80</td>\n",
       "      <td>0</td>\n",
       "      <td>80</td>\n",
       "      <td>softmax</td>\n",
       "      <td>10</td>\n",
       "      <td>categorical_crossentropy</td>\n",
       "      <td>Adam</td>\n",
       "      <td>brick</td>\n",
       "    </tr>\n",
       "    <tr>\n",
       "      <td>21</td>\n",
       "      <td>10</td>\n",
       "      <td>0.356388</td>\n",
       "      <td>0.867000</td>\n",
       "      <td>0.385035</td>\n",
       "      <td>0.856054</td>\n",
       "      <td>elu</td>\n",
       "      <td>32</td>\n",
       "      <td>0.2</td>\n",
       "      <td>10</td>\n",
       "      <td>40</td>\n",
       "      <td>0</td>\n",
       "      <td>60</td>\n",
       "      <td>softmax</td>\n",
       "      <td>10</td>\n",
       "      <td>categorical_crossentropy</td>\n",
       "      <td>Nadam</td>\n",
       "      <td>brick</td>\n",
       "    </tr>\n",
       "    <tr>\n",
       "      <td>22</td>\n",
       "      <td>10</td>\n",
       "      <td>0.345811</td>\n",
       "      <td>0.868429</td>\n",
       "      <td>0.366784</td>\n",
       "      <td>0.861446</td>\n",
       "      <td>elu</td>\n",
       "      <td>128</td>\n",
       "      <td>0.1</td>\n",
       "      <td>10</td>\n",
       "      <td>60</td>\n",
       "      <td>2</td>\n",
       "      <td>80</td>\n",
       "      <td>softmax</td>\n",
       "      <td>10</td>\n",
       "      <td>categorical_crossentropy</td>\n",
       "      <td>Adam</td>\n",
       "      <td>brick</td>\n",
       "    </tr>\n",
       "    <tr>\n",
       "      <td>23</td>\n",
       "      <td>10</td>\n",
       "      <td>0.390947</td>\n",
       "      <td>0.852286</td>\n",
       "      <td>0.471169</td>\n",
       "      <td>0.831732</td>\n",
       "      <td>elu</td>\n",
       "      <td>32</td>\n",
       "      <td>0.3</td>\n",
       "      <td>10</td>\n",
       "      <td>60</td>\n",
       "      <td>3</td>\n",
       "      <td>80</td>\n",
       "      <td>softmax</td>\n",
       "      <td>10</td>\n",
       "      <td>categorical_crossentropy</td>\n",
       "      <td>Nadam</td>\n",
       "      <td>brick</td>\n",
       "    </tr>\n",
       "    <tr>\n",
       "      <td>24</td>\n",
       "      <td>10</td>\n",
       "      <td>0.381028</td>\n",
       "      <td>0.862143</td>\n",
       "      <td>0.459859</td>\n",
       "      <td>0.837107</td>\n",
       "      <td>elu</td>\n",
       "      <td>32</td>\n",
       "      <td>0.3</td>\n",
       "      <td>10</td>\n",
       "      <td>80</td>\n",
       "      <td>3</td>\n",
       "      <td>60</td>\n",
       "      <td>softmax</td>\n",
       "      <td>10</td>\n",
       "      <td>categorical_crossentropy</td>\n",
       "      <td>Nadam</td>\n",
       "      <td>brick</td>\n",
       "    </tr>\n",
       "    <tr>\n",
       "      <td>25</td>\n",
       "      <td>10</td>\n",
       "      <td>0.350488</td>\n",
       "      <td>0.864000</td>\n",
       "      <td>0.377556</td>\n",
       "      <td>0.857500</td>\n",
       "      <td>relu</td>\n",
       "      <td>128</td>\n",
       "      <td>0.3</td>\n",
       "      <td>10</td>\n",
       "      <td>80</td>\n",
       "      <td>0</td>\n",
       "      <td>60</td>\n",
       "      <td>softmax</td>\n",
       "      <td>10</td>\n",
       "      <td>categorical_crossentropy</td>\n",
       "      <td>Nadam</td>\n",
       "      <td>brick</td>\n",
       "    </tr>\n",
       "    <tr>\n",
       "      <td>26</td>\n",
       "      <td>10</td>\n",
       "      <td>0.349915</td>\n",
       "      <td>0.863786</td>\n",
       "      <td>0.377693</td>\n",
       "      <td>0.859071</td>\n",
       "      <td>relu</td>\n",
       "      <td>128</td>\n",
       "      <td>0.1</td>\n",
       "      <td>10</td>\n",
       "      <td>80</td>\n",
       "      <td>2</td>\n",
       "      <td>40</td>\n",
       "      <td>softmax</td>\n",
       "      <td>10</td>\n",
       "      <td>categorical_crossentropy</td>\n",
       "      <td>Adam</td>\n",
       "      <td>brick</td>\n",
       "    </tr>\n",
       "    <tr>\n",
       "      <td>27</td>\n",
       "      <td>10</td>\n",
       "      <td>0.353232</td>\n",
       "      <td>0.868286</td>\n",
       "      <td>0.367719</td>\n",
       "      <td>0.862482</td>\n",
       "      <td>elu</td>\n",
       "      <td>64</td>\n",
       "      <td>0.1</td>\n",
       "      <td>10</td>\n",
       "      <td>40</td>\n",
       "      <td>2</td>\n",
       "      <td>40</td>\n",
       "      <td>softmax</td>\n",
       "      <td>10</td>\n",
       "      <td>categorical_crossentropy</td>\n",
       "      <td>Nadam</td>\n",
       "      <td>brick</td>\n",
       "    </tr>\n",
       "    <tr>\n",
       "      <td>28</td>\n",
       "      <td>10</td>\n",
       "      <td>0.381062</td>\n",
       "      <td>0.859786</td>\n",
       "      <td>0.440409</td>\n",
       "      <td>0.839286</td>\n",
       "      <td>relu</td>\n",
       "      <td>128</td>\n",
       "      <td>0.2</td>\n",
       "      <td>10</td>\n",
       "      <td>40</td>\n",
       "      <td>3</td>\n",
       "      <td>80</td>\n",
       "      <td>softmax</td>\n",
       "      <td>10</td>\n",
       "      <td>categorical_crossentropy</td>\n",
       "      <td>Adam</td>\n",
       "      <td>brick</td>\n",
       "    </tr>\n",
       "    <tr>\n",
       "      <td>29</td>\n",
       "      <td>10</td>\n",
       "      <td>0.381167</td>\n",
       "      <td>0.860571</td>\n",
       "      <td>0.418301</td>\n",
       "      <td>0.843232</td>\n",
       "      <td>elu</td>\n",
       "      <td>64</td>\n",
       "      <td>0.3</td>\n",
       "      <td>10</td>\n",
       "      <td>40</td>\n",
       "      <td>0</td>\n",
       "      <td>80</td>\n",
       "      <td>softmax</td>\n",
       "      <td>10</td>\n",
       "      <td>categorical_crossentropy</td>\n",
       "      <td>Adam</td>\n",
       "      <td>brick</td>\n",
       "    </tr>\n",
       "    <tr>\n",
       "      <td>30</td>\n",
       "      <td>10</td>\n",
       "      <td>0.400458</td>\n",
       "      <td>0.850571</td>\n",
       "      <td>0.470882</td>\n",
       "      <td>0.831089</td>\n",
       "      <td>relu</td>\n",
       "      <td>128</td>\n",
       "      <td>0.3</td>\n",
       "      <td>10</td>\n",
       "      <td>80</td>\n",
       "      <td>2</td>\n",
       "      <td>40</td>\n",
       "      <td>softmax</td>\n",
       "      <td>10</td>\n",
       "      <td>categorical_crossentropy</td>\n",
       "      <td>Nadam</td>\n",
       "      <td>brick</td>\n",
       "    </tr>\n",
       "    <tr>\n",
       "      <td>31</td>\n",
       "      <td>10</td>\n",
       "      <td>0.348261</td>\n",
       "      <td>0.873214</td>\n",
       "      <td>0.362819</td>\n",
       "      <td>0.862946</td>\n",
       "      <td>elu</td>\n",
       "      <td>32</td>\n",
       "      <td>0.1</td>\n",
       "      <td>10</td>\n",
       "      <td>80</td>\n",
       "      <td>2</td>\n",
       "      <td>80</td>\n",
       "      <td>softmax</td>\n",
       "      <td>10</td>\n",
       "      <td>categorical_crossentropy</td>\n",
       "      <td>Nadam</td>\n",
       "      <td>brick</td>\n",
       "    </tr>\n",
       "    <tr>\n",
       "      <td>32</td>\n",
       "      <td>10</td>\n",
       "      <td>0.351430</td>\n",
       "      <td>0.867929</td>\n",
       "      <td>0.355472</td>\n",
       "      <td>0.864714</td>\n",
       "      <td>elu</td>\n",
       "      <td>64</td>\n",
       "      <td>0.1</td>\n",
       "      <td>10</td>\n",
       "      <td>80</td>\n",
       "      <td>0</td>\n",
       "      <td>60</td>\n",
       "      <td>softmax</td>\n",
       "      <td>10</td>\n",
       "      <td>categorical_crossentropy</td>\n",
       "      <td>Adam</td>\n",
       "      <td>brick</td>\n",
       "    </tr>\n",
       "    <tr>\n",
       "      <td>33</td>\n",
       "      <td>10</td>\n",
       "      <td>0.393004</td>\n",
       "      <td>0.851357</td>\n",
       "      <td>0.439882</td>\n",
       "      <td>0.837696</td>\n",
       "      <td>elu</td>\n",
       "      <td>64</td>\n",
       "      <td>0.3</td>\n",
       "      <td>10</td>\n",
       "      <td>60</td>\n",
       "      <td>2</td>\n",
       "      <td>60</td>\n",
       "      <td>softmax</td>\n",
       "      <td>10</td>\n",
       "      <td>categorical_crossentropy</td>\n",
       "      <td>Adam</td>\n",
       "      <td>brick</td>\n",
       "    </tr>\n",
       "    <tr>\n",
       "      <td>34</td>\n",
       "      <td>10</td>\n",
       "      <td>0.374622</td>\n",
       "      <td>0.859143</td>\n",
       "      <td>0.402115</td>\n",
       "      <td>0.850268</td>\n",
       "      <td>elu</td>\n",
       "      <td>128</td>\n",
       "      <td>0.3</td>\n",
       "      <td>10</td>\n",
       "      <td>80</td>\n",
       "      <td>0</td>\n",
       "      <td>60</td>\n",
       "      <td>softmax</td>\n",
       "      <td>10</td>\n",
       "      <td>categorical_crossentropy</td>\n",
       "      <td>Adam</td>\n",
       "      <td>brick</td>\n",
       "    </tr>\n",
       "    <tr>\n",
       "      <td>35</td>\n",
       "      <td>10</td>\n",
       "      <td>0.368818</td>\n",
       "      <td>0.862000</td>\n",
       "      <td>0.412699</td>\n",
       "      <td>0.846143</td>\n",
       "      <td>relu</td>\n",
       "      <td>64</td>\n",
       "      <td>0.2</td>\n",
       "      <td>10</td>\n",
       "      <td>60</td>\n",
       "      <td>1</td>\n",
       "      <td>40</td>\n",
       "      <td>softmax</td>\n",
       "      <td>10</td>\n",
       "      <td>categorical_crossentropy</td>\n",
       "      <td>Adam</td>\n",
       "      <td>brick</td>\n",
       "    </tr>\n",
       "    <tr>\n",
       "      <td>36</td>\n",
       "      <td>10</td>\n",
       "      <td>0.404430</td>\n",
       "      <td>0.855286</td>\n",
       "      <td>0.481565</td>\n",
       "      <td>0.828339</td>\n",
       "      <td>elu</td>\n",
       "      <td>32</td>\n",
       "      <td>0.3</td>\n",
       "      <td>10</td>\n",
       "      <td>40</td>\n",
       "      <td>3</td>\n",
       "      <td>60</td>\n",
       "      <td>softmax</td>\n",
       "      <td>10</td>\n",
       "      <td>categorical_crossentropy</td>\n",
       "      <td>Nadam</td>\n",
       "      <td>brick</td>\n",
       "    </tr>\n",
       "    <tr>\n",
       "      <td>37</td>\n",
       "      <td>10</td>\n",
       "      <td>0.370690</td>\n",
       "      <td>0.864643</td>\n",
       "      <td>0.396677</td>\n",
       "      <td>0.852161</td>\n",
       "      <td>elu</td>\n",
       "      <td>128</td>\n",
       "      <td>0.2</td>\n",
       "      <td>10</td>\n",
       "      <td>60</td>\n",
       "      <td>0</td>\n",
       "      <td>60</td>\n",
       "      <td>softmax</td>\n",
       "      <td>10</td>\n",
       "      <td>categorical_crossentropy</td>\n",
       "      <td>Adam</td>\n",
       "      <td>brick</td>\n",
       "    </tr>\n",
       "  </tbody>\n",
       "</table>\n",
       "</div>"
      ],
      "text/plain": [
       "    round_epochs  val_loss   val_acc      loss       acc activation  \\\n",
       "0             10  0.352015  0.869143  0.383220  0.855839        elu   \n",
       "1             10  0.361126  0.865429  0.346621  0.868821       relu   \n",
       "2             10  0.382178  0.857571  0.452120  0.837036       relu   \n",
       "3             10  0.496475  0.827071  0.654799  0.761250       relu   \n",
       "4             10  0.352460  0.865786  0.370819  0.862482        elu   \n",
       "5             10  0.376184  0.858857  0.426917  0.844554        elu   \n",
       "6             10  0.361381  0.862143  0.394046  0.853518       relu   \n",
       "7             10  0.425119  0.845000  0.502569  0.826232        elu   \n",
       "8             10  0.364421  0.864571  0.412665  0.847071       relu   \n",
       "9             10  0.354680  0.865857  0.378511  0.859018       relu   \n",
       "10            10  0.342106  0.868857  0.354397  0.867125       relu   \n",
       "11            10  0.359002  0.861214  0.404622  0.848304        elu   \n",
       "12            10  0.353429  0.868500  0.371276  0.860536       relu   \n",
       "13            10  0.371261  0.860143  0.396274  0.850232        elu   \n",
       "14            10  0.356819  0.866357  0.403168  0.850500        elu   \n",
       "15            10  0.386838  0.852429  0.403837  0.849375        elu   \n",
       "16            10  0.385215  0.855571  0.419966  0.844536       relu   \n",
       "17            10  0.396337  0.849643  0.488214  0.822482       relu   \n",
       "18            10  0.350661  0.869286  0.345408  0.869893       relu   \n",
       "19            10  0.344747  0.872143  0.349293  0.868446       relu   \n",
       "20            10  0.346004  0.871071  0.355655  0.866714       relu   \n",
       "21            10  0.356388  0.867000  0.385035  0.856054        elu   \n",
       "22            10  0.345811  0.868429  0.366784  0.861446        elu   \n",
       "23            10  0.390947  0.852286  0.471169  0.831732        elu   \n",
       "24            10  0.381028  0.862143  0.459859  0.837107        elu   \n",
       "25            10  0.350488  0.864000  0.377556  0.857500       relu   \n",
       "26            10  0.349915  0.863786  0.377693  0.859071       relu   \n",
       "27            10  0.353232  0.868286  0.367719  0.862482        elu   \n",
       "28            10  0.381062  0.859786  0.440409  0.839286       relu   \n",
       "29            10  0.381167  0.860571  0.418301  0.843232        elu   \n",
       "30            10  0.400458  0.850571  0.470882  0.831089       relu   \n",
       "31            10  0.348261  0.873214  0.362819  0.862946        elu   \n",
       "32            10  0.351430  0.867929  0.355472  0.864714        elu   \n",
       "33            10  0.393004  0.851357  0.439882  0.837696        elu   \n",
       "34            10  0.374622  0.859143  0.402115  0.850268        elu   \n",
       "35            10  0.368818  0.862000  0.412699  0.846143       relu   \n",
       "36            10  0.404430  0.855286  0.481565  0.828339        elu   \n",
       "37            10  0.370690  0.864643  0.396677  0.852161        elu   \n",
       "\n",
       "    batch_size  dropout  epochs  first_neuron  hidden_layers  hidden_neuron  \\\n",
       "0           64      0.2      10            40              0             80   \n",
       "1          128      0.1      10            80              2             80   \n",
       "2           64      0.3      10            80              2             60   \n",
       "3           32      0.3      10            40              3             40   \n",
       "4          128      0.1      10            40              2             40   \n",
       "5          128      0.2      10            80              3             40   \n",
       "6           64      0.1      10            40              3             80   \n",
       "7           32      0.3      10            40              3             40   \n",
       "8           32      0.3      10            60              0             80   \n",
       "9           64      0.1      10            60              2             40   \n",
       "10          64      0.1      10            60              0             60   \n",
       "11          32      0.3      10            80              1             60   \n",
       "12          64      0.1      10            40              0             80   \n",
       "13          64      0.2      10            40              0             80   \n",
       "14         128      0.2      10            60              2             40   \n",
       "15          64      0.2      10            80              3             60   \n",
       "16          32      0.2      10            60              1             40   \n",
       "17          64      0.3      10            40              2             60   \n",
       "18         128      0.1      10            60              0             40   \n",
       "19         128      0.1      10            80              0             60   \n",
       "20         128      0.1      10            80              0             80   \n",
       "21          32      0.2      10            40              0             60   \n",
       "22         128      0.1      10            60              2             80   \n",
       "23          32      0.3      10            60              3             80   \n",
       "24          32      0.3      10            80              3             60   \n",
       "25         128      0.3      10            80              0             60   \n",
       "26         128      0.1      10            80              2             40   \n",
       "27          64      0.1      10            40              2             40   \n",
       "28         128      0.2      10            40              3             80   \n",
       "29          64      0.3      10            40              0             80   \n",
       "30         128      0.3      10            80              2             40   \n",
       "31          32      0.1      10            80              2             80   \n",
       "32          64      0.1      10            80              0             60   \n",
       "33          64      0.3      10            60              2             60   \n",
       "34         128      0.3      10            80              0             60   \n",
       "35          64      0.2      10            60              1             40   \n",
       "36          32      0.3      10            40              3             60   \n",
       "37         128      0.2      10            60              0             60   \n",
       "\n",
       "   last_activation  last_neuron                    losses optimizer shapes  \n",
       "0          softmax           10  categorical_crossentropy     Nadam  brick  \n",
       "1          softmax           10  categorical_crossentropy     Nadam  brick  \n",
       "2          softmax           10  categorical_crossentropy      Adam  brick  \n",
       "3          softmax           10  categorical_crossentropy      Adam  brick  \n",
       "4          softmax           10  categorical_crossentropy     Nadam  brick  \n",
       "5          softmax           10  categorical_crossentropy      Adam  brick  \n",
       "6          softmax           10  categorical_crossentropy     Nadam  brick  \n",
       "7          softmax           10  categorical_crossentropy     Nadam  brick  \n",
       "8          softmax           10  categorical_crossentropy      Adam  brick  \n",
       "9          softmax           10  categorical_crossentropy     Nadam  brick  \n",
       "10         softmax           10  categorical_crossentropy      Adam  brick  \n",
       "11         softmax           10  categorical_crossentropy      Adam  brick  \n",
       "12         softmax           10  categorical_crossentropy      Adam  brick  \n",
       "13         softmax           10  categorical_crossentropy      Adam  brick  \n",
       "14         softmax           10  categorical_crossentropy     Nadam  brick  \n",
       "15         softmax           10  categorical_crossentropy      Adam  brick  \n",
       "16         softmax           10  categorical_crossentropy      Adam  brick  \n",
       "17         softmax           10  categorical_crossentropy      Adam  brick  \n",
       "18         softmax           10  categorical_crossentropy     Nadam  brick  \n",
       "19         softmax           10  categorical_crossentropy      Adam  brick  \n",
       "20         softmax           10  categorical_crossentropy      Adam  brick  \n",
       "21         softmax           10  categorical_crossentropy     Nadam  brick  \n",
       "22         softmax           10  categorical_crossentropy      Adam  brick  \n",
       "23         softmax           10  categorical_crossentropy     Nadam  brick  \n",
       "24         softmax           10  categorical_crossentropy     Nadam  brick  \n",
       "25         softmax           10  categorical_crossentropy     Nadam  brick  \n",
       "26         softmax           10  categorical_crossentropy      Adam  brick  \n",
       "27         softmax           10  categorical_crossentropy     Nadam  brick  \n",
       "28         softmax           10  categorical_crossentropy      Adam  brick  \n",
       "29         softmax           10  categorical_crossentropy      Adam  brick  \n",
       "30         softmax           10  categorical_crossentropy     Nadam  brick  \n",
       "31         softmax           10  categorical_crossentropy     Nadam  brick  \n",
       "32         softmax           10  categorical_crossentropy      Adam  brick  \n",
       "33         softmax           10  categorical_crossentropy      Adam  brick  \n",
       "34         softmax           10  categorical_crossentropy      Adam  brick  \n",
       "35         softmax           10  categorical_crossentropy      Adam  brick  \n",
       "36         softmax           10  categorical_crossentropy     Nadam  brick  \n",
       "37         softmax           10  categorical_crossentropy      Adam  brick  "
      ]
     },
     "execution_count": 258,
     "metadata": {},
     "output_type": "execute_result"
    }
   ],
   "source": [
    "# acceso al DataFrame del analisis del reporte\n",
    "analyzePerceptron.data"
   ]
  },
  {
   "cell_type": "code",
   "execution_count": 259,
   "metadata": {},
   "outputs": [
    {
     "data": {
      "text/plain": [
       "38"
      ]
     },
     "execution_count": 259,
     "metadata": {},
     "output_type": "execute_result"
    }
   ],
   "source": [
    "# numero de experimentos realizados\n",
    "analyzePerceptron.rounds()"
   ]
  },
  {
   "cell_type": "code",
   "execution_count": 260,
   "metadata": {},
   "outputs": [
    {
     "data": {
      "text/plain": [
       "0.8732143044471741"
      ]
     },
     "execution_count": 260,
     "metadata": {},
     "output_type": "execute_result"
    }
   ],
   "source": [
    "# se recupera el numero del modelo con mejor puntaje, en este caso es la precision de pruetas/validacion \"val_acc\"\n",
    "analyzePerceptron.high(\"val_acc\")"
   ]
  },
  {
   "cell_type": "code",
   "execution_count": 261,
   "metadata": {},
   "outputs": [
    {
     "data": {
      "text/plain": [
       "31"
      ]
     },
     "execution_count": 261,
     "metadata": {},
     "output_type": "execute_result"
    }
   ],
   "source": [
    "# get the round with the best result\n",
    "analyzePerceptron.rounds2high(\"val_acc\")"
   ]
  },
  {
   "cell_type": "code",
   "execution_count": 262,
   "metadata": {},
   "outputs": [
    {
     "data": {
      "text/plain": [
       "array([['elu', 'Nadam', 10, 80, 'softmax', 2, 80, 10, 'brick',\n",
       "        'categorical_crossentropy', 10, 32, 0.1, 0],\n",
       "       ['relu', 'Adam', 10, 60, 'softmax', 0, 80, 10, 'brick',\n",
       "        'categorical_crossentropy', 10, 128, 0.1, 1],\n",
       "       ['relu', 'Adam', 10, 80, 'softmax', 0, 80, 10, 'brick',\n",
       "        'categorical_crossentropy', 10, 128, 0.1, 2],\n",
       "       ['relu', 'Nadam', 10, 40, 'softmax', 0, 60, 10, 'brick',\n",
       "        'categorical_crossentropy', 10, 128, 0.1, 3],\n",
       "       ['elu', 'Nadam', 10, 80, 'softmax', 0, 40, 10, 'brick',\n",
       "        'categorical_crossentropy', 10, 64, 0.2, 4],\n",
       "       ['relu', 'Adam', 10, 60, 'softmax', 0, 60, 10, 'brick',\n",
       "        'categorical_crossentropy', 10, 64, 0.1, 5],\n",
       "       ['relu', 'Adam', 10, 80, 'softmax', 0, 40, 10, 'brick',\n",
       "        'categorical_crossentropy', 10, 64, 0.1, 6],\n",
       "       ['elu', 'Adam', 10, 80, 'softmax', 2, 60, 10, 'brick',\n",
       "        'categorical_crossentropy', 10, 128, 0.1, 7],\n",
       "       ['elu', 'Nadam', 10, 40, 'softmax', 2, 40, 10, 'brick',\n",
       "        'categorical_crossentropy', 10, 64, 0.1, 8],\n",
       "       ['elu', 'Adam', 10, 60, 'softmax', 0, 80, 10, 'brick',\n",
       "        'categorical_crossentropy', 10, 64, 0.1, 9]], dtype=object)"
      ]
     },
     "execution_count": 262,
     "metadata": {},
     "output_type": "execute_result"
    }
   ],
   "source": [
    "# imprime los mejores parametros encontrados en el proceso de optimizacion\n",
    "analyzePerceptron.best_params(\"val_acc\", [\"acc\", \"loss\", \"val_loss\"])"
   ]
  },
  {
   "cell_type": "code",
   "execution_count": 263,
   "metadata": {},
   "outputs": [
    {
     "data": {
      "text/plain": [
       "round_epochs          NaN\n",
       "val_acc         -0.959860\n",
       "batch_size      -0.361129\n",
       "dropout          0.632976\n",
       "epochs                NaN\n",
       "first_neuron    -0.269312\n",
       "hidden_layers    0.498351\n",
       "hidden_neuron   -0.249352\n",
       "last_neuron           NaN\n",
       "Name: val_loss, dtype: float64"
      ]
     },
     "execution_count": 263,
     "metadata": {},
     "output_type": "execute_result"
    }
   ],
   "source": [
    "# correlacion entre el puntaje y el resto de los hyperparametros\n",
    "analyzePerceptron.correlate(\"val_loss\", [\"acc\", \"loss\", \"val_loss\"])"
   ]
  },
  {
   "cell_type": "code",
   "execution_count": 264,
   "metadata": {},
   "outputs": [
    {
     "data": {
      "image/png": "[encoded data removed]",
      "text/plain": [
       "<Figure size 720x475.2 with 1 Axes>"
      ]
     },
     "metadata": {},
     "output_type": "display_data"
    }
   ],
   "source": [
    "# a regression entre precision de puntaje/precision y perdida del conjunto de preubas\n",
    "analyzePerceptron.plot_regs(\"val_acc\", \"val_loss\")"
   ]
  },
  {
   "cell_type": "code",
   "execution_count": 265,
   "metadata": {},
   "outputs": [
    {
     "data": {
      "image/png": "[encoded data removed]",
      "text/plain": [
       "<Figure size 864x475.2 with 1 Axes>"
      ]
     },
     "metadata": {},
     "output_type": "display_data"
    }
   ],
   "source": [
    "# linea de resultados de la precision de los experimentos\n",
    "analyzePerceptron.plot_line(\"val_acc\")"
   ]
  },
  {
   "cell_type": "code",
   "execution_count": 266,
   "metadata": {},
   "outputs": [
    {
     "data": {
      "image/png": "[encoded data removed]",
      "text/plain": [
       "<Figure size 720x475.2 with 1 Axes>"
      ]
     },
     "metadata": {},
     "output_type": "display_data"
    }
   ],
   "source": [
    "# distribucion de probabilidad de la precision de pruebas\n",
    "analyzePerceptron.plot_kde(\"val_acc\")"
   ]
  },
  {
   "cell_type": "code",
   "execution_count": 267,
   "metadata": {},
   "outputs": [
    {
     "data": {
      "image/png": "[encoded data removed]",
      "text/plain": [
       "<Figure size 720x475.2 with 1 Axes>"
      ]
     },
     "metadata": {},
     "output_type": "display_data"
    }
   ],
   "source": [
    "# histograma de la precision de pruebas de los experimentso\n",
    "analyzePerceptron.plot_hist(\"val_acc\", bins = 50)"
   ]
  },
  {
   "cell_type": "code",
   "execution_count": 268,
   "metadata": {},
   "outputs": [
    {
     "data": {
      "image/png": "[encoded data removed]",
      "text/plain": [
       "<Figure size 756x756 with 2 Axes>"
      ]
     },
     "metadata": {},
     "output_type": "display_data"
    }
   ],
   "source": [
    "# mapa de correlacion para la correlacion de de la precision de preubas y otras variables\n",
    "analyzePerceptron.plot_corr(\"val_loss\", [\"acc\", \"loss\", \"val_loss\"])"
   ]
  },
  {
   "cell_type": "code",
   "execution_count": 269,
   "metadata": {},
   "outputs": [
    {
     "data": {
      "image/png": "[encoded data removed]",
      "text/plain": [
       "<Figure size 1219.88x288 with 3 Axes>"
      ]
     },
     "metadata": {},
     "output_type": "display_data"
    }
   ],
   "source": [
    "# grafica analizando el comportamiento de las capas ocultas, precision de pruebas, # de neuroans en la entrada y # de neuronas en la capa escondida\n",
    "analyzePerceptron.plot_bars(\"hidden_layers\", \"val_acc\", \"first_neuron\", \"hidden_neuron\")"
   ]
  },
  {
   "cell_type": "code",
   "execution_count": 270,
   "metadata": {},
   "outputs": [
    {
     "data": {
      "image/png": "[encoded data removed]",
      "text/plain": [
       "<Figure size 1219.88x288 with 3 Axes>"
      ]
     },
     "metadata": {},
     "output_type": "display_data"
    }
   ],
   "source": [
    "# grafica analizando el comportamiento de las capas ocultas, precision de pruebas, # de neuroans en la entrada y # de neuronas en la capa escondida\n",
    "analyzePerceptron.plot_bars(\"hidden_layers\", \"val_loss\", \"first_neuron\", \"hidden_neuron\")"
   ]
  },
  {
   "cell_type": "markdown",
   "metadata": {},
   "source": [
    "### Evaluando finalmente el Modelo\n",
    "por defecto Talos si no se indica el ID del modelo para evaluar, escoge el mejor."
   ]
  },
  {
   "cell_type": "code",
   "execution_count": 271,
   "metadata": {},
   "outputs": [],
   "source": [
    "# creando el objeto para evaluar con Talos\n",
    "evaluatePerceptron = talos.Evaluate(scanPerceptron)"
   ]
  },
  {
   "cell_type": "code",
   "execution_count": 272,
   "metadata": {},
   "outputs": [],
   "source": [
    "# evaluacion final de los datos con el mejor modelo\n",
    "bestAcc = evaluatePerceptron.evaluate(np.array(X_testB), to_categorical(np.array(y_testB)), folds = 5, metric = \"val_acc\", task = \"multi_label\")"
   ]
  },
  {
   "cell_type": "code",
   "execution_count": 273,
   "metadata": {},
   "outputs": [
    {
     "name": "stdout",
     "output_type": "stream",
     "text": [
      "Model: \"sequential_1\"\n",
      "_________________________________________________________________\n",
      "Layer (type)                 Output Shape              Param #   \n",
      "=================================================================\n",
      "flatten_1 (Flatten)          (None, 784)               0         \n",
      "_________________________________________________________________\n",
      "dense_1 (Dense)              (None, 80)                62800     \n",
      "_________________________________________________________________\n",
      "dropout_1 (Dropout)          (None, 80)                0         \n",
      "_________________________________________________________________\n",
      "dense_2 (Dense)              (None, 80)                6480      \n",
      "_________________________________________________________________\n",
      "dropout_2 (Dropout)          (None, 80)                0         \n",
      "_________________________________________________________________\n",
      "dense_3 (Dense)              (None, 80)                6480      \n",
      "_________________________________________________________________\n",
      "dropout_3 (Dropout)          (None, 80)                0         \n",
      "_________________________________________________________________\n",
      "dense_4 (Dense)              (None, 10)                810       \n",
      "=================================================================\n",
      "Total params: 76,570\n",
      "Trainable params: 76,570\n",
      "Non-trainable params: 0\n",
      "_________________________________________________________________\n"
     ]
    }
   ],
   "source": [
    "# resumen basico del mejor MLP\n",
    "evaluatePerceptron.scan_object.best_model(metric='val_acc').summary()"
   ]
  },
  {
   "cell_type": "code",
   "execution_count": 274,
   "metadata": {},
   "outputs": [
    {
     "data": {
      "text/plain": [
       "{'name': 'sequential_1',\n",
       " 'layers': [{'class_name': 'Flatten',\n",
       "   'config': {'name': 'flatten_1',\n",
       "    'trainable': True,\n",
       "    'batch_input_shape': (None, 28, 28),\n",
       "    'dtype': 'float32',\n",
       "    'data_format': 'channels_last'}},\n",
       "  {'class_name': 'Dense',\n",
       "   'config': {'name': 'dense_1',\n",
       "    'trainable': True,\n",
       "    'batch_input_shape': (None, 28, 28),\n",
       "    'dtype': 'float32',\n",
       "    'units': 80,\n",
       "    'activation': 'elu',\n",
       "    'use_bias': True,\n",
       "    'kernel_initializer': {'class_name': 'VarianceScaling',\n",
       "     'config': {'scale': 1.0,\n",
       "      'mode': 'fan_avg',\n",
       "      'distribution': 'uniform',\n",
       "      'seed': None}},\n",
       "    'bias_initializer': {'class_name': 'Zeros', 'config': {}},\n",
       "    'kernel_regularizer': None,\n",
       "    'bias_regularizer': None,\n",
       "    'activity_regularizer': None,\n",
       "    'kernel_constraint': None,\n",
       "    'bias_constraint': None}},\n",
       "  {'class_name': 'Dropout',\n",
       "   'config': {'name': 'dropout_1',\n",
       "    'trainable': True,\n",
       "    'dtype': 'float32',\n",
       "    'rate': 0.1,\n",
       "    'noise_shape': None,\n",
       "    'seed': None}},\n",
       "  {'class_name': 'Dense',\n",
       "   'config': {'name': 'dense_2',\n",
       "    'trainable': True,\n",
       "    'batch_input_shape': (None, 784),\n",
       "    'dtype': 'float32',\n",
       "    'units': 80,\n",
       "    'activation': 'elu',\n",
       "    'use_bias': True,\n",
       "    'kernel_initializer': {'class_name': 'VarianceScaling',\n",
       "     'config': {'scale': 1.0,\n",
       "      'mode': 'fan_avg',\n",
       "      'distribution': 'uniform',\n",
       "      'seed': None}},\n",
       "    'bias_initializer': {'class_name': 'Zeros', 'config': {}},\n",
       "    'kernel_regularizer': None,\n",
       "    'bias_regularizer': None,\n",
       "    'activity_regularizer': None,\n",
       "    'kernel_constraint': None,\n",
       "    'bias_constraint': None}},\n",
       "  {'class_name': 'Dropout',\n",
       "   'config': {'name': 'dropout_2',\n",
       "    'trainable': True,\n",
       "    'dtype': 'float32',\n",
       "    'rate': 0.1,\n",
       "    'noise_shape': None,\n",
       "    'seed': None}},\n",
       "  {'class_name': 'Dense',\n",
       "   'config': {'name': 'dense_3',\n",
       "    'trainable': True,\n",
       "    'batch_input_shape': (None, 784),\n",
       "    'dtype': 'float32',\n",
       "    'units': 80,\n",
       "    'activation': 'elu',\n",
       "    'use_bias': True,\n",
       "    'kernel_initializer': {'class_name': 'VarianceScaling',\n",
       "     'config': {'scale': 1.0,\n",
       "      'mode': 'fan_avg',\n",
       "      'distribution': 'uniform',\n",
       "      'seed': None}},\n",
       "    'bias_initializer': {'class_name': 'Zeros', 'config': {}},\n",
       "    'kernel_regularizer': None,\n",
       "    'bias_regularizer': None,\n",
       "    'activity_regularizer': None,\n",
       "    'kernel_constraint': None,\n",
       "    'bias_constraint': None}},\n",
       "  {'class_name': 'Dropout',\n",
       "   'config': {'name': 'dropout_3',\n",
       "    'trainable': True,\n",
       "    'dtype': 'float32',\n",
       "    'rate': 0.1,\n",
       "    'noise_shape': None,\n",
       "    'seed': None}},\n",
       "  {'class_name': 'Dense',\n",
       "   'config': {'name': 'dense_4',\n",
       "    'trainable': True,\n",
       "    'batch_input_shape': (None, 784),\n",
       "    'dtype': 'float32',\n",
       "    'units': 10,\n",
       "    'activation': 'softmax',\n",
       "    'use_bias': True,\n",
       "    'kernel_initializer': {'class_name': 'VarianceScaling',\n",
       "     'config': {'scale': 1.0,\n",
       "      'mode': 'fan_avg',\n",
       "      'distribution': 'uniform',\n",
       "      'seed': None}},\n",
       "    'bias_initializer': {'class_name': 'Zeros', 'config': {}},\n",
       "    'kernel_regularizer': None,\n",
       "    'bias_regularizer': None,\n",
       "    'activity_regularizer': None,\n",
       "    'kernel_constraint': None,\n",
       "    'bias_constraint': None}}]}"
      ]
     },
     "execution_count": 274,
     "metadata": {},
     "output_type": "execute_result"
    }
   ],
   "source": [
    "# configuracion especifica del mejor MLP\n",
    "evaluatePerceptron.scan_object.best_model(metric='val_acc').get_config()"
   ]
  },
  {
   "cell_type": "markdown",
   "metadata": {},
   "source": [
    "### Predicciones y Análisis detallado del mejor Modelo"
   ]
  },
  {
   "cell_type": "code",
   "execution_count": 275,
   "metadata": {},
   "outputs": [],
   "source": [
    "# predecir resultados con el mejor modelo\n",
    "predictPerceptron = talos.Predict(scanPerceptron, task = \"multi_label\")"
   ]
  },
  {
   "cell_type": "code",
   "execution_count": 276,
   "metadata": {},
   "outputs": [],
   "source": [
    "# se prueba MLP de sklearn\n",
    "bestPrediction = predictPerceptron.predict(np.array(X_testB))\n",
    "\n",
    "# ajuste de las predicciones para ver el reporte de matrix de confusion\n",
    "bestPrediction = np.array(bestPrediction).argmax(axis=1)"
   ]
  },
  {
   "cell_type": "code",
   "execution_count": 277,
   "metadata": {},
   "outputs": [
    {
     "name": "stdout",
     "output_type": "stream",
     "text": [
      "----- Reporte FINAL de Pruebas MLP -----\n",
      "--- Conteo ---\n",
      "Counter({3: 1565, 4: 1557, 9: 1447, 0: 1423, 7: 1414, 5: 1382, 1: 1363, 8: 1355, 2: 1294, 6: 1200})\n",
      "--- Matriz de Confusion ---\n",
      "[[1174    1    6   59    6    1  137    0   10    0]\n",
      " [   5 1341    1   47    2    0    5    0    1    0]\n",
      " [   7    1 1055   23  189    0  124    0    8    0]\n",
      " [  18   13    3 1334   58    0   23    0    0    0]\n",
      " [   0    3  134   54 1112    0   50    0    4    0]\n",
      " [   0    0    0    1    0 1366    1   51    2   28]\n",
      " [ 217    2   94   37  183    0  853    0   19    2]\n",
      " [   0    0    0    0    0   11    0 1307    1   40]\n",
      " [   2    2    1   10    7    2    7    3 1307    1]\n",
      " [   0    0    0    0    0    2    0   53    3 1376]]\n",
      "--- Reporte de Pruebas: ---\n",
      "              precision    recall  f1-score   support\n",
      "\n",
      "           0       0.83      0.84      0.83      1394\n",
      "           1       0.98      0.96      0.97      1402\n",
      "           2       0.82      0.75      0.78      1407\n",
      "           3       0.85      0.92      0.89      1449\n",
      "           4       0.71      0.82      0.76      1357\n",
      "           5       0.99      0.94      0.97      1449\n",
      "           6       0.71      0.61      0.65      1407\n",
      "           7       0.92      0.96      0.94      1359\n",
      "           8       0.96      0.97      0.97      1342\n",
      "           9       0.95      0.96      0.96      1434\n",
      "\n",
      "    accuracy                           0.87     14000\n",
      "   macro avg       0.87      0.87      0.87     14000\n",
      "weighted avg       0.87      0.87      0.87     14000\n",
      "\n",
      "--- Puntaje ---\n",
      "\n",
      " - Precision:  [0.8591831145588318, 0.8719979009191935, 0.8724478257052202, 0.8803312919527775, 0.8757140608089437]\n",
      " - Precision Promedio:  0.8719348387889934\n"
     ]
    }
   ],
   "source": [
    "# Informe de los resultados para las pruebas del MLP\n",
    "print(\"----- Reporte FINAL de Pruebas MLP -----\")\n",
    "print(\"--- Conteo ---\\n\" + str(Counter(bestPrediction)))\n",
    "print(\"--- Matriz de Confusion ---\\n\" + str(confusion_matrix(y_testB, bestPrediction)))\n",
    "print(\"--- Reporte de Pruebas: ---\")\n",
    "print(classification_report(y_testB, bestPrediction))\n",
    "print(\"--- Puntaje ---\\n\")\n",
    "print(\" - Precision: \", str(bestAcc))\n",
    "print(\" - Precision Promedio: \", str(np.mean(bestAcc)))"
   ]
  },
  {
   "cell_type": "markdown",
   "metadata": {},
   "source": [
    "# Conclusiones \n",
    "\n",
    "Se utiliza la estructura DataFame para guardar todas las representaciones de datos necesarias durante el ejercicio. Aunque, se establece la perdida y la precisión como medidas del rendimiento de los modelos, en el Autoencoder la precisión no es significativa y se considera tomar otra medida/método como minimizar la pérdida del modelo para poder agilizar la experimentación. Sin embargo, la precisión del Autoencoder convolucional es mucho mejor que la de la tradicional multicapa. Cabe aclarar que el tiempo de entrenamiento de este Autoencoder es mucho más extenso que el resto de los modelos debido al filtro y el volumen del kernel entre capas.\n",
    "\n",
    "La grafica de la curva de aprendizaje en este caso es muestra un comportamiento sobre ajustado, seguramente por la gran cantidad de datos y las diferentes capas del Autoencoder convolucional. También, como sucede en el punto 2 solo al momento de reconstruir las imágenes y desplegar la representación condensada se puede ver que el modelo realmente está funcionando y reconstruyendo el grupo de datos desde las entradas con distorsión.\n",
    "\n",
    "Como en la primera parte del taller, se observa que el modelo tiene un buen comportamiento global, pero se observa un menor rendimiento en las categorías 0 (“T-shirt/top”/camiseta), 2 (“Pullover”/buso), 4 (“Coat”/chaqueta) y 6 (“Shirt”/camisa). Esto tiene que ver con que las clases sean parecidas entre sí, y aunque la representación condensada ayuda un poco, esta también se confunde porque varias características/atributos significativos son iguales entre clases. Como, por ejemplo: el largo de las mangas, el tipo de cuello, entre otros.\n",
    "\n",
    "En la optimización de hiper-parámetros se utiliza la librería por extensión Talos con la misma metodología que el primer punto con una búsqueda aleatoria de los mejores hiper-parámetros en el espacio. De nuevo, la precisión se selecciona como parámetro objetivo a maximizar y se usa una población de máximo 3%. Por último, se configura la búsqueda para minimizar el uso de parámetros/hiper-parámetros no significativos (correlacionados linealmente) con la precisión del modelo. Al reducir el numero de neuronas y simplificar el modelo se observó una mejora significativa en el tiempo de optimización.\n",
    "\n",
    "El modelo final optimizado es un MLP con:\n",
    "\n",
    " - Una capa de entrada “Flatten” que recibe la imagen 2D y la transforma a un arreglo 1D para su procesamiento.\n",
    " - Una capa de 60 neuronas “Dense” como primera capa de aprendizaje y activación tipo “relu”\n",
    " - Entre capas de trabajo “Dropout” con 10% de desactivación para evitar sobreajustes.\n",
    " - Una capa de 40 neuronas “Dense” como capa como segunda capa de aprendizaje y activación tipo “relu”.\n",
    " - Una capa con 10 neuronas “Dense” como capa de salida para clasificación con función de activación “softmax” para reconocer categorías por separado.\n",
    "\n",
    "La búsqueda muestra una correlación fuerte entre la precisión y la perdida de tendencia lineal, lo que coincide con la literatura. La precisión tiene un mínimo de 81% y un máximo de 86% (optimo encontrado). En promedio el rendimiento (precisión) de los modelos esta alrededor 80%. También se observa una correlación entre el tamaño de la muestra, el numero de neuronas en la capa de entrada y el número de capas ocultas. Por el contrario, el “Dropdown” no afecta significativamente el modelo ni tampoco el numero de neuronas por capa. Esto último se relaciona con la simplificación de los datos con la representación condensada. En general las soluciones son mas estables entre si, pero los modelos todavía no pueden reconocer bien las categorías confusas (0, 2, 4 y 6) y no hay cambio significativo después de la optimización, seguramente porque se utiliza la representación condensada con características fundamentales de cada categoría.\n"
   ]
  }
 ],
 "metadata": {
  "kernelspec": {
   "display_name": "Python 3",
   "language": "python",
   "name": "python3"
  },
  "language_info": {
   "codemirror_mode": {
    "name": "ipython",
    "version": 3
   },
   "file_extension": ".py",
   "mimetype": "text/x-python",
   "name": "python",
   "nbconvert_exporter": "python",
   "pygments_lexer": "ipython3",
   "version": "3.7.0"
  },
  "pycharm": {
   "stem_cell": {
    "cell_type": "raw",
    "metadata": {
     "collapsed": false
    },
    "source": []
   }
  }
 },
 "nbformat": 4,
 "nbformat_minor": 1
}
