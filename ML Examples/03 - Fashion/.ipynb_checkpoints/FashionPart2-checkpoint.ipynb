{
 "cells": [
  {
   "cell_type": "markdown",
   "metadata": {},
   "source": [
    "# REDES NEURONALES PROFUNDAS\n",
    "Utilice el conjunto de datos Fashion-MNIST para construir un clasificador de imágenes de productos. Para la construcción del modelo utilice los tres esquemas que se describen a continuación y compare los resultados:\n",
    "\n",
    "1. Entrenamiento de un perceptrón multicapa.\n",
    "2. Entrenamiento de un undercompleted autoencoder para realizar una reducción de la dimensionalidad. Sobre el nuevo conjunto de características construya el modelo de clasificación con un perceptrón multicapa.\n",
    "3. Entrenamiento de un denoising autoendoder para preentrenar una red profunda. Reuse lasprimeras capas de este autoencoder para construir un perceptron multicapa (con solo el 10% de los datos).\n",
    "\n",
    "Para los puntos 2) y 3) compruebe, y muestre con ejemplos, que las imágenes están bien reconstruidas.\n",
    "\n",
    "## OBJETIVO\n",
    "Aplicar el proceso de aprendizaje a partir de datos para resolver problemas de clasificación utilizando redes neuronales profundas, sobre la herramienta Keras.\n",
    "\n",
    "## DATOS\n",
    "Incluidos en Keras.\n",
    "Tambien, existe otra fuente equivalente que se consigue en el siguiente URL https://www.kaggle.com/zalando-research/fashionmnist donde hay un resumen de estos datos en el archivo CVS y XLSX.\n",
    "\n",
    "la clasificacion para el aprendizaje supervisado es:\n",
    "\n",
    "    Label \tClass\n",
    "    0 \t \tT-shirt/top\n",
    "    1 \t \tTrouser\n",
    "    2 \t \tPullover\n",
    "    3 \t \tDress\n",
    "    4 \t \tCoat\n",
    "    5 \t \tSandal\n",
    "    6 \t \tShirt\n",
    "    7 \t \tSneaker\n",
    "    8 \t \tBag\n",
    "    9 \t \tAnkle boot\n",
    "\n",
    "**Importante: justifique cada decisión tomada y presente un análisis de los resultados obtenidos.**\n",
    "### Consideraciones\n",
    "- Utilice sólo los conjuntos de datos que se indican.\n",
    "- El frameworks a utilizar es Keras con Jupyter Notebbooks.\n",
    "- El taller debe ser realizado en grupos de tres personas.\n",
    "- Entregables: archivos ipynb (comentados, con la justificación de las decisiones consideradas y análisis de resultados).\n",
    "\n",
    "### Enlaces de Interes\n",
    "- Ejemplos de Talos https://nbviewer.jupyter.org/github/autonomio/talos/tree/master/examples/\n",
    "- Articulo sobre el uso de Talos https://towardsdatascience.com/hyperparameter-optimization-with-keras-b82e6364ca53\n",
    "- Portal oficial de Talos https://autonomio.github.io/docs_talos/#introduction\n",
    "- Github Talos https://github.com/autonomio/talos/tree/master/talos/scan\n",
    "- Documentacion de github Talos https://github.com/autonomio/talos/tree/master/docs\n",
    "- Documentacion Keras https://keras.io/models/sequential/"
   ]
  },
  {
   "cell_type": "code",
   "execution_count": 163,
   "metadata": {},
   "outputs": [],
   "source": [
    "# importando dependencias de trabajo\n",
    "# se importa OS, pandas y numpy para leer y preparar datos\n",
    "import os\n",
    "from collections import OrderedDict\n",
    "from collections import Counter\n",
    "import pandas as pd\n",
    "from pandas import ExcelWriter\n",
    "from pandas import ExcelFile\n",
    "import pandas_profiling as profile\n",
    "import numpy as np\n",
    "import tensorflow as tf\n",
    "import matplotlib as mpl\n",
    "import matplotlib.pyplot as plt\n",
    "from tensorflow import keras\n",
    "\n",
    "# los modelos de aprendizaje con las diferentes librerias\n",
    "import talos\n",
    "from keras.models import load_model\n",
    "from keras.layers import Input\n",
    "from keras.layers import Flatten\n",
    "from keras.layers import Reshape\n",
    "from keras.layers import InputLayer\n",
    "from keras.models import Model\n",
    "from keras.models import Sequential\n",
    "from keras.layers import Dense\n",
    "from keras.layers import Dropout\n",
    "\n",
    "# otras librerias para manejo de experimentos, pruebas, optimizacion y otros\n",
    "from sklearn.model_selection import train_test_split\n",
    "from sklearn.model_selection import GridSearchCV\n",
    "from sklearn.model_selection import RandomizedSearchCV\n",
    "from sklearn.model_selection import cross_val_score\n",
    "from sklearn.model_selection import StratifiedKFold\n",
    "from sklearn.metrics import confusion_matrix\n",
    "from sklearn.metrics import classification_report\n",
    "from sklearn.metrics import accuracy_score\n",
    "from sklearn.metrics import precision_score\n",
    "from sklearn.metrics import make_scorer\n",
    "from sklearn.preprocessing import LabelEncoder\n",
    "from sklearn.preprocessing import StandardScaler\n",
    "from sklearn.pipeline import Pipeline\n",
    "from imblearn.over_sampling import SMOTE\n",
    "from keras.utils import to_categorical\n",
    "from keras.wrappers.scikit_learn import KerasClassifier"
   ]
  },
  {
   "cell_type": "markdown",
   "metadata": {},
   "source": [
    "### Cargar archivos\n",
    "Para cargar los datos necesarios se siguen los siguientes pasos:\n",
    "\n",
    " - Se cargan los datos desde el conjunto de datos incluido en Keras\n",
    "\n",
    " - Se crean diccionarios de referencia para el pruebas y entrenamiento.\n",
    " - Se leen los arhivos de pruebas y entrenamiento para crear un set de datos.\n",
    " - Se transforma cada uno de los archivos en matrices de datos y se adicionan a los conjuntos de pruebas y entrenamiento."
   ]
  },
  {
   "cell_type": "code",
   "execution_count": 2,
   "metadata": {},
   "outputs": [],
   "source": [
    "# lista de nombres de las clasificaciones\n",
    "classNamesList = [\"T-shirt/top\", \"Trouser\", \"Pullover\", \"Dress\", \"Coat\", \"Sandal\", \"Shirt\", \"Sneaker\", \"Bag\", \"Ankle boot\"]"
   ]
  },
  {
   "cell_type": "code",
   "execution_count": 3,
   "metadata": {},
   "outputs": [],
   "source": [
    "# se carga el archivo de datos de trabajo por medio de Keras\n",
    "fashionSource = keras.datasets.fashion_mnist\n",
    "(X_train, y_train), (X_test, y_test) = fashionSource.load_data()"
   ]
  },
  {
   "cell_type": "code",
   "execution_count": 4,
   "metadata": {},
   "outputs": [],
   "source": [
    "# nombres de columnas para el dataframe de pandas\n",
    "columns = [\"ID\", \"Data\", \"NormData\", \"ReshapeData\", \"Label\", \"Class\", \"DataSize\", \"ReshapeSize\"]\n",
    "X_Data = np.concatenate((X_train, X_test), axis = 0)\n",
    "y_Data = np.concatenate((y_train, y_test), axis = 0)"
   ]
  },
  {
   "cell_type": "code",
   "execution_count": 5,
   "metadata": {},
   "outputs": [],
   "source": [
    "# puedo hacer otra forma de aprendizaje reorganizando los grupos de prueba y entrenamiento para ver si existe algun cambio de comportamiento.\n",
    "# dataset para entrenamiento\n",
    "trainData = pd.DataFrame()\n",
    "\n",
    "# preparar datos dataset entrenamiento\n",
    "for col in columns:\n",
    "    \n",
    "    # creo el ID del set\n",
    "    if col is \"ID\":\n",
    "        \n",
    "        IDList = list(range(len(X_Data)))\n",
    "        trainData[col] = IDList\n",
    "\n",
    "    # datos de la imagen (nxm) para utilizarlos en el algoritmo de aprendizaje\n",
    "    elif col is \"Data\":\n",
    "        \n",
    "        dataList = np.array(X_Data).astype(float)\n",
    "        trainData[col] = list(dataList)\n",
    "\n",
    "    # datos de la imagen (nxm) para utilizarlos en el algoritmo de aprendizaje\n",
    "    elif col is \"NormData\":\n",
    "        \n",
    "        normList = np.array(X_Data).astype(float)\n",
    "        maxValue = normList.max()\n",
    "        normList = normList/maxValue\n",
    "        trainData[col] = list(normList)\n",
    "\n",
    "    # datos de la imagen (nxm) de con cambio de forma(reshape) para poder ser utilizados en el algoritmo de aprendizaje\n",
    "    elif col is \"ReshapeData\":\n",
    "        \n",
    "        reshapeData = list()\n",
    "        \n",
    "        for data in list(trainData[\"NormData\"]):\n",
    "            \n",
    "            tempImg = data.astype(float)\n",
    "            reshapeData.append(list(tempImg))\n",
    "        \n",
    "        reshapeData = np.array(reshapeData)\n",
    "        reshapeData = reshapeData.reshape(len(reshapeData), -1)\n",
    "        trainData[col] = list(reshapeData)\n",
    "        \n",
    "    # categoria de la imagen en entero\n",
    "    elif col is \"Label\":\n",
    "        \n",
    "        nameList = list(y_Data)\n",
    "        trainData[col] = nameList\n",
    "    \n",
    "    # nombre de la categoria/clase de la imagen\n",
    "    elif col is \"Class\":\n",
    "        \n",
    "        classList = list()\n",
    "        \n",
    "        for data in np.nditer(y_Data):\n",
    "            \n",
    "            tempClass = classNamesList[data]\n",
    "            classList.append(tempClass)\n",
    "        \n",
    "        classList = np.array(classList)\n",
    "        trainData[col] = list(classList)\n",
    "\n",
    "    # tamanho de pixeles de la matriz que representa la imagen (nxm)\n",
    "    elif col is \"DataSize\":\n",
    "\n",
    "        sizeList = list()\n",
    "                \n",
    "        for data in list(X_Data):\n",
    "            \n",
    "            tempSize = data.shape\n",
    "            sizeList.append(tempSize)\n",
    "        \n",
    "        sizeList = np.array(sizeList)\n",
    "        trainData[col] = list(sizeList)\n",
    "    \n",
    "    # tamanho dee pixales en 1D\n",
    "    elif col is \"ReshapeSize\":\n",
    "        \n",
    "        reshapeList = list()\n",
    "        dataList = trainData[\"ReshapeData\"]\n",
    "        dataList = np.array(dataList)\n",
    "        dataList = list(dataList)\n",
    "\n",
    "        for data in dataList:\n",
    "            \n",
    "            tempReshape = np.array(data.shape)\n",
    "            reshapeList.append(tempReshape)\n",
    "\n",
    "        dataList = np.array(reshapeList)\n",
    "        trainData[col] = list(reshapeList)#.tolist()"
   ]
  },
  {
   "cell_type": "code",
   "execution_count": 6,
   "metadata": {},
   "outputs": [
    {
     "data": {
      "text/html": [
       "<div>\n",
       "<style scoped>\n",
       "    .dataframe tbody tr th:only-of-type {\n",
       "        vertical-align: middle;\n",
       "    }\n",
       "\n",
       "    .dataframe tbody tr th {\n",
       "        vertical-align: top;\n",
       "    }\n",
       "\n",
       "    .dataframe thead th {\n",
       "        text-align: right;\n",
       "    }\n",
       "</style>\n",
       "<table border=\"1\" class=\"dataframe\">\n",
       "  <thead>\n",
       "    <tr style=\"text-align: right;\">\n",
       "      <th></th>\n",
       "      <th>ID</th>\n",
       "      <th>Data</th>\n",
       "      <th>NormData</th>\n",
       "      <th>ReshapeData</th>\n",
       "      <th>Label</th>\n",
       "      <th>Class</th>\n",
       "      <th>DataSize</th>\n",
       "      <th>ReshapeSize</th>\n",
       "    </tr>\n",
       "  </thead>\n",
       "  <tbody>\n",
       "    <tr>\n",
       "      <td>0</td>\n",
       "      <td>0</td>\n",
       "      <td>[[0.0, 0.0, 0.0, 0.0, 0.0, 0.0, 0.0, 0.0, 0.0,...</td>\n",
       "      <td>[[0.0, 0.0, 0.0, 0.0, 0.0, 0.0, 0.0, 0.0, 0.0,...</td>\n",
       "      <td>[0.0, 0.0, 0.0, 0.0, 0.0, 0.0, 0.0, 0.0, 0.0, ...</td>\n",
       "      <td>9</td>\n",
       "      <td>Ankle boot</td>\n",
       "      <td>[28, 28]</td>\n",
       "      <td>[784]</td>\n",
       "    </tr>\n",
       "    <tr>\n",
       "      <td>1</td>\n",
       "      <td>1</td>\n",
       "      <td>[[0.0, 0.0, 0.0, 0.0, 0.0, 1.0, 0.0, 0.0, 0.0,...</td>\n",
       "      <td>[[0.0, 0.0, 0.0, 0.0, 0.0, 0.00392156862745098...</td>\n",
       "      <td>[0.0, 0.0, 0.0, 0.0, 0.0, 0.00392156862745098,...</td>\n",
       "      <td>0</td>\n",
       "      <td>T-shirt/top</td>\n",
       "      <td>[28, 28]</td>\n",
       "      <td>[784]</td>\n",
       "    </tr>\n",
       "    <tr>\n",
       "      <td>2</td>\n",
       "      <td>2</td>\n",
       "      <td>[[0.0, 0.0, 0.0, 0.0, 0.0, 0.0, 0.0, 0.0, 0.0,...</td>\n",
       "      <td>[[0.0, 0.0, 0.0, 0.0, 0.0, 0.0, 0.0, 0.0, 0.0,...</td>\n",
       "      <td>[0.0, 0.0, 0.0, 0.0, 0.0, 0.0, 0.0, 0.0, 0.0, ...</td>\n",
       "      <td>0</td>\n",
       "      <td>T-shirt/top</td>\n",
       "      <td>[28, 28]</td>\n",
       "      <td>[784]</td>\n",
       "    </tr>\n",
       "    <tr>\n",
       "      <td>3</td>\n",
       "      <td>3</td>\n",
       "      <td>[[0.0, 0.0, 0.0, 0.0, 0.0, 0.0, 0.0, 0.0, 33.0...</td>\n",
       "      <td>[[0.0, 0.0, 0.0, 0.0, 0.0, 0.0, 0.0, 0.0, 0.12...</td>\n",
       "      <td>[0.0, 0.0, 0.0, 0.0, 0.0, 0.0, 0.0, 0.0, 0.129...</td>\n",
       "      <td>3</td>\n",
       "      <td>Dress</td>\n",
       "      <td>[28, 28]</td>\n",
       "      <td>[784]</td>\n",
       "    </tr>\n",
       "    <tr>\n",
       "      <td>4</td>\n",
       "      <td>4</td>\n",
       "      <td>[[0.0, 0.0, 0.0, 0.0, 0.0, 0.0, 0.0, 0.0, 0.0,...</td>\n",
       "      <td>[[0.0, 0.0, 0.0, 0.0, 0.0, 0.0, 0.0, 0.0, 0.0,...</td>\n",
       "      <td>[0.0, 0.0, 0.0, 0.0, 0.0, 0.0, 0.0, 0.0, 0.0, ...</td>\n",
       "      <td>0</td>\n",
       "      <td>T-shirt/top</td>\n",
       "      <td>[28, 28]</td>\n",
       "      <td>[784]</td>\n",
       "    </tr>\n",
       "  </tbody>\n",
       "</table>\n",
       "</div>"
      ],
      "text/plain": [
       "   ID                                               Data  \\\n",
       "0   0  [[0.0, 0.0, 0.0, 0.0, 0.0, 0.0, 0.0, 0.0, 0.0,...   \n",
       "1   1  [[0.0, 0.0, 0.0, 0.0, 0.0, 1.0, 0.0, 0.0, 0.0,...   \n",
       "2   2  [[0.0, 0.0, 0.0, 0.0, 0.0, 0.0, 0.0, 0.0, 0.0,...   \n",
       "3   3  [[0.0, 0.0, 0.0, 0.0, 0.0, 0.0, 0.0, 0.0, 33.0...   \n",
       "4   4  [[0.0, 0.0, 0.0, 0.0, 0.0, 0.0, 0.0, 0.0, 0.0,...   \n",
       "\n",
       "                                            NormData  \\\n",
       "0  [[0.0, 0.0, 0.0, 0.0, 0.0, 0.0, 0.0, 0.0, 0.0,...   \n",
       "1  [[0.0, 0.0, 0.0, 0.0, 0.0, 0.00392156862745098...   \n",
       "2  [[0.0, 0.0, 0.0, 0.0, 0.0, 0.0, 0.0, 0.0, 0.0,...   \n",
       "3  [[0.0, 0.0, 0.0, 0.0, 0.0, 0.0, 0.0, 0.0, 0.12...   \n",
       "4  [[0.0, 0.0, 0.0, 0.0, 0.0, 0.0, 0.0, 0.0, 0.0,...   \n",
       "\n",
       "                                         ReshapeData  Label        Class  \\\n",
       "0  [0.0, 0.0, 0.0, 0.0, 0.0, 0.0, 0.0, 0.0, 0.0, ...      9   Ankle boot   \n",
       "1  [0.0, 0.0, 0.0, 0.0, 0.0, 0.00392156862745098,...      0  T-shirt/top   \n",
       "2  [0.0, 0.0, 0.0, 0.0, 0.0, 0.0, 0.0, 0.0, 0.0, ...      0  T-shirt/top   \n",
       "3  [0.0, 0.0, 0.0, 0.0, 0.0, 0.0, 0.0, 0.0, 0.129...      3        Dress   \n",
       "4  [0.0, 0.0, 0.0, 0.0, 0.0, 0.0, 0.0, 0.0, 0.0, ...      0  T-shirt/top   \n",
       "\n",
       "   DataSize ReshapeSize  \n",
       "0  [28, 28]       [784]  \n",
       "1  [28, 28]       [784]  \n",
       "2  [28, 28]       [784]  \n",
       "3  [28, 28]       [784]  \n",
       "4  [28, 28]       [784]  "
      ]
     },
     "execution_count": 6,
     "metadata": {},
     "output_type": "execute_result"
    }
   ],
   "source": [
    "# probando def de dataframe entrenamiento\n",
    "trainData.head()"
   ]
  },
  {
   "cell_type": "code",
   "execution_count": 7,
   "metadata": {},
   "outputs": [
    {
     "data": {
      "text/plain": [
       "ID              int64\n",
       "Data           object\n",
       "NormData       object\n",
       "ReshapeData    object\n",
       "Label           int64\n",
       "Class          object\n",
       "DataSize       object\n",
       "ReshapeSize    object\n",
       "dtype: object"
      ]
     },
     "execution_count": 7,
     "metadata": {},
     "output_type": "execute_result"
    }
   ],
   "source": [
    "# probando tipos de dataframe entrenamiento\n",
    "trainData.dtypes"
   ]
  },
  {
   "cell_type": "markdown",
   "metadata": {},
   "source": [
    "## AUTOCODIFICADOR (AUTOENCODER)"
   ]
  },
  {
   "cell_type": "code",
   "execution_count": 114,
   "metadata": {},
   "outputs": [],
   "source": [
    "# se remueve la clase a predecir y demas columnas innecesarias\n",
    "dropColumns = [\"DataSize\", \"ReshapeSize\", \"Data\", \"NormData\"]\n",
    "encoderData = trainData.drop(columns = dropColumns, axis = 1)"
   ]
  },
  {
   "cell_type": "code",
   "execution_count": 115,
   "metadata": {},
   "outputs": [
    {
     "data": {
      "text/html": [
       "<div>\n",
       "<style scoped>\n",
       "    .dataframe tbody tr th:only-of-type {\n",
       "        vertical-align: middle;\n",
       "    }\n",
       "\n",
       "    .dataframe tbody tr th {\n",
       "        vertical-align: top;\n",
       "    }\n",
       "\n",
       "    .dataframe thead th {\n",
       "        text-align: right;\n",
       "    }\n",
       "</style>\n",
       "<table border=\"1\" class=\"dataframe\">\n",
       "  <thead>\n",
       "    <tr style=\"text-align: right;\">\n",
       "      <th></th>\n",
       "      <th>ID</th>\n",
       "      <th>ReshapeData</th>\n",
       "      <th>Label</th>\n",
       "      <th>Class</th>\n",
       "    </tr>\n",
       "  </thead>\n",
       "  <tbody>\n",
       "    <tr>\n",
       "      <td>0</td>\n",
       "      <td>0</td>\n",
       "      <td>[0.0, 0.0, 0.0, 0.0, 0.0, 0.0, 0.0, 0.0, 0.0, ...</td>\n",
       "      <td>9</td>\n",
       "      <td>Ankle boot</td>\n",
       "    </tr>\n",
       "    <tr>\n",
       "      <td>1</td>\n",
       "      <td>1</td>\n",
       "      <td>[0.0, 0.0, 0.0, 0.0, 0.0, 0.00392156862745098,...</td>\n",
       "      <td>0</td>\n",
       "      <td>T-shirt/top</td>\n",
       "    </tr>\n",
       "    <tr>\n",
       "      <td>2</td>\n",
       "      <td>2</td>\n",
       "      <td>[0.0, 0.0, 0.0, 0.0, 0.0, 0.0, 0.0, 0.0, 0.0, ...</td>\n",
       "      <td>0</td>\n",
       "      <td>T-shirt/top</td>\n",
       "    </tr>\n",
       "    <tr>\n",
       "      <td>3</td>\n",
       "      <td>3</td>\n",
       "      <td>[0.0, 0.0, 0.0, 0.0, 0.0, 0.0, 0.0, 0.0, 0.129...</td>\n",
       "      <td>3</td>\n",
       "      <td>Dress</td>\n",
       "    </tr>\n",
       "    <tr>\n",
       "      <td>4</td>\n",
       "      <td>4</td>\n",
       "      <td>[0.0, 0.0, 0.0, 0.0, 0.0, 0.0, 0.0, 0.0, 0.0, ...</td>\n",
       "      <td>0</td>\n",
       "      <td>T-shirt/top</td>\n",
       "    </tr>\n",
       "  </tbody>\n",
       "</table>\n",
       "</div>"
      ],
      "text/plain": [
       "   ID                                        ReshapeData  Label        Class\n",
       "0   0  [0.0, 0.0, 0.0, 0.0, 0.0, 0.0, 0.0, 0.0, 0.0, ...      9   Ankle boot\n",
       "1   1  [0.0, 0.0, 0.0, 0.0, 0.0, 0.00392156862745098,...      0  T-shirt/top\n",
       "2   2  [0.0, 0.0, 0.0, 0.0, 0.0, 0.0, 0.0, 0.0, 0.0, ...      0  T-shirt/top\n",
       "3   3  [0.0, 0.0, 0.0, 0.0, 0.0, 0.0, 0.0, 0.0, 0.129...      3        Dress\n",
       "4   4  [0.0, 0.0, 0.0, 0.0, 0.0, 0.0, 0.0, 0.0, 0.0, ...      0  T-shirt/top"
      ]
     },
     "execution_count": 115,
     "metadata": {},
     "output_type": "execute_result"
    }
   ],
   "source": [
    "# pruebo nueva representacion de los datos\n",
    "encoderData.head()"
   ]
  },
  {
   "cell_type": "code",
   "execution_count": 116,
   "metadata": {},
   "outputs": [],
   "source": [
    "# asigno variables para el entrenamiento del autoencoder\n",
    "X_encoder = encoderData[\"ReshapeData\"].tolist()\n",
    "y_encoder = encoderData[\"ReshapeData\"].tolist()"
   ]
  },
  {
   "cell_type": "code",
   "execution_count": 117,
   "metadata": {},
   "outputs": [],
   "source": [
    "# agrego las capas necesarias para el modelo Keras para el Autoencoder\n",
    "# parametros para las capas\n",
    "neurons = trainData[\"ReshapeSize\"][0][0]\n",
    "output = trainData[\"ReshapeSize\"][0][0]\n",
    "inn = \"relu\"\n",
    "act = \"relu\"\n",
    "out = \"relu\" # \"relu\"\n",
    "ldrop = 0.2\n",
    "\n",
    "# forma de entrada de los datos para las capas de entrada, salida y aprendizaje\n",
    "# inshape = list(trainData[\"DataSize\"][0],)\n",
    "inshape = list(trainData[\"ReshapeSize\"][0],)\n",
    "outshape = list(trainData[\"ReshapeSize\"][0],)\n",
    "lshape = list(trainData[\"ReshapeSize\"][0],)\n",
    "\n",
    "# parametros para compilar\n",
    "# se selecciona Mean Squared Error (MSE) con datos estandarizados (imagen en escala de grises 0 a 255)\n",
    "l = \"mse\"\n",
    "opti = \"adam\" # \"adam\" \"adadelta\" \"nadam\"\n",
    "met = [\"accuracy\"]\n",
    "\n",
    "# parametros para mirar el progreso del entrenamiento\n",
    "ver = 1\n",
    "epo = 10\n",
    "batch = 128"
   ]
  },
  {
   "cell_type": "markdown",
   "metadata": {},
   "source": [
    "### Definición de las capas del AUTOENCODER\n",
    "Para el AUTOENCODER se definen las siguientes capas:\n",
    "\n",
    "-\tUna capa de entrada “Dense” con 784 neuronas para la representación alternativa de los datos en 1D y función de activación “relu”.\n",
    "-\tUna primera capa de codificación  “Dense” con 392 neuronas a la representación 1D de los datos.\n",
    "-\tUna capa intermedia de hallazgos/aprendizaje “Dense” con 196 neuronas a la representación 1D de los datos.\n",
    "-\tUna primera capa de decodificación  “Dense” con 392 neuronas a la representación 1D de los datos.\n",
    "-\tUna capa de salida “Dense” con 784 neuronas para la representación alternativa de los datos en 1D y función de activación “relu”.\n",
    "-\tUnas capas “Dropout” entre cada capa de aprendizaje (codificación y decodificación) con 20% de desactivación de los datos de entrada para evitar un sobre ajuste del modelo.\n",
    "-\tTodas las capas de aprendizaje (codificación, decodificación e intermania) tiene una funcion de activación “relu” para evitar la saturación de la salida de las capas."
   ]
  },
  {
   "cell_type": "code",
   "execution_count": 123,
   "metadata": {},
   "outputs": [],
   "source": [
    "# lista de capas Keras para el AUTOENCODER\n",
    "layerList = (\n",
    "    # capa de entrada\n",
    "    Dense(neurons, input_shape = inshape, activation = inn),\n",
    "    Dropout(ldrop, seed = 42),\n",
    "\n",
    "    # primera capa de codificacion neurons = 256\n",
    "    Dense(2**int(neurons**(0.5)-20), input_shape = lshape, activation = act),\n",
    "    Dropout(ldrop, seed = 42),\n",
    "\n",
    "    # segunda capa de codificacion neurons = 128\n",
    "    Dense(2**int(neurons**(0.5)-21), input_shape = lshape, activation = act),\n",
    "    Dropout(ldrop, seed = 42),\n",
    "    \n",
    "    # capa intermedia neurons = 64\n",
    "    Dense(2**int(neurons**(0.5)-22), input_shape = lshape, activation = act),\n",
    "    Dropout(ldrop, seed = 42),\n",
    "\n",
    "    # primera capa de codificacion neurons = 128\n",
    "    Dense(2**int(neurons**(0.5)-21), input_shape = lshape, activation = act),\n",
    "    Dropout(ldrop, seed = 42),\n",
    "    \n",
    "    # segunda capa de decodificacion neurons = 256\n",
    "    Dense(2**int(neurons**(0.5)-20), input_shape = lshape, activation = act),\n",
    "    Dropout(ldrop, seed = 42),\n",
    "\n",
    "    # capa de salida\n",
    "    Dense(output, input_shape = outshape, activation = out),\n",
    ")"
   ]
  },
  {
   "cell_type": "code",
   "execution_count": 127,
   "metadata": {},
   "outputs": [],
   "source": [
    "# division de poblacion de entrenamiento y pruebas con los datos en un orden alternativos\n",
    "X_trainE, X_testE, y_trainE, y_testE = train_test_split(X_encoder, y_encoder, test_size = 0.2, random_state = 42)"
   ]
  },
  {
   "cell_type": "code",
   "execution_count": 128,
   "metadata": {},
   "outputs": [],
   "source": [
    "# definiendo el modelo MLP de Keras\n",
    "basicEncoder = Sequential(layerList)"
   ]
  },
  {
   "cell_type": "code",
   "execution_count": 129,
   "metadata": {},
   "outputs": [],
   "source": [
    "# compilando las condiciones de optimizacion y ajuste del MLP Keras\n",
    "basicEncoder.compile(loss = l, optimizer = opti, metrics = met)"
   ]
  },
  {
   "cell_type": "code",
   "execution_count": 130,
   "metadata": {},
   "outputs": [
    {
     "name": "stdout",
     "output_type": "stream",
     "text": [
      "Train on 56000 samples, validate on 14000 samples\n",
      "Epoch 1/10\n",
      "56000/56000 [==============================] - 18s 324us/step - loss: 0.0488 - accuracy: 0.0058 - val_loss: 0.0360 - val_accuracy: 0.0156\n",
      "Epoch 2/10\n",
      "56000/56000 [==============================] - 18s 323us/step - loss: 0.0335 - accuracy: 0.0134 - val_loss: 0.0296 - val_accuracy: 0.0256\n",
      "Epoch 3/10\n",
      "56000/56000 [==============================] - 19s 339us/step - loss: 0.0304 - accuracy: 0.0142 - val_loss: 0.0267 - val_accuracy: 0.0184\n",
      "Epoch 4/10\n",
      "56000/56000 [==============================] - 19s 344us/step - loss: 0.0289 - accuracy: 0.0132 - val_loss: 0.0263 - val_accuracy: 0.0244\n",
      "Epoch 5/10\n",
      "56000/56000 [==============================] - 20s 350us/step - loss: 0.0277 - accuracy: 0.0127 - val_loss: 0.0247 - val_accuracy: 0.0186\n",
      "Epoch 6/10\n",
      "56000/56000 [==============================] - 19s 330us/step - loss: 0.0269 - accuracy: 0.0151 - val_loss: 0.0244 - val_accuracy: 0.0181\n",
      "Epoch 7/10\n",
      "56000/56000 [==============================] - 19s 348us/step - loss: 0.0263 - accuracy: 0.0156 - val_loss: 0.0231 - val_accuracy: 0.0208\n",
      "Epoch 8/10\n",
      "56000/56000 [==============================] - 18s 330us/step - loss: 0.0257 - accuracy: 0.0153 - val_loss: 0.0216 - val_accuracy: 0.0199\n",
      "Epoch 9/10\n",
      "56000/56000 [==============================] - 20s 350us/step - loss: 0.0253 - accuracy: 0.0168 - val_loss: 0.0215 - val_accuracy: 0.0171\n",
      "Epoch 10/10\n",
      "56000/56000 [==============================] - 19s 334us/step - loss: 0.0249 - accuracy: 0.0172 - val_loss: 0.0215 - val_accuracy: 0.0202\n"
     ]
    }
   ],
   "source": [
    "# ajustando el modelo MLP Keras\n",
    "historyEncoder = basicEncoder.fit(\n",
    "    x = np.array(X_trainE), \n",
    "    y = np.array(y_trainE), \n",
    "    epochs = epo, verbose = ver,\n",
    "    workers = 32, use_multiprocessing = True,\n",
    "    batch_size = batch,\n",
    "    validation_data = (np.array(X_testE), np.array(X_testE))\n",
    ")"
   ]
  },
  {
   "cell_type": "code",
   "execution_count": 131,
   "metadata": {},
   "outputs": [
    {
     "name": "stdout",
     "output_type": "stream",
     "text": [
      "14000/14000 [==============================] - 2s 165us/step\n"
     ]
    }
   ],
   "source": [
    "# evaluando el modelo entrenado con sus propias herramientas\n",
    "evalEnconder = basicEncoder.evaluate(np.array(X_testE), np.array(X_testE))"
   ]
  },
  {
   "cell_type": "code",
   "execution_count": 136,
   "metadata": {},
   "outputs": [
    {
     "name": "stdout",
     "output_type": "stream",
     "text": [
      "Perdida:  0.021453702332718032\n"
     ]
    }
   ],
   "source": [
    "print(\"Perdida: \", evalEnconder[0])\n",
    "# print(\"Precision: \", evalEnconder[1])"
   ]
  },
  {
   "cell_type": "code",
   "execution_count": 137,
   "metadata": {},
   "outputs": [
    {
     "name": "stdout",
     "output_type": "stream",
     "text": [
      "Model: \"sequential_3\"\n",
      "_________________________________________________________________\n",
      "Layer (type)                 Output Shape              Param #   \n",
      "=================================================================\n",
      "dense_14 (Dense)             (None, 784)               615440    \n",
      "_________________________________________________________________\n",
      "dropout_12 (Dropout)         (None, 784)               0         \n",
      "_________________________________________________________________\n",
      "dense_15 (Dense)             (None, 256)               200960    \n",
      "_________________________________________________________________\n",
      "dropout_13 (Dropout)         (None, 256)               0         \n",
      "_________________________________________________________________\n",
      "dense_16 (Dense)             (None, 128)               32896     \n",
      "_________________________________________________________________\n",
      "dropout_14 (Dropout)         (None, 128)               0         \n",
      "_________________________________________________________________\n",
      "dense_17 (Dense)             (None, 64)                8256      \n",
      "_________________________________________________________________\n",
      "dropout_15 (Dropout)         (None, 64)                0         \n",
      "_________________________________________________________________\n",
      "dense_18 (Dense)             (None, 128)               8320      \n",
      "_________________________________________________________________\n",
      "dropout_16 (Dropout)         (None, 128)               0         \n",
      "_________________________________________________________________\n",
      "dense_19 (Dense)             (None, 256)               33024     \n",
      "_________________________________________________________________\n",
      "dropout_17 (Dropout)         (None, 256)               0         \n",
      "_________________________________________________________________\n",
      "dense_20 (Dense)             (None, 784)               201488    \n",
      "=================================================================\n",
      "Total params: 1,100,384\n",
      "Trainable params: 1,100,384\n",
      "Non-trainable params: 0\n",
      "_________________________________________________________________\n"
     ]
    }
   ],
   "source": [
    "# resumen de datos del MLP Keras\n",
    "basicEncoder.summary()"
   ]
  },
  {
   "cell_type": "code",
   "execution_count": null,
   "metadata": {},
   "outputs": [],
   "source": [
    "# copio el modelo entrenado en otro modelo para removerle las capas despues de la intermedia"
   ]
  },
  {
   "cell_type": "code",
   "execution_count": null,
   "metadata": {},
   "outputs": [],
   "source": [
    "basicEncoder.save('my_model.h5')  # creates a HDF5 file 'my_model.h5'\n",
    "\n",
    "# returns a compiled model\n",
    "# identical to the previous one\n",
    "model2 = load_model('my_model.h5')"
   ]
  },
  {
   "cell_type": "code",
   "execution_count": null,
   "metadata": {},
   "outputs": [],
   "source": []
  },
  {
   "cell_type": "code",
   "execution_count": null,
   "metadata": {},
   "outputs": [],
   "source": []
  },
  {
   "cell_type": "code",
   "execution_count": 157,
   "metadata": {},
   "outputs": [],
   "source": [
    "# se prueba Autoencoder con keras\n",
    "encoderPrediction = basicEncoder.predict(np.array(X_testE))"
   ]
  },
  {
   "cell_type": "code",
   "execution_count": 162,
   "metadata": {},
   "outputs": [],
   "source": [
    "maxImages = 10\n",
    "randomTestImg = np.random.randint(len(X_testE), size = maxImages)"
   ]
  },
  {
   "cell_type": "code",
   "execution_count": 161,
   "metadata": {},
   "outputs": [
    {
     "data": {
      "image/png": "[encoded data removed]",
      "text/plain": [
       "<Figure size 1296x288 with 30 Axes>"
      ]
     },
     "metadata": {
      "needs_background": "light"
     },
     "output_type": "display_data"
    }
   ],
   "source": [
    "plt.figure(figsize=(18, 4))\n",
    "originalShape = trainData[\"DataSize\"][0]\n",
    "denseShape = (8, 8)\n",
    "\n",
    "for i, image_idx in enumerate(randomTestImg):\n",
    "    # plot original image\n",
    "    ax = plt.subplot(3, num_images, i + 1)\n",
    "    plt.imshow(X_testE[image_idx].reshape(originalShape))\n",
    "    plt.gray()\n",
    "    ax.get_xaxis().set_visible(False)\n",
    "    ax.get_yaxis().set_visible(False)\n",
    "    \n",
    "    # plot encoded image\n",
    "    ax = plt.subplot(3, num_images, num_images + i + 1)\n",
    "#     plt.imshow(encoded_imgs[image_idx].reshape(denseShape))\n",
    "    plt.gray()\n",
    "    ax.get_xaxis().set_visible(False)\n",
    "    ax.get_yaxis().set_visible(False)\n",
    "\n",
    "    # plot reconstructed image\n",
    "    ax = plt.subplot(3, num_images, 2*num_images + i + 1)\n",
    "    plt.imshow(encoderPrediction[image_idx].reshape(originalShape))\n",
    "    plt.gray()\n",
    "    ax.get_xaxis().set_visible(False)\n",
    "    ax.get_yaxis().set_visible(False)\n",
    "plt.show()"
   ]
  },
  {
   "cell_type": "code",
   "execution_count": null,
   "metadata": {},
   "outputs": [],
   "source": []
  },
  {
   "cell_type": "code",
   "execution_count": null,
   "metadata": {},
   "outputs": [],
   "source": []
  },
  {
   "cell_type": "code",
   "execution_count": null,
   "metadata": {},
   "outputs": [],
   "source": []
  },
  {
   "cell_type": "code",
   "execution_count": null,
   "metadata": {},
   "outputs": [],
   "source": []
  },
  {
   "cell_type": "code",
   "execution_count": null,
   "metadata": {},
   "outputs": [],
   "source": []
  },
  {
   "cell_type": "code",
   "execution_count": null,
   "metadata": {},
   "outputs": [],
   "source": []
  },
  {
   "cell_type": "code",
   "execution_count": null,
   "metadata": {},
   "outputs": [],
   "source": []
  },
  {
   "cell_type": "code",
   "execution_count": null,
   "metadata": {},
   "outputs": [],
   "source": []
  },
  {
   "cell_type": "code",
   "execution_count": null,
   "metadata": {},
   "outputs": [],
   "source": [
    "# Informe de los resultados para las pruebas del MLP\n",
    "print(\"----- Reporte de Pruebas AUTOENCODER con div aleatoria -----\")\n",
    "# print(\"--- Conteo ---\\n\" + str(Counter(splitPrediction)))\n",
    "# print(\"--- Matriz de Confusion ---\\n\" + str(confusion_matrix(y_testB, splitPrediction)))\n",
    "# print(\"--- Reporte de Pruebas: ---\")\n",
    "# print(classification_report(y_testB, splitPrediction))\n",
    "print(\"--- Puntaje ---\\n\")\n",
    "print(\" - Perdida: \", evalEnconder[0])\n",
    "print(\" - Precision: \", evalEnconder[1])"
   ]
  },
  {
   "cell_type": "code",
   "execution_count": null,
   "metadata": {},
   "outputs": [],
   "source": [
    "# curva de aprendizaje para clasificador con sklearn split\n",
    "pd.DataFrame(historyEncoder.history).plot(figsize=(8, 5))\n",
    "plt.grid(True)\n",
    "plt.gca().set_ylim(0, 1) # set the vertical range to [0-1]\n",
    "plt.show()"
   ]
  },
  {
   "cell_type": "code",
   "execution_count": null,
   "metadata": {},
   "outputs": [],
   "source": []
  },
  {
   "cell_type": "code",
   "execution_count": null,
   "metadata": {},
   "outputs": [],
   "source": []
  },
  {
   "cell_type": "code",
   "execution_count": null,
   "metadata": {},
   "outputs": [],
   "source": []
  },
  {
   "cell_type": "code",
   "execution_count": null,
   "metadata": {},
   "outputs": [],
   "source": []
  },
  {
   "cell_type": "code",
   "execution_count": null,
   "metadata": {},
   "outputs": [],
   "source": []
  },
  {
   "cell_type": "code",
   "execution_count": null,
   "metadata": {},
   "outputs": [],
   "source": []
  },
  {
   "cell_type": "code",
   "execution_count": null,
   "metadata": {},
   "outputs": [],
   "source": []
  },
  {
   "cell_type": "code",
   "execution_count": null,
   "metadata": {},
   "outputs": [],
   "source": []
  },
  {
   "cell_type": "markdown",
   "metadata": {},
   "source": [
    "## PERCEPTRON MULTICAPA MODIFICADO"
   ]
  },
  {
   "cell_type": "code",
   "execution_count": null,
   "metadata": {},
   "outputs": [],
   "source": [
    "# se remueve la clase a predecir \n",
    "dropColumns = [\"ID\", \"Label\", \"Class\", \"DataSize\", \"ReshapeSize\"]\n",
    "#[\"Name\", \"Path\", \"Digit\", \"DataSize\", \"ReshapeSize\"]\n",
    "X = trainData.drop(columns = dropColumns, axis = 1)[\"Data\"].tolist()\n",
    "y = trainData[\"Label\"].tolist()"
   ]
  },
  {
   "cell_type": "code",
   "execution_count": null,
   "metadata": {},
   "outputs": [],
   "source": [
    "# agrego las capas necesarias para el modelo Keras Perceptron Multicapa (MLP)\n",
    "# parametros para las capas\n",
    "neurons = 300\n",
    "categories = len(classNamesList)\n",
    "act = \"relu\"\n",
    "out = \"softmax\"\n",
    "ldrop = 0.2\n",
    "\n",
    "# estos se cambian aparte porque se demoran mucho\n",
    "# inshape = list(trainData[\"DataSize\"].value_counts().index.tolist()[0],)\n",
    "# lshape = list(trainData[\"ReshapeSize\"].value_counts().index.tolist()[0],)\n",
    "inshape = list(trainData[\"DataSize\"][0],)\n",
    "lshape = list(trainData[\"ReshapeSize\"][0],)\n",
    "\n",
    "# parametros para compilar\n",
    "l = \"categorical_crossentropy\"\n",
    "opti = \"adam\"\n",
    "met = [\"accuracy\"]\n",
    "\n",
    "# parametros para mirar el progreso del entrenamiento\n",
    "ver = 1\n",
    "epo = 10"
   ]
  },
  {
   "cell_type": "markdown",
   "metadata": {},
   "source": [
    "### Definición de las capas MLP\n",
    "Para el MLP se definen las siguientes capas:\n",
    "\n",
    "-\tUna capa de entrada “Flatten” que recibe la imagen 2D y lo transforma a un arreglo 1D para facilidad de procesamiento.\n",
    "-\tUna capa de 300 neuronas “Dense” como capa de entrada para los datos con representación 1D.\n",
    "-\tUna capa “Dropout” con 20% de desactivación de los datos de entrada para evitar un sobre ajuste del modelo, se recalca que entre cada capa de trabajo se utiliza “Dropout” con el mismo propósito.\n",
    "-\tUna capa de 200 neuronas “Dense” como capa como primera capa de aprendizaje.\n",
    "-\tUna capa de 100 neuronas “Dense” como capa como segunda capa de aprendizaje.\n",
    "-\tTodas las capas de aprendizaje tienen función de activación “relu” para evitar la explosión/desvanecimiento de los gradientes.\n",
    "-\tUna capa con 10 neuronas “Dense” como capa de salida para clasificación con función de activación “softmax” para reconocer categorías por separado.\n"
   ]
  },
  {
   "cell_type": "code",
   "execution_count": null,
   "metadata": {},
   "outputs": [],
   "source": [
    "# arreglo de capas Keras para el MLP\n",
    "layerList = (\n",
    "    Flatten(input_shape = inshape),\n",
    "    Dense(neurons, input_shape = inshape, activation = act),\n",
    "    Dropout(ldrop, seed = 42),\n",
    "    Dense(neurons-100, input_shape = lshape, activation = act),\n",
    "    Dropout(ldrop, seed = 42),\n",
    "    Dense(neurons-200, input_shape = lshape, activation = act),\n",
    "    Dropout(ldrop, seed = 42),\n",
    "    Dense(categories, input_shape = lshape, activation = out)\n",
    ")"
   ]
  },
  {
   "cell_type": "markdown",
   "metadata": {},
   "source": [
    "### Entrenamiento Preliminar\n",
    "Al momento de entrenar el modelo preliminar se analizan los comportamientos de dos formas de distribución de datos de entrenamiento. El que tiene por defecto la fuente de datos y uno aleatorio creado para el taller.\n",
    "\n",
    "Cabe recordar que para poder entrenar el modelo multiclase se deben hacer ajustes de tipo (casts) en las entradas de los datos, en donde se transforma la matriz de datos de entrada en un array NumPy (ej.: “np.array(X_testB)”) y se transforma a categorías Dummy la salida (ej.: “to_categorical(np.array(y_testB), categories)”).\n",
    "\n",
    "Siempre se utiliza la división aleatoria de datos después de los experimentos preliminares de la primera parte."
   ]
  },
  {
   "cell_type": "markdown",
   "metadata": {},
   "source": [
    "### Con Split Random SKLearn"
   ]
  },
  {
   "cell_type": "code",
   "execution_count": null,
   "metadata": {},
   "outputs": [],
   "source": [
    "# division de poblacion de entrenamiento y pruebas con los datos en un orden alternativos\n",
    "X_trainB, X_testB, y_trainB, y_testB = train_test_split(X, y, test_size = 0.2, random_state = 42)"
   ]
  },
  {
   "cell_type": "code",
   "execution_count": null,
   "metadata": {},
   "outputs": [],
   "source": [
    "# definiendo el modelo MLP de Keras\n",
    "splitClassifier = Sequential(layerList)"
   ]
  },
  {
   "cell_type": "code",
   "execution_count": null,
   "metadata": {},
   "outputs": [],
   "source": [
    "# compilando las condiciones de optimizacion y ajuste del MLP Keras\n",
    "splitClassifier.compile(loss = l, optimizer = opti, metrics = met)"
   ]
  },
  {
   "cell_type": "code",
   "execution_count": null,
   "metadata": {},
   "outputs": [],
   "source": [
    "# ajustando el modelo MLP Keras\n",
    "historySplit = splitClassifier.fit(\n",
    "    x = np.array(X_trainB), \n",
    "    y = to_categorical(np.array(y_trainB), categories), \n",
    "    epochs = epo, verbose = ver, \n",
    "    validation_data = (np.array(X_testB), to_categorical(np.array(y_testB), categories))\n",
    ")"
   ]
  },
  {
   "cell_type": "code",
   "execution_count": null,
   "metadata": {},
   "outputs": [],
   "source": [
    "# evaluando el modelo entrenado con sus propias herramientas\n",
    "evalSplit = splitClassifier.evaluate(x = np.array(X_testB), y = to_categorical(np.array(y_testB), categories))"
   ]
  },
  {
   "cell_type": "code",
   "execution_count": null,
   "metadata": {},
   "outputs": [],
   "source": [
    "print(\"Perdida: \", evalSplit[0])\n",
    "print(\"Precision: \", evalSplit[1])"
   ]
  },
  {
   "cell_type": "code",
   "execution_count": null,
   "metadata": {},
   "outputs": [],
   "source": [
    "# resumen de datos del MLP Keras\n",
    "splitClassifier.summary()"
   ]
  },
  {
   "cell_type": "code",
   "execution_count": null,
   "metadata": {},
   "outputs": [],
   "source": [
    "# se prueba MLP de sklearn\n",
    "splitPrediction = splitClassifier.predict(np.array(X_testB))\n",
    "\n",
    "# ajuste de las predicciones para ver el reporte de matrix de confusion\n",
    "splitPrediction = np.array(splitPrediction).argmax(axis=1)"
   ]
  },
  {
   "cell_type": "code",
   "execution_count": null,
   "metadata": {},
   "outputs": [],
   "source": [
    "# Informe de los resultados para las pruebas del MLP\n",
    "print(\"----- Reporte de Pruebas MLP con div aleatoria -----\")\n",
    "print(\"--- Conteo ---\\n\" + str(Counter(splitPrediction)))\n",
    "print(\"--- Matriz de Confusion ---\\n\" + str(confusion_matrix(y_testB, splitPrediction)))\n",
    "print(\"--- Reporte de Pruebas: ---\")\n",
    "print(classification_report(y_testB, splitPrediction))\n",
    "print(\"--- Puntaje ---\\n\")\n",
    "print(\" - Perdida: \", evalSplit[0])\n",
    "print(\" - Precision: \", evalSplit[1])"
   ]
  },
  {
   "cell_type": "code",
   "execution_count": null,
   "metadata": {},
   "outputs": [],
   "source": [
    "# curva de aprendizaje para clasificador con sklearn split\n",
    "pd.DataFrame(historySplit.history).plot(figsize=(8, 5))\n",
    "plt.grid(True)\n",
    "plt.gca().set_ylim(0, 1) # set the vertical range to [0-1]\n",
    "plt.show()"
   ]
  },
  {
   "cell_type": "markdown",
   "metadata": {},
   "source": [
    "### Optimización de Hiper-parámetros\n",
    "\n",
    "para optimizar el desempeño del Perceptrón se utiliza la librería Talos porque es relativamente fácil de crear un modelo optimizable e iterable en el espacio de hiper-parámetros definiendo una función con parámetros específicos. Para lograr esto se realizan los siguientes pasos:\n",
    "\n",
    " - Se define una función como modelo para el modelo de optimización Talos.\n",
    " - Se define un espacio de búsqueda de hiper-parámetros del MLP.\n",
    " - Se ejecuta una búsqueda aleatoria (opción por defecto de Talos) en una fracción reducida del espacio de hiper-parámetros del MLP.\n",
    " - Después, se analizan los resultados para obtener la mejor versión del modelo entrenado y se resume los resultados del modelo seleccionado durante el proceso de optimización."
   ]
  },
  {
   "cell_type": "code",
   "execution_count": null,
   "metadata": {},
   "outputs": [],
   "source": [
    "# redefiniendo el modelo preliminar en funcion para optimizar\n",
    "def fashionPerceptron(X_train, y_train, X_test, y_test, params):\n",
    "  \n",
    "    inshape = X_train[0].shape\n",
    "    lshape = np.reshape(X_train[0], -1).shape\n",
    "    ver = 0\n",
    "    \n",
    "    # definiendo el modelo MLP de Keras\n",
    "    model = Sequential()\n",
    "    \n",
    "    # capa para representacion alternativa de (n,m) a (m*m)\n",
    "    model.add(Flatten(input_shape = X_train[0].shape))\n",
    "\n",
    "    # capa de entrada para el modelo\n",
    "    model.add(Dense(params[\"first_neuron\"], input_shape = inshape, activation = params[\"activation\"]))\n",
    "    \n",
    "    # paso intermedio para hacer dropout yevitar overfit\n",
    "    model.add(Dropout(params[\"dropout\"]))\n",
    "    \n",
    "    # capas ocultas del modelo\n",
    "    for i in range(params['hidden_layers']):\n",
    "        model.add(Dense(params['hidden_neuron'], input_shape = lshape, activation = params[\"activation\"])),\n",
    "        model.add(Dropout(params['dropout']))\n",
    "    \n",
    "    # capa de salida del modelo\n",
    "    model.add(Dense(params[\"last_neuron\"], input_shape = lshape, activation = params[\"last_activation\"]))\n",
    "    \n",
    "    # compilando las condiciones de optimizacion y ajuste del MLP Keras\n",
    "    model.compile(optimizer = params[\"optimizer\"], loss = params[\"losses\"], metrics = [\"acc\"])\n",
    "\n",
    "    # entrenando el modelo MLP Keras\n",
    "    history = model.fit(\n",
    "        x = np.array(X_train), \n",
    "        y = to_categorical(np.array(y_train), params[\"last_neuron\"]), \n",
    "        epochs = params[\"epochs\"], verbose = ver, \n",
    "        workers = 8, use_multiprocessing = True,\n",
    "        batch_size = params[\"batch_size\"],\n",
    "        callbacks = [talos.utils.ExperimentLogCallback(\"fashionPerceptronExp\", params)],\n",
    "        validation_data = (np.array(X_test), to_categorical(np.array(y_test), params[\"last_neuron\"]))\n",
    "    )\n",
    "    \n",
    "    return history, model"
   ]
  },
  {
   "cell_type": "code",
   "execution_count": null,
   "metadata": {},
   "outputs": [],
   "source": [
    "# espacio de optimizacion de hyperparametros para el MLP\n",
    "parameters = {\"activation\": [\"relu\", \"elu\"],\n",
    "     \"last_activation\": [\"softmax\"],\n",
    "     \"optimizer\": [\"Nadam\", \"Adam\"],\n",
    "     \"losses\": [\"categorical_crossentropy\"],\n",
    "     \"shapes\": [\"brick\"],\n",
    "     \"first_neuron\": [100, 200, 300],\n",
    "     \"hidden_neuron\": [100, 200, 300],\n",
    "     \"last_neuron\": [len(classNamesList)],\n",
    "     \"hidden_layers\": [0, 1, 2, 3],\n",
    "     \"dropout\": [.1, .2, .3],\n",
    "     \"batch_size\": [32, 64, 128],\n",
    "     \"epochs\": [10]}"
   ]
  },
  {
   "cell_type": "code",
   "execution_count": null,
   "metadata": {
    "scrolled": true
   },
   "outputs": [],
   "source": [
    "# se hace la busqueda con la funcion Scan()\n",
    "# se utiliza el conjunto de datos reorganizado con sklearn\n",
    "# la semilla random es 42 porque es la respuesta universal y es la misma en todo el codigo\n",
    "# por defecto Talos hace una busqueda random, en general es mejor aunque puede caer en minimos/maximos locales\n",
    "# la poblacion de busqueda aleatoria es de un 1.0% ~ 3.0% para que el procedimiento sea rapido\n",
    "# para acelerar el proceso se prueba con reduction_method con correlacion y ajustandolo contra la precision de validacion\n",
    "scanPerceptron = talos.Scan(x = X_trainB, y = y_trainB,\n",
    "                            x_val = X_testB, y_val = y_testB,\n",
    "                            model = fashionPerceptron,\n",
    "                            experiment_name = \"fashionPerceptronExp\",\n",
    "                            params = parameters, \n",
    "                            reduction_method = \"correlation\",\n",
    "                            reduction_metric = \"val_acc\",\n",
    "                            fraction_limit = 0.03,\n",
    "                            seed = 42,\n",
    "                            print_params = True)"
   ]
  },
  {
   "cell_type": "markdown",
   "metadata": {},
   "source": [
    "### Accediendo a los resultados del proceso de Optimización"
   ]
  },
  {
   "cell_type": "code",
   "execution_count": null,
   "metadata": {},
   "outputs": [],
   "source": [
    "# mirando los resultados de la optimizacion con dataFrame\n",
    "scanPerceptron.data.head()"
   ]
  },
  {
   "cell_type": "code",
   "execution_count": null,
   "metadata": {},
   "outputs": [],
   "source": [
    "# mirando la entropia de cada ronda de experimentos\n",
    "scanPerceptron.learning_entropy.head()"
   ]
  },
  {
   "cell_type": "code",
   "execution_count": null,
   "metadata": {},
   "outputs": [],
   "source": [
    "# tipos de datos dentro del set de resultados\n",
    "scanPerceptron.data.dtypes"
   ]
  },
  {
   "cell_type": "code",
   "execution_count": null,
   "metadata": {},
   "outputs": [],
   "source": [
    "# # ver los modelos que se probaron en el proceso de optimizavion\n",
    "# scanPerceptron.saved_models\n",
    "    \n",
    "# # ver los pesos de los modelos probados en el proceso de optimizacion\n",
    "# scanPerceptron.saved_weights\n",
    "\n",
    "# resumen del proceso de optimizacion realizado\n",
    "scanPerceptron.details"
   ]
  },
  {
   "cell_type": "markdown",
   "metadata": {},
   "source": [
    "### Analizando los resultados del proceso de Optimización\n",
    "Se hacen diferentes graficas para tener perspectivas diferentes en el análisis de los resultados de la búsqueda con Talos."
   ]
  },
  {
   "cell_type": "code",
   "execution_count": null,
   "metadata": {},
   "outputs": [],
   "source": [
    "# para el analisis se utiliza el reporte creado por Talos como entrada de Analyze\n",
    "analyzePerceptron = talos.Analyze(scanPerceptron)"
   ]
  },
  {
   "cell_type": "code",
   "execution_count": null,
   "metadata": {},
   "outputs": [],
   "source": [
    "# acceso al DataFrame del analisis del reporte\n",
    "analyzePerceptron.data"
   ]
  },
  {
   "cell_type": "code",
   "execution_count": null,
   "metadata": {},
   "outputs": [],
   "source": [
    "# numero de experimentos realizados\n",
    "analyzePerceptron.rounds()"
   ]
  },
  {
   "cell_type": "code",
   "execution_count": null,
   "metadata": {},
   "outputs": [],
   "source": [
    "# se recupera el numero del modelo con mejor puntaje, en este caso es la precision de pruetas/validacion \"val_acc\"\n",
    "analyzePerceptron.high(\"val_acc\")"
   ]
  },
  {
   "cell_type": "code",
   "execution_count": null,
   "metadata": {},
   "outputs": [],
   "source": [
    "# get the round with the best result\n",
    "analyzePerceptron.rounds2high(\"val_acc\")"
   ]
  },
  {
   "cell_type": "code",
   "execution_count": null,
   "metadata": {},
   "outputs": [],
   "source": [
    "# imprime los mejores parametros encontrados en el proceso de optimizacion\n",
    "analyzePerceptron.best_params(\"val_acc\", [\"acc\", \"loss\", \"val_loss\"])"
   ]
  },
  {
   "cell_type": "code",
   "execution_count": null,
   "metadata": {},
   "outputs": [],
   "source": [
    "# correlacion entre el puntaje y el resto de los hyperparametros\n",
    "analyzePerceptron.correlate(\"val_loss\", [\"acc\", \"loss\", \"val_loss\"])"
   ]
  },
  {
   "cell_type": "code",
   "execution_count": null,
   "metadata": {},
   "outputs": [],
   "source": [
    "# a regression entre precision de puntaje/precision y perdida del conjunto de preubas\n",
    "analyzePerceptron.plot_regs(\"val_acc\", \"val_loss\")"
   ]
  },
  {
   "cell_type": "code",
   "execution_count": null,
   "metadata": {},
   "outputs": [],
   "source": [
    "# linea de resultados de la precision de los experimentos\n",
    "analyzePerceptron.plot_line(\"val_acc\")"
   ]
  },
  {
   "cell_type": "code",
   "execution_count": null,
   "metadata": {},
   "outputs": [],
   "source": [
    "# distribucion de probabilidad de la precision de pruebas\n",
    "analyzePerceptron.plot_kde(\"val_acc\")"
   ]
  },
  {
   "cell_type": "code",
   "execution_count": null,
   "metadata": {},
   "outputs": [],
   "source": [
    "# histograma de la precision de pruebas de los experimentso\n",
    "analyzePerceptron.plot_hist(\"val_acc\", bins = 50)"
   ]
  },
  {
   "cell_type": "code",
   "execution_count": null,
   "metadata": {},
   "outputs": [],
   "source": [
    "# mapa de correlacion para la correlacion de de la precision de preubas y otras variables\n",
    "analyzePerceptron.plot_corr(\"val_loss\", [\"acc\", \"loss\", \"val_loss\"])"
   ]
  },
  {
   "cell_type": "code",
   "execution_count": null,
   "metadata": {},
   "outputs": [],
   "source": [
    "# grafica analizando el comportamiento de las capas ocultas, precision de pruebas, # de neuroans en la entrada y # de neuronas en la capa escondida\n",
    "analyzePerceptron.plot_bars(\"hidden_layers\", \"val_acc\", \"first_neuron\", \"hidden_neuron\")"
   ]
  },
  {
   "cell_type": "code",
   "execution_count": null,
   "metadata": {},
   "outputs": [],
   "source": [
    "# grafica analizando el comportamiento de las capas ocultas, precision de pruebas, # de neuroans en la entrada y # de neuronas en la capa escondida\n",
    "analyzePerceptron.plot_bars(\"hidden_layers\", \"val_loss\", \"first_neuron\", \"hidden_neuron\")"
   ]
  },
  {
   "cell_type": "markdown",
   "metadata": {},
   "source": [
    "### Evaluando finalmente el Modelo\n",
    "por defecto Talos si no se indica el ID del modelo para evaluar, escoge el mejor."
   ]
  },
  {
   "cell_type": "code",
   "execution_count": null,
   "metadata": {},
   "outputs": [],
   "source": [
    "# creando el objeto para evaluar con Talos\n",
    "evaluatePerceptron = talos.Evaluate(scanPerceptron)"
   ]
  },
  {
   "cell_type": "code",
   "execution_count": null,
   "metadata": {},
   "outputs": [],
   "source": [
    "# evaluacion final de los datos con el mejor modelo\n",
    "bestAcc = evaluatePerceptron.evaluate(np.array(X_testB), to_categorical(np.array(y_testB)), folds = 5, metric = \"val_acc\", task = \"multi_label\")"
   ]
  },
  {
   "cell_type": "code",
   "execution_count": null,
   "metadata": {},
   "outputs": [],
   "source": [
    "# resumen basico del mejor MLP\n",
    "evaluatePerceptron.scan_object.best_model(metric='val_acc').summary()"
   ]
  },
  {
   "cell_type": "code",
   "execution_count": null,
   "metadata": {},
   "outputs": [],
   "source": [
    "# configuracion especifica del mejor MLP\n",
    "evaluatePerceptron.scan_object.best_model(metric='val_acc').get_config()"
   ]
  },
  {
   "cell_type": "markdown",
   "metadata": {},
   "source": [
    "### Predicciones y Análisis detallado del mejor Modelo"
   ]
  },
  {
   "cell_type": "code",
   "execution_count": null,
   "metadata": {},
   "outputs": [],
   "source": [
    "# predecir resultados con el mejor modelo\n",
    "predictPerceptron = talos.Predict(scanPerceptron, task = \"multi_label\")"
   ]
  },
  {
   "cell_type": "code",
   "execution_count": null,
   "metadata": {},
   "outputs": [],
   "source": [
    "# se prueba MLP de sklearn\n",
    "bestPrediction = predictPerceptron.predict(np.array(X_testB))\n",
    "\n",
    "# ajuste de las predicciones para ver el reporte de matrix de confusion\n",
    "bestPrediction = np.array(bestPrediction).argmax(axis=1)"
   ]
  },
  {
   "cell_type": "code",
   "execution_count": null,
   "metadata": {},
   "outputs": [],
   "source": [
    "# Informe de los resultados para las pruebas del MLP\n",
    "print(\"----- Reporte FINAL de Pruebas MLP -----\")\n",
    "print(\"--- Conteo ---\\n\" + str(Counter(bestPrediction)))\n",
    "print(\"--- Matriz de Confusion ---\\n\" + str(confusion_matrix(y_testB, bestPrediction)))\n",
    "print(\"--- Reporte de Pruebas: ---\")\n",
    "print(classification_report(y_testB, bestPrediction))\n",
    "print(\"--- Puntaje ---\\n\")\n",
    "print(\" - Precision: \", str(bestAcc))\n",
    "print(\" - Precision Promedio: \", str(np.mean(bestAcc)))"
   ]
  },
  {
   "cell_type": "markdown",
   "metadata": {},
   "source": [
    "# Conclusiones \n",
    "\n",
    "Antes de entrenar cuando se cargan los datos, aunque no es absolutamente necesario, se crea un DataFrame de Pandas para facilitar la lectura y el reusó. Se guarda la forma y otros valores de posible interés en el momento de entrenamiento. Al utilizar la división aleatoria para entrenar el modelo preliminar se ve un contraste marcado en la curva de aprendizaje, en donde se observa un comportamiento convergente tradicional entre la precisión/perdida en pruebas y entrenamiento. Por su parte, el comportamiento del conjunto de datos organizados por defecto muestra un comportamiento casi paralelo entre y estable de la precisión/perdida lo cual indica un modelo sub ajustado. Esto último valida la decisión de utilizar una división aleatoria del conjunto de datos y la creación de un DataFrame aunque su rendimiento/perdida nominal no sean significativamente diferentes.\n",
    "\n",
    "En el entrenamiento preliminar se observa que ambos modelos tienen un comportamiento global general, pero en las clases se observa que las categorías 0, 2, 4 y 6 tienen menos precisión y en general se confunden entre ellas. Al ver los datos y los nombres de las clases se reconoce que estas clases son “T-shirt/top”/camiseta, “Pullover”/buso, “Coat”/chaqueta, “Shirt”/camisa respectivamente. Esto en si da a ver que las clases son realmente similares y parecidas entre si y que una mala distribución de datos afecta el rendimiento del modelo al momento de reconocer las clases. \n",
    "\n",
    "Después de este entrenamiento preliminar siempre se escogerá una distribución aleatoria para la optimización y los otros puntos del taller como distribución por defecto para los datos.\n",
    "\n",
    "En la optimización de hiper-parámetros se utiliza la librería por extensión Talos por su facilidad al transformar las especificaciones del modelo preliminar en modelos candidatos durante una búsqueda aleatoria de los mejores hiper-parámetros. La búsqueda se hace aleatoria, con la precisión como parámetro objetivo a maximizar y con una población de máximo 3% para no cargar de tantos datos el proceso. En general se configura la búsqueda para minimizar el uso de parámetros/hiper-parámetros no significativos (correlacionados linealmente) con la precisión del modelo.\n",
    "\n",
    "El modelo final optimizado es un MLP con:\n",
    "\n",
    "-\tUna capa de entrada “Flatten” que recibe la imagen 2D y lo transforma a un arreglo 1D para facilidad de procesamiento.\n",
    "-\tUna capa de 300 neuronas “Dense” como capa de entrada para los datos y activación tipo “elu”\n",
    "-\tEntre capas de trabajo “Dropout” con 10% de desactivación para evitar sobreajustes.\n",
    "-\tUna capa de 200 neuronas “Dense” como capa como primera capa de aprendizaje y activación tipo “elu”.\n",
    "-\tUna capa de 200 neuronas “Dense” como capa como segunda capa de aprendizaje y activación tipo “elu”.\n",
    "-\tUna capa con 10 neuronas “Dense” como capa de salida para clasificación con función de activación “softmax” para reconocer categorías por separado.\n",
    "\n",
    "La búsqueda muestra una correlación fuerte entre la precisión y la perdida de tendencia lineal, lo que coincide con la literatura. La precisión tiene un mínimo de 35% y un máximo de 86% (optimo encontrado). En promedio el rendimiento (precisión) de los modelos esta alrededor 78%. También se observa una correlación entre el tamaño de la muestra lo cual muestra que es una opción viable para agilizar el entrenamiento. Otra correlación esta en los valores de número de capas ocultas y neuronas dentro de ellas, lo cual soporta la idea que se necesitan mas capas de aprendizaje para distinguir las diferencias entre las clases confusas (0, 2, 4 y 6). Por último, el Dropout también se observa la correlación al evitar el sobreajuste.\n"
   ]
  }
 ],
 "metadata": {
  "kernelspec": {
   "display_name": "Python 3",
   "language": "python",
   "name": "python3"
  },
  "language_info": {
   "codemirror_mode": {
    "name": "ipython",
    "version": 3
   },
   "file_extension": ".py",
   "mimetype": "text/x-python",
   "name": "python",
   "nbconvert_exporter": "python",
   "pygments_lexer": "ipython3",
   "version": "3.7.0"
  },
  "pycharm": {
   "stem_cell": {
    "cell_type": "raw",
    "metadata": {
     "collapsed": false
    },
    "source": []
   }
  }
 },
 "nbformat": 4,
 "nbformat_minor": 1
}
